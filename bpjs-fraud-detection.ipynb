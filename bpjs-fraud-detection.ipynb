{
 "cells": [
  {
   "cell_type": "code",
   "execution_count": 3,
   "id": "a1d74e0d",
   "metadata": {
    "_cell_guid": "b1076dfc-b9ad-4769-8c92-a6c4dae69d19",
    "_uuid": "8f2839f25d086af736a60e9eeb907d3b93b6e0e5",
    "papermill": {
     "duration": 0.080189,
     "end_time": "2021-09-15T22:17:45.919968",
     "exception": false,
     "start_time": "2021-09-15T22:17:45.839779",
     "status": "completed"
    },
    "tags": []
   },
   "outputs": [],
   "source": [
    "# This Python 3 environment comes with many helpful analytics libraries installed\n",
    "# It is defined by the kaggle/python Docker image: https://github.com/kaggle/docker-python\n",
    "# For example, here's several helpful packages to load\n",
    "\n",
    "import numpy as np # linear algebra\n",
    "import pandas as pd # data processing, CSV file I/O (e.g. pd.read_csv)\n",
    "\n",
    "# Input data files are available in the read-only \"../input/\" directory\n",
    "# For example, running this (by clicking run or pressing Shift+Enter) will list all files under the input directory\n",
    "\n",
    "import os\n",
    "for dirname, _, filenames in os.walk('/kaggle/input'):\n",
    "    for filename in filenames:\n",
    "        print(os.path.join(dirname, filename))\n",
    "\n",
    "# You can write up to 20GB to the current directory (/kaggle/working/) that gets preserved as output when you create a version using \"Save & Run All\" \n",
    "# You can also write temporary files to /kaggle/temp/, but they won't be saved outside of the current session"
   ]
  },
  {
   "cell_type": "code",
   "execution_count": 5,
   "id": "b4cb20ce",
   "metadata": {
    "papermill": {
     "duration": 0.930501,
     "end_time": "2021-09-15T22:17:46.893548",
     "exception": false,
     "start_time": "2021-09-15T22:17:45.963047",
     "status": "completed"
    },
    "tags": []
   },
   "outputs": [],
   "source": [
    "import seaborn as sns\n",
    "import matplotlib.pyplot as plt\n",
    "from tqdm.auto import tqdm\n",
    "tqdm.pandas()\n",
    "%matplotlib inline\n",
    "\n",
    "RANDOM_SEED = 42"
   ]
  },
  {
   "cell_type": "markdown",
   "id": "74de8d82",
   "metadata": {
    "papermill": {
     "duration": 0.040839,
     "end_time": "2021-09-15T22:17:46.977312",
     "exception": false,
     "start_time": "2021-09-15T22:17:46.936473",
     "status": "completed"
    },
    "tags": []
   },
   "source": [
    "# Import Data"
   ]
  },
  {
   "cell_type": "code",
   "execution_count": 4,
   "id": "d36d4122",
   "metadata": {
    "papermill": {
     "duration": 0.888082,
     "end_time": "2021-09-15T22:17:47.906466",
     "exception": false,
     "start_time": "2021-09-15T22:17:47.018384",
     "status": "completed"
    },
    "tags": []
   },
   "outputs": [
    {
     "data": {
      "text/html": [
       "<div>\n",
       "<style scoped>\n",
       "    .dataframe tbody tr th:only-of-type {\n",
       "        vertical-align: middle;\n",
       "    }\n",
       "\n",
       "    .dataframe tbody tr th {\n",
       "        vertical-align: top;\n",
       "    }\n",
       "\n",
       "    .dataframe thead th {\n",
       "        text-align: right;\n",
       "    }\n",
       "</style>\n",
       "<table border=\"1\" class=\"dataframe\">\n",
       "  <thead>\n",
       "    <tr style=\"text-align: right;\">\n",
       "      <th></th>\n",
       "      <th>visit_id</th>\n",
       "      <th>kdkc</th>\n",
       "      <th>dati2</th>\n",
       "      <th>typeppk</th>\n",
       "      <th>jkpst</th>\n",
       "      <th>umur</th>\n",
       "      <th>jnspelsep</th>\n",
       "      <th>los</th>\n",
       "      <th>cmg</th>\n",
       "      <th>severitylevel</th>\n",
       "      <th>...</th>\n",
       "      <th>proc63_67</th>\n",
       "      <th>proc68_70</th>\n",
       "      <th>proc71_73</th>\n",
       "      <th>proc74_75</th>\n",
       "      <th>proc76_77</th>\n",
       "      <th>proc78_79</th>\n",
       "      <th>proc80_99</th>\n",
       "      <th>proce00_e99</th>\n",
       "      <th>procv00_v89</th>\n",
       "      <th>label</th>\n",
       "    </tr>\n",
       "  </thead>\n",
       "  <tbody>\n",
       "    <tr>\n",
       "      <th>0</th>\n",
       "      <td>1</td>\n",
       "      <td>1107</td>\n",
       "      <td>150</td>\n",
       "      <td>SB</td>\n",
       "      <td>P</td>\n",
       "      <td>64</td>\n",
       "      <td>2</td>\n",
       "      <td>0</td>\n",
       "      <td>F</td>\n",
       "      <td>0</td>\n",
       "      <td>...</td>\n",
       "      <td>0</td>\n",
       "      <td>0</td>\n",
       "      <td>0</td>\n",
       "      <td>0</td>\n",
       "      <td>0</td>\n",
       "      <td>0</td>\n",
       "      <td>0</td>\n",
       "      <td>0</td>\n",
       "      <td>0</td>\n",
       "      <td>1</td>\n",
       "    </tr>\n",
       "    <tr>\n",
       "      <th>1</th>\n",
       "      <td>2</td>\n",
       "      <td>1303</td>\n",
       "      <td>200</td>\n",
       "      <td>C</td>\n",
       "      <td>L</td>\n",
       "      <td>45</td>\n",
       "      <td>1</td>\n",
       "      <td>9</td>\n",
       "      <td>E</td>\n",
       "      <td>3</td>\n",
       "      <td>...</td>\n",
       "      <td>0</td>\n",
       "      <td>0</td>\n",
       "      <td>0</td>\n",
       "      <td>0</td>\n",
       "      <td>0</td>\n",
       "      <td>0</td>\n",
       "      <td>4</td>\n",
       "      <td>0</td>\n",
       "      <td>0</td>\n",
       "      <td>1</td>\n",
       "    </tr>\n",
       "    <tr>\n",
       "      <th>2</th>\n",
       "      <td>3</td>\n",
       "      <td>1114</td>\n",
       "      <td>172</td>\n",
       "      <td>B</td>\n",
       "      <td>P</td>\n",
       "      <td>34</td>\n",
       "      <td>2</td>\n",
       "      <td>0</td>\n",
       "      <td>Q</td>\n",
       "      <td>0</td>\n",
       "      <td>...</td>\n",
       "      <td>0</td>\n",
       "      <td>0</td>\n",
       "      <td>0</td>\n",
       "      <td>0</td>\n",
       "      <td>0</td>\n",
       "      <td>0</td>\n",
       "      <td>0</td>\n",
       "      <td>0</td>\n",
       "      <td>0</td>\n",
       "      <td>1</td>\n",
       "    </tr>\n",
       "    <tr>\n",
       "      <th>3</th>\n",
       "      <td>4</td>\n",
       "      <td>601</td>\n",
       "      <td>90</td>\n",
       "      <td>SC</td>\n",
       "      <td>L</td>\n",
       "      <td>34</td>\n",
       "      <td>2</td>\n",
       "      <td>0</td>\n",
       "      <td>Q</td>\n",
       "      <td>0</td>\n",
       "      <td>...</td>\n",
       "      <td>0</td>\n",
       "      <td>0</td>\n",
       "      <td>0</td>\n",
       "      <td>0</td>\n",
       "      <td>0</td>\n",
       "      <td>0</td>\n",
       "      <td>0</td>\n",
       "      <td>0</td>\n",
       "      <td>0</td>\n",
       "      <td>1</td>\n",
       "    </tr>\n",
       "    <tr>\n",
       "      <th>4</th>\n",
       "      <td>5</td>\n",
       "      <td>1006</td>\n",
       "      <td>130</td>\n",
       "      <td>B</td>\n",
       "      <td>L</td>\n",
       "      <td>27</td>\n",
       "      <td>2</td>\n",
       "      <td>0</td>\n",
       "      <td>F</td>\n",
       "      <td>0</td>\n",
       "      <td>...</td>\n",
       "      <td>0</td>\n",
       "      <td>0</td>\n",
       "      <td>0</td>\n",
       "      <td>0</td>\n",
       "      <td>0</td>\n",
       "      <td>0</td>\n",
       "      <td>0</td>\n",
       "      <td>0</td>\n",
       "      <td>0</td>\n",
       "      <td>1</td>\n",
       "    </tr>\n",
       "  </tbody>\n",
       "</table>\n",
       "<p>5 rows × 53 columns</p>\n",
       "</div>"
      ],
      "text/plain": [
       "   visit_id  kdkc  dati2 typeppk jkpst  umur  jnspelsep  los cmg  \\\n",
       "0         1  1107    150      SB     P    64          2    0   F   \n",
       "1         2  1303    200      C      L    45          1    9   E   \n",
       "2         3  1114    172      B      P    34          2    0   Q   \n",
       "3         4   601     90      SC     L    34          2    0   Q   \n",
       "4         5  1006    130      B      L    27          2    0   F   \n",
       "\n",
       "   severitylevel  ... proc63_67  proc68_70  proc71_73  proc74_75  proc76_77  \\\n",
       "0              0  ...         0          0          0          0          0   \n",
       "1              3  ...         0          0          0          0          0   \n",
       "2              0  ...         0          0          0          0          0   \n",
       "3              0  ...         0          0          0          0          0   \n",
       "4              0  ...         0          0          0          0          0   \n",
       "\n",
       "   proc78_79  proc80_99  proce00_e99  procv00_v89  label  \n",
       "0          0          0            0            0      1  \n",
       "1          0          4            0            0      1  \n",
       "2          0          0            0            0      1  \n",
       "3          0          0            0            0      1  \n",
       "4          0          0            0            0      1  \n",
       "\n",
       "[5 rows x 53 columns]"
      ]
     },
     "execution_count": 4,
     "metadata": {},
     "output_type": "execute_result"
    }
   ],
   "source": [
    "df = pd.read_csv(\"fraud_detection_train.csv\")\n",
    "df.head()"
   ]
  },
  {
   "cell_type": "code",
   "execution_count": 6,
   "id": "f367593e",
   "metadata": {
    "papermill": {
     "duration": 0.12436,
     "end_time": "2021-09-15T22:17:48.072841",
     "exception": false,
     "start_time": "2021-09-15T22:17:47.948481",
     "status": "completed"
    },
    "tags": []
   },
   "outputs": [
    {
     "name": "stdout",
     "output_type": "stream",
     "text": [
      "<class 'pandas.core.frame.DataFrame'>\n",
      "RangeIndex: 200217 entries, 0 to 200216\n",
      "Data columns (total 53 columns):\n",
      " #   Column         Non-Null Count   Dtype \n",
      "---  ------         --------------   ----- \n",
      " 0   visit_id       200217 non-null  int64 \n",
      " 1   kdkc           200217 non-null  int64 \n",
      " 2   dati2          200217 non-null  int64 \n",
      " 3   typeppk        200217 non-null  object\n",
      " 4   jkpst          200217 non-null  object\n",
      " 5   umur           200217 non-null  int64 \n",
      " 6   jnspelsep      200217 non-null  int64 \n",
      " 7   los            200217 non-null  int64 \n",
      " 8   cmg            200217 non-null  object\n",
      " 9   severitylevel  200217 non-null  int64 \n",
      " 10  diagprimer     200217 non-null  object\n",
      " 11  dx2_a00_b99    200217 non-null  int64 \n",
      " 12  dx2_c00_d48    200217 non-null  int64 \n",
      " 13  dx2_d50_d89    200217 non-null  int64 \n",
      " 14  dx2_e00_e90    200217 non-null  int64 \n",
      " 15  dx2_f00_f99    200217 non-null  int64 \n",
      " 16  dx2_g00_g99    200217 non-null  int64 \n",
      " 17  dx2_h00_h59    200217 non-null  int64 \n",
      " 18  dx2_h60_h95    200217 non-null  int64 \n",
      " 19  dx2_i00_i99    200217 non-null  int64 \n",
      " 20  dx2_j00_j99    200217 non-null  int64 \n",
      " 21  dx2_koo_k93    200217 non-null  int64 \n",
      " 22  dx2_l00_l99    200217 non-null  int64 \n",
      " 23  dx2_m00_m99    200217 non-null  int64 \n",
      " 24  dx2_n00_n99    200217 non-null  int64 \n",
      " 25  dx2_o00_o99    200217 non-null  int64 \n",
      " 26  dx2_p00_p96    200217 non-null  int64 \n",
      " 27  dx2_q00_q99    200217 non-null  int64 \n",
      " 28  dx2_r00_r99    200217 non-null  int64 \n",
      " 29  dx2_s00_t98    200217 non-null  int64 \n",
      " 30  dx2_u00_u99    200217 non-null  int64 \n",
      " 31  dx2_v01_y98    200217 non-null  int64 \n",
      " 32  dx2_z00_z99    200217 non-null  int64 \n",
      " 33  proc00_13      200217 non-null  int64 \n",
      " 34  proc14_23      200217 non-null  int64 \n",
      " 35  proc24_27      200217 non-null  int64 \n",
      " 36  proc28_28      200217 non-null  int64 \n",
      " 37  proc29_31      200217 non-null  int64 \n",
      " 38  proc_32_38     200217 non-null  int64 \n",
      " 39  proc39_45      200217 non-null  int64 \n",
      " 40  proc46_51      200217 non-null  int64 \n",
      " 41  proc52_57      200217 non-null  int64 \n",
      " 42  proc58_62      200217 non-null  int64 \n",
      " 43  proc63_67      200217 non-null  int64 \n",
      " 44  proc68_70      200217 non-null  int64 \n",
      " 45  proc71_73      200217 non-null  int64 \n",
      " 46  proc74_75      200217 non-null  int64 \n",
      " 47  proc76_77      200217 non-null  int64 \n",
      " 48  proc78_79      200217 non-null  int64 \n",
      " 49  proc80_99      200217 non-null  int64 \n",
      " 50  proce00_e99    200217 non-null  int64 \n",
      " 51  procv00_v89    200217 non-null  int64 \n",
      " 52  label          200217 non-null  int64 \n",
      "dtypes: int64(49), object(4)\n",
      "memory usage: 81.0+ MB\n"
     ]
    }
   ],
   "source": [
    "df.info()"
   ]
  },
  {
   "cell_type": "code",
   "execution_count": 7,
   "id": "c1e1a83b",
   "metadata": {
    "papermill": {
     "duration": 0.167822,
     "end_time": "2021-09-15T22:17:48.283971",
     "exception": false,
     "start_time": "2021-09-15T22:17:48.116149",
     "status": "completed"
    },
    "tags": []
   },
   "outputs": [
    {
     "data": {
      "text/plain": [
       "visit_id         200217\n",
       "kdkc                126\n",
       "dati2               486\n",
       "typeppk              25\n",
       "jkpst                 2\n",
       "umur                105\n",
       "jnspelsep             2\n",
       "los                 142\n",
       "cmg                  23\n",
       "severitylevel         4\n",
       "diagprimer           21\n",
       "dx2_a00_b99           5\n",
       "dx2_c00_d48           4\n",
       "dx2_d50_d89           4\n",
       "dx2_e00_e90           7\n",
       "dx2_f00_f99           3\n",
       "dx2_g00_g99           5\n",
       "dx2_h00_h59           5\n",
       "dx2_h60_h95           4\n",
       "dx2_i00_i99           7\n",
       "dx2_j00_j99           5\n",
       "dx2_koo_k93           1\n",
       "dx2_l00_l99           4\n",
       "dx2_m00_m99           4\n",
       "dx2_n00_n99           5\n",
       "dx2_o00_o99           7\n",
       "dx2_p00_p96          14\n",
       "dx2_q00_q99           7\n",
       "dx2_r00_r99           5\n",
       "dx2_s00_t98           8\n",
       "dx2_u00_u99           1\n",
       "dx2_v01_y98           3\n",
       "dx2_z00_z99           6\n",
       "proc00_13             5\n",
       "proc14_23             6\n",
       "proc24_27             4\n",
       "proc28_28             3\n",
       "proc29_31             3\n",
       "proc_32_38            6\n",
       "proc39_45             5\n",
       "proc46_51             4\n",
       "proc52_57             6\n",
       "proc58_62             4\n",
       "proc63_67             4\n",
       "proc68_70             3\n",
       "proc71_73             5\n",
       "proc74_75             5\n",
       "proc76_77             4\n",
       "proc78_79             7\n",
       "proc80_99            22\n",
       "proce00_e99           2\n",
       "procv00_v89           1\n",
       "label                 2\n",
       "dtype: int64"
      ]
     },
     "execution_count": 7,
     "metadata": {},
     "output_type": "execute_result"
    }
   ],
   "source": [
    "df.nunique()"
   ]
  },
  {
   "cell_type": "markdown",
   "id": "66370bbc",
   "metadata": {
    "papermill": {
     "duration": 0.05718,
     "end_time": "2021-09-15T22:17:48.385094",
     "exception": false,
     "start_time": "2021-09-15T22:17:48.327914",
     "status": "completed"
    },
    "tags": []
   },
   "source": [
    "# EDA"
   ]
  },
  {
   "cell_type": "markdown",
   "id": "283a3085",
   "metadata": {
    "papermill": {
     "duration": 0.041839,
     "end_time": "2021-09-15T22:17:48.475417",
     "exception": false,
     "start_time": "2021-09-15T22:17:48.433578",
     "status": "completed"
    },
    "tags": []
   },
   "source": [
    "## Quick peak"
   ]
  },
  {
   "cell_type": "code",
   "execution_count": 8,
   "id": "3c894e7c",
   "metadata": {
    "papermill": {
     "duration": 1.447192,
     "end_time": "2021-09-15T22:17:49.964791",
     "exception": false,
     "start_time": "2021-09-15T22:17:48.517599",
     "status": "completed"
    },
    "tags": []
   },
   "outputs": [
    {
     "ename": "ValueError",
     "evalue": "could not convert string to float: 'SB'",
     "output_type": "error",
     "traceback": [
      "\u001b[1;31m---------------------------------------------------------------------------\u001b[0m",
      "\u001b[1;31mValueError\u001b[0m                                Traceback (most recent call last)",
      "Cell \u001b[1;32mIn[8], line 1\u001b[0m\n\u001b[1;32m----> 1\u001b[0m \u001b[43mdf\u001b[49m\u001b[38;5;241;43m.\u001b[39;49m\u001b[43mcorr\u001b[49m\u001b[43m(\u001b[49m\u001b[43m)\u001b[49m[\u001b[38;5;124m\"\u001b[39m\u001b[38;5;124mlabel\u001b[39m\u001b[38;5;124m\"\u001b[39m]\n",
      "File \u001b[1;32mC:\\Python\\Python312\\Lib\\site-packages\\pandas\\core\\frame.py:11049\u001b[0m, in \u001b[0;36mDataFrame.corr\u001b[1;34m(self, method, min_periods, numeric_only)\u001b[0m\n\u001b[0;32m  11047\u001b[0m cols \u001b[38;5;241m=\u001b[39m data\u001b[38;5;241m.\u001b[39mcolumns\n\u001b[0;32m  11048\u001b[0m idx \u001b[38;5;241m=\u001b[39m cols\u001b[38;5;241m.\u001b[39mcopy()\n\u001b[1;32m> 11049\u001b[0m mat \u001b[38;5;241m=\u001b[39m \u001b[43mdata\u001b[49m\u001b[38;5;241;43m.\u001b[39;49m\u001b[43mto_numpy\u001b[49m\u001b[43m(\u001b[49m\u001b[43mdtype\u001b[49m\u001b[38;5;241;43m=\u001b[39;49m\u001b[38;5;28;43mfloat\u001b[39;49m\u001b[43m,\u001b[49m\u001b[43m \u001b[49m\u001b[43mna_value\u001b[49m\u001b[38;5;241;43m=\u001b[39;49m\u001b[43mnp\u001b[49m\u001b[38;5;241;43m.\u001b[39;49m\u001b[43mnan\u001b[49m\u001b[43m,\u001b[49m\u001b[43m \u001b[49m\u001b[43mcopy\u001b[49m\u001b[38;5;241;43m=\u001b[39;49m\u001b[38;5;28;43;01mFalse\u001b[39;49;00m\u001b[43m)\u001b[49m\n\u001b[0;32m  11051\u001b[0m \u001b[38;5;28;01mif\u001b[39;00m method \u001b[38;5;241m==\u001b[39m \u001b[38;5;124m\"\u001b[39m\u001b[38;5;124mpearson\u001b[39m\u001b[38;5;124m\"\u001b[39m:\n\u001b[0;32m  11052\u001b[0m     correl \u001b[38;5;241m=\u001b[39m libalgos\u001b[38;5;241m.\u001b[39mnancorr(mat, minp\u001b[38;5;241m=\u001b[39mmin_periods)\n",
      "File \u001b[1;32mC:\\Python\\Python312\\Lib\\site-packages\\pandas\\core\\frame.py:1993\u001b[0m, in \u001b[0;36mDataFrame.to_numpy\u001b[1;34m(self, dtype, copy, na_value)\u001b[0m\n\u001b[0;32m   1991\u001b[0m \u001b[38;5;28;01mif\u001b[39;00m dtype \u001b[38;5;129;01mis\u001b[39;00m \u001b[38;5;129;01mnot\u001b[39;00m \u001b[38;5;28;01mNone\u001b[39;00m:\n\u001b[0;32m   1992\u001b[0m     dtype \u001b[38;5;241m=\u001b[39m np\u001b[38;5;241m.\u001b[39mdtype(dtype)\n\u001b[1;32m-> 1993\u001b[0m result \u001b[38;5;241m=\u001b[39m \u001b[38;5;28;43mself\u001b[39;49m\u001b[38;5;241;43m.\u001b[39;49m\u001b[43m_mgr\u001b[49m\u001b[38;5;241;43m.\u001b[39;49m\u001b[43mas_array\u001b[49m\u001b[43m(\u001b[49m\u001b[43mdtype\u001b[49m\u001b[38;5;241;43m=\u001b[39;49m\u001b[43mdtype\u001b[49m\u001b[43m,\u001b[49m\u001b[43m \u001b[49m\u001b[43mcopy\u001b[49m\u001b[38;5;241;43m=\u001b[39;49m\u001b[43mcopy\u001b[49m\u001b[43m,\u001b[49m\u001b[43m \u001b[49m\u001b[43mna_value\u001b[49m\u001b[38;5;241;43m=\u001b[39;49m\u001b[43mna_value\u001b[49m\u001b[43m)\u001b[49m\n\u001b[0;32m   1994\u001b[0m \u001b[38;5;28;01mif\u001b[39;00m result\u001b[38;5;241m.\u001b[39mdtype \u001b[38;5;129;01mis\u001b[39;00m \u001b[38;5;129;01mnot\u001b[39;00m dtype:\n\u001b[0;32m   1995\u001b[0m     result \u001b[38;5;241m=\u001b[39m np\u001b[38;5;241m.\u001b[39masarray(result, dtype\u001b[38;5;241m=\u001b[39mdtype)\n",
      "File \u001b[1;32mC:\\Python\\Python312\\Lib\\site-packages\\pandas\\core\\internals\\managers.py:1694\u001b[0m, in \u001b[0;36mBlockManager.as_array\u001b[1;34m(self, dtype, copy, na_value)\u001b[0m\n\u001b[0;32m   1692\u001b[0m         arr\u001b[38;5;241m.\u001b[39mflags\u001b[38;5;241m.\u001b[39mwriteable \u001b[38;5;241m=\u001b[39m \u001b[38;5;28;01mFalse\u001b[39;00m\n\u001b[0;32m   1693\u001b[0m \u001b[38;5;28;01melse\u001b[39;00m:\n\u001b[1;32m-> 1694\u001b[0m     arr \u001b[38;5;241m=\u001b[39m \u001b[38;5;28;43mself\u001b[39;49m\u001b[38;5;241;43m.\u001b[39;49m\u001b[43m_interleave\u001b[49m\u001b[43m(\u001b[49m\u001b[43mdtype\u001b[49m\u001b[38;5;241;43m=\u001b[39;49m\u001b[43mdtype\u001b[49m\u001b[43m,\u001b[49m\u001b[43m \u001b[49m\u001b[43mna_value\u001b[49m\u001b[38;5;241;43m=\u001b[39;49m\u001b[43mna_value\u001b[49m\u001b[43m)\u001b[49m\n\u001b[0;32m   1695\u001b[0m     \u001b[38;5;66;03m# The underlying data was copied within _interleave, so no need\u001b[39;00m\n\u001b[0;32m   1696\u001b[0m     \u001b[38;5;66;03m# to further copy if copy=True or setting na_value\u001b[39;00m\n\u001b[0;32m   1698\u001b[0m \u001b[38;5;28;01mif\u001b[39;00m na_value \u001b[38;5;129;01mis\u001b[39;00m lib\u001b[38;5;241m.\u001b[39mno_default:\n",
      "File \u001b[1;32mC:\\Python\\Python312\\Lib\\site-packages\\pandas\\core\\internals\\managers.py:1753\u001b[0m, in \u001b[0;36mBlockManager._interleave\u001b[1;34m(self, dtype, na_value)\u001b[0m\n\u001b[0;32m   1751\u001b[0m     \u001b[38;5;28;01melse\u001b[39;00m:\n\u001b[0;32m   1752\u001b[0m         arr \u001b[38;5;241m=\u001b[39m blk\u001b[38;5;241m.\u001b[39mget_values(dtype)\n\u001b[1;32m-> 1753\u001b[0m     \u001b[43mresult\u001b[49m\u001b[43m[\u001b[49m\u001b[43mrl\u001b[49m\u001b[38;5;241;43m.\u001b[39;49m\u001b[43mindexer\u001b[49m\u001b[43m]\u001b[49m \u001b[38;5;241m=\u001b[39m arr\n\u001b[0;32m   1754\u001b[0m     itemmask[rl\u001b[38;5;241m.\u001b[39mindexer] \u001b[38;5;241m=\u001b[39m \u001b[38;5;241m1\u001b[39m\n\u001b[0;32m   1756\u001b[0m \u001b[38;5;28;01mif\u001b[39;00m \u001b[38;5;129;01mnot\u001b[39;00m itemmask\u001b[38;5;241m.\u001b[39mall():\n",
      "\u001b[1;31mValueError\u001b[0m: could not convert string to float: 'SB'"
     ]
    }
   ],
   "source": [
    "df.corr()[\"label\"]"
   ]
  },
  {
   "cell_type": "code",
   "execution_count": null,
   "id": "fd1a9fb3",
   "metadata": {
    "papermill": {
     "duration": 2.452483,
     "end_time": "2021-09-15T22:17:52.460294",
     "exception": false,
     "start_time": "2021-09-15T22:17:50.007811",
     "status": "completed"
    },
    "tags": []
   },
   "outputs": [],
   "source": [
    "fig, (ax1, ax2) = plt.subplots(1, 2, figsize=(15, 5))\n",
    "sns.distplot(df.umur, ax=ax1)\n",
    "sns.distplot(df.los, ax=ax2)"
   ]
  },
  {
   "cell_type": "code",
   "execution_count": null,
   "id": "e0ca4bc1",
   "metadata": {
    "papermill": {
     "duration": 2.592447,
     "end_time": "2021-09-15T22:17:55.096974",
     "exception": false,
     "start_time": "2021-09-15T22:17:52.504527",
     "status": "completed"
    },
    "tags": []
   },
   "outputs": [],
   "source": [
    "fig, (ax1, ax2) = plt.subplots(1, 2, figsize=(15, 5))\n",
    "sns.distplot(df.jnspelsep, ax=ax1)\n",
    "sns.distplot(df.severitylevel, ax=ax2)"
   ]
  },
  {
   "cell_type": "code",
   "execution_count": null,
   "id": "2a0be3c8",
   "metadata": {
    "papermill": {
     "duration": 0.17377,
     "end_time": "2021-09-15T22:17:55.316926",
     "exception": false,
     "start_time": "2021-09-15T22:17:55.143156",
     "status": "completed"
    },
    "tags": []
   },
   "outputs": [],
   "source": [
    "imp = []\n",
    "for col in df.columns.tolist():\n",
    "    nunique = df[col].nunique()\n",
    "    print(f\"{col} : {nunique}\")\n",
    "    if nunique > 1 and nunique != df.shape[0]:\n",
    "        imp.append(col)"
   ]
  },
  {
   "cell_type": "code",
   "execution_count": null,
   "id": "76d2e07a",
   "metadata": {
    "papermill": {
     "duration": 0.124796,
     "end_time": "2021-09-15T22:17:55.488814",
     "exception": false,
     "start_time": "2021-09-15T22:17:55.364018",
     "status": "completed"
    },
    "tags": []
   },
   "outputs": [],
   "source": [
    "df2 = df[imp].copy()\n",
    "df2[\"los_log\"] = np.log(df2.los + 2)"
   ]
  },
  {
   "cell_type": "code",
   "execution_count": null,
   "id": "56011dfc",
   "metadata": {
    "papermill": {
     "duration": 1.280633,
     "end_time": "2021-09-15T22:17:56.815882",
     "exception": false,
     "start_time": "2021-09-15T22:17:55.535249",
     "status": "completed"
    },
    "tags": []
   },
   "outputs": [],
   "source": [
    "sns.distplot(df2.los_log)"
   ]
  },
  {
   "cell_type": "code",
   "execution_count": null,
   "id": "90a18fa5",
   "metadata": {
    "papermill": {
     "duration": 1.631873,
     "end_time": "2021-09-15T22:17:58.495423",
     "exception": false,
     "start_time": "2021-09-15T22:17:56.863550",
     "status": "completed"
    },
    "tags": []
   },
   "outputs": [],
   "source": [
    "fig, (ax1, ax2) = plt.subplots(1, 2, figsize=(15, 5))\n",
    "sns.distplot(df2[df2.los_log > 3].los_log, ax=ax1)\n",
    "sns.distplot(df2[df2.los_log < 3].los_log, ax=ax2)"
   ]
  },
  {
   "cell_type": "code",
   "execution_count": null,
   "id": "d24546aa",
   "metadata": {
    "papermill": {
     "duration": 0.105765,
     "end_time": "2021-09-15T22:17:58.649419",
     "exception": false,
     "start_time": "2021-09-15T22:17:58.543654",
     "status": "completed"
    },
    "tags": []
   },
   "outputs": [],
   "source": [
    "df2.drop(df2[(df2.los > 40)].index, inplace=True)\n",
    "df2.shape"
   ]
  },
  {
   "cell_type": "code",
   "execution_count": null,
   "id": "5f9f0a05",
   "metadata": {
    "papermill": {
     "duration": 0.060836,
     "end_time": "2021-09-15T22:17:58.758972",
     "exception": false,
     "start_time": "2021-09-15T22:17:58.698136",
     "status": "completed"
    },
    "tags": []
   },
   "outputs": [],
   "source": [
    "df2[(df2.umur > 90)].label.value_counts()"
   ]
  },
  {
   "cell_type": "code",
   "execution_count": null,
   "id": "8ae1fe27",
   "metadata": {
    "papermill": {
     "duration": 1.415851,
     "end_time": "2021-09-15T22:18:00.225221",
     "exception": false,
     "start_time": "2021-09-15T22:17:58.809370",
     "status": "completed"
    },
    "tags": []
   },
   "outputs": [],
   "source": [
    "sns.distplot(df2[(df2.umur < 90)].umur)"
   ]
  },
  {
   "cell_type": "code",
   "execution_count": null,
   "id": "ca4936c4",
   "metadata": {
    "papermill": {
     "duration": 0.066695,
     "end_time": "2021-09-15T22:18:00.343099",
     "exception": false,
     "start_time": "2021-09-15T22:18:00.276404",
     "status": "completed"
    },
    "tags": []
   },
   "outputs": [],
   "source": [
    "df2[(df2.los==0) & (df2.jnspelsep == 1) ].label.value_counts()"
   ]
  },
  {
   "cell_type": "code",
   "execution_count": null,
   "id": "6aa292cb",
   "metadata": {
    "papermill": {
     "duration": 0.057475,
     "end_time": "2021-09-15T22:18:00.451407",
     "exception": false,
     "start_time": "2021-09-15T22:18:00.393932",
     "status": "completed"
    },
    "tags": []
   },
   "outputs": [],
   "source": [
    "# df2.drop(df2[(df2.los==0) & (df2.label==0) & (df2.jnspelsep == 1)].index, inplace=True)\n",
    "# df2.shape"
   ]
  },
  {
   "cell_type": "markdown",
   "id": "c880aea8",
   "metadata": {
    "papermill": {
     "duration": 0.050323,
     "end_time": "2021-09-15T22:18:00.552366",
     "exception": false,
     "start_time": "2021-09-15T22:18:00.502043",
     "status": "completed"
    },
    "tags": []
   },
   "source": [
    "# Feature Engineering"
   ]
  },
  {
   "cell_type": "code",
   "execution_count": null,
   "id": "73af7fae",
   "metadata": {
    "papermill": {
     "duration": 0.060414,
     "end_time": "2021-09-15T22:18:00.665316",
     "exception": false,
     "start_time": "2021-09-15T22:18:00.604902",
     "status": "completed"
    },
    "tags": []
   },
   "outputs": [],
   "source": [
    "proc_cols = [col for col in df2.columns if \"proc\" in col]\n",
    "proc_cols"
   ]
  },
  {
   "cell_type": "code",
   "execution_count": null,
   "id": "0c93c270",
   "metadata": {
    "papermill": {
     "duration": 0.06206,
     "end_time": "2021-09-15T22:18:00.779586",
     "exception": false,
     "start_time": "2021-09-15T22:18:00.717526",
     "status": "completed"
    },
    "tags": []
   },
   "outputs": [],
   "source": [
    "dx2_cols = [col for col in df2.columns if \"dx2\" in col]\n",
    "dx2_cols"
   ]
  },
  {
   "cell_type": "code",
   "execution_count": null,
   "id": "0972ddc0",
   "metadata": {
    "papermill": {
     "duration": 0.060406,
     "end_time": "2021-09-15T22:18:00.891323",
     "exception": false,
     "start_time": "2021-09-15T22:18:00.830917",
     "status": "completed"
    },
    "tags": []
   },
   "outputs": [],
   "source": [
    "def count_dx2(row):\n",
    "    count = 0\n",
    "    for col in dx2_cols:\n",
    "        count += 1 if row[col] > 0 else 0\n",
    "\n",
    "    row[\"count_dx2\"] = count\n",
    "    return row\n",
    "\n",
    "def count_proc(row):\n",
    "    count = 0\n",
    "    for col in proc_cols:\n",
    "        count += 1 if row[col] > 0 else 0\n",
    "\n",
    "    row[\"count_proc\"] = count\n",
    "    return row"
   ]
  },
  {
   "cell_type": "code",
   "execution_count": null,
   "id": "3cbf67ad",
   "metadata": {
    "papermill": {
     "duration": 0.061236,
     "end_time": "2021-09-15T22:18:01.004126",
     "exception": false,
     "start_time": "2021-09-15T22:18:00.942890",
     "status": "completed"
    },
    "tags": []
   },
   "outputs": [],
   "source": [
    "# 1) Masa Balita: 0–5 Tahun;\n",
    "# 2) Masa Kanak-Kanak: 5–11 Tahun;\n",
    "# 3) Masa Remaja Awal: 12–16 Tahun; \n",
    "# 4) Masa Remaja Akhir: 17–25 Tahun;\n",
    "# 5) Masa Dewasa Awal: 26–35 Tahun;\n",
    "# 6) Masa Dewasa Akhir: 36–45 Tahun;\n",
    "# 7) Masa Lansia Awal: 46–55 Tahun; \n",
    "# 8) Masa Lansia Akhir: 56–65 Tahun; dan \n",
    "# 9) Masa Manula: > 65 Tahun.\n",
    "    \n",
    "def encode_umur(x):\n",
    "    if x.umur <= 5:\n",
    "        x['encode_umur'] = 1\n",
    "    elif x.umur <= 11:\n",
    "        x['encode_umur'] = 2\n",
    "    elif x.umur <= 16:\n",
    "        x['encode_umur'] = 3\n",
    "    elif x.umur <= 25:\n",
    "        x['encode_umur'] = 4\n",
    "    elif x.umur <= 35:\n",
    "        x['encode_umur'] = 5\n",
    "    elif x.umur <= 45:\n",
    "        x['encode_umur'] = 6\n",
    "    elif x.umur <= 55:\n",
    "        x['encode_umur'] = 7\n",
    "    elif x.umur <= 65:\n",
    "        x['encode_umur'] = 8\n",
    "    else:\n",
    "        x['encode_umur'] = 9\n",
    "\n",
    "    return x\n"
   ]
  },
  {
   "cell_type": "code",
   "execution_count": null,
   "id": "e4a15ba6",
   "metadata": {
    "papermill": {
     "duration": 0.058186,
     "end_time": "2021-09-15T22:18:01.113835",
     "exception": false,
     "start_time": "2021-09-15T22:18:01.055649",
     "status": "completed"
    },
    "tags": []
   },
   "outputs": [],
   "source": [
    "def concat_dati2_kdkc(row):\n",
    "    row[\"dati2_kdkc\"] = str(row[\"dati2\"]) + \"_\" + str(row[\"kdkc\"])\n",
    "    return row"
   ]
  },
  {
   "cell_type": "code",
   "execution_count": null,
   "id": "0680882d",
   "metadata": {
    "papermill": {
     "duration": 0.059158,
     "end_time": "2021-09-15T22:18:01.225635",
     "exception": false,
     "start_time": "2021-09-15T22:18:01.166477",
     "status": "completed"
    },
    "tags": []
   },
   "outputs": [],
   "source": [
    "def is_baby(row):\n",
    "    row[\"is_baby\"] = 1 if row.umur == 0 else 0\n",
    "    return row"
   ]
  },
  {
   "cell_type": "code",
   "execution_count": null,
   "id": "c52f004d",
   "metadata": {
    "papermill": {
     "duration": 0.057938,
     "end_time": "2021-09-15T22:18:01.335613",
     "exception": false,
     "start_time": "2021-09-15T22:18:01.277675",
     "status": "completed"
    },
    "tags": []
   },
   "outputs": [],
   "source": [
    "def apply_row(row):\n",
    "    row = concat_dati2_kdkc(row)\n",
    "#     row = is_baby(row)\n",
    "    return row"
   ]
  },
  {
   "cell_type": "code",
   "execution_count": null,
   "id": "357b922c",
   "metadata": {
    "papermill": {
     "duration": 128.129054,
     "end_time": "2021-09-15T22:20:09.516630",
     "exception": false,
     "start_time": "2021-09-15T22:18:01.387576",
     "status": "completed"
    },
    "tags": []
   },
   "outputs": [],
   "source": [
    "tempdf = df2.apply(lambda x: apply_row(x), axis=1)"
   ]
  },
  {
   "cell_type": "code",
   "execution_count": null,
   "id": "77c13575",
   "metadata": {
    "papermill": {
     "duration": 0.142135,
     "end_time": "2021-09-15T22:20:09.710157",
     "exception": false,
     "start_time": "2021-09-15T22:20:09.568022",
     "status": "completed"
    },
    "tags": []
   },
   "outputs": [],
   "source": [
    "df2 = tempdf.copy()"
   ]
  },
  {
   "cell_type": "code",
   "execution_count": null,
   "id": "14e9b030",
   "metadata": {
    "papermill": {
     "duration": 0.093122,
     "end_time": "2021-09-15T22:20:09.854955",
     "exception": false,
     "start_time": "2021-09-15T22:20:09.761833",
     "status": "completed"
    },
    "tags": []
   },
   "outputs": [],
   "source": [
    "df2[df2.label==1].dati2_kdkc.value_counts()"
   ]
  },
  {
   "cell_type": "code",
   "execution_count": null,
   "id": "29b8f94f",
   "metadata": {
    "papermill": {
     "duration": 0.083753,
     "end_time": "2021-09-15T22:20:09.990567",
     "exception": false,
     "start_time": "2021-09-15T22:20:09.906814",
     "status": "completed"
    },
    "tags": []
   },
   "outputs": [],
   "source": [
    "df2[\"count_proc\"] = 0\n",
    "for col in proc_cols:\n",
    "    df2[\"count_proc\"] += df2[col]"
   ]
  },
  {
   "cell_type": "code",
   "execution_count": null,
   "id": "70677018",
   "metadata": {
    "papermill": {
     "duration": 0.087233,
     "end_time": "2021-09-15T22:20:10.129700",
     "exception": false,
     "start_time": "2021-09-15T22:20:10.042467",
     "status": "completed"
    },
    "tags": []
   },
   "outputs": [],
   "source": [
    "df2[\"count_dx2\"] = 0\n",
    "for col in dx2_cols:\n",
    "    df2[\"count_dx2\"] += df2[col]"
   ]
  },
  {
   "cell_type": "code",
   "execution_count": null,
   "id": "9a4c02e8",
   "metadata": {
    "papermill": {
     "duration": 0.223576,
     "end_time": "2021-09-15T22:20:10.406606",
     "exception": false,
     "start_time": "2021-09-15T22:20:10.183030",
     "status": "completed"
    },
    "tags": []
   },
   "outputs": [],
   "source": [
    "from sklearn.model_selection import cross_val_score, RepeatedStratifiedKFold, train_test_split, cross_validate"
   ]
  },
  {
   "cell_type": "code",
   "execution_count": null,
   "id": "d8a80256",
   "metadata": {
    "papermill": {
     "duration": 0.059506,
     "end_time": "2021-09-15T22:20:10.518527",
     "exception": false,
     "start_time": "2021-09-15T22:20:10.459021",
     "status": "completed"
    },
    "tags": []
   },
   "outputs": [],
   "source": [
    "drop_cols = [\"los\", \"jnspelsep\", \"jkpst\", \"kdkc\"]\n",
    "astype_dict = {\"dati2\": \"object\", \"severitylevel\": \"object\"}"
   ]
  },
  {
   "cell_type": "code",
   "execution_count": null,
   "id": "bf8bb48e",
   "metadata": {
    "papermill": {
     "duration": 0.131533,
     "end_time": "2021-09-15T22:20:10.702298",
     "exception": false,
     "start_time": "2021-09-15T22:20:10.570765",
     "status": "completed"
    },
    "tags": []
   },
   "outputs": [],
   "source": [
    "X = df2.drop([\"label\"] + drop_cols + proc_cols + dx2_cols, axis=1)\n",
    "y = df2.label.copy()\n",
    "\n",
    "X = X.astype(astype_dict)\n",
    "# X = pd.get_dummies(X)"
   ]
  },
  {
   "cell_type": "code",
   "execution_count": null,
   "id": "00a530a8",
   "metadata": {
    "papermill": {
     "duration": 0.051653,
     "end_time": "2021-09-15T22:20:10.806075",
     "exception": false,
     "start_time": "2021-09-15T22:20:10.754422",
     "status": "completed"
    },
    "tags": []
   },
   "outputs": [],
   "source": []
  },
  {
   "cell_type": "code",
   "execution_count": null,
   "id": "5a0adbea",
   "metadata": {
    "papermill": {
     "duration": 0.224992,
     "end_time": "2021-09-15T22:20:11.083053",
     "exception": false,
     "start_time": "2021-09-15T22:20:10.858061",
     "status": "completed"
    },
    "tags": []
   },
   "outputs": [],
   "source": [
    "X_train, X_val, y_train, y_val = train_test_split(X, y, train_size=0.9, stratify=y, random_state=42)"
   ]
  },
  {
   "cell_type": "code",
   "execution_count": null,
   "id": "5fed5e76",
   "metadata": {
    "papermill": {
     "duration": 0.059214,
     "end_time": "2021-09-15T22:20:11.194323",
     "exception": false,
     "start_time": "2021-09-15T22:20:11.135109",
     "status": "completed"
    },
    "tags": []
   },
   "outputs": [],
   "source": [
    "# X[\"proc_dx2\"] = X.count_proc - X.count_dx2\n",
    "# X = X.drop([\"count_proc\", \"count_dx2\"], axis=1)"
   ]
  },
  {
   "cell_type": "code",
   "execution_count": null,
   "id": "5702749a",
   "metadata": {
    "papermill": {
     "duration": 0.153269,
     "end_time": "2021-09-15T22:20:11.400015",
     "exception": false,
     "start_time": "2021-09-15T22:20:11.246746",
     "status": "completed"
    },
    "tags": []
   },
   "outputs": [],
   "source": [
    "X.info()"
   ]
  },
  {
   "cell_type": "code",
   "execution_count": null,
   "id": "6afbad3e",
   "metadata": {
    "papermill": {
     "duration": 0.059617,
     "end_time": "2021-09-15T22:20:11.526218",
     "exception": false,
     "start_time": "2021-09-15T22:20:11.466601",
     "status": "completed"
    },
    "tags": []
   },
   "outputs": [],
   "source": [
    "from sklearn.metrics import classification_report"
   ]
  },
  {
   "cell_type": "markdown",
   "id": "719207cd",
   "metadata": {
    "papermill": {
     "duration": 0.052453,
     "end_time": "2021-09-15T22:20:11.630893",
     "exception": false,
     "start_time": "2021-09-15T22:20:11.578440",
     "status": "completed"
    },
    "tags": []
   },
   "source": [
    "# Model Predict"
   ]
  },
  {
   "cell_type": "code",
   "execution_count": null,
   "id": "85c1acaa",
   "metadata": {
    "papermill": {
     "duration": 0.05818,
     "end_time": "2021-09-15T22:20:11.742208",
     "exception": false,
     "start_time": "2021-09-15T22:20:11.684028",
     "status": "completed"
    },
    "tags": []
   },
   "outputs": [],
   "source": [
    "# from xgboost import XGBClassifier\n",
    "\n",
    "# param = {\n",
    "#     'bootstrap': True,\n",
    "#     'max_depth': 50,\n",
    "#     'max_features': 6,\n",
    "#     'min_samples_leaf': 4,\n",
    "#     'min_samples_split': 12\n",
    "# }\n",
    "\n",
    "# xgb = XGBClassifier(random_state=42, **param)\n",
    "# scoring = ['precision', 'recall', 'f1', 'accuracy']\n",
    "# cv = RepeatedStratifiedKFold(n_splits=5, n_repeats=2, random_state=42)\n",
    "# score = cross_validate(xgb, X, y, scoring=scoring, cv=cv, n_jobs=-1, return_train_score=False)\n",
    "\n",
    "# print(score)"
   ]
  },
  {
   "cell_type": "code",
   "execution_count": null,
   "id": "14f183b2",
   "metadata": {
    "papermill": {
     "duration": 5726.574817,
     "end_time": "2021-09-15T23:55:38.369348",
     "exception": false,
     "start_time": "2021-09-15T22:20:11.794531",
     "status": "completed"
    },
    "tags": []
   },
   "outputs": [],
   "source": [
    "from catboost import CatBoostClassifier\n",
    "\n",
    "cat_features = [index for index, column in enumerate(X.columns) if X[column].dtype == \"object\"]\n",
    "params = {\n",
    "    \"loss_function\": \"CrossEntropy\",\n",
    "    \"eval_metric\": \"Precision\",\n",
    "    \"random_seed\": 42,\n",
    "    \"task_type\": \"CPU\",\n",
    "    \"cat_features\": cat_features,\n",
    "    \"early_stopping_rounds\": 200,\n",
    "    \"iterations\": 2000,\n",
    "    \"verbose\": 100,\n",
    "    \"max_depth\": 10,\n",
    "}\n",
    "\n",
    "cat = CatBoostClassifier(**params)\n",
    "scoring = ['precision', 'recall', 'f1', 'accuracy']\n",
    "cv = RepeatedStratifiedKFold(n_splits=5, n_repeats=2, random_state=42)\n",
    "score = cross_validate(cat, X, y, scoring=scoring, cv=cv, n_jobs=-1, return_train_score=False)\n",
    "\n",
    "print(score)"
   ]
  },
  {
   "cell_type": "code",
   "execution_count": null,
   "id": "db006a39",
   "metadata": {
    "papermill": {
     "duration": 0.070572,
     "end_time": "2021-09-15T23:55:38.496233",
     "exception": false,
     "start_time": "2021-09-15T23:55:38.425661",
     "status": "completed"
    },
    "tags": []
   },
   "outputs": [],
   "source": [
    "avg_precision = score[\"test_precision\"].mean()\n",
    "avg_recall = score[\"test_recall\"].mean()\n",
    "avg_f1 = score[\"test_f1\"].mean()\n",
    "avg_accuracy = score[\"test_accuracy\"].mean()\n",
    "print(\"avg_precision\", score[\"test_precision\"].mean())\n",
    "print(\"avg_recall\", score[\"test_recall\"].mean())\n",
    "print(\"avg_f1\", score[\"test_f1\"].mean())\n",
    "print(\"final_score\", 0.4*avg_precision + 0.3*avg_recall + 0.3*avg_accuracy)"
   ]
  },
  {
   "cell_type": "code",
   "execution_count": null,
   "id": "7733712f",
   "metadata": {
    "papermill": {
     "duration": 0.065649,
     "end_time": "2021-09-15T23:55:38.618626",
     "exception": false,
     "start_time": "2021-09-15T23:55:38.552977",
     "status": "completed"
    },
    "tags": []
   },
   "outputs": [],
   "source": [
    "import collections\n",
    "from sklearn.model_selection import train_test_split\n",
    "\n",
    "TRAIN_SIZE = 0.8\n",
    "VAL_SIZE = 0.1\n",
    "TEST_SIZE = 0.1\n",
    "\n",
    "def train_val_test_split(X, y, train_size):\n",
    "    \"\"\"Split dataset into data splits.\"\"\"\n",
    "    X_train, X_, y_train, y_ = train_test_split(X, y, train_size=TRAIN_SIZE, stratify=y, random_state=42)\n",
    "    X_val, X_test, y_val, y_test = train_test_split(X_, y_, train_size=0.5, stratify=y_, random_state=42)\n",
    "    return X_train, X_val, X_test, y_train, y_val, y_test"
   ]
  },
  {
   "cell_type": "code",
   "execution_count": null,
   "id": "055f2c63",
   "metadata": {
    "papermill": {
     "duration": 0.313805,
     "end_time": "2021-09-15T23:55:38.987337",
     "exception": false,
     "start_time": "2021-09-15T23:55:38.673532",
     "status": "completed"
    },
    "tags": []
   },
   "outputs": [],
   "source": [
    "X_train, X_val, X_test, y_train, y_val, y_test = train_val_test_split(\n",
    "    X=X, y=y, train_size=TRAIN_SIZE)\n",
    "print (f\"X_train: {X_train.shape}, y_train: {y_train.shape}\")\n",
    "print (f\"X_val: {X_val.shape}, y_val: {y_val.shape}\")\n",
    "print (f\"X_test: {X_test.shape}, y_test: {y_test.shape}\")"
   ]
  },
  {
   "cell_type": "code",
   "execution_count": null,
   "id": "8154b77f",
   "metadata": {
    "papermill": {
     "duration": 0.06118,
     "end_time": "2021-09-15T23:55:39.103545",
     "exception": false,
     "start_time": "2021-09-15T23:55:39.042365",
     "status": "completed"
    },
    "tags": []
   },
   "outputs": [],
   "source": [
    "# X_train, X_val, y_train, y_val = train_test_split(X, y, train_size=0.8, stratify=y, random_state=42)"
   ]
  },
  {
   "cell_type": "code",
   "execution_count": null,
   "id": "73fb6acf",
   "metadata": {
    "papermill": {
     "duration": 0.064345,
     "end_time": "2021-09-15T23:55:39.222327",
     "exception": false,
     "start_time": "2021-09-15T23:55:39.157982",
     "status": "completed"
    },
    "tags": []
   },
   "outputs": [],
   "source": [
    "from catboost import CatBoostClassifier\n",
    "\n",
    "cat_features = [index for index, column in enumerate(X_train.columns) if X_train[column].dtype == \"object\"]\n",
    "params = {\n",
    "    \"loss_function\": \"CrossEntropy\",\n",
    "    \"eval_metric\": \"Precision\",\n",
    "    \"random_seed\": 42,\n",
    "    \"task_type\": \"CPU\",\n",
    "    \"cat_features\": cat_features,\n",
    "    \"early_stopping_rounds\": 200,\n",
    "    \"iterations\": 2000,\n",
    "    \"verbose\": 100,\n",
    "    \"max_depth\": 8,\n",
    "}\n",
    "\n",
    "cat = CatBoostClassifier(**params)"
   ]
  },
  {
   "cell_type": "code",
   "execution_count": null,
   "id": "cd6f9f04",
   "metadata": {
    "papermill": {
     "duration": 246.986491,
     "end_time": "2021-09-15T23:59:46.262957",
     "exception": false,
     "start_time": "2021-09-15T23:55:39.276466",
     "status": "completed"
    },
    "tags": []
   },
   "outputs": [],
   "source": [
    "cat.fit(X_train, y_train, eval_set=(X_val, y_val), use_best_model=True, plot=True)"
   ]
  },
  {
   "cell_type": "code",
   "execution_count": null,
   "id": "4cb58b6f",
   "metadata": {
    "papermill": {
     "duration": 0.330143,
     "end_time": "2021-09-15T23:59:46.654001",
     "exception": false,
     "start_time": "2021-09-15T23:59:46.323858",
     "status": "completed"
    },
    "tags": []
   },
   "outputs": [],
   "source": [
    "y_pred = cat.predict(data=X_test)\n",
    "print(classification_report(y_test, y_pred))"
   ]
  },
  {
   "cell_type": "code",
   "execution_count": null,
   "id": "36149570",
   "metadata": {
    "papermill": {
     "duration": 0.44593,
     "end_time": "2021-09-15T23:59:47.159038",
     "exception": false,
     "start_time": "2021-09-15T23:59:46.713108",
     "status": "completed"
    },
    "tags": []
   },
   "outputs": [],
   "source": [
    "for i, x in enumerate(list(X_train.columns)):\n",
    "    print(x, cat.get_feature_importance()[i])"
   ]
  },
  {
   "cell_type": "code",
   "execution_count": null,
   "id": "0e973770",
   "metadata": {
    "papermill": {
     "duration": 0.287212,
     "end_time": "2021-09-15T23:59:47.505531",
     "exception": false,
     "start_time": "2021-09-15T23:59:47.218319",
     "status": "completed"
    },
    "tags": []
   },
   "outputs": [],
   "source": [
    "#@title Feature Importances\n",
    "import matplotlib.pyplot as plt\n",
    "features = list(X_train.columns)\n",
    "importances = cat.feature_importances_\n",
    "indices = np.argsort(importances)\n",
    "\n",
    "plt.title('Feature Importances')\n",
    "plt.barh(range(len(indices)), importances[indices], color='b', align='center')\n",
    "plt.yticks(range(len(indices)), [features[i] for i in indices])\n",
    "plt.xlabel('Relative Importance')\n",
    "plt.show()"
   ]
  },
  {
   "cell_type": "markdown",
   "id": "ece1e42b",
   "metadata": {
    "papermill": {
     "duration": 0.060479,
     "end_time": "2021-09-15T23:59:47.626899",
     "exception": false,
     "start_time": "2021-09-15T23:59:47.566420",
     "status": "completed"
    },
    "tags": []
   },
   "source": [
    "# Apply to Test Data"
   ]
  },
  {
   "cell_type": "code",
   "execution_count": null,
   "id": "75565f0a",
   "metadata": {
    "papermill": {
     "duration": 0.067407,
     "end_time": "2021-09-15T23:59:47.754781",
     "exception": false,
     "start_time": "2021-09-15T23:59:47.687374",
     "status": "completed"
    },
    "tags": []
   },
   "outputs": [],
   "source": [
    "import pandas as pd"
   ]
  },
  {
   "cell_type": "code",
   "execution_count": null,
   "id": "86f2f107",
   "metadata": {
    "papermill": {
     "duration": 0.292795,
     "end_time": "2021-09-15T23:59:48.111527",
     "exception": false,
     "start_time": "2021-09-15T23:59:47.818732",
     "status": "completed"
    },
    "tags": []
   },
   "outputs": [],
   "source": [
    "df_test = pd.read_csv(\"../input/bpjshackathon2021/pacilgo.ArtificalIntelligence.FraudDetectVal/Fraud Detection/fraud_detection_val.csv\")"
   ]
  },
  {
   "cell_type": "code",
   "execution_count": null,
   "id": "8c9b4817",
   "metadata": {
    "papermill": {
     "duration": 0.071914,
     "end_time": "2021-09-15T23:59:48.244383",
     "exception": false,
     "start_time": "2021-09-15T23:59:48.172469",
     "status": "completed"
    },
    "tags": []
   },
   "outputs": [],
   "source": [
    "df_test[(df_test.umur > 90)].shape"
   ]
  },
  {
   "cell_type": "code",
   "execution_count": null,
   "id": "e3662c9e",
   "metadata": {
    "papermill": {
     "duration": 0.067953,
     "end_time": "2021-09-15T23:59:48.372644",
     "exception": false,
     "start_time": "2021-09-15T23:59:48.304691",
     "status": "completed"
    },
    "tags": []
   },
   "outputs": [],
   "source": [
    "new_imp = [x for x in imp if x!=\"label\"]"
   ]
  },
  {
   "cell_type": "code",
   "execution_count": null,
   "id": "1a4d8790",
   "metadata": {
    "papermill": {
     "duration": 0.097446,
     "end_time": "2021-09-15T23:59:48.531118",
     "exception": false,
     "start_time": "2021-09-15T23:59:48.433672",
     "status": "completed"
    },
    "tags": []
   },
   "outputs": [],
   "source": [
    "test = df_test[new_imp].copy()\n",
    "test[\"los_log\"] = np.log(test.los + 2)"
   ]
  },
  {
   "cell_type": "code",
   "execution_count": null,
   "id": "8f3ad76e",
   "metadata": {
    "papermill": {
     "duration": 32.873039,
     "end_time": "2021-09-16T00:00:21.464852",
     "exception": false,
     "start_time": "2021-09-15T23:59:48.591813",
     "status": "completed"
    },
    "tags": []
   },
   "outputs": [],
   "source": [
    "test2 = test.apply(lambda x: apply_row(x), axis=1)"
   ]
  },
  {
   "cell_type": "code",
   "execution_count": null,
   "id": "65a66fb5",
   "metadata": {
    "papermill": {
     "duration": 0.135235,
     "end_time": "2021-09-16T00:00:21.660858",
     "exception": false,
     "start_time": "2021-09-16T00:00:21.525623",
     "status": "completed"
    },
    "tags": []
   },
   "outputs": [],
   "source": [
    "test2[\"count_proc\"] = 0\n",
    "for col in proc_cols:\n",
    "    test2[\"count_proc\"] += test2[col]"
   ]
  },
  {
   "cell_type": "code",
   "execution_count": null,
   "id": "ffd5eef5",
   "metadata": {
    "papermill": {
     "duration": 0.084362,
     "end_time": "2021-09-16T00:00:21.806807",
     "exception": false,
     "start_time": "2021-09-16T00:00:21.722445",
     "status": "completed"
    },
    "tags": []
   },
   "outputs": [],
   "source": [
    "test2[\"count_dx2\"] = 0\n",
    "for col in dx2_cols:\n",
    "    test2[\"count_dx2\"] += test2[col]"
   ]
  },
  {
   "cell_type": "code",
   "execution_count": null,
   "id": "f013a597",
   "metadata": {
    "papermill": {
     "duration": 0.091762,
     "end_time": "2021-09-16T00:00:21.960641",
     "exception": false,
     "start_time": "2021-09-16T00:00:21.868879",
     "status": "completed"
    },
    "tags": []
   },
   "outputs": [],
   "source": [
    "test3 = test2.drop( drop_cols + proc_cols + dx2_cols, axis=1)"
   ]
  },
  {
   "cell_type": "code",
   "execution_count": null,
   "id": "f44d6629",
   "metadata": {
    "papermill": {
     "duration": 0.0761,
     "end_time": "2021-09-16T00:00:22.098539",
     "exception": false,
     "start_time": "2021-09-16T00:00:22.022439",
     "status": "completed"
    },
    "tags": []
   },
   "outputs": [],
   "source": [
    "test3 = test3.astype(astype_dict)"
   ]
  },
  {
   "cell_type": "code",
   "execution_count": null,
   "id": "bbeea60c",
   "metadata": {
    "papermill": {
     "duration": 0.664329,
     "end_time": "2021-09-16T00:00:22.824478",
     "exception": false,
     "start_time": "2021-09-16T00:00:22.160149",
     "status": "completed"
    },
    "tags": []
   },
   "outputs": [],
   "source": [
    "y_pred = cat.predict(data=test3)"
   ]
  },
  {
   "cell_type": "code",
   "execution_count": null,
   "id": "05cf1b1b",
   "metadata": {
    "papermill": {
     "duration": 0.088961,
     "end_time": "2021-09-16T00:00:22.975789",
     "exception": false,
     "start_time": "2021-09-16T00:00:22.886828",
     "status": "completed"
    },
    "tags": []
   },
   "outputs": [],
   "source": [
    "sub = pd.DataFrame({\"visit_id\": df_test.visit_id, \"predict_label\": y_pred})\n",
    "sub.head()"
   ]
  },
  {
   "cell_type": "code",
   "execution_count": null,
   "id": "8d0f03a2",
   "metadata": {
    "papermill": {
     "duration": 0.136458,
     "end_time": "2021-09-16T00:00:23.188433",
     "exception": false,
     "start_time": "2021-09-16T00:00:23.051975",
     "status": "completed"
    },
    "tags": []
   },
   "outputs": [],
   "source": [
    "sub.to_csv('submission.csv', index=False)"
   ]
  },
  {
   "cell_type": "markdown",
   "id": "c69323b6",
   "metadata": {
    "papermill": {
     "duration": 0.062939,
     "end_time": "2021-09-16T00:00:23.314177",
     "exception": false,
     "start_time": "2021-09-16T00:00:23.251238",
     "status": "completed"
    },
    "tags": []
   },
   "source": [
    "# Test 2 for data train 0.9"
   ]
  },
  {
   "cell_type": "code",
   "execution_count": null,
   "id": "626c1e69",
   "metadata": {
    "papermill": {
     "duration": 0.07299,
     "end_time": "2021-09-16T00:00:23.450367",
     "exception": false,
     "start_time": "2021-09-16T00:00:23.377377",
     "status": "completed"
    },
    "tags": []
   },
   "outputs": [],
   "source": [
    "# X_train, X_val, y_train, y_val = train_test_split(X, y, train_size=0.9, stratify=y, random_state=42)"
   ]
  },
  {
   "cell_type": "code",
   "execution_count": null,
   "id": "5d85f6b6",
   "metadata": {
    "papermill": {
     "duration": 0.067682,
     "end_time": "2021-09-16T00:00:23.579701",
     "exception": false,
     "start_time": "2021-09-16T00:00:23.512019",
     "status": "completed"
    },
    "tags": []
   },
   "outputs": [],
   "source": [
    "# from catboost import CatBoostClassifier\n",
    "\n",
    "# cat_features = [index for index, column in enumerate(X_train.columns) if X_train[column].dtype == \"object\"]\n",
    "# params = {\n",
    "#     \"loss_function\": \"CrossEntropy\",\n",
    "#     \"eval_metric\": \"Precision\",\n",
    "#     \"random_seed\": 42,\n",
    "#     \"task_type\": \"CPU\",\n",
    "#     \"cat_features\": cat_features,\n",
    "#     \"early_stopping_rounds\": 200,\n",
    "#     \"iterations\": 2000,\n",
    "#     \"verbose\": 100,\n",
    "# }\n",
    "\n",
    "# cat = CatBoostClassifier(**params)"
   ]
  },
  {
   "cell_type": "code",
   "execution_count": null,
   "id": "1c6a43d4",
   "metadata": {
    "papermill": {
     "duration": 0.070124,
     "end_time": "2021-09-16T00:00:23.711140",
     "exception": false,
     "start_time": "2021-09-16T00:00:23.641016",
     "status": "completed"
    },
    "tags": []
   },
   "outputs": [],
   "source": [
    "# cat.fit(X_train, y_train, eval_set=(X_val, y_val), use_best_model=True, plot=True)"
   ]
  },
  {
   "cell_type": "code",
   "execution_count": null,
   "id": "fc4d836d",
   "metadata": {
    "papermill": {
     "duration": 0.069522,
     "end_time": "2021-09-16T00:00:23.842627",
     "exception": false,
     "start_time": "2021-09-16T00:00:23.773105",
     "status": "completed"
    },
    "tags": []
   },
   "outputs": [],
   "source": [
    "# y_pred = cat.predict(data=X_val)\n",
    "# print(classification_report(y_val, y_pred))"
   ]
  },
  {
   "cell_type": "code",
   "execution_count": null,
   "id": "d0668f68",
   "metadata": {
    "papermill": {
     "duration": 0.068234,
     "end_time": "2021-09-16T00:00:23.972091",
     "exception": false,
     "start_time": "2021-09-16T00:00:23.903857",
     "status": "completed"
    },
    "tags": []
   },
   "outputs": [],
   "source": [
    "# X = df2.drop([\"label\", \"los\"] + proc_cols + dx2_cols, axis=1)\n",
    "# y = df2.label.copy()\n",
    "\n",
    "# # X = pd.get_dummies(X)"
   ]
  },
  {
   "cell_type": "code",
   "execution_count": null,
   "id": "119da26d",
   "metadata": {
    "papermill": {
     "duration": 0.067452,
     "end_time": "2021-09-16T00:00:24.100872",
     "exception": false,
     "start_time": "2021-09-16T00:00:24.033420",
     "status": "completed"
    },
    "tags": []
   },
   "outputs": [],
   "source": [
    "# X = X.astype({\"kdkc\": \"object\", \"dati2\": \"object\", \"encode_umur\": \"object\", \"severitylevel\": \"object\"})"
   ]
  },
  {
   "cell_type": "code",
   "execution_count": null,
   "id": "b86bae59",
   "metadata": {
    "papermill": {
     "duration": 0.068909,
     "end_time": "2021-09-16T00:00:24.231095",
     "exception": false,
     "start_time": "2021-09-16T00:00:24.162186",
     "status": "completed"
    },
    "tags": []
   },
   "outputs": [],
   "source": [
    "# from catboost import CatBoostClassifier\n",
    "\n",
    "# cat_features = [index for index, column in enumerate(X.columns) if X[column].dtype == \"object\"]\n",
    "# params = {\n",
    "#     \"loss_function\": \"CrossEntropy\",\n",
    "#     \"eval_metric\": \"F1\",\n",
    "#     \"random_seed\": 42,\n",
    "#     \"task_type\": \"CPU\",\n",
    "#     \"cat_features\": cat_features,\n",
    "#     \"early_stopping_rounds\": 200,\n",
    "#     \"iterations\": 1000,\n",
    "#     \"verbose\": 100,\n",
    "# }\n",
    "\n",
    "# cat = CatBoostClassifier(**params)\n",
    "\n",
    "# cv = RepeatedStratifiedKFold(n_splits=5, n_repeats=2, random_state=42)\n",
    "# score = cross_val_score(cat, X, y, scoring=\"precision\", cv=cv, n_jobs=-1)\n",
    "\n",
    "# print(score)"
   ]
  },
  {
   "cell_type": "markdown",
   "id": "43adf27c",
   "metadata": {},
   "source": [
    "## Preprocessing Data"
   ]
  },
  {
   "cell_type": "code",
   "execution_count": null,
   "id": "93f5cf8d",
   "metadata": {},
   "outputs": [],
   "source": [
    "# Mengubah kategori menjadi numerik\n",
    "from sklearn.preprocessing import LabelEncoder\n",
    "\n",
    "categorical_cols = ['typeppk', 'jkpst', 'cmg', 'diagprimer']\n",
    "encoder = LabelEncoder()\n",
    "\n",
    "for col in categorical_cols:\n",
    "    df[col] = encoder.fit_transform(df[col])\n",
    "\n",
    "# Cek data setelah transformasi\n",
    "df.head()"
   ]
  },
  {
   "cell_type": "markdown",
   "id": "7b2e83c7",
   "metadata": {},
   "source": [
    "## Split Data untuk Training dan Testing"
   ]
  },
  {
   "cell_type": "code",
   "execution_count": null,
   "id": "c30e4214",
   "metadata": {},
   "outputs": [],
   "source": [
    "from sklearn.model_selection import train_test_split\n",
    "\n",
    "X = df.drop(columns=['visit_id', 'label'])  # Drop ID yang tidak relevan\n",
    "y = df['label']\n",
    "\n",
    "X_train, X_test, y_train, y_test = train_test_split(X, y, test_size=0.2, random_state=42, stratify=y)\n",
    "\n",
    "# Cek distribusi data\n",
    "y_train.value_counts(normalize=True), y_test.value_counts(normalize=True)"
   ]
  },
  {
   "cell_type": "markdown",
   "id": "51b75a7f",
   "metadata": {},
   "source": [
    "## Training Model Machine Learning"
   ]
  },
  {
   "cell_type": "code",
   "execution_count": null,
   "id": "bd32f3ca",
   "metadata": {},
   "outputs": [],
   "source": [
    "from sklearn.ensemble import RandomForestClassifier\n",
    "from sklearn.metrics import accuracy_score, classification_report\n",
    "\n",
    "# Model Random Forest\n",
    "model = RandomForestClassifier(n_estimators=100, random_state=42)\n",
    "model.fit(X_train, y_train)\n",
    "\n",
    "# Prediksi\n",
    "y_pred = model.predict(X_test)\n",
    "\n",
    "# Evaluasi\n",
    "print(\"Accuracy:\", accuracy_score(y_test, y_pred))\n",
    "print(classification_report(y_test, y_pred))"
   ]
  }
 ],
 "metadata": {
  "kernelspec": {
   "display_name": "Python 3 (ipykernel)",
   "language": "python",
   "name": "python3"
  },
  "language_info": {
   "codemirror_mode": {
    "name": "ipython",
    "version": 3
   },
   "file_extension": ".py",
   "mimetype": "text/x-python",
   "name": "python",
   "nbconvert_exporter": "python",
   "pygments_lexer": "ipython3",
   "version": "3.12.6"
  },
  "papermill": {
   "default_parameters": {},
   "duration": 6167.085911,
   "end_time": "2021-09-16T00:00:25.804394",
   "environment_variables": {},
   "exception": null,
   "input_path": "__notebook__.ipynb",
   "output_path": "__notebook__.ipynb",
   "parameters": {},
   "start_time": "2021-09-15T22:17:38.718483",
   "version": "2.3.3"
  },
  "widgets": {
   "application/vnd.jupyter.widget-state+json": {
    "state": {
     "d0a4393bee234d3ea8233075b169faea": {
      "model_module": "catboost-widget",
      "model_module_version": "^1.0.0",
      "model_name": "CatboostWidgetModel",
      "state": {
       "_dom_classes": [],
       "_model_module": "catboost-widget",
       "_model_module_version": "^1.0.0",
       "_model_name": "CatboostWidgetModel",
       "_view_count": null,
       "_view_module": "catboost-widget",
       "_view_module_version": "^1.0.0",
       "_view_name": "CatboostWidgetView",
       "data": {
        "catboost_info": {
         "content": {
          "data": {
           "iterations": [
            {
             "iteration": 0,
             "learn": [
              0.6709007843,
              0.6881395709
             ],
             "passed_time": 0.2643802002,
             "remaining_time": 528.4960202,
             "test": [
              0.6770766259,
              0.6879958478
             ]
            },
            {
             "iteration": 1,
             "learn": [
              0.6596638655,
              0.6837281196
             ],
             "passed_time": 0.447740538,
             "remaining_time": 447.2927974,
             "test": [
              0.6641592078,
              0.6834762297
             ]
            },
            {
             "iteration": 2,
             "learn": [
              0.6617689811,
              0.6792337006
             ],
             "passed_time": 0.5946875873,
             "remaining_time": 395.863704,
             "test": [
              0.6651345399,
              0.6787933314
             ]
            },
            {
             "iteration": 3,
             "learn": [
              0.6603381325,
              0.6752522993
             ],
             "passed_time": 0.6963531562,
             "remaining_time": 347.4802249,
             "test": [
              0.6645641122,
              0.6747178442
             ]
            },
            {
             "iteration": 4,
             "learn": [
              0.6604653924,
              0.6716156891
             ],
             "passed_time": 0.8961525653,
             "remaining_time": 357.5648736,
             "test": [
              0.6637802607,
              0.6709330122
             ]
            },
            {
             "iteration": 5,
             "learn": [
              0.6609462634,
              0.6678004903
             ],
             "passed_time": 1.003564888,
             "remaining_time": 333.5180645,
             "test": [
              0.665654649,
              0.6670460095
             ]
            },
            {
             "iteration": 6,
             "learn": [
              0.6632567298,
              0.6642428646
             ],
             "passed_time": 1.124963409,
             "remaining_time": 320.2931533,
             "test": [
              0.6680296691,
              0.6633473684
             ]
            },
            {
             "iteration": 7,
             "learn": [
              0.6640902318,
              0.6608204515
             ],
             "passed_time": 1.219219154,
             "remaining_time": 303.5855694,
             "test": [
              0.6688856729,
              0.6598646329
             ]
            },
            {
             "iteration": 8,
             "learn": [
              0.6656025733,
              0.6577059688
             ],
             "passed_time": 1.330181902,
             "remaining_time": 294.2657964,
             "test": [
              0.6706534422,
              0.656677407
             ]
            },
            {
             "iteration": 9,
             "learn": [
              0.6660312573,
              0.6547113224
             ],
             "passed_time": 1.434206048,
             "remaining_time": 285.4070036,
             "test": [
              0.6709922919,
              0.6535270615
             ]
            },
            {
             "iteration": 10,
             "learn": [
              0.6668095005,
              0.6518103661
             ],
             "passed_time": 1.553144963,
             "remaining_time": 280.8368483,
             "test": [
              0.6716984807,
              0.6504820247
             ]
            },
            {
             "iteration": 11,
             "learn": [
              0.6673331789,
              0.6490572958
             ],
             "passed_time": 1.665201902,
             "remaining_time": 275.8684484,
             "test": [
              0.6726340236,
              0.6475999901
             ]
            },
            {
             "iteration": 12,
             "learn": [
              0.6711588973,
              0.6459702956
             ],
             "passed_time": 1.770458524,
             "remaining_time": 270.6077759,
             "test": [
              0.6776046738,
              0.644121148
             ]
            },
            {
             "iteration": 13,
             "learn": [
              0.6733060884,
              0.6430732812
             ],
             "passed_time": 1.864130721,
             "remaining_time": 264.440258,
             "test": [
              0.6795232096,
              0.6408790111
             ]
            },
            {
             "iteration": 14,
             "learn": [
              0.6779244017,
              0.6401913625
             ],
             "passed_time": 1.985869327,
             "remaining_time": 262.7967076,
             "test": [
              0.6846191646,
              0.6377112614
             ]
            },
            {
             "iteration": 15,
             "learn": [
              0.6792093977,
              0.6377235493
             ],
             "passed_time": 2.077862958,
             "remaining_time": 257.6550068,
             "test": [
              0.6851452119,
              0.634972138
             ]
            },
            {
             "iteration": 16,
             "learn": [
              0.6797618309,
              0.6352675102
             ],
             "passed_time": 2.204266719,
             "remaining_time": 257.1212297,
             "test": [
              0.6843798752,
              0.6321867597
             ]
            },
            {
             "iteration": 17,
             "learn": [
              0.6815666879,
              0.6330431194
             ],
             "passed_time": 2.31867878,
             "remaining_time": 255.3122968,
             "test": [
              0.6862495096,
              0.6297466928
             ]
            },
            {
             "iteration": 18,
             "learn": [
              0.6828464776,
              0.6307552971
             ],
             "passed_time": 2.459988515,
             "remaining_time": 256.486171,
             "test": [
              0.6874630978,
              0.6272869992
             ]
            },
            {
             "iteration": 19,
             "learn": [
              0.6840770409,
              0.6288019981
             ],
             "passed_time": 2.559574703,
             "remaining_time": 253.3978956,
             "test": [
              0.6892504931,
              0.6251498538
             ]
            },
            {
             "iteration": 20,
             "learn": [
              0.6846263014,
              0.6267714134
             ],
             "passed_time": 2.682861194,
             "remaining_time": 252.8277287,
             "test": [
              0.6892571767,
              0.6229068676
             ]
            },
            {
             "iteration": 21,
             "learn": [
              0.685150955,
              0.6247309924
             ],
             "passed_time": 2.808326003,
             "remaining_time": 252.4940379,
             "test": [
              0.6889523434,
              0.6205740641
             ]
            },
            {
             "iteration": 22,
             "learn": [
              0.6853123114,
              0.6228502894
             ],
             "passed_time": 2.925233371,
             "remaining_time": 251.4428858,
             "test": [
              0.6898116185,
              0.618539099
             ]
            },
            {
             "iteration": 23,
             "learn": [
              0.6856192767,
              0.6211519865
             ],
             "passed_time": 3.016566849,
             "remaining_time": 248.3640039,
             "test": [
              0.6903372565,
              0.6165962239
             ]
            },
            {
             "iteration": 24,
             "learn": [
              0.686860036,
              0.6189947839
             ],
             "passed_time": 3.141565712,
             "remaining_time": 248.1836913,
             "test": [
              0.6911459876,
              0.6142270063
             ]
            },
            {
             "iteration": 25,
             "learn": [
              0.6879360153,
              0.6171439949
             ],
             "passed_time": 3.244428528,
             "remaining_time": 246.3269967,
             "test": [
              0.6913823703,
              0.6121109356
             ]
            },
            {
             "iteration": 26,
             "learn": [
              0.6885140339,
              0.6155261701
             ],
             "passed_time": 3.338025487,
             "remaining_time": 243.9231217,
             "test": [
              0.692300089,
              0.610301841
             ]
            },
            {
             "iteration": 27,
             "learn": [
              0.68953922,
              0.6138169382
             ],
             "passed_time": 3.452209431,
             "remaining_time": 243.1341785,
             "test": [
              0.6938533109,
              0.6084110046
             ]
            },
            {
             "iteration": 28,
             "learn": [
              0.6900379747,
              0.612315109
             ],
             "passed_time": 3.543642891,
             "remaining_time": 240.845522,
             "test": [
              0.6948478218,
              0.6067157671
             ]
            },
            {
             "iteration": 29,
             "learn": [
              0.6904544994,
              0.6105872468
             ],
             "passed_time": 3.652341388,
             "remaining_time": 239.8370845,
             "test": [
              0.695786126,
              0.6047820379
             ]
            },
            {
             "iteration": 30,
             "learn": [
              0.6914828974,
              0.6087494686
             ],
             "passed_time": 3.759885205,
             "remaining_time": 238.8133538,
             "test": [
              0.6956521739,
              0.6025946352
             ]
            },
            {
             "iteration": 31,
             "learn": [
              0.6918698056,
              0.6070672333
             ],
             "passed_time": 3.847735319,
             "remaining_time": 236.6357221,
             "test": [
              0.6966481555,
              0.6005739092
             ]
            },
            {
             "iteration": 32,
             "learn": [
              0.6924800608,
              0.6054039457
             ],
             "passed_time": 3.94241542,
             "remaining_time": 234.9918525,
             "test": [
              0.6971886755,
              0.5986271046
             ]
            },
            {
             "iteration": 33,
             "learn": [
              0.6935060655,
              0.6037342553
             ],
             "passed_time": 4.065698253,
             "remaining_time": 235.0930225,
             "test": [
              0.6981225787,
              0.5967321345
             ]
            },
            {
             "iteration": 34,
             "learn": [
              0.6938625505,
              0.6023220802
             ],
             "passed_time": 4.16041255,
             "remaining_time": 233.5774475,
             "test": [
              0.6980795882,
              0.5950654346
             ]
            },
            {
             "iteration": 35,
             "learn": [
              0.6948522886,
              0.6007674006
             ],
             "passed_time": 4.299887483,
             "remaining_time": 234.5827505,
             "test": [
              0.6997226075,
              0.593409042
             ]
            },
            {
             "iteration": 36,
             "learn": [
              0.6953709575,
              0.599489346
             ],
             "passed_time": 4.392789379,
             "remaining_time": 233.0552852,
             "test": [
              0.7011608294,
              0.5918979507
             ]
            },
            {
             "iteration": 37,
             "learn": [
              0.6960731986,
              0.5982340355
             ],
             "passed_time": 4.512968705,
             "remaining_time": 233.0117,
             "test": [
              0.7012328495,
              0.5903642825
             ]
            },
            {
             "iteration": 38,
             "learn": [
              0.6966417863,
              0.5969737762
             ],
             "passed_time": 4.613022051,
             "remaining_time": 231.9522113,
             "test": [
              0.7019795086,
              0.5889990236
             ]
            },
            {
             "iteration": 39,
             "learn": [
              0.6968186557,
              0.5958354595
             ],
             "passed_time": 4.716173594,
             "remaining_time": 231.0925061,
             "test": [
              0.7018380527,
              0.587632309
             ]
            },
            {
             "iteration": 40,
             "learn": [
              0.6971628499,
              0.5948020543
             ],
             "passed_time": 4.807292011,
             "remaining_time": 229.6947573,
             "test": [
              0.7030815109,
              0.5863541087
             ]
            },
            {
             "iteration": 41,
             "learn": [
              0.6975017481,
              0.5936853026
             ],
             "passed_time": 4.91864023,
             "remaining_time": 229.3023231,
             "test": [
              0.7040349831,
              0.5850791481
             ]
            },
            {
             "iteration": 42,
             "learn": [
              0.6986372965,
              0.5926169847
             ],
             "passed_time": 5.058994187,
             "remaining_time": 230.243061,
             "test": [
              0.704665274,
              0.5838870097
             ]
            },
            {
             "iteration": 43,
             "learn": [
              0.6989214411,
              0.5915769834
             ],
             "passed_time": 5.190836177,
             "remaining_time": 230.7562628,
             "test": [
              0.7056130573,
              0.5826732294
             ]
            },
            {
             "iteration": 44,
             "learn": [
              0.6992155112,
              0.5906035983
             ],
             "passed_time": 5.284735238,
             "remaining_time": 229.5923865,
             "test": [
              0.705876494,
              0.5814470337
             ]
            },
            {
             "iteration": 45,
             "learn": [
              0.6995525984,
              0.5898209189
             ],
             "passed_time": 5.396314049,
             "remaining_time": 229.2260359,
             "test": [
              0.7062045613,
              0.5805713162
             ]
            },
            {
             "iteration": 46,
             "learn": [
              0.7005120106,
              0.5883668199
             ],
             "passed_time": 5.518483862,
             "remaining_time": 229.3106166,
             "test": [
              0.707232267,
              0.5786950452
             ]
            },
            {
             "iteration": 47,
             "learn": [
              0.7011209079,
              0.5872566435
             ],
             "passed_time": 5.619369149,
             "remaining_time": 228.5210121,
             "test": [
              0.7078707375,
              0.5773747704
             ]
            },
            {
             "iteration": 48,
             "learn": [
              0.7016424286,
              0.5861327779
             ],
             "passed_time": 5.717622683,
             "remaining_time": 227.6547317,
             "test": [
              0.7092079208,
              0.5760022332
             ]
            },
            {
             "iteration": 49,
             "learn": [
              0.7022943481,
              0.5849082973
             ],
             "passed_time": 5.81337657,
             "remaining_time": 226.7216862,
             "test": [
              0.7100316581,
              0.5744290094
             ]
            },
            {
             "iteration": 50,
             "learn": [
              0.7029447306,
              0.5837736841
             ],
             "passed_time": 5.92039082,
             "remaining_time": 226.2517982,
             "test": [
              0.7109637839,
              0.5729350262
             ]
            },
            {
             "iteration": 51,
             "learn": [
              0.7035750636,
              0.5828740182
             ],
             "passed_time": 6.028773305,
             "remaining_time": 225.847123,
             "test": [
              0.7118007511,
              0.5718317923
             ]
            },
            {
             "iteration": 52,
             "learn": [
              0.7038364732,
              0.5823297163
             ],
             "passed_time": 6.185127989,
             "remaining_time": 227.2159282,
             "test": [
              0.7117873728,
              0.5713131957
             ]
            },
            {
             "iteration": 53,
             "learn": [
              0.704081114,
              0.5817313208
             ],
             "passed_time": 6.346369214,
             "remaining_time": 228.7043424,
             "test": [
              0.7119984187,
              0.570791302
             ]
            },
            {
             "iteration": 54,
             "learn": [
              0.7046283239,
              0.5810330564
             ],
             "passed_time": 6.532733505,
             "remaining_time": 231.0212121,
             "test": [
              0.712633452,
              0.5700797354
             ]
            },
            {
             "iteration": 55,
             "learn": [
              0.704992378,
              0.5802894097
             ],
             "passed_time": 6.707367087,
             "remaining_time": 232.8414574,
             "test": [
              0.7128458498,
              0.5692624352
             ]
            },
            {
             "iteration": 56,
             "learn": [
              0.70533572,
              0.5795712182
             ],
             "passed_time": 6.824031622,
             "remaining_time": 232.6156744,
             "test": [
              0.7131698636,
              0.5685450805
             ]
            },
            {
             "iteration": 57,
             "learn": [
              0.7058450051,
              0.5786743357
             ],
             "passed_time": 6.998078736,
             "remaining_time": 234.3149811,
             "test": [
              0.7132280355,
              0.5673345128
             ]
            },
            {
             "iteration": 58,
             "learn": [
              0.7062473826,
              0.5780706912
             ],
             "passed_time": 7.140561035,
             "remaining_time": 234.9123554,
             "test": [
              0.7128341718,
              0.5666990446
             ]
            },
            {
             "iteration": 59,
             "learn": [
              0.7064957113,
              0.5771624607
             ],
             "passed_time": 7.309869837,
             "remaining_time": 236.3524581,
             "test": [
              0.7129210163,
              0.5656290037
             ]
            },
            {
             "iteration": 60,
             "learn": [
              0.7069859419,
              0.5764156028
             ],
             "passed_time": 7.412345005,
             "remaining_time": 235.6153601,
             "test": [
              0.7128275591,
              0.5646690056
             ]
            },
            {
             "iteration": 61,
             "learn": [
              0.7073105792,
              0.5756698977
             ],
             "passed_time": 7.526994908,
             "remaining_time": 235.2792925,
             "test": [
              0.7126346719,
              0.5636682655
             ]
            },
            {
             "iteration": 62,
             "learn": [
              0.7076439339,
              0.57510285
             ],
             "passed_time": 7.691440107,
             "remaining_time": 236.4812617,
             "test": [
              0.713991971,
              0.5629373233
             ]
            },
            {
             "iteration": 63,
             "learn": [
              0.7078601845,
              0.574511847
             ],
             "passed_time": 7.821574746,
             "remaining_time": 236.6026361,
             "test": [
              0.7148307572,
              0.562215707
             ]
            },
            {
             "iteration": 64,
             "learn": [
              0.7079736872,
              0.5740257842
             ],
             "passed_time": 7.987515528,
             "remaining_time": 237.782193,
             "test": [
              0.7154041887,
              0.5616495313
             ]
            },
            {
             "iteration": 65,
             "learn": [
              0.708221468,
              0.573536447
             ],
             "passed_time": 8.164637239,
             "remaining_time": 239.2486124,
             "test": [
              0.7151094605,
              0.5612240813
             ]
            },
            {
             "iteration": 66,
             "learn": [
              0.7082441724,
              0.572910026
             ],
             "passed_time": 8.317919576,
             "remaining_time": 239.9781872,
             "test": [
              0.7155559898,
              0.5603711336
             ]
            },
            {
             "iteration": 67,
             "learn": [
              0.7086165648,
              0.5724678032
             ],
             "passed_time": 8.489561922,
             "remaining_time": 241.2034358,
             "test": [
              0.7155273438,
              0.5599130019
             ]
            },
            {
             "iteration": 68,
             "learn": [
              0.7087383556,
              0.571929589
             ],
             "passed_time": 8.614870228,
             "remaining_time": 241.0915132,
             "test": [
              0.7155972263,
              0.5592508592
             ]
            },
            {
             "iteration": 69,
             "learn": [
              0.7090830866,
              0.5714858201
             ],
             "passed_time": 8.812399987,
             "remaining_time": 242.9704568,
             "test": [
              0.7158069558,
              0.5588787927
             ]
            },
            {
             "iteration": 70,
             "learn": [
              0.7091652117,
              0.5711378628
             ],
             "passed_time": 8.995156659,
             "remaining_time": 244.389538,
             "test": [
              0.715582894,
              0.5585740389
             ]
            },
            {
             "iteration": 71,
             "learn": [
              0.7092791062,
              0.5707256428
             ],
             "passed_time": 9.099987716,
             "remaining_time": 243.6774488,
             "test": [
              0.7158790725,
              0.5582274287
             ]
            },
            {
             "iteration": 72,
             "learn": [
              0.7093474115,
              0.570306196
             ],
             "passed_time": 9.257219964,
             "remaining_time": 244.3652448,
             "test": [
              0.7161884242,
              0.5578093045
             ]
            },
            {
             "iteration": 73,
             "learn": [
              0.7094292428,
              0.5697197795
             ],
             "passed_time": 9.422154591,
             "remaining_time": 245.2306722,
             "test": [
              0.716464607,
              0.5571158593
             ]
            },
            {
             "iteration": 74,
             "learn": [
              0.7099791443,
              0.5692343689
             ],
             "passed_time": 9.562837361,
             "remaining_time": 245.4461589,
             "test": [
              0.7170474517,
              0.5565043351
             ]
            },
            {
             "iteration": 75,
             "learn": [
              0.7104464399,
              0.5686538451
             ],
             "passed_time": 9.6777894,
             "remaining_time": 245.000879,
             "test": [
              0.7174826542,
              0.5557862091
             ]
            },
            {
             "iteration": 76,
             "learn": [
              0.7103397733,
              0.5683168282
             ],
             "passed_time": 9.851837057,
             "remaining_time": 246.0400345,
             "test": [
              0.7172958736,
              0.5554924561
             ]
            },
            {
             "iteration": 77,
             "learn": [
              0.7108442872,
              0.56780459
             ],
             "passed_time": 9.998710324,
             "remaining_time": 246.3784775,
             "test": [
              0.7171431359,
              0.554855532
             ]
            },
            {
             "iteration": 78,
             "learn": [
              0.7107995453,
              0.5674894339
             ],
             "passed_time": 10.16331705,
             "remaining_time": 247.1358488,
             "test": [
              0.7172831073,
              0.5544707339
             ]
            },
            {
             "iteration": 79,
             "learn": [
              0.7106606038,
              0.5671014897
             ],
             "passed_time": 10.2885167,
             "remaining_time": 246.9244007,
             "test": [
              0.7176459106,
              0.5540078079
             ]
            },
            {
             "iteration": 80,
             "learn": [
              0.7108816922,
              0.5668015795
             ],
             "passed_time": 10.45233444,
             "remaining_time": 247.6299973,
             "test": [
              0.7181339059,
              0.5537392576
             ]
            },
            {
             "iteration": 81,
             "learn": [
              0.7112842334,
              0.5663333399
             ],
             "passed_time": 10.57201827,
             "remaining_time": 247.2820858,
             "test": [
              0.7184541817,
              0.5530999878
             ]
            },
            {
             "iteration": 82,
             "learn": [
              0.7114082942,
              0.5659272837
             ],
             "passed_time": 10.7152409,
             "remaining_time": 247.4833349,
             "test": [
              0.7183689396,
              0.5525921529
             ]
            },
            {
             "iteration": 83,
             "learn": [
              0.7117710242,
              0.5655679036
             ],
             "passed_time": 10.85080269,
             "remaining_time": 247.5016422,
             "test": [
              0.7184361899,
              0.5521617011
             ]
            },
            {
             "iteration": 84,
             "learn": [
              0.7122279413,
              0.5651595279
             ],
             "passed_time": 10.95458772,
             "remaining_time": 246.8004175,
             "test": [
              0.7184636381,
              0.5515628454
             ]
            },
            {
             "iteration": 85,
             "learn": [
              0.7123363965,
              0.5648010536
             ],
             "passed_time": 11.055023,
             "remaining_time": 246.0385351,
             "test": [
              0.7186556259,
              0.551085265
             ]
            },
            {
             "iteration": 86,
             "learn": [
              0.7126264993,
              0.5643912166
             ],
             "passed_time": 11.21051665,
             "remaining_time": 246.5025097,
             "test": [
              0.7191613847,
              0.5505566528
             ]
            },
            {
             "iteration": 87,
             "learn": [
              0.7128266785,
              0.564062908
             ],
             "passed_time": 11.38616844,
             "remaining_time": 247.390387,
             "test": [
              0.7195514383,
              0.5502782248
             ]
            },
            {
             "iteration": 88,
             "learn": [
              0.7130198114,
              0.5636840506
             ],
             "passed_time": 11.54655754,
             "remaining_time": 247.9266456,
             "test": [
              0.7198830409,
              0.5498261792
             ]
            },
            {
             "iteration": 89,
             "learn": [
              0.7132864479,
              0.563303826
             ],
             "passed_time": 11.7181401,
             "remaining_time": 248.6849731,
             "test": [
              0.7203199688,
              0.5494292743
             ]
            },
            {
             "iteration": 90,
             "learn": [
              0.7133618508,
              0.5629736832
             ],
             "passed_time": 11.85584742,
             "remaining_time": 248.7122278,
             "test": [
              0.7198986058,
              0.5490353608
             ]
            },
            {
             "iteration": 91,
             "learn": [
              0.7134632418,
              0.5626954445
             ],
             "passed_time": 11.99148402,
             "remaining_time": 248.6929513,
             "test": [
              0.7195870264,
              0.5486662836
             ]
            },
            {
             "iteration": 92,
             "learn": [
              0.7135103678,
              0.5624758823
             ],
             "passed_time": 12.17557424,
             "remaining_time": 249.6647321,
             "test": [
              0.7194860814,
              0.5484819134
             ]
            },
            {
             "iteration": 93,
             "learn": [
              0.7136985608,
              0.5622180234
             ],
             "passed_time": 12.35808615,
             "remaining_time": 250.5799171,
             "test": [
              0.7202415741,
              0.5482828994
             ]
            },
            {
             "iteration": 94,
             "learn": [
              0.7137060073,
              0.5619571016
             ],
             "passed_time": 12.53121452,
             "remaining_time": 251.2838279,
             "test": [
              0.7201285422,
              0.5480326823
             ]
            },
            {
             "iteration": 95,
             "learn": [
              0.7139354415,
              0.5616788193
             ],
             "passed_time": 12.71813743,
             "remaining_time": 252.2430591,
             "test": [
              0.7202531646,
              0.5477981879
             ]
            },
            {
             "iteration": 96,
             "learn": [
              0.7139373571,
              0.5614278383
             ],
             "passed_time": 12.94142635,
             "remaining_time": 253.8921067,
             "test": [
              0.7205610207,
              0.5476058995
             ]
            },
            {
             "iteration": 97,
             "learn": [
              0.7141322617,
              0.5611861047
             ],
             "passed_time": 13.1171212,
             "remaining_time": 254.5792299,
             "test": [
              0.7202102804,
              0.5472824521
             ]
            },
            {
             "iteration": 98,
             "learn": [
              0.714347079,
              0.5609844137
             ],
             "passed_time": 13.25119285,
             "remaining_time": 254.4496728,
             "test": [
              0.7206943632,
              0.5471182279
             ]
            },
            {
             "iteration": 99,
             "learn": [
              0.7145418729,
              0.5606568238
             ],
             "passed_time": 13.41319999,
             "remaining_time": 254.8507998,
             "test": [
              0.7212380767,
              0.5468066492
             ]
            },
            {
             "iteration": 100,
             "learn": [
              0.7145761513,
              0.5603892784
             ],
             "passed_time": 13.53195704,
             "remaining_time": 254.4275884,
             "test": [
              0.7209686831,
              0.5464248662
             ]
            },
            {
             "iteration": 101,
             "learn": [
              0.7145489424,
              0.5601052748
             ],
             "passed_time": 13.67633021,
             "remaining_time": 254.4870072,
             "test": [
              0.7210930662,
              0.5461651727
             ]
            },
            {
             "iteration": 102,
             "learn": [
              0.714740231,
              0.5598552561
             ],
             "passed_time": 13.81412784,
             "remaining_time": 254.4213642,
             "test": [
              0.7206068268,
              0.5458411345
             ]
            },
            {
             "iteration": 103,
             "learn": [
              0.714985358,
              0.5596841964
             ],
             "passed_time": 13.99096256,
             "remaining_time": 255.0660098,
             "test": [
              0.7207426128,
              0.5457125465
             ]
            },
            {
             "iteration": 104,
             "learn": [
              0.7150126905,
              0.5594544067
             ],
             "passed_time": 14.12046975,
             "remaining_time": 254.8408589,
             "test": [
              0.720835357,
              0.5453669356
             ]
            },
            {
             "iteration": 105,
             "learn": [
              0.7149796243,
              0.5592404981
             ],
             "passed_time": 14.2843339,
             "remaining_time": 255.2314,
             "test": [
              0.7206096495,
              0.5452024349
             ]
            },
            {
             "iteration": 106,
             "learn": [
              0.7151112177,
              0.5590929797
             ],
             "passed_time": 14.45311989,
             "remaining_time": 255.6986537,
             "test": [
              0.7205354545,
              0.5450815938
             ]
            },
            {
             "iteration": 107,
             "learn": [
              0.7153059937,
              0.5588734599
             ],
             "passed_time": 14.62561107,
             "remaining_time": 256.2190384,
             "test": [
              0.7203883495,
              0.5448863739
             ]
            },
            {
             "iteration": 108,
             "learn": [
              0.7153746167,
              0.5586606649
             ],
             "passed_time": 14.74794241,
             "remaining_time": 255.8565055,
             "test": [
              0.7209437809,
              0.5446240162
             ]
            },
            {
             "iteration": 109,
             "learn": [
              0.7155299731,
              0.5584577443
             ],
             "passed_time": 14.90353505,
             "remaining_time": 256.0698295,
             "test": [
              0.7208466841,
              0.5443956956
             ]
            },
            {
             "iteration": 110,
             "learn": [
              0.7156722917,
              0.5582966458
             ],
             "passed_time": 15.09508097,
             "remaining_time": 256.8883599,
             "test": [
              0.7208895795,
              0.5442582606
             ]
            },
            {
             "iteration": 111,
             "learn": [
              0.715888865,
              0.5580472369
             ],
             "passed_time": 15.26725904,
             "remaining_time": 257.3623666,
             "test": [
              0.7211333204,
              0.5439875756
             ]
            },
            {
             "iteration": 112,
             "learn": [
              0.7160637197,
              0.5578004588
             ],
             "passed_time": 15.40276084,
             "remaining_time": 257.2124753,
             "test": [
              0.7207023671,
              0.5437161791
             ]
            },
            {
             "iteration": 113,
             "learn": [
              0.7160629345,
              0.5576353079
             ],
             "passed_time": 15.59818715,
             "remaining_time": 258.054219,
             "test": [
              0.7208580025,
              0.5435529022
             ]
            },
            {
             "iteration": 114,
             "learn": [
              0.7162000177,
              0.5573510967
             ],
             "passed_time": 15.74777458,
             "remaining_time": 258.1265659,
             "test": [
              0.720776699,
              0.5432836036
             ]
            },
            {
             "iteration": 115,
             "learn": [
              0.716519632,
              0.5570927819
             ],
             "passed_time": 15.86712348,
             "remaining_time": 257.703971,
             "test": [
              0.7208693121,
              0.5429946008
             ]
            },
            {
             "iteration": 116,
             "learn": [
              0.7165832061,
              0.5569241076
             ],
             "passed_time": 16.35230425,
             "remaining_time": 263.1742642,
             "test": [
              0.7211921173,
              0.5428578621
             ]
            },
            {
             "iteration": 117,
             "learn": [
              0.7163460326,
              0.5566927786
             ],
             "passed_time": 16.52640654,
             "remaining_time": 263.5821789,
             "test": [
              0.7211445199,
              0.5426432714
             ]
            },
            {
             "iteration": 118,
             "learn": [
              0.716456686,
              0.5565569366
             ],
             "passed_time": 16.67941193,
             "remaining_time": 263.646839,
             "test": [
              0.7213496219,
              0.5424913608
             ]
            },
            {
             "iteration": 119,
             "learn": [
              0.716464607,
              0.5563412395
             ],
             "passed_time": 16.85084559,
             "remaining_time": 263.996581,
             "test": [
              0.7215374163,
              0.5422600496
             ]
            },
            {
             "iteration": 120,
             "learn": [
              0.7168131535,
              0.5561868919
             ],
             "passed_time": 16.99768211,
             "remaining_time": 263.9557412,
             "test": [
              0.7217315345,
              0.5420299227
             ]
            },
            {
             "iteration": 121,
             "learn": [
              0.7169537327,
              0.5560818567
             ],
             "passed_time": 17.14876439,
             "remaining_time": 263.9785207,
             "test": [
              0.7217964885,
              0.5419551798
             ]
            },
            {
             "iteration": 122,
             "learn": [
              0.716862755,
              0.5559782116
             ],
             "passed_time": 17.34002052,
             "remaining_time": 264.6115326,
             "test": [
              0.7217964885,
              0.5418799858
             ]
            },
            {
             "iteration": 123,
             "learn": [
              0.7169094443,
              0.5557991358
             ],
             "passed_time": 17.51578434,
             "remaining_time": 264.9968663,
             "test": [
              0.7214784633,
              0.5417191435
             ]
            },
            {
             "iteration": 124,
             "learn": [
              0.7170907254,
              0.5555217907
             ],
             "passed_time": 17.65278043,
             "remaining_time": 264.7917064,
             "test": [
              0.7215484622,
              0.5413608496
             ]
            },
            {
             "iteration": 125,
             "learn": [
              0.7172345879,
              0.5553104188
             ],
             "passed_time": 17.81138948,
             "remaining_time": 264.9090785,
             "test": [
              0.7217964885,
              0.5410856767
             ]
            },
            {
             "iteration": 126,
             "learn": [
              0.7174772363,
              0.5551037
             ],
             "passed_time": 17.94021501,
             "remaining_time": 264.582856,
             "test": [
              0.721995729,
              0.5408130088
             ]
            },
            {
             "iteration": 127,
             "learn": [
              0.717631167,
              0.5548863562
             ],
             "passed_time": 18.08237612,
             "remaining_time": 264.4547508,
             "test": [
              0.7222222222,
              0.5405866596
             ]
            },
            {
             "iteration": 128,
             "learn": [
              0.717616613,
              0.5547159067
             ],
             "passed_time": 18.2209212,
             "remaining_time": 264.2739811,
             "test": [
              0.7225837785,
              0.540372515
             ]
            },
            {
             "iteration": 129,
             "learn": [
              0.7177852137,
              0.5545046255
             ],
             "passed_time": 18.38823948,
             "remaining_time": 264.5077525,
             "test": [
              0.7223840031,
              0.5401221613
             ]
            },
            {
             "iteration": 130,
             "learn": [
              0.7175940533,
              0.5543525194
             ],
             "passed_time": 18.57287587,
             "remaining_time": 264.982481,
             "test": [
              0.7222869346,
              0.5399948249
             ]
            },
            {
             "iteration": 131,
             "learn": [
              0.7178383428,
              0.5541826522
             ],
             "passed_time": 18.73565236,
             "remaining_time": 265.1378683,
             "test": [
              0.7222599748,
              0.5397927431
             ]
            },
            {
             "iteration": 132,
             "learn": [
              0.7178412763,
              0.5539847796
             ],
             "passed_time": 18.85961342,
             "remaining_time": 264.7435959,
             "test": [
              0.7222006598,
              0.5395642946
             ]
            },
            {
             "iteration": 133,
             "learn": [
              0.718008282,
              0.5537909119
             ],
             "passed_time": 19.01089691,
             "remaining_time": 264.7338332,
             "test": [
              0.7219526398,
              0.5393499527
             ]
            },
            {
             "iteration": 134,
             "learn": [
              0.7182646903,
              0.5536105568
             ],
             "passed_time": 19.14532329,
             "remaining_time": 264.4890958,
             "test": [
              0.7225512086,
              0.539161334
             ]
            },
            {
             "iteration": 135,
             "learn": [
              0.7183676562,
              0.5535385535
             ],
             "passed_time": 19.34544301,
             "remaining_time": 265.146366,
             "test": [
              0.7227617013,
              0.5391186975
             ]
            },
            {
             "iteration": 136,
             "learn": [
              0.7185372324,
              0.5533402236
             ],
             "passed_time": 19.50851541,
             "remaining_time": 265.28733,
             "test": [
              0.7230156417,
              0.5388486434
             ]
            },
            {
             "iteration": 137,
             "learn": [
              0.718620463,
              0.5531229966
             ],
             "passed_time": 19.64974982,
             "remaining_time": 265.1292331,
             "test": [
              0.7229020979,
              0.5385905946
             ]
            },
            {
             "iteration": 138,
             "learn": [
              0.7188143841,
              0.5529086059
             ],
             "passed_time": 19.79896678,
             "remaining_time": 265.0782531,
             "test": [
              0.7229290084,
              0.5383598073
             ]
            },
            {
             "iteration": 139,
             "learn": [
              0.7189091506,
              0.5528203178
             ],
             "passed_time": 19.97926039,
             "remaining_time": 265.4387452,
             "test": [
              0.7231336763,
              0.5383148953
             ]
            },
            {
             "iteration": 140,
             "learn": [
              0.7189767183,
              0.5526827233
             ],
             "passed_time": 20.19616341,
             "remaining_time": 266.2742395,
             "test": [
              0.7230634828,
              0.5381931303
             ]
            },
            {
             "iteration": 141,
             "learn": [
              0.7191193013,
              0.5525973503
             ],
             "passed_time": 20.37852035,
             "remaining_time": 266.642893,
             "test": [
              0.723085892,
              0.5381408473
             ]
            },
            {
             "iteration": 142,
             "learn": [
              0.7191051002,
              0.5525408326
             ],
             "passed_time": 20.54438736,
             "remaining_time": 266.7897015,
             "test": [
              0.7231665857,
              0.538117118
             ]
            },
            {
             "iteration": 143,
             "learn": [
              0.7191620627,
              0.5523961549
             ],
             "passed_time": 20.7251374,
             "remaining_time": 267.1239932,
             "test": [
              0.7233608548,
              0.5379402375
             ]
            },
            {
             "iteration": 144,
             "learn": [
              0.719162926,
              0.5523201685
             ],
             "passed_time": 20.89559685,
             "remaining_time": 267.3195321,
             "test": [
              0.7236151603,
              0.5378848556
             ]
            },
            {
             "iteration": 145,
             "learn": [
              0.7192463328,
              0.5523014086
             ],
             "passed_time": 20.96368351,
             "remaining_time": 266.2100632,
             "test": [
              0.7237123421,
              0.5378728462
             ]
            },
            {
             "iteration": 146,
             "learn": [
              0.719453122,
              0.5521348945
             ],
             "passed_time": 21.13367933,
             "remaining_time": 266.3993728,
             "test": [
              0.7234311249,
              0.5377097829
             ]
            },
            {
             "iteration": 147,
             "learn": [
              0.7198481013,
              0.5519703025
             ],
             "passed_time": 21.27952624,
             "remaining_time": 266.2816392,
             "test": [
              0.7240474339,
              0.5375182139
             ]
            },
            {
             "iteration": 148,
             "learn": [
              0.719866368,
              0.5518638141
             ],
             "passed_time": 21.46076704,
             "remaining_time": 266.6032201,
             "test": [
              0.7238900223,
              0.5374319691
             ]
            },
            {
             "iteration": 149,
             "learn": [
              0.7200926653,
              0.5517021429
             ],
             "passed_time": 21.63466983,
             "remaining_time": 266.8275946,
             "test": [
              0.723993778,
              0.5372843678
             ]
            },
            {
             "iteration": 150,
             "learn": [
              0.7201894102,
              0.5515779733
             ],
             "passed_time": 21.79263497,
             "remaining_time": 266.8515368,
             "test": [
              0.7244362364,
              0.5371776623
             ]
            },
            {
             "iteration": 151,
             "learn": [
              0.7203323286,
              0.5514353525
             ],
             "passed_time": 21.94984876,
             "remaining_time": 266.8639508,
             "test": [
              0.7242954325,
              0.5369782812
             ]
            },
            {
             "iteration": 152,
             "learn": [
              0.7203489624,
              0.5513402902
             ],
             "passed_time": 22.14686326,
             "remaining_time": 267.3546173,
             "test": [
              0.7241982507,
              0.5369023965
             ]
            },
            {
             "iteration": 153,
             "learn": [
              0.7203742862,
              0.5512614717
             ],
             "passed_time": 22.32885946,
             "remaining_time": 267.6563283,
             "test": [
              0.7241446345,
              0.5368507904
             ]
            },
            {
             "iteration": 154,
             "learn": [
              0.720391988,
              0.5511176767
             ],
             "passed_time": 22.50789936,
             "remaining_time": 267.9166085,
             "test": [
              0.7239871758,
              0.536760497
             ]
            },
            {
             "iteration": 155,
             "learn": [
              0.7203955282,
              0.5510032767
             ],
             "passed_time": 22.73532244,
             "remaining_time": 268.7431704,
             "test": [
              0.7237762238,
              0.5366775611
             ]
            },
            {
             "iteration": 156,
             "learn": [
              0.7205431561,
              0.5508489672
             ],
             "passed_time": 22.96924964,
             "remaining_time": 269.6326566,
             "test": [
              0.7235014087,
              0.5365207714
             ]
            },
            {
             "iteration": 157,
             "learn": [
              0.7206722306,
              0.5507575119
             ],
             "passed_time": 23.20834485,
             "remaining_time": 270.5681722,
             "test": [
              0.7238900223,
              0.5364525815
             ]
            },
            {
             "iteration": 158,
             "learn": [
              0.7205865593,
              0.550645131
             ],
             "passed_time": 23.45547066,
             "remaining_time": 271.5818961,
             "test": [
              0.7241814826,
              0.536402554
             ]
            },
            {
             "iteration": 159,
             "learn": [
              0.7206260367,
              0.5505960124
             ],
             "passed_time": 23.66105907,
             "remaining_time": 272.1021793,
             "test": [
              0.7239871758,
              0.5363727929
             ]
            },
            {
             "iteration": 160,
             "learn": [
              0.7207685293,
              0.5504304136
             ],
             "passed_time": 23.83399978,
             "remaining_time": 272.2405316,
             "test": [
              0.7240843292,
              0.5361415376
             ]
            },
            {
             "iteration": 161,
             "learn": [
              0.7208739709,
              0.5503431397
             ],
             "passed_time": 24.01931224,
             "remaining_time": 272.5154068,
             "test": [
              0.7240575204,
              0.5360927141
             ]
            },
            {
             "iteration": 162,
             "learn": [
              0.7209125572,
              0.5502730877
             ],
             "passed_time": 24.16507068,
             "remaining_time": 272.3388641,
             "test": [
              0.7241546832,
              0.5359930856
             ]
            },
            {
             "iteration": 163,
             "learn": [
              0.7209735455,
              0.5501387957
             ],
             "passed_time": 24.36619451,
             "remaining_time": 272.782519,
             "test": [
              0.7242618493,
              0.5358292022
             ]
            },
            {
             "iteration": 164,
             "learn": [
              0.7210312936,
              0.5500310173
             ],
             "passed_time": 24.48732291,
             "remaining_time": 272.3287124,
             "test": [
              0.7245264692,
              0.535716229
             ]
            },
            {
             "iteration": 165,
             "learn": [
              0.7211444646,
              0.5499350958
             ],
             "passed_time": 24.65744251,
             "remaining_time": 272.4201781,
             "test": [
              0.7244997086,
              0.5355859768
             ]
            },
            {
             "iteration": 166,
             "learn": [
              0.7213307985,
              0.5498124618
             ],
             "passed_time": 24.80726745,
             "remaining_time": 272.2857559,
             "test": [
              0.7244392659,
              0.5354669541
             ]
            },
            {
             "iteration": 167,
             "learn": [
              0.7212867587,
              0.5496941041
             ],
             "passed_time": 24.93248496,
             "remaining_time": 271.8828122,
             "test": [
              0.7246770904,
              0.5353635832
             ]
            },
            {
             "iteration": 168,
             "learn": [
              0.721320408,
              0.5495827489
             ],
             "passed_time": 25.14051424,
             "remaining_time": 272.3803643,
             "test": [
              0.7247840016,
              0.5352716433
             ]
            },
            {
             "iteration": 169,
             "learn": [
              0.7214371713,
              0.5495229257
             ],
             "passed_time": 25.32905733,
             "remaining_time": 272.6598524,
             "test": [
              0.7247207382,
              0.5352508529
             ]
            },
            {
             "iteration": 170,
             "learn": [
              0.7215855792,
              0.5493997617
             ],
             "passed_time": 25.45339211,
             "remaining_time": 272.2471004,
             "test": [
              0.7246404975,
              0.5350981196
             ]
            },
            {
             "iteration": 171,
             "learn": [
              0.721675751,
              0.5492399032
             ],
             "passed_time": 25.58529784,
             "remaining_time": 271.9181654,
             "test": [
              0.7249684374,
              0.5349153475
             ]
            },
            {
             "iteration": 172,
             "learn": [
              0.7216519667,
              0.5491661383
             ],
             "passed_time": 25.76839536,
             "remaining_time": 272.132129,
             "test": [
              0.7247911405,
              0.5348575775
             ]
            },
            {
             "iteration": 173,
             "learn": [
              0.7216794029,
              0.5490537287
             ],
             "passed_time": 25.91330492,
             "remaining_time": 271.9407747,
             "test": [
              0.7248445998,
              0.5346831493
             ]
            },
            {
             "iteration": 174,
             "learn": [
              0.7217441993,
              0.548865748
             ],
             "passed_time": 26.07411575,
             "remaining_time": 271.9157785,
             "test": [
              0.7250145546,
              0.5344990109
             ]
            },
            {
             "iteration": 175,
             "learn": [
              0.7217985101,
              0.5488084769
             ],
             "passed_time": 26.26457404,
             "remaining_time": 272.1964946,
             "test": [
              0.7251552795,
              0.5344565472
             ]
            },
            {
             "iteration": 176,
             "learn": [
              0.7217430949,
              0.5487200786
             ],
             "passed_time": 26.42559009,
             "remaining_time": 272.1686482,
             "test": [
              0.7246994959,
              0.5343635698
             ]
            },
            {
             "iteration": 177,
             "learn": [
              0.7218435655,
              0.5486259945
             ],
             "passed_time": 26.56630622,
             "remaining_time": 271.9315165,
             "test": [
              0.7249903063,
              0.5342593054
             ]
            },
            {
             "iteration": 178,
             "learn": [
              0.7218626097,
              0.5485723311
             ],
             "passed_time": 26.76048915,
             "remaining_time": 272.2393896,
             "test": [
              0.7251745539,
              0.5342227381
             ]
            },
            {
             "iteration": 179,
             "learn": [
              0.721947017,
              0.5484738958
             ],
             "passed_time": 26.91382831,
             "remaining_time": 272.1287085,
             "test": [
              0.7250339345,
              0.5341118097
             ]
            },
            {
             "iteration": 180,
             "learn": [
              0.7219434942,
              0.5484154117
             ],
             "passed_time": 27.1037872,
             "remaining_time": 272.3855741,
             "test": [
              0.7251308901,
              0.5340889125
             ]
            },
            {
             "iteration": 181,
             "learn": [
              0.7220758493,
              0.5482492023
             ],
             "passed_time": 27.26433357,
             "remaining_time": 272.3437276,
             "test": [
              0.7250072724,
              0.5339429402
             ]
            },
            {
             "iteration": 182,
             "learn": [
              0.7221785841,
              0.5481020871
             ],
             "passed_time": 27.42873155,
             "remaining_time": 272.3388264,
             "test": [
              0.7250872431,
              0.5337996962
             ]
            },
            {
             "iteration": 183,
             "learn": [
              0.7222370004,
              0.5479856093
             ],
             "passed_time": 27.57918473,
             "remaining_time": 272.1945623,
             "test": [
              0.7252544838,
              0.5336783822
             ]
            },
            {
             "iteration": 184,
             "learn": [
              0.7221863323,
              0.5479283115
             ],
             "passed_time": 27.77288128,
             "remaining_time": 272.4744839,
             "test": [
              0.7253077445,
              0.5336572452
             ]
            },
            {
             "iteration": 185,
             "learn": [
              0.7224650627,
              0.5478045346
             ],
             "passed_time": 27.9217247,
             "remaining_time": 272.3118742,
             "test": [
              0.72535143,
              0.5335193948
             ]
            },
            {
             "iteration": 186,
             "learn": [
              0.7225503118,
              0.5477205772
             ],
             "passed_time": 28.06658353,
             "remaining_time": 272.1107804,
             "test": [
              0.7254483762,
              0.5334230074
             ]
            },
            {
             "iteration": 187,
             "learn": [
              0.7225777023,
              0.5476715577
             ],
             "passed_time": 28.23722729,
             "remaining_time": 272.1588077,
             "test": [
              0.7255890623,
              0.533394171
             ]
            },
            {
             "iteration": 188,
             "learn": [
              0.72261858,
              0.5476048737
             ],
             "passed_time": 28.42873565,
             "remaining_time": 272.4044458,
             "test": [
              0.7254217568,
              0.5333454807
             ]
            },
            {
             "iteration": 189,
             "learn": [
              0.7226658555,
              0.5475413672
             ],
             "passed_time": 28.59317183,
             "remaining_time": 272.3875843,
             "test": [
              0.7255015993,
              0.5332845623
             ]
            },
            {
             "iteration": 190,
             "learn": [
              0.7228300141,
              0.5474191175
             ],
             "passed_time": 28.76859691,
             "remaining_time": 272.4732555,
             "test": [
              0.7257469926,
              0.5331315229
             ]
            },
            {
             "iteration": 191,
             "learn": [
              0.722909432,
              0.5473342358
             ],
             "passed_time": 28.94000322,
             "remaining_time": 272.5183636,
             "test": [
              0.7256233628,
              0.5330705246
             ]
            },
            {
             "iteration": 192,
             "learn": [
              0.7229405948,
              0.5472417091
             ],
             "passed_time": 29.08930301,
             "remaining_time": 272.3542515,
             "test": [
              0.7255092144,
              0.5329678545
             ]
            },
            {
             "iteration": 193,
             "learn": [
              0.7230702911,
              0.547126459
             ],
             "passed_time": 29.23375031,
             "remaining_time": 272.1451188,
             "test": [
              0.7257908015,
              0.5328327961
             ]
            },
            {
             "iteration": 194,
             "learn": [
              0.7231075445,
              0.5470733454
             ],
             "passed_time": 29.35224451,
             "remaining_time": 271.6964171,
             "test": [
              0.7257469926,
              0.5328041305
             ]
            },
            {
             "iteration": 195,
             "learn": [
              0.7230531332,
              0.5470058331
             ],
             "passed_time": 29.5113884,
             "remaining_time": 271.625228,
             "test": [
              0.7256860273,
              0.5327578058
             ]
            },
            {
             "iteration": 196,
             "learn": [
              0.7231771626,
              0.5469330182
             ],
             "passed_time": 29.69248123,
             "remaining_time": 271.7540287,
             "test": [
              0.7256688639,
              0.5326966965
             ]
            },
            {
             "iteration": 197,
             "learn": [
              0.7232467648,
              0.546865932
             ],
             "passed_time": 29.82379654,
             "remaining_time": 271.4266735,
             "test": [
              0.7255015993,
              0.5326505436
             ]
            },
            {
             "iteration": 198,
             "learn": [
              0.7232826362,
              0.546827974
             ],
             "passed_time": 29.97891193,
             "remaining_time": 271.3166854,
             "test": [
              0.7256422685,
              0.532641319
             ]
            },
            {
             "iteration": 199,
             "learn": [
              0.7233918499,
              0.5467127696
             ],
             "passed_time": 30.14381605,
             "remaining_time": 271.2943444,
             "test": [
              0.7257564003,
              0.5325359694
             ]
            },
            {
             "iteration": 200,
             "learn": [
              0.7234501211,
              0.5465962147
             ],
             "passed_time": 30.30948865,
             "remaining_time": 271.2774631,
             "test": [
              0.7255092144,
              0.5323802228
             ]
            },
            {
             "iteration": 201,
             "learn": [
              0.7236201299,
              0.5464802014
             ],
             "passed_time": 30.47733734,
             "remaining_time": 271.278478,
             "test": [
              0.7254217568,
              0.5322401898
             ]
            },
            {
             "iteration": 202,
             "learn": [
              0.723646832,
              0.5464024035
             ],
             "passed_time": 30.63430136,
             "remaining_time": 271.1814756,
             "test": [
              0.7255015993,
              0.5321576645
             ]
            },
            {
             "iteration": 203,
             "learn": [
              0.723672196,
              0.546362334
             ],
             "passed_time": 30.78367696,
             "remaining_time": 271.0170776,
             "test": [
              0.7254046719,
              0.5321382964
             ]
            },
            {
             "iteration": 204,
             "learn": [
              0.7237142422,
              0.5462859262
             ],
             "passed_time": 30.97078568,
             "remaining_time": 271.1832209,
             "test": [
              0.7253439256,
              0.5320926931
             ]
            },
            {
             "iteration": 205,
             "learn": [
              0.7236907162,
              0.546195336
             ],
             "passed_time": 31.17305316,
             "remaining_time": 271.4779484,
             "test": [
              0.7255110939,
              0.5320318005
             ]
            },
            {
             "iteration": 206,
             "learn": [
              0.7236615291,
              0.5461213419
             ],
             "passed_time": 31.36336462,
             "remaining_time": 271.6643129,
             "test": [
              0.7254674029,
              0.5319733291
             ]
            },
            {
             "iteration": 207,
             "learn": [
              0.7237707723,
              0.5460521822
             ],
             "passed_time": 31.53407912,
             "remaining_time": 271.6782201,
             "test": [
              0.725564274,
              0.531902246
             ]
            },
            {
             "iteration": 208,
             "learn": [
              0.7237541044,
              0.546008723
             ],
             "passed_time": 31.70992469,
             "remaining_time": 271.7343307,
             "test": [
              0.7255471625,
              0.531886167
             ]
            },
            {
             "iteration": 209,
             "learn": [
              0.7238550489,
              0.5459075129
             ],
             "passed_time": 31.89409796,
             "remaining_time": 271.8592159,
             "test": [
              0.7254332462,
              0.5318101982
             ]
            },
            {
             "iteration": 210,
             "learn": [
              0.7240295139,
              0.545800041
             ],
             "passed_time": 32.06458712,
             "remaining_time": 271.8651486,
             "test": [
              0.7254864002,
              0.531744953
             ]
            },
            {
             "iteration": 211,
             "learn": [
              0.7240518203,
              0.5457056429
             ],
             "passed_time": 32.26419725,
             "remaining_time": 272.1150221,
             "test": [
              0.7257142857,
              0.5316575452
             ]
            },
            {
             "iteration": 212,
             "learn": [
              0.7240789107,
              0.5456210352
             ],
             "passed_time": 32.40707789,
             "remaining_time": 271.8847333,
             "test": [
              0.7254427562,
              0.531559202
             ]
            },
            {
             "iteration": 213,
             "learn": [
              0.7241934462,
              0.5455564786
             ],
             "passed_time": 32.58811789,
             "remaining_time": 271.9737315,
             "test": [
              0.7256363108,
              0.5315266853
             ]
            },
            {
             "iteration": 214,
             "learn": [
              0.7241156415,
              0.5454519127
             ],
             "passed_time": 32.77165628,
             "remaining_time": 272.0809603,
             "test": [
              0.7255584566,
              0.5314523868
             ]
            },
            {
             "iteration": 215,
             "learn": [
              0.7241715894,
              0.5454244466
             ],
             "passed_time": 32.9410977,
             "remaining_time": 272.0690662,
             "test": [
              0.7255755465,
              0.5314374674
             ]
            },
            {
             "iteration": 216,
             "learn": [
              0.7243381682,
              0.545324897
             ],
             "passed_time": 33.14138646,
             "remaining_time": 272.30918,
             "test": [
              0.7256286267,
              0.5313540732
             ]
            },
            {
             "iteration": 217,
             "learn": [
              0.7244260196,
              0.5452832272
             ],
             "passed_time": 33.31613042,
             "remaining_time": 272.3364423,
             "test": [
              0.725478816,
              0.531340527
             ]
            },
            {
             "iteration": 218,
             "learn": [
              0.7244671544,
              0.5452089809
             ],
             "passed_time": 33.49925733,
             "remaining_time": 272.4300333,
             "test": [
              0.725672277,
              0.5312671575
             ]
            },
            {
             "iteration": 219,
             "learn": [
              0.7244750456,
              0.5451535839
             ],
             "passed_time": 33.67164479,
             "remaining_time": 272.4342169,
             "test": [
              0.7257955315,
              0.5312355917
             ]
            },
            {
             "iteration": 220,
             "learn": [
              0.724469744,
              0.5450892277
             ],
             "passed_time": 33.82500345,
             "remaining_time": 272.2836251,
             "test": [
              0.7258922526,
              0.5311779015
             ]
            },
            {
             "iteration": 221,
             "learn": [
              0.7245991,
              0.5450273642
             ],
             "passed_time": 34.00560481,
             "remaining_time": 272.3511952,
             "test": [
              0.7259624686,
              0.5311506748
             ]
            },
            {
             "iteration": 222,
             "learn": [
              0.7246139804,
              0.5449861165
             ],
             "passed_time": 34.18837697,
             "remaining_time": 272.433838,
             "test": [
              0.725848564,
              0.5311122406
             ]
            },
            {
             "iteration": 223,
             "learn": [
              0.7247220215,
              0.5449398941
             ],
             "passed_time": 34.40143696,
             "remaining_time": 272.7542502,
             "test": [
              0.7259889738,
              0.5310778803
             ]
            },
            {
             "iteration": 224,
             "learn": [
              0.7246042509,
              0.5448739545
             ],
             "passed_time": 34.60567825,
             "remaining_time": 273.0003506,
             "test": [
              0.7258750725,
              0.5309962518
             ]
            },
            {
             "iteration": 225,
             "learn": [
              0.7245724572,
              0.544787656
             ],
             "passed_time": 34.78361986,
             "remaining_time": 273.0360249,
             "test": [
              0.7258657381,
              0.5309158234
             ]
            },
            {
             "iteration": 226,
             "learn": [
              0.7245952354,
              0.5447589914
             ],
             "passed_time": 34.91718862,
             "remaining_time": 272.7232398,
             "test": [
              0.7259452664,
              0.5308933748
             ]
            },
            {
             "iteration": 227,
             "learn": [
              0.7246691009,
              0.5446586501
             ],
             "passed_time": 35.10244315,
             "remaining_time": 272.8137248,
             "test": [
              0.7257347254,
              0.5308729126
             ]
            },
            {
             "iteration": 228,
             "learn": [
              0.7246808565,
              0.5446176699
             ],
             "passed_time": 35.24883599,
             "remaining_time": 272.60126,
             "test": [
              0.7257783794,
              0.5308537011
             ]
            },
            {
             "iteration": 229,
             "learn": [
              0.7247686652,
              0.5445800957
             ],
             "passed_time": 35.42416236,
             "remaining_time": 272.6120321,
             "test": [
              0.7260856949,
              0.5308330203
             ]
            },
            {
             "iteration": 230,
             "learn": [
              0.7248748336,
              0.5444954913
             ],
             "passed_time": 35.6440415,
             "remaining_time": 272.9623784,
             "test": [
              0.7262261778,
              0.5307314653
             ]
            },
            {
             "iteration": 231,
             "learn": [
              0.7249331254,
              0.5444477601
             ],
             "passed_time": 35.77093093,
             "remaining_time": 272.5991633,
             "test": [
              0.7262964396,
              0.530667521
             ]
            },
            {
             "iteration": 232,
             "learn": [
              0.7250148966,
              0.5443559441
             ],
             "passed_time": 35.96455858,
             "remaining_time": 272.7440987,
             "test": [
              0.7264808362,
              0.5306183763
             ]
            },
            {
             "iteration": 233,
             "learn": [
              0.7250263081,
              0.544314509
             ],
             "passed_time": 36.12442789,
             "remaining_time": 272.6313661,
             "test": [
              0.7265073067,
              0.5306152425
             ]
            },
            {
             "iteration": 234,
             "learn": [
              0.725079856,
              0.5442605026
             ],
             "passed_time": 36.30508503,
             "remaining_time": 272.674362,
             "test": [
              0.7265776229,
              0.5306120295
             ]
            },
            {
             "iteration": 235,
             "learn": [
              0.7250148891,
              0.5441950564
             ],
             "passed_time": 36.49171033,
             "remaining_time": 272.7600721,
             "test": [
              0.7267182962,
              0.5305882706
             ]
            },
            {
             "iteration": 236,
             "learn": [
              0.7250228102,
              0.5441060884
             ],
             "passed_time": 36.68334135,
             "remaining_time": 272.8807207,
             "test": [
              0.7269733656,
              0.5305246021
             ]
            },
            {
             "iteration": 237,
             "learn": [
              0.7250560787,
              0.5440776307
             ],
             "passed_time": 36.84914686,
             "remaining_time": 272.8075495,
             "test": [
              0.7270262419,
              0.5305084685
             ]
            },
            {
             "iteration": 238,
             "learn": [
              0.7251181831,
              0.5440239621
             ],
             "passed_time": 37.05222005,
             "remaining_time": 273.0081988,
             "test": [
              0.7267971323,
              0.530481056
             ]
            },
            {
             "iteration": 239,
             "learn": [
              0.7251723614,
              0.5439470594
             ],
             "passed_time": 37.26475195,
             "remaining_time": 273.2748477,
             "test": [
              0.7268500581,
              0.5304253394
             ]
            },
            {
             "iteration": 240,
             "learn": [
              0.7251615355,
              0.5438840033
             ],
             "passed_time": 37.43870018,
             "remaining_time": 273.2559071,
             "test": [
              0.7268325748,
              0.530395699
             ]
            },
            {
             "iteration": 241,
             "learn": [
              0.7251979978,
              0.5438190227
             ],
             "passed_time": 37.64478222,
             "remaining_time": 273.4691204,
             "test": [
              0.7267357413,
              0.530324251
             ]
            },
            {
             "iteration": 242,
             "learn": [
              0.7251570893,
              0.5437777954
             ],
             "passed_time": 37.82382499,
             "remaining_time": 273.4833766,
             "test": [
              0.7269204689,
              0.5303035897
             ]
            },
            {
             "iteration": 243,
             "learn": [
              0.7252410333,
              0.5437435583
             ],
             "passed_time": 37.98961942,
             "remaining_time": 273.4007037,
             "test": [
              0.7268500581,
              0.5302963614
             ]
            },
            {
             "iteration": 244,
             "learn": [
              0.7253327592,
              0.5436845143
             ],
             "passed_time": 38.23728721,
             "remaining_time": 273.9038329,
             "test": [
              0.7269733656,
              0.5302686551
             ]
            },
            {
             "iteration": 245,
             "learn": [
              0.7252950413,
              0.5436017489
             ],
             "passed_time": 38.42035057,
             "remaining_time": 273.9402232,
             "test": [
              0.7263931889,
              0.5302074319
             ]
            },
            {
             "iteration": 246,
             "learn": [
              0.7254425283,
              0.5435091799
             ],
             "passed_time": 38.61864347,
             "remaining_time": 274.0829231,
             "test": [
              0.7262088975,
              0.5301420846
             ]
            },
            {
             "iteration": 247,
             "learn": [
              0.7253541632,
              0.5434412278
             ],
             "passed_time": 38.762743,
             "remaining_time": 273.8400231,
             "test": [
              0.7260591991,
              0.5300455912
             ]
            },
            {
             "iteration": 248,
             "learn": [
              0.7254082795,
              0.5433522355
             ],
             "passed_time": 38.9168746,
             "remaining_time": 273.6684636,
             "test": [
              0.7262261778,
              0.5299906826
             ]
            },
            {
             "iteration": 249,
             "learn": [
              0.7254196946,
              0.5432777829
             ],
             "passed_time": 39.01875576,
             "remaining_time": 273.1312903,
             "test": [
              0.7263758584,
              0.5298829027
             ]
            },
            {
             "iteration": 250,
             "learn": [
              0.7255038485,
              0.5432357737
             ],
             "passed_time": 39.1902225,
             "remaining_time": 273.0824668,
             "test": [
              0.7264461211,
              0.5298561145
             ]
            },
            {
             "iteration": 251,
             "learn": [
              0.725522218,
              0.5431751608
             ],
             "passed_time": 39.40405246,
             "remaining_time": 273.3265226,
             "test": [
              0.7263056093,
              0.5298339605
             ]
            },
            {
             "iteration": 252,
             "learn": [
              0.7255145179,
              0.5431183381
             ],
             "passed_time": 39.58761915,
             "remaining_time": 273.3579868,
             "test": [
              0.7264899381,
              0.5298003624
             ]
            },
            {
             "iteration": 253,
             "learn": [
              0.7256306723,
              0.5430790604
             ],
             "passed_time": 39.76329338,
             "remaining_time": 273.3335049,
             "test": [
              0.7262964396,
              0.5297897576
             ]
            },
            {
             "iteration": 254,
             "learn": [
              0.72570394,
              0.5429702856
             ],
             "passed_time": 39.93962406,
             "remaining_time": 273.3123294,
             "test": [
              0.7264543607,
              0.5296969026
             ]
            },
            {
             "iteration": 255,
             "learn": [
              0.7257488669,
              0.5429154599
             ],
             "passed_time": 40.10735813,
             "remaining_time": 273.2313773,
             "test": [
              0.7264105294,
              0.5296704334
             ]
            },
            {
             "iteration": 256,
             "learn": [
              0.7258395381,
              0.5428659014
             ],
             "passed_time": 40.26273885,
             "remaining_time": 273.0659682,
             "test": [
              0.7264543607,
              0.5296187256
             ]
            },
            {
             "iteration": 257,
             "learn": [
              0.7259212359,
              0.5427921858
             ],
             "passed_time": 40.40955847,
             "remaining_time": 272.8428328,
             "test": [
              0.7260856949,
              0.5295594563
             ]
            },
            {
             "iteration": 258,
             "learn": [
              0.725905102,
              0.5427480012
             ],
             "passed_time": 40.604143,
             "remaining_time": 272.9413628,
             "test": [
              0.7262872629,
              0.5295563382
             ]
            },
            {
             "iteration": 259,
             "learn": [
              0.725913453,
              0.5426852108
             ],
             "passed_time": 40.73584086,
             "remaining_time": 272.6167811,
             "test": [
              0.7261467002,
              0.529492552
             ]
            },
            {
             "iteration": 260,
             "learn": [
              0.7259906317,
              0.5426231559
             ],
             "passed_time": 40.93947482,
             "remaining_time": 272.7729759,
             "test": [
              0.7263931889,
              0.5294348068
             ]
            },
            {
             "iteration": 261,
             "learn": [
              0.7260031148,
              0.5425565621
             ],
             "passed_time": 41.10740274,
             "remaining_time": 272.6895647,
             "test": [
              0.7261294379,
              0.5293494241
             ]
            },
            {
             "iteration": 262,
             "learn": [
              0.7260123072,
              0.5425229553
             ],
             "passed_time": 41.2685733,
             "remaining_time": 272.5608814,
             "test": [
              0.7262261778,
              0.5293445518
             ]
            },
            {
             "iteration": 263,
             "learn": [
              0.7260343343,
              0.5424541248
             ],
             "passed_time": 41.44481864,
             "remaining_time": 272.5310801,
             "test": [
              0.7265073067,
              0.5292878581
             ]
            },
            {
             "iteration": 264,
             "learn": [
              0.7260990089,
              0.5423773148
             ],
             "passed_time": 41.67179464,
             "remaining_time": 272.8323158,
             "test": [
              0.7267182962,
              0.5292391726
             ]
            },
            {
             "iteration": 265,
             "learn": [
              0.726032425,
              0.5422802227
             ],
             "passed_time": 41.85811515,
             "remaining_time": 272.8645551,
             "test": [
              0.7264105294,
              0.5291568785
             ]
            },
            {
             "iteration": 266,
             "learn": [
              0.7260235842,
              0.542174458
             ],
             "passed_time": 42.04818648,
             "remaining_time": 272.9195025,
             "test": [
              0.7258750725,
              0.529062991
             ]
            },
            {
             "iteration": 267,
             "learn": [
              0.7260693495,
              0.5421267901
             ],
             "passed_time": 42.17867647,
             "remaining_time": 272.5875658,
             "test": [
              0.7264370041,
              0.5290180748
             ]
            },
            {
             "iteration": 268,
             "learn": [
              0.7261270608,
              0.54203973
             ],
             "passed_time": 42.3208921,
             "remaining_time": 272.3325807,
             "test": [
              0.7261916272,
              0.5289382438
             ]
            },
            {
             "iteration": 269,
             "learn": [
              0.7262270812,
              0.5420146859
             ],
             "passed_time": 42.52098886,
             "remaining_time": 272.449299,
             "test": [
              0.7262180974,
              0.5289314947
             ]
            },
            {
             "iteration": 270,
             "learn": [
              0.7262892859,
              0.5419646775
             ],
             "passed_time": 42.72538298,
             "remaining_time": 272.5910966,
             "test": [
              0.7263147718,
              0.5289051416
             ]
            },
            {
             "iteration": 271,
             "learn": [
              0.7262606584,
              0.5419553155
             ],
             "passed_time": 42.87348858,
             "remaining_time": 272.372751,
             "test": [
              0.7261041848,
              0.5289032405
             ]
            },
            {
             "iteration": 272,
             "learn": [
              0.7263698587,
              0.541904393
             ],
             "passed_time": 43.07039444,
             "remaining_time": 272.4636308,
             "test": [
              0.7265957447,
              0.528883973
             ]
            },
            {
             "iteration": 273,
             "learn": [
              0.7263490858,
              0.5418821797
             ],
             "passed_time": 43.24603618,
             "remaining_time": 272.4184615,
             "test": [
              0.7266660219,
              0.5288809396
             ]
            },
            {
             "iteration": 274,
             "learn": [
              0.7263799954,
              0.5418319998
             ],
             "passed_time": 43.43680596,
             "remaining_time": 272.4672374,
             "test": [
              0.7263493906,
              0.5288671155
             ]
            },
            {
             "iteration": 275,
             "learn": [
              0.7264755011,
              0.5417534917
             ],
             "passed_time": 43.619353,
             "remaining_time": 272.4629151,
             "test": [
              0.7266569908,
              0.5288237643
             ]
            },
            {
             "iteration": 276,
             "learn": [
              0.7264215401,
              0.5416862902
             ],
             "passed_time": 43.78398253,
             "remaining_time": 272.3458552,
             "test": [
              0.7265866873,
              0.5287508931
             ]
            },
            {
             "iteration": 277,
             "learn": [
              0.7264721512,
              0.5416373942
             ],
             "passed_time": 43.92833844,
             "remaining_time": 272.1028734,
             "test": [
              0.7262791372,
              0.5286879195
             ]
            },
            {
             "iteration": 278,
             "learn": [
              0.7265019993,
              0.5416061179
             ],
             "passed_time": 44.07821587,
             "remaining_time": 271.8946578,
             "test": [
              0.7264899381,
              0.5286742615
             ]
            },
            {
             "iteration": 279,
             "learn": [
              0.7266169752,
              0.5415279199
             ],
             "passed_time": 44.22694665,
             "remaining_time": 271.6798151,
             "test": [
              0.7264378927,
              0.5286064389
             ]
            },
            {
             "iteration": 280,
             "learn": [
              0.7265594351,
              0.5414782015
             ],
             "passed_time": 44.39169883,
             "remaining_time": 271.563453,
             "test": [
              0.726762743,
              0.52857678
             ]
            },
            {
             "iteration": 281,
             "learn": [
              0.7265619069,
              0.5413841337
             ],
             "passed_time": 44.56646664,
             "remaining_time": 271.5077649,
             "test": [
              0.7268330431,
              0.5285112945
             ]
            },
            {
             "iteration": 282,
             "learn": [
              0.7265045916,
              0.5413272069
             ],
             "passed_time": 44.74396871,
             "remaining_time": 271.4678243,
             "test": [
              0.7269033569,
              0.5284735009
             ]
            },
            {
             "iteration": 283,
             "learn": [
              0.7265940351,
              0.5412725298
             ],
             "passed_time": 44.91785846,
             "remaining_time": 271.4050885,
             "test": [
              0.7269033569,
              0.528420644
             ]
            },
            {
             "iteration": 284,
             "learn": [
              0.7267146004,
              0.541207757
             ],
             "passed_time": 45.11992891,
             "remaining_time": 271.5111512,
             "test": [
              0.7268330431,
              0.5283538337
             ]
            },
            {
             "iteration": 285,
             "learn": [
              0.7267444805,
              0.5411430857
             ],
             "passed_time": 45.25500397,
             "remaining_time": 271.2135553,
             "test": [
              0.727158343,
              0.5282904045
             ]
            },
            {
             "iteration": 286,
             "learn": [
              0.7267469087,
              0.5410974505
             ],
             "passed_time": 45.45188943,
             "remaining_time": 271.286016,
             "test": [
              0.7267891683,
              0.5282744881
             ]
            },
            {
             "iteration": 287,
             "learn": [
              0.7268113007,
              0.5410345811
             ],
             "passed_time": 45.62771671,
             "remaining_time": 271.2314271,
             "test": [
              0.7264378927,
              0.5282652787
             ]
            },
            {
             "iteration": 288,
             "learn": [
              0.7268435309,
              0.5409924646
             ],
             "passed_time": 45.78644225,
             "remaining_time": 271.0747498,
             "test": [
              0.7267014695,
              0.5282350036
             ]
            },
            {
             "iteration": 289,
             "learn": [
              0.7268689016,
              0.5409470301
             ],
             "passed_time": 45.9211534,
             "remaining_time": 270.7764562,
             "test": [
              0.7266312228,
              0.5282041071
             ]
            },
            {
             "iteration": 290,
             "learn": [
              0.7268240208,
              0.5409238463
             ],
             "passed_time": 46.05425885,
             "remaining_time": 270.469857,
             "test": [
              0.7266312228,
              0.528192097
             ]
            },
            {
             "iteration": 291,
             "learn": [
              0.726920692,
              0.5408808985
             ],
             "passed_time": 46.21225871,
             "remaining_time": 270.3100612,
             "test": [
              0.7266221835,
              0.5281706064
             ]
            },
            {
             "iteration": 292,
             "learn": [
              0.7268529062,
              0.540857683
             ],
             "passed_time": 46.37554773,
             "remaining_time": 270.181092,
             "test": [
              0.726762743,
              0.5281733456
             ]
            },
            {
             "iteration": 293,
             "learn": [
              0.7269057502,
              0.540801318
             ],
             "passed_time": 46.58849458,
             "remaining_time": 270.34004,
             "test": [
              0.7265957447,
              0.5281638091
             ]
            },
            {
             "iteration": 294,
             "learn": [
              0.7269069191,
              0.540754757
             ],
             "passed_time": 46.78016394,
             "remaining_time": 270.3734899,
             "test": [
              0.7267891683,
              0.5281177716
             ]
            },
            {
             "iteration": 295,
             "learn": [
              0.7270196044,
              0.5406741827
             ],
             "passed_time": 46.97330192,
             "remaining_time": 270.4138732,
             "test": [
              0.7267453104,
              0.5280438441
             ]
            },
            {
             "iteration": 296,
             "learn": [
              0.7270713897,
              0.5406298386
             ],
             "passed_time": 47.10565319,
             "remaining_time": 270.1041326,
             "test": [
              0.7266576455,
              0.528000334
             ]
            },
            {
             "iteration": 297,
             "learn": [
              0.7270690964,
              0.5405608572
             ],
             "passed_time": 47.32928402,
             "remaining_time": 270.3169175,
             "test": [
              0.7267543012,
              0.5279650088
             ]
            },
            {
             "iteration": 298,
             "learn": [
              0.7271484795,
              0.5405066489
             ],
             "passed_time": 47.4972075,
             "remaining_time": 270.2098661,
             "test": [
              0.7268245529,
              0.5279460771
             ]
            },
            {
             "iteration": 299,
             "learn": [
              0.7271726198,
              0.540448425
             ],
             "passed_time": 47.65501451,
             "remaining_time": 270.0450822,
             "test": [
              0.7269914927,
              0.527885666
             ]
            },
            {
             "iteration": 300,
             "learn": [
              0.7272094465,
              0.5404173295
             ],
             "passed_time": 47.83612036,
             "remaining_time": 270.0118555,
             "test": [
              0.7270881671,
              0.5278724255
             ]
            },
            {
             "iteration": 301,
             "learn": [
              0.7272865352,
              0.5403709767
             ],
             "passed_time": 47.97393352,
             "remaining_time": 269.7342355,
             "test": [
              0.7270442683,
              0.527825419
             ]
            },
            {
             "iteration": 302,
             "learn": [
              0.7273728449,
              0.5403476405
             ],
             "passed_time": 48.09925538,
             "remaining_time": 269.3875788,
             "test": [
              0.7270881671,
              0.5278114218
             ]
            },
            {
             "iteration": 303,
             "learn": [
              0.7274085327,
              0.5402835904
             ],
             "passed_time": 48.26312087,
             "remaining_time": 269.2574112,
             "test": [
              0.7271232347,
              0.5277899891
             ]
            },
            {
             "iteration": 304,
             "learn": [
              0.7274637901,
              0.5402303968
             ],
             "passed_time": 48.38448275,
             "remaining_time": 268.890814,
             "test": [
              0.7272199652,
              0.527748964
             ]
            },
            {
             "iteration": 305,
             "learn": [
              0.7275282321,
              0.5402029788
             ],
             "passed_time": 48.5496657,
             "remaining_time": 268.7684107,
             "test": [
              0.7271935765,
              0.5277445642
             ]
            },
            {
             "iteration": 306,
             "learn": [
              0.7274326873,
              0.5401590784
             ],
             "passed_time": 48.73083516,
             "remaining_time": 268.733889,
             "test": [
              0.7271496276,
              0.5277024909
             ]
            },
            {
             "iteration": 307,
             "learn": [
              0.7274763942,
              0.5400942134
             ],
             "passed_time": 48.93292826,
             "remaining_time": 268.8133591,
             "test": [
              0.7270793037,
              0.52767947
             ]
            },
            {
             "iteration": 308,
             "learn": [
              0.7275189873,
              0.5400428216
             ],
             "passed_time": 49.11408111,
             "remaining_time": 268.7764115,
             "test": [
              0.7271935765,
              0.5276772111
             ]
            },
            {
             "iteration": 309,
             "learn": [
              0.7275766017,
              0.539954902
             ],
             "passed_time": 49.25575832,
             "remaining_time": 268.5233276,
             "test": [
              0.7272639319,
              0.5276166473
             ]
            },
            {
             "iteration": 310,
             "learn": [
              0.7275512788,
              0.539948645
             ],
             "passed_time": 49.32922583,
             "remaining_time": 267.9005223,
             "test": [
              0.7272639319,
              0.5276105884
             ]
            },
            {
             "iteration": 311,
             "learn": [
              0.7275915773,
              0.5399011831
             ],
             "passed_time": 49.48699211,
             "remaining_time": 267.7373163,
             "test": [
              0.7273079156,
              0.5275841811
             ]
            },
            {
             "iteration": 312,
             "learn": [
              0.727694061,
              0.5398471202
             ],
             "passed_time": 49.6837353,
             "remaining_time": 267.7842219,
             "test": [
              0.7273343009,
              0.5275563547
             ]
            },
            {
             "iteration": 313,
             "learn": [
              0.7277861493,
              0.5397644254
             ],
             "passed_time": 49.87500722,
             "remaining_time": 267.800198,
             "test": [
              0.7274134262,
              0.527495616
             ]
            },
            {
             "iteration": 314,
             "learn": [
              0.7277734865,
              0.5397406848
             ],
             "passed_time": 50.05239007,
             "remaining_time": 267.7405628,
             "test": [
              0.7274221621,
              0.5274846596
             ]
            },
            {
             "iteration": 315,
             "learn": [
              0.7278505856,
              0.5397086814
             ],
             "passed_time": 50.21907443,
             "remaining_time": 267.6231688,
             "test": [
              0.7273958031,
              0.5274732718
             ]
            },
            {
             "iteration": 316,
             "learn": [
              0.7277629397,
              0.5396907561
             ],
             "passed_time": 50.33994099,
             "remaining_time": 267.2622103,
             "test": [
              0.7273958031,
              0.5274570238
             ]
            },
            {
             "iteration": 317,
             "learn": [
              0.7277858634,
              0.5396628951
             ],
             "passed_time": 50.49429819,
             "remaining_time": 267.0799043,
             "test": [
              0.7273958031,
              0.5274263722
             ]
            },
            {
             "iteration": 318,
             "learn": [
              0.7278250304,
              0.5396142519
             ],
             "passed_time": 50.66553793,
             "remaining_time": 266.9867375,
             "test": [
              0.7273166957,
              0.527408282
             ]
            },
            {
             "iteration": 319,
             "learn": [
              0.727933265,
              0.53955217
             ],
             "passed_time": 50.86923961,
             "remaining_time": 267.0635079,
             "test": [
              0.7273078782,
              0.5273876212
             ]
            },
            {
             "iteration": 320,
             "learn": [
              0.7279803567,
              0.5394994844
             ],
             "passed_time": 51.06761177,
             "remaining_time": 267.1106547,
             "test": [
              0.7275188552,
              0.5273318699
             ]
            },
            {
             "iteration": 321,
             "learn": [
              0.7280712857,
              0.5394593078
             ],
             "passed_time": 51.25071427,
             "remaining_time": 267.0767036,
             "test": [
              0.7277740157,
              0.5273282023
             ]
            },
            {
             "iteration": 322,
             "learn": [
              0.7280065794,
              0.5394059638
             ],
             "passed_time": 51.41659375,
             "remaining_time": 266.9524078,
             "test": [
              0.7275365122,
              0.527297778
             ]
            },
            {
             "iteration": 323,
             "learn": [
              0.7280089078,
              0.5393734648
             ],
             "passed_time": 51.56010928,
             "remaining_time": 266.7121702,
             "test": [
              0.7276068872,
              0.5272696945
             ]
            },
            {
             "iteration": 324,
             "learn": [
              0.7281283206,
              0.5392813806
             ],
             "passed_time": 51.73660845,
             "remaining_time": 266.6425204,
             "test": [
              0.7276772758,
              0.5272147085
             ]
            },
            {
             "iteration": 325,
             "learn": [
              0.7280337903,
              0.5392108281
             ],
             "passed_time": 51.91826846,
             "remaining_time": 266.5987159,
             "test": [
              0.7277562863,
              0.5271673334
             ]
            },
            {
             "iteration": 326,
             "learn": [
              0.7281086756,
              0.5391721935
             ],
             "passed_time": 52.06949314,
             "remaining_time": 266.3983548,
             "test": [
              0.7278089344,
              0.5271405292
             ]
            },
            {
             "iteration": 327,
             "learn": [
              0.7281800243,
              0.539116147
             ],
             "passed_time": 52.23037066,
             "remaining_time": 266.2474992,
             "test": [
              0.7276859105,
              0.5271111896
             ]
            },
            {
             "iteration": 328,
             "learn": [
              0.7281754817,
              0.5390692459
             ],
             "passed_time": 52.38279851,
             "remaining_time": 266.0536666,
             "test": [
              0.7277562863,
              0.5270717369
             ]
            },
            {
             "iteration": 329,
             "learn": [
              0.7281754817,
              0.5390246223
             ],
             "passed_time": 52.53798214,
             "remaining_time": 265.8740308,
             "test": [
              0.7275715391,
              0.527056222
             ]
            },
            {
             "iteration": 330,
             "learn": [
              0.7282181036,
              0.5389998381
             ],
             "passed_time": 52.69379426,
             "remaining_time": 265.6977119,
             "test": [
              0.7274925056,
              0.5270429467
             ]
            },
            {
             "iteration": 331,
             "learn": [
              0.7282491808,
              0.5389718462
             ],
             "passed_time": 52.82553471,
             "remaining_time": 265.400578,
             "test": [
              0.7277826129,
              0.5270247302
             ]
            },
            {
             "iteration": 332,
             "learn": [
              0.7284147406,
              0.5389229699
             ],
             "passed_time": 53.02539981,
             "remaining_time": 265.4454699,
             "test": [
              0.7276859105,
              0.5270080388
             ]
            },
            {
             "iteration": 333,
             "learn": [
              0.7284066184,
              0.5388587251
             ],
             "passed_time": 53.19690026,
             "remaining_time": 265.3474127,
             "test": [
              0.7275802087,
              0.5269602219
             ]
            },
            {
             "iteration": 334,
             "learn": [
              0.7284859525,
              0.5388332606
             ],
             "passed_time": 53.38325134,
             "remaining_time": 265.3227268,
             "test": [
              0.7276242026,
              0.5269446642
             ]
            },
            {
             "iteration": 335,
             "learn": [
              0.7284503479,
              0.5387956281
             ],
             "passed_time": 53.56304489,
             "remaining_time": 265.2646033,
             "test": [
              0.727606532,
              0.5269262863
             ]
            },
            {
             "iteration": 336,
             "learn": [
              0.7285134263,
              0.538770541
             ],
             "passed_time": 53.69921181,
             "remaining_time": 264.9904725,
             "test": [
              0.7276768458,
              0.5268998787
             ]
            },
            {
             "iteration": 337,
             "learn": [
              0.7285134263,
              0.538770384
             ],
             "passed_time": 53.75086274,
             "remaining_time": 264.3015795,
             "test": [
              0.7276768458,
              0.5269000083
             ]
            },
            {
             "iteration": 338,
             "learn": [
              0.7286392105,
              0.5386905789
             ],
             "passed_time": 53.93476444,
             "remaining_time": 264.2644358,
             "test": [
              0.7272902976,
              0.5268442299
             ]
            },
            {
             "iteration": 339,
             "learn": [
              0.7286346957,
              0.5386469417
             ],
             "passed_time": 54.11724045,
             "remaining_time": 264.2194681,
             "test": [
              0.7273342355,
              0.5268335899
             ]
            },
            {
             "iteration": 340,
             "learn": [
              0.7286254761,
              0.5385943435
             ],
             "passed_time": 54.23957764,
             "remaining_time": 263.8811123,
             "test": [
              0.7273869347,
              0.526806783
             ]
            },
            {
             "iteration": 341,
             "learn": [
              0.7286842305,
              0.5385548831
             ],
             "passed_time": 54.38810516,
             "remaining_time": 263.6709893,
             "test": [
              0.7275099043,
              0.5267704746
             ]
            },
            {
             "iteration": 342,
             "learn": [
              0.7287037506,
              0.5385025133
             ],
             "passed_time": 54.5204187,
             "remaining_time": 263.3828973,
             "test": [
              0.7274835717,
              0.526744486
             ]
            },
            {
             "iteration": 343,
             "learn": [
              0.7287451442,
              0.5384832208
             ],
             "passed_time": 54.67490488,
             "remaining_time": 263.2024491,
             "test": [
              0.7274835717,
              0.5267304191
             ]
            },
            {
             "iteration": 344,
             "learn": [
              0.7286910968,
              0.5384473992
             ],
             "passed_time": 54.86601761,
             "remaining_time": 263.1978526,
             "test": [
              0.7274396135,
              0.5267030111
             ]
            },
            {
             "iteration": 345,
             "learn": [
              0.7288086259,
              0.5384198444
             ],
             "passed_time": 55.00777289,
             "remaining_time": 262.9562322,
             "test": [
              0.7276682135,
              0.5266923324
             ]
            },
            {
             "iteration": 346,
             "learn": [
              0.728858177,
              0.53837929
             ],
             "passed_time": 55.17211112,
             "remaining_time": 262.8227656,
             "test": [
              0.7275099043,
              0.5266626882
             ]
            },
            {
             "iteration": 347,
             "learn": [
              0.7288418708,
              0.5383068849
             ],
             "passed_time": 55.36562743,
             "remaining_time": 262.8276337,
             "test": [
              0.7274835717,
              0.526638059
             ]
            },
            {
             "iteration": 348,
             "learn": [
              0.7289309131,
              0.5382590236
             ],
             "passed_time": 55.59327096,
             "remaining_time": 262.992809,
             "test": [
              0.7275275469,
              0.5265992711
             ]
            },
            {
             "iteration": 349,
             "learn": [
              0.7289596598,
              0.5382243002
             ],
             "passed_time": 55.84308756,
             "remaining_time": 263.2602699,
             "test": [
              0.7277826129,
              0.5265898428
             ]
            },
            {
             "iteration": 350,
             "learn": [
              0.7290266226,
              0.5381626343
             ],
             "passed_time": 56.06390601,
             "remaining_time": 263.3885499,
             "test": [
              0.7277648879,
              0.5265904104
             ]
            },
            {
             "iteration": 351,
             "learn": [
              0.7290311147,
              0.5381324417
             ],
             "passed_time": 56.27746674,
             "remaining_time": 263.480867,
             "test": [
              0.7276945384,
              0.526581426
             ]
            },
            {
             "iteration": 352,
             "learn": [
              0.7290693405,
              0.5381143722
             ],
             "passed_time": 56.48547041,
             "remaining_time": 263.5455234,
             "test": [
              0.7276505267,
              0.5265800067
             ]
            },
            {
             "iteration": 353,
             "learn": [
              0.7290429586,
              0.5380732889
             ],
             "passed_time": 56.6155593,
             "remaining_time": 263.2463576,
             "test": [
              0.7277648879,
              0.5265307963
             ]
            },
            {
             "iteration": 354,
             "learn": [
              0.729104402,
              0.5380230379
             ],
             "passed_time": 56.74499173,
             "remaining_time": 262.9451025,
             "test": [
              0.727817514,
              0.5264917907
             ]
            },
            {
             "iteration": 355,
             "learn": [
              0.7291228692,
              0.5380219199
             ],
             "passed_time": 56.8292859,
             "remaining_time": 262.4363652,
             "test": [
              0.727817514,
              0.5264913665
             ]
            },
            {
             "iteration": 356,
             "learn": [
              0.7290603593,
              0.5379698552
             ],
             "passed_time": 56.98997291,
             "remaining_time": 262.281584,
             "test": [
              0.7278352509,
              0.5264508688
             ]
            },
            {
             "iteration": 357,
             "learn": [
              0.7291402807,
              0.5379509464
             ],
             "passed_time": 57.16471361,
             "remaining_time": 262.1912283,
             "test": [
              0.7280464217,
              0.5264447403
             ]
            },
            {
             "iteration": 358,
             "learn": [
              0.7291806518,
              0.537918913
             ],
             "passed_time": 57.30632807,
             "remaining_time": 261.9489815,
             "test": [
              0.7281694227,
              0.5264440132
             ]
            },
            {
             "iteration": 359,
             "learn": [
              0.7291690414,
              0.5378675075
             ],
             "passed_time": 57.4938412,
             "remaining_time": 261.9163877,
             "test": [
              0.7283102815,
              0.5264322492
             ]
            },
            {
             "iteration": 360,
             "learn": [
              0.7293247368,
              0.5378348541
             ],
             "passed_time": 57.71488541,
             "remaining_time": 262.0351723,
             "test": [
              0.7282840008,
              0.526432754
             ]
            },
            {
             "iteration": 361,
             "learn": [
              0.7293455955,
              0.537792373
             ],
             "passed_time": 57.88067322,
             "remaining_time": 261.9020517,
             "test": [
              0.7282314241,
              0.5263989254
             ]
            },
            {
             "iteration": 362,
             "learn": [
              0.7293315938,
              0.5377651423
             ],
             "passed_time": 58.08409442,
             "remaining_time": 261.9384644,
             "test": [
              0.7281609751,
              0.526379516
             ]
            },
            {
             "iteration": 363,
             "learn": [
              0.7292959745,
              0.5377255577
             ],
             "passed_time": 58.23819461,
             "remaining_time": 261.7518857,
             "test": [
              0.7282755951,
              0.5263612173
             ]
            },
            {
             "iteration": 364,
             "learn": [
              0.7295636529,
              0.5376624952
             ],
             "passed_time": 58.3888578,
             "remaining_time": 261.5500891,
             "test": [
              0.7281788272,
              0.5262955912
             ]
            },
            {
             "iteration": 365,
             "learn": [
              0.7296246088,
              0.5376154367
             ],
             "passed_time": 58.55096823,
             "remaining_time": 261.3996778,
             "test": [
              0.7281346749,
              0.5262914201
             ]
            },
            {
             "iteration": 366,
             "learn": [
              0.7296790461,
              0.5375801082
             ],
             "passed_time": 58.71546241,
             "remaining_time": 261.2598096,
             "test": [
              0.7284165699,
              0.5262517161
             ]
            },
            {
             "iteration": 367,
             "learn": [
              0.7296465222,
              0.5375357103
             ],
             "passed_time": 58.89535929,
             "remaining_time": 261.1881151,
             "test": [
              0.7283460757,
              0.5262051354
             ]
            },
            {
             "iteration": 368,
             "learn": [
              0.7296191176,
              0.5375131044
             ],
             "passed_time": 59.05097755,
             "remaining_time": 261.0085214,
             "test": [
              0.7283197832,
              0.5261950031
             ]
            },
            {
             "iteration": 369,
             "learn": [
              0.7296756209,
              0.5374824904
             ],
             "passed_time": 59.2246844,
             "remaining_time": 260.9087448,
             "test": [
              0.7281083696,
              0.5261872876
             ]
            },
            {
             "iteration": 370,
             "learn": [
              0.7297115775,
              0.5374519025
             ],
             "passed_time": 59.40150463,
             "remaining_time": 260.82224,
             "test": [
              0.7280557437,
              0.5261686422
             ]
            },
            {
             "iteration": 371,
             "learn": [
              0.7298393228,
              0.5374102381
             ],
             "passed_time": 59.57906432,
             "remaining_time": 260.7384858,
             "test": [
              0.7280472456,
              0.5261285086
             ]
            },
            {
             "iteration": 372,
             "learn": [
              0.7298383009,
              0.5373638811
             ],
             "passed_time": 59.76043439,
             "remaining_time": 260.6708492,
             "test": [
              0.7281703775,
              0.526114217
             ]
            },
            {
             "iteration": 373,
             "learn": [
              0.7299109123,
              0.537303716
             ],
             "passed_time": 59.88858816,
             "remaining_time": 260.3712416,
             "test": [
              0.7281440604,
              0.5260844703
             ]
            },
            {
             "iteration": 374,
             "learn": [
              0.729906471,
              0.5372788598
             ],
             "passed_time": 59.9974565,
             "remaining_time": 259.9889782,
             "test": [
              0.7281440604,
              0.5260665451
             ]
            },
            {
             "iteration": 375,
             "learn": [
              0.7300188878,
              0.5372016854
             ],
             "passed_time": 60.16799474,
             "remaining_time": 259.8745305,
             "test": [
              0.7283556072,
              0.5260494565
             ]
            },
            {
             "iteration": 376,
             "learn": [
              0.729998606,
              0.5371599281
             ],
             "passed_time": 60.33638882,
             "remaining_time": 259.7505545,
             "test": [
              0.7280998935,
              0.5260320054
             ]
            },
            {
             "iteration": 377,
             "learn": [
              0.7299776967,
              0.5371072599
             ],
             "passed_time": 60.5254514,
             "remaining_time": 259.7150322,
             "test": [
              0.7282408752,
              0.526009379
             ]
            },
            {
             "iteration": 378,
             "learn": [
              0.7300147007,
              0.5370879083
             ],
             "passed_time": 60.64759769,
             "remaining_time": 259.3924957,
             "test": [
              0.7284082107,
              0.5260015095
             ]
            },
            {
             "iteration": 379,
             "learn": [
              0.7299694616,
              0.537043335
             ],
             "passed_time": 60.83804345,
             "remaining_time": 259.3621852,
             "test": [
              0.7282314241,
              0.5259577689
             ]
            },
            {
             "iteration": 380,
             "learn": [
              0.7299835255,
              0.5369990363
             ],
             "passed_time": 61.00160645,
             "remaining_time": 259.2168001,
             "test": [
              0.728469131,
              0.5259373787
             ]
            },
            {
             "iteration": 381,
             "learn": [
              0.7300235688,
              0.5369620813
             ],
             "passed_time": 61.16964303,
             "remaining_time": 259.0902681,
             "test": [
              0.728469131,
              0.5259048066
             ]
            },
            {
             "iteration": 382,
             "learn": [
              0.7300153314,
              0.53694161
             ],
             "passed_time": 61.33650178,
             "remaining_time": 258.9585467,
             "test": [
              0.728442853,
              0.5258883092
             ]
            },
            {
             "iteration": 383,
             "learn": [
              0.7299920183,
              0.5369221037
             ],
             "passed_time": 61.48669398,
             "remaining_time": 258.7565038,
             "test": [
              0.7285396303,
              0.5258726173
             ]
            },
            {
             "iteration": 384,
             "learn": [
              0.7300334465,
              0.5368445784
             ],
             "passed_time": 61.66816893,
             "remaining_time": 258.6859554,
             "test": [
              0.7285299807,
              0.5258502964
             ]
            },
            {
             "iteration": 385,
             "learn": [
              0.7299341272,
              0.5368266463
             ],
             "passed_time": 61.82107404,
             "remaining_time": 258.4953718,
             "test": [
              0.7285037238,
              0.5258266111
             ]
            },
            {
             "iteration": 386,
             "learn": [
              0.7300203945,
              0.5367611081
             ],
             "passed_time": 62.00145628,
             "remaining_time": 258.4195064,
             "test": [
              0.7286184211,
              0.5257857217
             ]
            },
            {
             "iteration": 387,
             "learn": [
              0.7300960053,
              0.5367073004
             ],
             "passed_time": 62.20821838,
             "remaining_time": 258.4527011,
             "test": [
              0.72845953,
              0.525777395
             ]
            },
            {
             "iteration": 388,
             "learn": [
              0.7300411523,
              0.536651304
             ],
             "passed_time": 62.39075242,
             "remaining_time": 258.3843243,
             "test": [
              0.7286184211,
              0.5257456693
             ]
            },
            {
             "iteration": 389,
             "learn": [
              0.7299562036,
              0.5366123768
             ],
             "passed_time": 62.53540961,
             "remaining_time": 258.1589986,
             "test": [
              0.7285479346,
              0.5257352524
             ]
            },
            {
             "iteration": 390,
             "learn": [
              0.7300140519,
              0.5365523824
             ],
             "passed_time": 62.66277508,
             "remaining_time": 257.8629287,
             "test": [
              0.7285299807,
              0.5257057878
             ]
            },
            {
             "iteration": 391,
             "learn": [
              0.7300205048,
              0.5365107119
             ],
             "passed_time": 62.82520972,
             "remaining_time": 257.7115745,
             "test": [
              0.7284678589,
              0.5256833
             ]
            },
            {
             "iteration": 392,
             "learn": [
              0.7300108836,
              0.5364772159
             ],
             "passed_time": 62.96301365,
             "remaining_time": 257.4594477,
             "test": [
              0.728449942,
              0.5256346622
             ]
            },
            {
             "iteration": 393,
             "learn": [
              0.729992407,
              0.536422419
             ],
             "passed_time": 63.13841876,
             "remaining_time": 257.3611688,
             "test": [
              0.7285562325,
              0.5256063174
             ]
            },
            {
             "iteration": 394,
             "learn": [
              0.7300253165,
              0.5363927043
             ],
             "passed_time": 63.3305363,
             "remaining_time": 257.330407,
             "test": [
              0.7285741923,
              0.5255738857
             ]
            },
            {
             "iteration": 395,
             "learn": [
              0.730154711,
              0.5363488141
             ],
             "passed_time": 63.51621648,
             "remaining_time": 257.2727557,
             "test": [
              0.7283628276,
              0.5255607484
             ]
            },
            {
             "iteration": 396,
             "learn": [
              0.7301742037,
              0.5362844445
             ],
             "passed_time": 63.69516171,
             "remaining_time": 257.187265,
             "test": [
              0.7284857861,
              0.5255172544
             ]
            },
            {
             "iteration": 397,
             "learn": [
              0.7301591321,
              0.5362448213
             ],
             "passed_time": 63.83645435,
             "remaining_time": 256.9497484,
             "test": [
              0.7281694227,
              0.5254915932
             ]
            },
            {
             "iteration": 398,
             "learn": [
              0.7302272583,
              0.5362043116
             ],
             "passed_time": 63.98153412,
             "remaining_time": 256.7279101,
             "test": [
              0.7285299807,
              0.5254451948
             ]
            },
            {
             "iteration": 399,
             "learn": [
              0.7302827334,
              0.5361589722
             ],
             "passed_time": 64.17056089,
             "remaining_time": 256.6822436,
             "test": [
              0.7285037238,
              0.5254259786
             ]
            },
            {
             "iteration": 400,
             "learn": [
              0.7303080566,
              0.536139617
             ],
             "passed_time": 64.36904499,
             "remaining_time": 256.6735734,
             "test": [
              0.7286184211,
              0.5254187135
             ]
            },
            {
             "iteration": 401,
             "learn": [
              0.7304039509,
              0.53611141
             ],
             "passed_time": 64.54367204,
             "remaining_time": 256.5691242,
             "test": [
              0.7286889211,
              0.5254081791
             ]
            },
            {
             "iteration": 402,
             "learn": [
              0.730394267,
              0.5360844519
             ],
             "passed_time": 64.71175346,
             "remaining_time": 256.4383878,
             "test": [
              0.7285216718,
              0.5253762173
             ]
            },
            {
             "iteration": 403,
             "learn": [
              0.7304969927,
              0.5360467813
             ],
             "passed_time": 64.86186963,
             "remaining_time": 256.2364949,
             "test": [
              0.7286529349,
              0.5253453241
             ]
            },
            {
             "iteration": 404,
             "learn": [
              0.7304907074,
              0.5359877635
             ],
             "passed_time": 65.04951024,
             "remaining_time": 256.1826391,
             "test": [
              0.7284153534,
              0.5253182961
             ]
            },
            {
             "iteration": 405,
             "learn": [
              0.7304770586,
              0.5359402722
             ],
             "passed_time": 65.2527497,
             "remaining_time": 256.1893671,
             "test": [
              0.7285299807,
              0.5253186619
             ]
            },
            {
             "iteration": 406,
             "learn": [
              0.7303962527,
              0.5358731923
             ],
             "passed_time": 65.4840945,
             "remaining_time": 256.3050677,
             "test": [
              0.7286971661,
              0.5252882914
             ]
            },
            {
             "iteration": 407,
             "learn": [
              0.7303369364,
              0.5358160763
             ],
             "passed_time": 65.65862314,
             "remaining_time": 256.1973726,
             "test": [
              0.7288283063,
              0.5252609333
             ]
            },
            {
             "iteration": 408,
             "learn": [
              0.7303476037,
              0.5357675822
             ],
             "passed_time": 65.84848409,
             "remaining_time": 256.1489931,
             "test": [
              0.7287758654,
              0.5252538693
             ]
            },
            {
             "iteration": 409,
             "learn": [
              0.7303009593,
              0.5357399588
             ],
             "passed_time": 66.02327715,
             "remaining_time": 256.0414894,
             "test": [
              0.728389093,
              0.5252461278
             ]
            },
            {
             "iteration": 410,
             "learn": [
              0.730423555,
              0.5356884197
             ],
             "passed_time": 66.1812645,
             "remaining_time": 255.8686844,
             "test": [
              0.728661189,
              0.5252043799
             ]
            },
            {
             "iteration": 411,
             "learn": [
              0.7304153007,
              0.5356476784
             ],
             "passed_time": 66.36473834,
             "remaining_time": 255.7941856,
             "test": [
              0.7288545191,
              0.5251837862
             ]
            },
            {
             "iteration": 412,
             "learn": [
              0.7304094678,
              0.5356051063
             ],
             "passed_time": 66.56184459,
             "remaining_time": 255.7715432,
             "test": [
              0.7286874154,
              0.5251695115
             ]
            },
            {
             "iteration": 413,
             "learn": [
              0.7304537168,
              0.5355376383
             ],
             "passed_time": 66.70355695,
             "remaining_time": 255.5358486,
             "test": [
              0.7288020884,
              0.5251129064
             ]
            },
            {
             "iteration": 414,
             "learn": [
              0.7304722117,
              0.5354914178
             ],
             "passed_time": 66.8548864,
             "remaining_time": 255.3373372,
             "test": [
              0.7290840507,
              0.5250775968
             ]
            },
            {
             "iteration": 415,
             "learn": [
              0.730515041,
              0.5354300695
             ],
             "passed_time": 67.02827894,
             "remaining_time": 255.2230621,
             "test": [
              0.7291364472,
              0.5250624748
             ]
            },
            {
             "iteration": 416,
             "learn": [
              0.7305559775,
              0.5353867303
             ],
             "passed_time": 67.19055112,
             "remaining_time": 255.0662888,
             "test": [
              0.7290659447,
              0.5250323757
             ]
            },
            {
             "iteration": 417,
             "learn": [
              0.7306557979,
              0.5353395611
             ],
             "passed_time": 67.37748283,
             "remaining_time": 255.0028178,
             "test": [
              0.7292331496,
              0.5250072451
             ]
            },
            {
             "iteration": 418,
             "learn": [
              0.7306869533,
              0.5353098076
             ],
             "passed_time": 67.5138687,
             "remaining_time": 254.7480344,
             "test": [
              0.7294003868,
              0.5250022448
             ]
            },
            {
             "iteration": 419,
             "learn": [
              0.7306577565,
              0.5352653136
             ],
             "passed_time": 67.71351755,
             "remaining_time": 254.7318041,
             "test": [
              0.7293742141,
              0.5249746783
             ]
            },
            {
             "iteration": 420,
             "learn": [
              0.7306796608,
              0.5352148679
             ],
             "passed_time": 67.89306163,
             "remaining_time": 254.6392977,
             "test": [
              0.7290216551,
              0.5249511097
             ]
            },
            {
             "iteration": 421,
             "learn": [
              0.7308028199,
              0.5351629075
             ],
             "passed_time": 68.06863637,
             "remaining_time": 254.531536,
             "test": [
              0.7290659447,
              0.5248957389
             ]
            },
            {
             "iteration": 422,
             "learn": [
              0.7308685416,
              0.5351202075
             ],
             "passed_time": 68.21008447,
             "remaining_time": 254.2962251,
             "test": [
              0.7290659447,
              0.5248810589
             ]
            },
            {
             "iteration": 423,
             "learn": [
              0.7307940525,
              0.5350844399
             ],
             "passed_time": 68.41868308,
             "remaining_time": 254.3109541,
             "test": [
              0.7288545191,
              0.5248616472
             ]
            },
            {
             "iteration": 424,
             "learn": [
              0.7308208256,
              0.5350257507
             ],
             "passed_time": 68.63823835,
             "remaining_time": 254.3652362,
             "test": [
              0.7293742141,
              0.5248338523
             ]
            },
            {
             "iteration": 425,
             "learn": [
              0.730784805,
              0.5349781795
             ],
             "passed_time": 68.82005342,
             "remaining_time": 254.2787889,
             "test": [
              0.7291364472,
              0.5248057537
             ]
            },
            {
             "iteration": 426,
             "learn": [
              0.7308393237,
              0.5349260276
             ],
             "passed_time": 69.01687924,
             "remaining_time": 254.2471921,
             "test": [
              0.729005418,
              0.5247754031
             ]
            },
            {
             "iteration": 427,
             "learn": [
              0.7308359172,
              0.5348676185
             ],
             "passed_time": 69.21672101,
             "remaining_time": 254.2259005,
             "test": [
              0.7289954559,
              0.5247611304
             ]
            },
            {
             "iteration": 428,
             "learn": [
              0.7308875081,
              0.5348226681
             ],
             "passed_time": 69.41367912,
             "remaining_time": 254.1932165,
             "test": [
              0.7291364472,
              0.5247397132
             ]
            },
            {
             "iteration": 429,
             "learn": [
              0.7309337586,
              0.5348063778
             ],
             "passed_time": 69.60219861,
             "remaining_time": 254.1289577,
             "test": [
              0.7292251137,
              0.5247385466
             ]
            },
            {
             "iteration": 430,
             "learn": [
              0.7309381288,
              0.5347587547
             ],
             "passed_time": 69.79920099,
             "remaining_time": 254.0950031,
             "test": [
              0.7294368105,
              0.5247031591
             ]
            },
            {
             "iteration": 431,
             "learn": [
              0.7309770573,
              0.5347247275
             ],
             "passed_time": 69.99244068,
             "remaining_time": 254.0466365,
             "test": [
              0.7294812234,
              0.5246930539
             ]
            },
            {
             "iteration": 432,
             "learn": [
              0.7310612772,
              0.5346866579
             ],
             "passed_time": 70.14433871,
             "remaining_time": 253.8479879,
             "test": [
              0.7295256534,
              0.5246624624
             ]
            },
            {
             "iteration": 433,
             "learn": [
              0.730986753,
              0.5346259255
             ],
             "passed_time": 70.30497927,
             "remaining_time": 253.6811003,
             "test": [
              0.7294447669,
              0.5246245763
             ]
            },
            {
             "iteration": 434,
             "learn": [
              0.7309803922,
              0.5345857381
             ],
             "passed_time": 70.50124301,
             "remaining_time": 253.642403,
             "test": [
              0.729277493,
              0.5246075745
             ]
            },
            {
             "iteration": 435,
             "learn": [
              0.730982833,
              0.5345157491
             ],
             "passed_time": 70.67873321,
             "remaining_time": 253.5356393,
             "test": [
              0.7295938104,
              0.5245984676
             ]
            },
            {
             "iteration": 436,
             "learn": [
              0.7309385277,
              0.5344827725
             ],
             "passed_time": 70.87326577,
             "remaining_time": 253.4895066,
             "test": [
              0.7295414974,
              0.5245877098
             ]
            },
            {
             "iteration": 437,
             "learn": [
              0.7311122073,
              0.5344499169
             ],
             "passed_time": 71.03287498,
             "remaining_time": 253.3181523,
             "test": [
              0.7294606611,
              0.5245570023
             ]
            },
            {
             "iteration": 438,
             "learn": [
              0.7311686505,
              0.534418223
             ],
             "passed_time": 71.23083454,
             "remaining_time": 253.283218,
             "test": [
              0.7295311745,
              0.5245421992
             ]
            },
            {
             "iteration": 439,
             "learn": [
              0.731229446,
              0.5343599764
             ],
             "passed_time": 71.42575089,
             "remaining_time": 253.2367531,
             "test": [
              0.7296017015,
              0.52451385
             ]
            },
            {
             "iteration": 440,
             "learn": [
              0.7312245466,
              0.5343135509
             ],
             "passed_time": 71.63609454,
             "remaining_time": 253.2441528,
             "test": [
              0.7294424582,
              0.5244860444
             ]
            },
            {
             "iteration": 441,
             "learn": [
              0.7312654961,
              0.5342656143
             ],
             "passed_time": 71.79377437,
             "remaining_time": 253.0649332,
             "test": [
              0.7295676564,
              0.5244569668
             ]
            },
            {
             "iteration": 442,
             "learn": [
              0.7312654961,
              0.5342300092
             ],
             "passed_time": 71.9471683,
             "remaining_time": 252.8707473,
             "test": [
              0.7298133643,
              0.5244218133
             ]
            },
            {
             "iteration": 443,
             "learn": [
              0.7312590906,
              0.5341895393
             ],
             "passed_time": 72.10552156,
             "remaining_time": 252.6941251,
             "test": [
              0.729656507,
              0.5243927518
             ]
            },
            {
             "iteration": 444,
             "learn": [
              0.7312313452,
              0.5341212963
             ],
             "passed_time": 72.25835227,
             "remaining_time": 252.4982871,
             "test": [
              0.7298055529,
              0.5243678401
             ]
            },
            {
             "iteration": 445,
             "learn": [
              0.7312556916,
              0.5340983686
             ],
             "passed_time": 72.44459578,
             "remaining_time": 252.4190624,
             "test": [
              0.7295859133,
              0.5243649888
             ]
            },
            {
             "iteration": 446,
             "learn": [
              0.7313155332,
              0.5340620684
             ],
             "passed_time": 72.6405384,
             "remaining_time": 252.3730562,
             "test": [
              0.729708813,
              0.5243175604
             ]
            },
            {
             "iteration": 447,
             "learn": [
              0.7314448309,
              0.5340225283
             ],
             "passed_time": 72.76200097,
             "remaining_time": 252.0683605,
             "test": [
              0.7298578199,
              0.5242980545
             ]
            },
            {
             "iteration": 448,
             "learn": [
              0.7315129823,
              0.5339808689
             ],
             "passed_time": 72.95702358,
             "remaining_time": 252.0185826,
             "test": [
              0.7297977354,
              0.5242805474
             ]
            },
            {
             "iteration": 449,
             "learn": [
              0.7315179034,
              0.5339445913
             ],
             "passed_time": 73.13554466,
             "remaining_time": 251.9113205,
             "test": [
              0.7297794118,
              0.5242700842
             ]
            },
            {
             "iteration": 450,
             "learn": [
              0.7315373427,
              0.5339127827
             ],
             "passed_time": 73.32437267,
             "remaining_time": 251.8391425,
             "test": [
              0.7298839458,
              0.5242559733
             ]
            },
            {
             "iteration": 451,
             "learn": [
              0.7315416719,
              0.5338795735
             ],
             "passed_time": 73.50996595,
             "remaining_time": 251.7553701,
             "test": [
              0.7299545411,
              0.5242515785
             ]
            },
            {
             "iteration": 452,
             "learn": [
              0.7316755417,
              0.5338226537
             ],
             "passed_time": 73.72068494,
             "remaining_time": 251.7569528,
             "test": [
              0.7302370585,
              0.5242297964
             ]
            },
            {
             "iteration": 453,
             "learn": [
              0.7317295287,
              0.5337565992
             ],
             "passed_time": 73.91617504,
             "remaining_time": 251.7057414,
             "test": [
              0.73040449,
              0.5241875244
             ]
            },
            {
             "iteration": 454,
             "learn": [
              0.7317758073,
              0.5337245243
             ],
             "passed_time": 74.09317481,
             "remaining_time": 251.5911101,
             "test": [
              0.7302370585,
              0.524182852
             ]
            },
            {
             "iteration": 455,
             "learn": [
              0.7317480395,
              0.5336682138
             ],
             "passed_time": 74.26101351,
             "remaining_time": 251.4451861,
             "test": [
              0.7302109541,
              0.5241722694
             ]
            },
            {
             "iteration": 456,
             "learn": [
              0.7317178054,
              0.5336485741
             ],
             "passed_time": 74.39093141,
             "remaining_time": 251.1711316,
             "test": [
              0.7303262027,
              0.5241652482
             ]
            },
            {
             "iteration": 457,
             "learn": [
              0.7317801219,
              0.5336050284
             ],
             "passed_time": 74.53412808,
             "remaining_time": 250.9424137,
             "test": [
              0.7299990326,
              0.5241294047
             ]
            },
            {
             "iteration": 458,
             "learn": [
              0.7318214588,
              0.5335577958
             ],
             "passed_time": 74.74278359,
             "remaining_time": 250.9338334,
             "test": [
              0.7300435414,
              0.5241232096
             ]
            },
            {
             "iteration": 459,
             "learn": [
              0.7318680207,
              0.5335225373
             ],
             "passed_time": 74.88716131,
             "remaining_time": 250.7091922,
             "test": [
              0.7298500242,
              0.5240993394
             ]
            },
            {
             "iteration": 460,
             "learn": [
              0.7318982635,
              0.5334830263
             ],
             "passed_time": 75.05091591,
             "remaining_time": 250.549587,
             "test": [
              0.7299206503,
              0.5240905882
             ]
            },
            {
             "iteration": 461,
             "learn": [
              0.7319263015,
              0.5334469255
             ],
             "passed_time": 75.20487234,
             "remaining_time": 250.3573456,
             "test": [
              0.7300435414,
              0.5240720999
             ]
            },
            {
             "iteration": 462,
             "learn": [
              0.7319549823,
              0.5334108842
             ],
             "passed_time": 75.36208254,
             "remaining_time": 250.176071,
             "test": [
              0.729876161,
              0.5240627257
             ]
            },
            {
             "iteration": 463,
             "learn": [
              0.7319820959,
              0.5333651486
             ],
             "passed_time": 75.54766744,
             "remaining_time": 250.0888301,
             "test": [
              0.7300957725,
              0.5240355394
             ]
            },
            {
             "iteration": 464,
             "learn": [
              0.7319972182,
              0.5333136023
             ],
             "passed_time": 75.73937549,
             "remaining_time": 250.0213793,
             "test": [
              0.7301034716,
              0.5240090541
             ]
            },
            {
             "iteration": 465,
             "learn": [
              0.7319990391,
              0.5332530385
             ],
             "passed_time": 75.91168695,
             "remaining_time": 249.8895446,
             "test": [
              0.7299361826,
              0.5239800498
             ]
            },
            {
             "iteration": 466,
             "learn": [
              0.7319807862,
              0.5331978269
             ],
             "passed_time": 76.09976942,
             "remaining_time": 249.8093073,
             "test": [
              0.7297427964,
              0.5239427704
             ]
            },
            {
             "iteration": 467,
             "learn": [
              0.7319943373,
              0.5331599909
             ],
             "passed_time": 76.25970451,
             "remaining_time": 249.6364686,
             "test": [
              0.7296722421,
              0.5239320312
             ]
            },
            {
             "iteration": 468,
             "learn": [
              0.7319826083,
              0.5331353162
             ],
             "passed_time": 76.47240578,
             "remaining_time": 249.6359344,
             "test": [
              0.7299545411,
              0.5239137346
             ]
            },
            {
             "iteration": 469,
             "learn": [
              0.7321426314,
              0.5330737271
             ],
             "passed_time": 76.69372413,
             "remaining_time": 249.6625488,
             "test": [
              0.7295129494,
              0.5238836963
             ]
            },
            {
             "iteration": 470,
             "learn": [
              0.7321518859,
              0.5330396485
             ],
             "passed_time": 76.88835809,
             "remaining_time": 249.6014852,
             "test": [
              0.7295573168,
              0.5238729519
             ]
            },
            {
             "iteration": 471,
             "learn": [
              0.7321889063,
              0.5329861877
             ],
             "passed_time": 77.03901538,
             "remaining_time": 249.3974905,
             "test": [
              0.7294424582,
              0.5238564404
             ]
            },
            {
             "iteration": 472,
             "learn": [
              0.7322049324,
              0.5329748612
             ],
             "passed_time": 77.19360309,
             "remaining_time": 249.20641,
             "test": [
              0.729468599,
              0.5238481137
             ]
            },
            {
             "iteration": 473,
             "learn": [
              0.7322462394,
              0.5329123248
             ],
             "passed_time": 77.39675875,
             "remaining_time": 249.1718436,
             "test": [
              0.7294947348,
              0.5238346187
             ]
            },
            {
             "iteration": 474,
             "learn": [
              0.7322360853,
              0.5328777767
             ],
             "passed_time": 77.56423431,
             "remaining_time": 249.0220154,
             "test": [
              0.7295208655,
              0.52379784
             ]
            },
            {
             "iteration": 475,
             "learn": [
              0.7322268291,
              0.5328484051
             ],
             "passed_time": 77.74898187,
             "remaining_time": 248.9274125,
             "test": [
              0.7295287756,
              0.5237706523
             ]
            },
            {
             "iteration": 476,
             "learn": [
              0.7322654462,
              0.5328200779
             ],
             "passed_time": 77.92093366,
             "remaining_time": 248.7915765,
             "test": [
              0.7295992274,
              0.5237603312
             ]
            },
            {
             "iteration": 477,
             "learn": [
              0.7323429005,
              0.5327745621
             ],
             "passed_time": 78.09998828,
             "remaining_time": 248.6782053,
             "test": [
              0.7295731118,
              0.5237277588
             ]
            },
            {
             "iteration": 478,
             "learn": [
              0.7323975721,
              0.5327337537
             ],
             "passed_time": 78.27739279,
             "remaining_time": 248.5593203,
             "test": [
              0.729625338,
              0.5237211063
             ]
            },
            {
             "iteration": 479,
             "learn": [
              0.7323925853,
              0.5327170696
             ],
             "passed_time": 78.43077763,
             "remaining_time": 248.3641291,
             "test": [
              0.7296435816,
              0.5237073323
             ]
            },
            {
             "iteration": 480,
             "learn": [
              0.7323799408,
              0.5326765295
             ],
             "passed_time": 78.60369971,
             "remaining_time": 248.2308105,
             "test": [
              0.7295992274,
              0.523703075
             ]
            },
            {
             "iteration": 481,
             "learn": [
              0.7324119968,
              0.5326339386
             ],
             "passed_time": 78.77377178,
             "remaining_time": 248.0883518,
             "test": [
              0.7296696929,
              0.5236658372
             ]
            },
            {
             "iteration": 482,
             "learn": [
              0.7324103926,
              0.532606008
             ],
             "passed_time": 78.94179031,
             "remaining_time": 247.939329,
             "test": [
              0.7296514435,
              0.5236536994
             ]
            },
            {
             "iteration": 483,
             "learn": [
              0.7323792306,
              0.5325698907
             ],
             "passed_time": 79.08798122,
             "remaining_time": 247.7218585,
             "test": [
              0.729625338,
              0.5236346274
             ]
            },
            {
             "iteration": 484,
             "learn": [
              0.7324777139,
              0.5325492148
             ],
             "passed_time": 79.23284433,
             "remaining_time": 247.5005344,
             "test": [
              0.7296957991,
              0.5236316505
             ]
            },
            {
             "iteration": 485,
             "learn": [
              0.7324835932,
              0.532494033
             ],
             "passed_time": 79.40065457,
             "remaining_time": 247.3510103,
             "test": [
              0.7295469912,
              0.5235858553
             ]
            },
            {
             "iteration": 486,
             "learn": [
              0.7325644625,
              0.5324643049
             ],
             "passed_time": 79.62519768,
             "remaining_time": 247.3776675,
             "test": [
              0.7294322132,
              0.5235738764
             ]
            },
            {
             "iteration": 487,
             "learn": [
              0.7325721078,
              0.5324311902
             ],
             "passed_time": 79.84763452,
             "remaining_time": 247.3967693,
             "test": [
              0.7295992274,
              0.5235492979
             ]
            },
            {
             "iteration": 488,
             "learn": [
              0.7325477006,
              0.5323687534
             ],
             "passed_time": 80.04963916,
             "remaining_time": 247.351748,
             "test": [
              0.7296435816,
              0.5235221504
             ]
            },
            {
             "iteration": 489,
             "learn": [
              0.7326218086,
              0.5323324513
             ],
             "passed_time": 80.21330853,
             "remaining_time": 247.1879508,
             "test": [
              0.7297662739,
              0.5235102403
             ]
            },
            {
             "iteration": 490,
             "learn": [
              0.7326438496,
              0.5322679335
             ],
             "passed_time": 80.41845104,
             "remaining_time": 247.1516143,
             "test": [
              0.7298106646,
              0.5234666357
             ]
            },
            {
             "iteration": 491,
             "learn": [
              0.7326682598,
              0.5322363674
             ],
             "passed_time": 80.58474681,
             "remaining_time": 246.9955248,
             "test": [
              0.7297219003,
              0.5234453423
             ]
            },
            {
             "iteration": 492,
             "learn": [
              0.7326978026,
              0.5322145346
             ],
             "passed_time": 80.74192746,
             "remaining_time": 246.8115308,
             "test": [
              0.7297479965,
              0.5234484519
             ]
            },
            {
             "iteration": 493,
             "learn": [
              0.7327871754,
              0.5321776949
             ],
             "passed_time": 80.9520355,
             "remaining_time": 246.7889989,
             "test": [
              0.7296957991,
              0.5234455176
             ]
            },
            {
             "iteration": 494,
             "learn": [
              0.7329143854,
              0.5321308446
             ],
             "passed_time": 81.12105346,
             "remaining_time": 246.6407787,
             "test": [
              0.7296514435,
              0.5234103496
             ]
            },
            {
             "iteration": 495,
             "learn": [
              0.732872296,
              0.5320807951
             ],
             "passed_time": 81.29924286,
             "remaining_time": 246.5202848,
             "test": [
              0.7298628549,
              0.5233957807
             ]
            },
            {
             "iteration": 496,
             "learn": [
              0.7328790503,
              0.5320652239
             ],
             "passed_time": 81.43649784,
             "remaining_time": 246.2757671,
             "test": [
              0.7298628549,
              0.5233909174
             ]
            },
            {
             "iteration": 497,
             "learn": [
              0.7328908275,
              0.5320246551
             ],
             "passed_time": 81.57866188,
             "remaining_time": 246.0464862,
             "test": [
              0.7298367623,
              0.5233546542
             ]
            },
            {
             "iteration": 498,
             "learn": [
              0.7329009583,
              0.532010922
             ],
             "passed_time": 81.72698583,
             "remaining_time": 245.8360836,
             "test": [
              0.7298106646,
              0.5233538028
             ]
            },
            {
             "iteration": 499,
             "learn": [
              0.732820085,
              0.5319910058
             ],
             "passed_time": 81.87389377,
             "remaining_time": 245.6216813,
             "test": [
              0.7297845619,
              0.5233451065
             ]
            },
            {
             "iteration": 500,
             "learn": [
              0.7328732494,
              0.5319484265
             ],
             "passed_time": 82.05090515,
             "remaining_time": 245.4976184,
             "test": [
              0.7298994975,
              0.5233397353
             ]
            },
            {
             "iteration": 501,
             "learn": [
              0.7329212176,
              0.5318987652
             ],
             "passed_time": 82.2189224,
             "remaining_time": 245.3465055,
             "test": [
              0.7299516908,
              0.5233113356
             ]
            },
            {
             "iteration": 502,
             "learn": [
              0.7329658939,
              0.5318626357
             ],
             "passed_time": 82.39052242,
             "remaining_time": 245.2059882,
             "test": [
              0.7299072643,
              0.5233039866
             ]
            },
            {
             "iteration": 503,
             "learn": [
              0.7330122249,
              0.5318042219
             ],
             "passed_time": 82.53944291,
             "remaining_time": 244.998029,
             "test": [
              0.7300927716,
              0.5232769275
             ]
            },
            {
             "iteration": 504,
             "learn": [
              0.7330964903,
              0.5317689944
             ],
             "passed_time": 82.68424633,
             "remaining_time": 244.7781154,
             "test": [
              0.7299961345,
              0.5232630841
             ]
            },
            {
             "iteration": 505,
             "learn": [
              0.7330720607,
              0.5317475961
             ],
             "passed_time": 82.87359856,
             "remaining_time": 244.6900321,
             "test": [
              0.7300405954,
              0.5232580598
             ]
            },
            {
             "iteration": 506,
             "learn": [
              0.7330468306,
              0.5317064278
             ],
             "passed_time": 83.04804919,
             "remaining_time": 244.5576675,
             "test": [
              0.7299961345,
              0.5232474681
             ]
            },
            {
             "iteration": 507,
             "learn": [
              0.7331597047,
              0.5316771384
             ],
             "passed_time": 83.22862936,
             "remaining_time": 244.4431398,
             "test": [
              0.7302154798,
              0.5232309241
             ]
            },
            {
             "iteration": 508,
             "learn": [
              0.7330686861,
              0.5316476392
             ],
             "passed_time": 83.42076993,
             "remaining_time": 244.362216,
             "test": [
              0.7302339068,
              0.5232192025
             ]
            },
            {
             "iteration": 509,
             "learn": [
              0.7330206924,
              0.5316027525
             ],
             "passed_time": 83.6088436,
             "remaining_time": 244.2689744,
             "test": [
              0.7301817479,
              0.5232015268
             ]
            },
            {
             "iteration": 510,
             "learn": [
              0.7331454283,
              0.5315455012
             ],
             "passed_time": 83.78923453,
             "remaining_time": 244.152975,
             "test": [
              0.7303490283,
              0.5231705829
             ]
            },
            {
             "iteration": 511,
             "learn": [
              0.7332886602,
              0.5314741151
             ],
             "passed_time": 84.00652103,
             "remaining_time": 244.1439517,
             "test": [
              0.7305609284,
              0.523144168
             ]
            },
            {
             "iteration": 512,
             "learn": [
              0.733427737,
              0.5314343635
             ],
             "passed_time": 84.15493461,
             "remaining_time": 243.9344791,
             "test": [
              0.7305423958,
              0.5231281008
             ]
            },
            {
             "iteration": 513,
             "learn": [
              0.7334150936,
              0.5313936486
             ],
             "passed_time": 84.26946657,
             "remaining_time": 243.6272905,
             "test": [
              0.7305869839,
              0.5230940421
             ]
            },
            {
             "iteration": 514,
             "learn": [
              0.7334074992,
              0.5313560341
             ],
             "passed_time": 84.46856057,
             "remaining_time": 243.5646844,
             "test": [
              0.7305423958,
              0.5230910167
             ]
            },
            {
             "iteration": 515,
             "learn": [
              0.7334302693,
              0.5312908034
             ],
             "passed_time": 84.6590801,
             "remaining_time": 243.4768893,
             "test": [
              0.7305499179,
              0.5230618429
             ]
            },
            {
             "iteration": 516,
             "learn": [
              0.7334858848,
              0.5312363999
             ],
             "passed_time": 84.80599005,
             "remaining_time": 243.2636039,
             "test": [
              0.7305684455,
              0.5230348016
             ]
            },
            {
             "iteration": 517,
             "learn": [
              0.733595419,
              0.5311606428
             ],
             "passed_time": 85.02060659,
             "remaining_time": 243.2442837,
             "test": [
              0.7305163411,
              0.5229925338
             ]
            },
            {
             "iteration": 518,
             "learn": [
              0.7336451552,
              0.5311279188
             ],
             "passed_time": 85.18917565,
             "remaining_time": 243.0928114,
             "test": [
              0.7305794718,
              0.5229917055
             ]
            },
            {
             "iteration": 519,
             "learn": [
              0.7336661821,
              0.5310906142
             ],
             "passed_time": 85.35750177,
             "remaining_time": 242.940582,
             "test": [
              0.7307022635,
              0.522977712
             ]
            },
            {
             "iteration": 520,
             "learn": [
              0.7337049255,
              0.5310751046
             ],
             "passed_time": 85.52519591,
             "remaining_time": 242.7864966,
             "test": [
              0.7303750967,
              0.5229721924
             ]
            },
            {
             "iteration": 521,
             "learn": [
              0.7336501156,
              0.5310460515
             ],
             "passed_time": 85.67313589,
             "remaining_time": 242.5764269,
             "test": [
              0.7305423958,
              0.5229753058
             ]
            },
            {
             "iteration": 522,
             "learn": [
              0.7337141268,
              0.5310028266
             ],
             "passed_time": 85.83197239,
             "remaining_time": 242.3973675,
             "test": [
              0.7305423958,
              0.522936726
             ]
            },
            {
             "iteration": 523,
             "learn": [
              0.7337115851,
              0.5309747233
             ],
             "passed_time": 85.98472329,
             "remaining_time": 242.2012435,
             "test": [
              0.7306390796,
              0.5229364571
             ]
            },
            {
             "iteration": 524,
             "learn": [
              0.7338084948,
              0.5309176735
             ],
             "passed_time": 86.17087502,
             "remaining_time": 242.099125,
             "test": [
              0.7305423958,
              0.522923067
             ]
            },
            {
             "iteration": 525,
             "learn": [
              0.7338388626,
              0.5308722016
             ],
             "passed_time": 86.36421584,
             "remaining_time": 242.016833,
             "test": [
              0.7306315891,
              0.5229065878
             ]
            },
            {
             "iteration": 526,
             "learn": [
              0.7339013476,
              0.5308362157
             ],
             "passed_time": 86.55111657,
             "remaining_time": 241.916119,
             "test": [
              0.7306315891,
              0.522861703
             ]
            },
            {
             "iteration": 527,
             "learn": [
              0.7339349815,
              0.5307712121
             ],
             "passed_time": 86.76961199,
             "remaining_time": 241.9031607,
             "test": [
              0.7307022635,
              0.5228407666
             ]
            },
            {
             "iteration": 528,
             "learn": [
              0.7339425191,
              0.5307499247
             ],
             "passed_time": 86.91856007,
             "remaining_time": 241.6960338,
             "test": [
              0.7307283103,
              0.522833987
             ]
            },
            {
             "iteration": 529,
             "learn": [
              0.7339097022,
              0.5307142077
             ],
             "passed_time": 87.14342707,
             "remaining_time": 241.699694,
             "test": [
              0.7306315891,
              0.5228200342
             ]
            },
            {
             "iteration": 530,
             "learn": [
              0.7340343516,
              0.530676358
             ],
             "passed_time": 87.30768866,
             "remaining_time": 241.5348298,
             "test": [
              0.7307208515,
              0.5228092085
             ]
            },
            {
             "iteration": 531,
             "learn": [
              0.7340748231,
              0.5306421366
             ],
             "passed_time": 87.48748916,
             "remaining_time": 241.412846,
             "test": [
              0.730746904,
              0.5227830357
             ]
            },
            {
             "iteration": 532,
             "learn": [
              0.7340807402,
              0.5305981458
             ],
             "passed_time": 87.65569462,
             "remaining_time": 241.2587317,
             "test": [
              0.7306576402,
              0.5227740218
             ]
            },
            {
             "iteration": 533,
             "learn": [
              0.7341204131,
              0.5305859673
             ],
             "passed_time": 87.81314754,
             "remaining_time": 241.0750455,
             "test": [
              0.7306836863,
              0.5227747025
             ]
            },
            {
             "iteration": 534,
             "learn": [
              0.7341575335,
              0.5305522805
             ],
             "passed_time": 87.99929117,
             "remaining_time": 240.9700216,
             "test": [
              0.730534868,
              0.5227524657
             ]
            },
            {
             "iteration": 535,
             "learn": [
              0.7341802553,
              0.530513859
             ],
             "passed_time": 88.1948577,
             "remaining_time": 240.8904322,
             "test": [
              0.730605533,
              0.5227400586
             ]
            },
            {
             "iteration": 536,
             "learn": [
              0.7341903353,
              0.5304803869
             ],
             "passed_time": 88.41823352,
             "remaining_time": 240.8861744,
             "test": [
              0.7304566563,
              0.522729988
             ]
            },
            {
             "iteration": 537,
             "learn": [
              0.7343040967,
              0.5304395451
             ],
             "passed_time": 88.67494223,
             "remaining_time": 240.9716832,
             "test": [
              0.7306947939,
              0.522729395
             ]
            },
            {
             "iteration": 538,
             "learn": [
              0.7342316151,
              0.5304091246
             ],
             "passed_time": 88.94083045,
             "remaining_time": 241.0808039,
             "test": [
              0.7307915618,
              0.5227263057
             ]
            },
            {
             "iteration": 539,
             "learn": [
              0.734282355,
              0.5303739711
             ],
             "passed_time": 89.19252803,
             "remaining_time": 241.1501684,
             "test": [
              0.7309330236,
              0.5227186688
             ]
            },
            {
             "iteration": 540,
             "learn": [
              0.7343945582,
              0.5303209127
             ],
             "passed_time": 89.41751009,
             "remaining_time": 241.146298,
             "test": [
              0.7308622859,
              0.5226870639
             ]
            },
            {
             "iteration": 541,
             "learn": [
              0.7343953474,
              0.5302992611
             ],
             "passed_time": 89.61089837,
             "remaining_time": 241.0566233,
             "test": [
              0.7308883298,
              0.5226839225
             ]
            },
            {
             "iteration": 542,
             "learn": [
              0.7344239911,
              0.5302738585
             ],
             "passed_time": 89.806592,
             "remaining_time": 240.9727524,
             "test": [
              0.7309590632,
              0.5226752908
             ]
            },
            {
             "iteration": 543,
             "learn": [
              0.734437421,
              0.5302257288
             ],
             "passed_time": 89.99633183,
             "remaining_time": 240.8725352,
             "test": [
              0.7307655086,
              0.522673238
             ]
            },
            {
             "iteration": 544,
             "learn": [
              0.7344299188,
              0.5302013906
             ],
             "passed_time": 90.17967573,
             "remaining_time": 240.7549141,
             "test": [
              0.7307915618,
              0.5226447854
             ]
            },
            {
             "iteration": 545,
             "learn": [
              0.7344299188,
              0.5301634944
             ],
             "passed_time": 90.36653318,
             "remaining_time": 240.6464089,
             "test": [
              0.7308362369,
              0.5226263256
             ]
            },
            {
             "iteration": 546,
             "learn": [
              0.7344247788,
              0.5301516844
             ],
             "passed_time": 90.52119119,
             "remaining_time": 240.4520855,
             "test": [
              0.7308362369,
              0.5226180405
             ]
            },
            {
             "iteration": 547,
             "learn": [
              0.734530509,
              0.5301022084
             ],
             "passed_time": 90.70801562,
             "remaining_time": 240.3431363,
             "test": [
              0.7308101829,
              0.5225973858
             ]
            },
            {
             "iteration": 548,
             "learn": [
              0.7345237945,
              0.5300700541
             ],
             "passed_time": 90.86886114,
             "remaining_time": 240.1652414,
             "test": [
              0.7307394503,
              0.5225835462
             ]
            },
            {
             "iteration": 549,
             "learn": [
              0.7344974963,
              0.5300212625
             ],
             "passed_time": 91.0147933,
             "remaining_time": 239.9480914,
             "test": [
              0.7307394503,
              0.5225753111
             ]
            },
            {
             "iteration": 550,
             "learn": [
              0.7345202119,
              0.529972222
             ],
             "passed_time": 91.17637101,
             "remaining_time": 239.7723441,
             "test": [
              0.7305794718,
              0.5225575579
             ]
            },
            {
             "iteration": 551,
             "learn": [
              0.7345826537,
              0.5299185076
             ],
             "passed_time": 91.42462881,
             "remaining_time": 239.8240263,
             "test": [
              0.7306947939,
              0.5225234915
             ]
            },
            {
             "iteration": 552,
             "learn": [
              0.7346272997,
              0.5298914027
             ],
             "passed_time": 91.59413942,
             "remaining_time": 239.668571,
             "test": [
              0.7306165908,
              0.5225070364
             ]
            },
            {
             "iteration": 553,
             "learn": [
              0.7346167459,
              0.5298521189
             ],
             "passed_time": 91.73010858,
             "remaining_time": 239.4255181,
             "test": [
              0.7304305757,
              0.5224706217
             ]
            },
            {
             "iteration": 554,
             "learn": [
              0.7346783981,
              0.5298210058
             ],
             "passed_time": 91.87796383,
             "remaining_time": 239.2137977,
             "test": [
              0.7304827319,
              0.5224539224
             ]
            },
            {
             "iteration": 555,
             "learn": [
              0.7347281922,
              0.5298093099
             ],
             "passed_time": 92.03105253,
             "remaining_time": 239.015899,
             "test": [
              0.7304566563,
              0.5224467584
             ]
            },
            {
             "iteration": 556,
             "learn": [
              0.7346866547,
              0.5297417012
             ],
             "passed_time": 92.19366317,
             "remaining_time": 238.8428294,
             "test": [
              0.7305609284,
              0.5224304867
             ]
            },
            {
             "iteration": 557,
             "learn": [
              0.7347243109,
              0.529702704
             ],
             "passed_time": 92.34838821,
             "remaining_time": 238.649419,
             "test": [
              0.7304902814,
              0.5224260951
             ]
            },
            {
             "iteration": 558,
             "learn": [
              0.7347083207,
              0.5296844299
             ],
             "passed_time": 92.50848391,
             "remaining_time": 238.4699916,
             "test": [
              0.7304642166,
              0.5224192551
             ]
            },
            {
             "iteration": 559,
             "learn": [
              0.7347622237,
              0.5296434212
             ],
             "passed_time": 92.72440325,
             "remaining_time": 238.4341798,
             "test": [
              0.7305088025,
              0.5224004478
             ]
            },
            {
             "iteration": 560,
             "learn": [
              0.7347488152,
              0.5296096016
             ],
             "passed_time": 92.90289785,
             "remaining_time": 238.3017291,
             "test": [
              0.7306836863,
              0.522392151
             ]
            },
            {
             "iteration": 561,
             "learn": [
              0.734772552,
              0.5295780627
             ],
             "passed_time": 93.08004355,
             "remaining_time": 238.165663,
             "test": [
              0.7306576402,
              0.5223864673
             ]
            },
            {
             "iteration": 562,
             "learn": [
              0.7347581012,
              0.5295158663
             ],
             "passed_time": 93.29313829,
             "remaining_time": 238.1212073,
             "test": [
              0.7309217526,
              0.522362766
             ]
            },
            {
             "iteration": 563,
             "learn": [
              0.7348416862,
              0.529485847
             ],
             "passed_time": 93.4909453,
             "remaining_time": 238.0372295,
             "test": [
              0.7308584687,
              0.5223577052
             ]
            },
            {
             "iteration": 564,
             "learn": [
              0.7348829567,
              0.5294639214
             ],
             "passed_time": 93.68859629,
             "remaining_time": 237.9524525,
             "test": [
              0.7308064204,
              0.5223550602
             ]
            },
            {
             "iteration": 565,
             "learn": [
              0.7348331648,
              0.5294445429
             ],
             "passed_time": 93.87837322,
             "remaining_time": 237.8473272,
             "test": [
              0.7306130342,
              0.5223527737
             ]
            },
            {
             "iteration": 566,
             "learn": [
              0.7348736681,
              0.5293738918
             ],
             "passed_time": 94.04785826,
             "remaining_time": 237.6906189,
             "test": [
              0.730393579,
              0.522326093
             ]
            },
            {
             "iteration": 567,
             "learn": [
              0.734854326,
              0.5293425809
             ],
             "passed_time": 94.21391766,
             "remaining_time": 237.525229,
             "test": [
              0.7305088025,
              0.5223091185
             ]
            },
            {
             "iteration": 568,
             "learn": [
              0.7348796056,
              0.52931568
             ],
             "passed_time": 94.5311021,
             "remaining_time": 237.739907,
             "test": [
              0.730534868,
              0.5222992016
             ]
            },
            {
             "iteration": 569,
             "learn": [
              0.7348754898,
              0.5292929517
             ],
             "passed_time": 94.74198124,
             "remaining_time": 237.6860231,
             "test": [
              0.7305869839,
              0.5222938012
             ]
            },
            {
             "iteration": 570,
             "learn": [
              0.7348930093,
              0.5292556066
             ],
             "passed_time": 94.89077727,
             "remaining_time": 237.4762184,
             "test": [
              0.7305609284,
              0.5222800223
             ]
            },
            {
             "iteration": 571,
             "learn": [
              0.7348966563,
              0.5292388874
             ],
             "passed_time": 95.01675665,
             "remaining_time": 237.2096652,
             "test": [
              0.7306576402,
              0.5222805776
             ]
            },
            {
             "iteration": 572,
             "learn": [
              0.7349327536,
              0.5292082108
             ],
             "passed_time": 95.1660622,
             "remaining_time": 237.0016942,
             "test": [
              0.7305609284,
              0.5222791755
             ]
            },
            {
             "iteration": 573,
             "learn": [
              0.734938693,
              0.5292003403
             ],
             "passed_time": 95.31555257,
             "remaining_time": 236.7943867,
             "test": [
              0.730798994,
              0.5222756873
             ]
            },
            {
             "iteration": 574,
             "learn": [
              0.7350803342,
              0.5291572286
             ],
             "passed_time": 95.49710096,
             "remaining_time": 236.6667285,
             "test": [
              0.7305609284,
              0.5222629815
             ]
            },
            {
             "iteration": 575,
             "learn": [
              0.7350955704,
              0.5291017811
             ],
             "passed_time": 95.71467431,
             "remaining_time": 236.6279448,
             "test": [
              0.7305684455,
              0.5222530512
             ]
            },
            {
             "iteration": 576,
             "learn": [
              0.735124202,
              0.5290749646
             ],
             "passed_time": 95.92148379,
             "remaining_time": 236.5619955,
             "test": [
              0.7305423958,
              0.5222522832
             ]
            },
            {
             "iteration": 577,
             "learn": [
              0.7351048633,
              0.5290354787
             ],
             "passed_time": 96.08200039,
             "remaining_time": 236.3816688,
             "test": [
              0.7305944901,
              0.5222428103
             ]
            },
            {
             "iteration": 578,
             "learn": [
              0.7350862777,
              0.5290226164
             ],
             "passed_time": 96.24668948,
             "remaining_time": 236.2116507,
             "test": [
              0.7305944901,
              0.5222397044
             ]
            },
            {
             "iteration": 579,
             "learn": [
              0.7351308987,
              0.5289963261
             ],
             "passed_time": 96.4350215,
             "remaining_time": 236.0995354,
             "test": [
              0.7306130342,
              0.5222344084
             ]
            },
            {
             "iteration": 580,
             "learn": [
              0.7351368434,
              0.5289612809
             ],
             "passed_time": 96.67660973,
             "remaining_time": 236.1172276,
             "test": [
              0.7306651199,
              0.5222122053
             ]
            },
            {
             "iteration": 581,
             "learn": [
              0.7351907567,
              0.5289517715
             ],
             "passed_time": 96.84847802,
             "remaining_time": 235.9641612,
             "test": [
              0.7307097273,
              0.5222038485
             ]
            },
            {
             "iteration": 582,
             "learn": [
              0.735229787,
              0.5289187
             ],
             "passed_time": 97.01465353,
             "remaining_time": 235.7971939,
             "test": [
              0.7307803887,
              0.5221939673
             ]
            },
            {
             "iteration": 583,
             "learn": [
              0.735229787,
              0.5288896916
             ],
             "passed_time": 97.17994965,
             "remaining_time": 235.6280971,
             "test": [
              0.7308064204,
              0.5221815544
             ]
            },
            {
             "iteration": 584,
             "learn": [
              0.7351822123,
              0.5288329637
             ],
             "passed_time": 97.37212699,
             "remaining_time": 235.5240337,
             "test": [
              0.7307357633,
              0.5221432102
             ]
            },
            {
             "iteration": 585,
             "learn": [
              0.7352119442,
              0.528809148
             ],
             "passed_time": 97.51619282,
             "remaining_time": 235.3035779,
             "test": [
              0.7308250314,
              0.5221272208
             ]
            },
            {
             "iteration": 586,
             "learn": [
              0.7352580551,
              0.5287889832
             ],
             "passed_time": 97.70909529,
             "remaining_time": 235.2009398,
             "test": [
              0.7308064204,
              0.5221184833
             ]
            },
            {
             "iteration": 587,
             "learn": [
              0.7352301742,
              0.5287721098
             ],
             "passed_time": 97.83652322,
             "remaining_time": 234.9407666,
             "test": [
              0.7306390796,
              0.5221135063
             ]
            },
            {
             "iteration": 588,
             "learn": [
              0.7352260805,
              0.5287392062
             ],
             "passed_time": 97.94764021,
             "remaining_time": 234.64197,
             "test": [
              0.7307617943,
              0.5221054554
             ]
            },
            {
             "iteration": 589,
             "learn": [
              0.7353052711,
              0.5287058027
             ],
             "passed_time": 98.0908537,
             "remaining_time": 234.4205148,
             "test": [
              0.7308064204,
              0.5220920421
             ]
            },
            {
             "iteration": 590,
             "learn": [
              0.7353982301,
              0.5286752163
             ],
             "passed_time": 98.24313848,
             "remaining_time": 234.2209511,
             "test": [
              0.7308584687,
              0.5220702431
             ]
            },
            {
             "iteration": 591,
             "learn": [
              0.7354726142,
              0.5286595475
             ],
             "passed_time": 98.41780889,
             "remaining_time": 234.0747887,
             "test": [
              0.7307357633,
              0.522067405
             ]
            },
            {
             "iteration": 592,
             "learn": [
              0.7354514078,
              0.5286393518
             ],
             "passed_time": 98.57511039,
             "remaining_time": 233.8873193,
             "test": [
              0.7309031135,
              0.5220602455
             ]
            },
            {
             "iteration": 593,
             "learn": [
              0.7354807717,
              0.5286116226
             ],
             "passed_time": 98.78363944,
             "remaining_time": 233.8212072,
             "test": [
              0.7308584687,
              0.5220469992
             ]
            },
            {
             "iteration": 594,
             "learn": [
              0.7354740834,
              0.5285662593
             ],
             "passed_time": 98.97978056,
             "remaining_time": 233.7253642,
             "test": [
              0.7307432106,
              0.5220441403
             ]
            },
            {
             "iteration": 595,
             "learn": [
              0.7355298758,
              0.5285512844
             ],
             "passed_time": 99.12074094,
             "remaining_time": 233.4991951,
             "test": [
              0.7306911551,
              0.5220390542
             ]
            },
            {
             "iteration": 596,
             "learn": [
              0.7355506675,
              0.5285294281
             ],
             "passed_time": 99.26376336,
             "remaining_time": 233.2781574,
             "test": [
              0.7305759567,
              0.5220265487
             ]
            },
            {
             "iteration": 597,
             "learn": [
              0.7355513981,
              0.5285071438
             ],
             "passed_time": 99.41752377,
             "remaining_time": 233.0825557,
             "test": [
              0.7306019905,
              0.5220185764
             ]
            },
            {
             "iteration": 598,
             "learn": [
              0.7356250632,
              0.5284559444
             ],
             "passed_time": 99.60821687,
             "remaining_time": 232.9734755,
             "test": [
              0.7305944901,
              0.5219889408
             ]
            },
            {
             "iteration": 599,
             "learn": [
              0.7355930918,
              0.528429134
             ],
             "passed_time": 99.78013554,
             "remaining_time": 232.8203163,
             "test": [
              0.7306205297,
              0.5219652206
             ]
            },
            {
             "iteration": 600,
             "learn": [
              0.7356529655,
              0.5284104911
             ],
             "passed_time": 99.91468562,
             "remaining_time": 232.5801085,
             "test": [
              0.7305944901,
              0.5219628436
             ]
            },
            {
             "iteration": 601,
             "learn": [
              0.7357500506,
              0.5283883984
             ],
             "passed_time": 100.1118829,
             "remaining_time": 232.4857348,
             "test": [
              0.7306205297,
              0.5219510887
             ]
            },
            {
             "iteration": 602,
             "learn": [
              0.7358617027,
              0.528349689
             ],
             "passed_time": 100.3003344,
             "remaining_time": 232.370758,
             "test": [
              0.730523874,
              0.5219259336
             ]
            },
            {
             "iteration": 603,
             "learn": [
              0.7358822265,
              0.5283182266
             ],
             "passed_time": 100.4811332,
             "remaining_time": 232.237851,
             "test": [
              0.7305684455,
              0.5218975517
             ]
            },
            {
             "iteration": 604,
             "learn": [
              0.7358977277,
              0.528289609
             ],
             "passed_time": 100.6463265,
             "remaining_time": 232.0688023,
             "test": [
              0.7306390796,
              0.5218808501
             ]
            },
            {
             "iteration": 605,
             "learn": [
              0.7358996409,
              0.5282504303
             ],
             "passed_time": 100.8538323,
             "remaining_time": 231.9970994,
             "test": [
              0.7307357633,
              0.5218802948
             ]
            },
            {
             "iteration": 606,
             "learn": [
              0.7359089472,
              0.5282406524
             ],
             "passed_time": 100.9557717,
             "remaining_time": 231.6826853,
             "test": [
              0.7306651199,
              0.5218813387
             ]
            },
            {
             "iteration": 607,
             "learn": [
              0.7359781468,
              0.5281953992
             ],
             "passed_time": 101.1408737,
             "remaining_time": 231.5593686,
             "test": [
              0.7306390796,
              0.5218645829
             ]
            },
            {
             "iteration": 608,
             "learn": [
              0.7359955489,
              0.5281629418
             ],
             "passed_time": 101.27404,
             "remaining_time": 231.3172243,
             "test": [
              0.730754352,
              0.521858021
             ]
            },
            {
             "iteration": 609,
             "learn": [
              0.7360227632,
              0.5281428417
             ],
             "passed_time": 101.3991584,
             "remaining_time": 231.0570988,
             "test": [
              0.7307283103,
              0.5218409961
             ]
            },
            {
             "iteration": 610,
             "learn": [
              0.7360334842,
              0.5281021005
             ],
             "passed_time": 101.5853178,
             "remaining_time": 230.9361806,
             "test": [
              0.7307097273,
              0.5218216811
             ]
            },
            {
             "iteration": 611,
             "learn": [
              0.7360926692,
              0.5280532626
             ],
             "passed_time": 101.7711272,
             "remaining_time": 230.8142558,
             "test": [
              0.730754352,
              0.5218115635
             ]
            },
            {
             "iteration": 612,
             "learn": [
              0.7361253367,
              0.5280330464
             ],
             "passed_time": 101.937058,
             "remaining_time": 230.6471444,
             "test": [
              0.7306836863,
              0.5218016514
             ]
            },
            {
             "iteration": 613,
             "learn": [
              0.7362038442,
              0.5279954221
             ],
             "passed_time": 102.1078366,
             "remaining_time": 230.4909797,
             "test": [
              0.7306576402,
              0.5217969979
             ]
            },
            {
             "iteration": 614,
             "learn": [
              0.736233717,
              0.5279718582
             ],
             "passed_time": 102.3033634,
             "remaining_time": 230.3905013,
             "test": [
              0.730754352,
              0.521790169
             ]
            },
            {
             "iteration": 615,
             "learn": [
              0.7362303811,
              0.5279359007
             ],
             "passed_time": 102.5045771,
             "remaining_time": 230.3024915,
             "test": [
              0.7307097273,
              0.5217828193
             ]
            },
            {
             "iteration": 616,
             "learn": [
              0.7362143977,
              0.5279180141
             ],
             "passed_time": 102.6705551,
             "remaining_time": 230.135134,
             "test": [
              0.7306836863,
              0.5217765656
             ]
            },
            {
             "iteration": 617,
             "learn": [
              0.7362769402,
              0.5278951001
             ],
             "passed_time": 102.8157545,
             "remaining_time": 229.9213151,
             "test": [
              0.7305869839,
              0.5217747024
             ]
            },
            {
             "iteration": 618,
             "learn": [
              0.7362656819,
              0.5278694929
             ],
             "passed_time": 103.023493,
             "remaining_time": 229.8472437,
             "test": [
              0.7307097273,
              0.5217724245
             ]
            },
            {
             "iteration": 619,
             "learn": [
              0.7363528281,
              0.5278440553
             ],
             "passed_time": 103.1971718,
             "remaining_time": 229.6969308,
             "test": [
              0.7308064204,
              0.5217539744
             ]
            },
            {
             "iteration": 620,
             "learn": [
              0.7363535185,
              0.5278181204
             ],
             "passed_time": 103.3433073,
             "remaining_time": 229.4853796,
             "test": [
              0.7306651199,
              0.5217451377
             ]
            },
            {
             "iteration": 621,
             "learn": [
              0.7363535185,
              0.5278095977
             ],
             "passed_time": 103.4886066,
             "remaining_time": 229.2721864,
             "test": [
              0.7306390796,
              0.521744594
             ]
            },
            {
             "iteration": 622,
             "learn": [
              0.7363714553,
              0.5277852329
             ],
             "passed_time": 103.6256103,
             "remaining_time": 229.0408754,
             "test": [
              0.7306651199,
              0.5217314629
             ]
            },
            {
             "iteration": 623,
             "learn": [
              0.7364360693,
              0.5277537352
             ],
             "passed_time": 103.777237,
             "remaining_time": 228.8421124,
             "test": [
              0.7306836863,
              0.5217219969
             ]
            },
            {
             "iteration": 624,
             "learn": [
              0.7364320496,
              0.5277209392
             ],
             "passed_time": 103.9409589,
             "remaining_time": 228.6701096,
             "test": [
              0.7308250314,
              0.5216804584
             ]
            },
            {
             "iteration": 625,
             "learn": [
              0.7364294025,
              0.5276934753
             ],
             "passed_time": 104.1068078,
             "remaining_time": 228.5028018,
             "test": [
              0.7306130342,
              0.5216794405
             ]
            },
            {
             "iteration": 626,
             "learn": [
              0.7364779397,
              0.5276562271
             ],
             "passed_time": 104.2787144,
             "remaining_time": 228.3487638,
             "test": [
              0.7305423958,
              0.5216701351
             ]
            },
            {
             "iteration": 627,
             "learn": [
              0.7365092215,
              0.527634794
             ],
             "passed_time": 104.4614418,
             "remaining_time": 228.2183091,
             "test": [
              0.7306836863,
              0.5216693332
             ]
            },
            {
             "iteration": 628,
             "learn": [
              0.7365531549,
              0.5275919962
             ],
             "passed_time": 104.6458293,
             "remaining_time": 228.0913069,
             "test": [
              0.7307022635,
              0.5216710683
             ]
            },
            {
             "iteration": 629,
             "learn": [
              0.7365431568,
              0.5275374126
             ],
             "passed_time": 104.824641,
             "remaining_time": 227.951997,
             "test": [
              0.7307283103,
              0.5216679648
             ]
            },
            {
             "iteration": 630,
             "learn": [
              0.7365485315,
              0.5275037971
             ],
             "passed_time": 105.0323116,
             "remaining_time": 227.8751737,
             "test": [
              0.7308064204,
              0.5216624705
             ]
            },
            {
             "iteration": 631,
             "learn": [
              0.7366204131,
              0.527457129
             ],
             "passed_time": 105.2240704,
             "remaining_time": 227.7634942,
             "test": [
              0.7309217526,
              0.5216468238
             ]
            },
            {
             "iteration": 632,
             "learn": [
              0.7366457113,
              0.527442481
             ],
             "passed_time": 105.3751637,
             "remaining_time": 227.5637422,
             "test": [
              0.7308584687,
              0.5216422986
             ]
            },
            {
             "iteration": 633,
             "learn": [
              0.7366404007,
              0.527419687
             ],
             "passed_time": 105.5647246,
             "remaining_time": 227.4470249,
             "test": [
              0.7309477756,
              0.5216270374
             ]
            },
            {
             "iteration": 634,
             "learn": [
              0.7366284291,
              0.5273931409
             ],
             "passed_time": 105.725074,
             "remaining_time": 227.267285,
             "test": [
              0.7310891855,
              0.5216248897
             ]
            },
            {
             "iteration": 635,
             "learn": [
              0.7366224437,
              0.5273732542
             ],
             "passed_time": 105.8970897,
             "remaining_time": 227.1126264,
             "test": [
              0.7309477756,
              0.5216104856
             ]
            },
            {
             "iteration": 636,
             "learn": [
              0.7366537241,
              0.5273435195
             ],
             "passed_time": 106.0988582,
             "remaining_time": 227.0215757,
             "test": [
              0.7310891855,
              0.521608152
             ]
            },
            {
             "iteration": 637,
             "learn": [
              0.7366058445,
              0.5273198542
             ],
             "passed_time": 106.2519824,
             "remaining_time": 226.8263324,
             "test": [
              0.7310631711,
              0.5216101706
             ]
            },
            {
             "iteration": 638,
             "learn": [
              0.7365093815,
              0.5272953644
             ],
             "passed_time": 106.4794406,
             "remaining_time": 226.7895441,
             "test": [
              0.730992455,
              0.5216052405
             ]
            },
            {
             "iteration": 639,
             "learn": [
              0.7366211431,
              0.5272388351
             ],
             "passed_time": 106.6485892,
             "remaining_time": 226.628252,
             "test": [
              0.7309217526,
              0.5215851123
             ]
            },
            {
             "iteration": 640,
             "learn": [
              0.736768221,
              0.5272076807
             ],
             "passed_time": 106.8132744,
             "remaining_time": 226.4574725,
             "test": [
              0.7308584687,
              0.521577856
             ]
            },
            {
             "iteration": 641,
             "learn": [
              0.7367635715,
              0.5271807452
             ],
             "passed_time": 106.9704322,
             "remaining_time": 226.2707897,
             "test": [
              0.7309811503,
              0.5215590017
             ]
            },
            {
             "iteration": 642,
             "learn": [
              0.7368414397,
              0.5271474212
             ],
             "passed_time": 107.1604769,
             "remaining_time": 226.1536036,
             "test": [
              0.7309291308,
              0.5215375967
             ]
            },
            {
             "iteration": 643,
             "learn": [
              0.7368421053,
              0.5271242577
             ],
             "passed_time": 107.3714493,
             "remaining_time": 226.0802566,
             "test": [
              0.7309885013,
              0.5215367751
             ]
            },
            {
             "iteration": 644,
             "learn": [
              0.7368387774,
              0.5271131128
             ],
             "passed_time": 107.5230506,
             "remaining_time": 225.8817574,
             "test": [
              0.7309885013,
              0.5215358939
             ]
            },
            {
             "iteration": 645,
             "learn": [
              0.7368933512,
              0.5270770536
             ],
             "passed_time": 107.7011176,
             "remaining_time": 225.738875,
             "test": [
              0.7308658678,
              0.5215207688
             ]
            },
            {
             "iteration": 646,
             "learn": [
              0.7368015073,
              0.5270277822
             ],
             "passed_time": 107.8541259,
             "remaining_time": 225.5434812,
             "test": [
              0.730821256,
              0.5215022457
             ]
            },
            {
             "iteration": 647,
             "learn": [
              0.7368101573,
              0.5269907396
             ],
             "passed_time": 108.0193561,
             "remaining_time": 225.3737182,
             "test": [
              0.7309885013,
              0.521490619
             ]
            },
            {
             "iteration": 648,
             "learn": [
              0.7368134856,
              0.526966442
             ],
             "passed_time": 108.1991597,
             "remaining_time": 225.2343062,
             "test": [
              0.7309885013,
              0.5214972491
             ]
            },
            {
             "iteration": 649,
             "learn": [
              0.7369226489,
              0.5269212397
             ],
             "passed_time": 108.384813,
             "remaining_time": 225.1069192,
             "test": [
              0.7309625048,
              0.5214798454
             ]
            },
            {
             "iteration": 650,
             "learn": [
              0.7369625985,
              0.5269015272
             ],
             "passed_time": 108.5602324,
             "remaining_time": 224.9581468,
             "test": [
              0.7310071525,
              0.5214717099
             ]
            },
            {
             "iteration": 651,
             "learn": [
              0.7369539372,
              0.526867785
             ],
             "passed_time": 108.7177944,
             "remaining_time": 224.7723724,
             "test": [
              0.7310778154,
              0.5214611945
             ]
            },
            {
             "iteration": 652,
             "learn": [
              0.7370264972,
              0.5268379125
             ],
             "passed_time": 108.8776951,
             "remaining_time": 224.5915088,
             "test": [
              0.7310591419,
              0.5214422381
             ]
            },
            {
             "iteration": 653,
             "learn": [
              0.7369772236,
              0.526809574
             ],
             "passed_time": 109.0410463,
             "remaining_time": 224.4178109,
             "test": [
              0.7308918736,
              0.5214105113
             ]
            },
            {
             "iteration": 654,
             "learn": [
              0.7369692218,
              0.5267711292
             ],
             "passed_time": 109.242042,
             "remaining_time": 224.321445,
             "test": [
              0.7308918736,
              0.5214043001
             ]
            },
            {
             "iteration": 655,
             "learn": [
              0.7370031741,
              0.5267307546
             ],
             "passed_time": 109.3851953,
             "remaining_time": 224.1062539,
             "test": [
              0.7307692308,
              0.5213852657
             ]
            },
            {
             "iteration": 656,
             "learn": [
              0.7369998482,
              0.5266990915
             ],
             "passed_time": 109.5079827,
             "remaining_time": 223.8496511,
             "test": [
              0.7307246377,
              0.521367709
             ]
            },
            {
             "iteration": 657,
             "learn": [
              0.7371735694,
              0.5266674678
             ],
             "passed_time": 109.6951547,
             "remaining_time": 223.7247685,
             "test": [
              0.7307246377,
              0.5213612543
             ]
            },
            {
             "iteration": 658,
             "learn": [
              0.7371895392,
              0.5266383372
             ],
             "passed_time": 109.8617307,
             "remaining_time": 223.5577858,
             "test": [
              0.7306986182,
              0.5213614529
             ]
            },
            {
             "iteration": 659,
             "learn": [
              0.737182892,
              0.5266124832
             ],
             "passed_time": 110.0495927,
             "remaining_time": 223.4340215,
             "test": [
              0.7308026659,
              0.5213640736
             ]
            },
            {
             "iteration": 660,
             "learn": [
              0.7372401234,
              0.5265756236
             ],
             "passed_time": 110.2565394,
             "remaining_time": 223.3487236,
             "test": [
              0.7307766615,
              0.5213499128
             ]
            },
            {
             "iteration": 661,
             "learn": [
              0.7372115081,
              0.5265479046
             ],
             "passed_time": 110.4292272,
             "remaining_time": 223.1938157,
             "test": [
              0.7307060755,
              0.5213387828
             ]
            },
            {
             "iteration": 662,
             "learn": [
              0.7373232847,
              0.5265195448
             ],
             "passed_time": 110.6204436,
             "remaining_time": 223.0762188,
             "test": [
              0.7307320842,
              0.5213306467
             ]
            },
            {
             "iteration": 663,
             "learn": [
              0.7373964722,
              0.5264823785
             ],
             "passed_time": 110.8133884,
             "remaining_time": 222.9618778,
             "test": [
              0.7307060755,
              0.5213099805
             ]
            },
            {
             "iteration": 664,
             "learn": [
              0.7374370906,
              0.5264579167
             ],
             "passed_time": 110.9641296,
             "remaining_time": 222.7625759,
             "test": [
              0.7307766615,
              0.5213036407
             ]
            },
            {
             "iteration": 665,
             "learn": [
              0.7374803986,
              0.5264299865
             ],
             "passed_time": 111.1204218,
             "remaining_time": 222.5745386,
             "test": [
              0.7307766615,
              0.5212630917
             ]
            },
            {
             "iteration": 666,
             "learn": [
              0.7374909905,
              0.5263985105
             ],
             "passed_time": 111.3190546,
             "remaining_time": 222.4712141,
             "test": [
              0.7306615162,
              0.5212490515
             ]
            },
            {
             "iteration": 667,
             "learn": [
              0.7375256063,
              0.5263614302
             ],
             "passed_time": 111.5265569,
             "remaining_time": 222.3852901,
             "test": [
              0.7306875241,
              0.5212535242
             ]
            },
            {
             "iteration": 668,
             "learn": [
              0.7374976291,
              0.5263412079
             ],
             "passed_time": 111.7113307,
             "remaining_time": 222.2537836,
             "test": [
              0.7308026659,
              0.5212508148
             ]
            },
            {
             "iteration": 669,
             "learn": [
              0.7374969968,
              0.5263164722
             ],
             "passed_time": 111.8772492,
             "remaining_time": 222.0846887,
             "test": [
              0.7308026659,
              0.5212422034
             ]
            },
            {
             "iteration": 670,
             "learn": [
              0.7375656023,
              0.5262963614
             ],
             "passed_time": 112.0222388,
             "remaining_time": 221.8741511,
             "test": [
              0.7308732612,
              0.5212433552
             ]
            },
            {
             "iteration": 671,
             "learn": [
              0.7375809389,
              0.5262607284
             ],
             "passed_time": 112.1726149,
             "remaining_time": 221.6744532,
             "test": [
              0.7306615162,
              0.5212288977
             ]
            },
            {
             "iteration": 672,
             "learn": [
              0.7375987861,
              0.5262237689
             ],
             "passed_time": 112.3512611,
             "remaining_time": 221.5306441,
             "test": [
              0.7307580879,
              0.5212130796
             ]
            },
            {
             "iteration": 673,
             "learn": [
              0.7376267672,
              0.5261913539
             ],
             "passed_time": 112.5904455,
             "remaining_time": 221.505832,
             "test": [
              0.7307580879,
              0.5212171532
             ]
            },
            {
             "iteration": 674,
             "learn": [
              0.7376999431,
              0.5261613094
             ],
             "passed_time": 112.7732426,
             "remaining_time": 221.3696985,
             "test": [
              0.731092437,
              0.5212112838
             ]
            },
            {
             "iteration": 675,
             "learn": [
              0.7377159042,
              0.5261437357
             ],
             "passed_time": 112.9106295,
             "remaining_time": 221.1444874,
             "test": [
              0.7309512313,
              0.5212117456
             ]
            },
            {
             "iteration": 676,
             "learn": [
              0.7376833586,
              0.5261088131
             ],
             "passed_time": 113.055802,
             "remaining_time": 220.9347505,
             "test": [
              0.7308620523,
              0.5212043353
             ]
            },
            {
             "iteration": 677,
             "learn": [
              0.7376707132,
              0.5260789861
             ],
             "passed_time": 113.208769,
             "remaining_time": 220.7404022,
             "test": [
              0.7308806489,
              0.5211732668
             ]
            },
            {
             "iteration": 678,
             "learn": [
              0.7376035409,
              0.5260521622
             ],
             "passed_time": 113.3846912,
             "remaining_time": 220.5908352,
             "test": [
              0.731047803,
              0.5211622229
             ]
            },
            {
             "iteration": 679,
             "learn": [
              0.737706784,
              0.52601914
             ],
             "passed_time": 113.5403544,
             "remaining_time": 220.4018644,
             "test": [
              0.7309066332,
              0.5211434178
             ]
            },
            {
             "iteration": 680,
             "learn": [
              0.7377347752,
              0.5259871145
             ],
             "passed_time": 113.6922915,
             "remaining_time": 220.2057745,
             "test": [
              0.7308620523,
              0.5211391426
             ]
            },
            {
             "iteration": 681,
             "learn": [
              0.7378438192,
              0.5259380183
             ],
             "passed_time": 113.8628701,
             "remaining_time": 220.04584,
             "test": [
              0.7307655179,
              0.5211082267
             ]
            },
            {
             "iteration": 682,
             "learn": [
              0.7378116624,
              0.5258920337
             ],
             "passed_time": 114.0517086,
             "remaining_time": 219.9210837,
             "test": [
              0.730739525,
              0.5210865635
             ]
            },
            {
             "iteration": 683,
             "learn": [
              0.737786993,
              0.5258716457
             ],
             "passed_time": 114.2107511,
             "remaining_time": 219.7388135,
             "test": [
              0.7308100801,
              0.5210775964
             ]
            },
            {
             "iteration": 684,
             "learn": [
              0.73783425,
              0.5258239621
             ],
             "passed_time": 114.4212141,
             "remaining_time": 219.6553235,
             "test": [
              0.7310737737,
              0.5210457534
             ]
            },
            {
             "iteration": 685,
             "learn": [
              0.7378222228,
              0.5258009093
             ],
             "passed_time": 114.5984595,
             "remaining_time": 219.5078365,
             "test": [
              0.7310031863,
              0.5210288035
             ]
            },
            {
             "iteration": 686,
             "learn": [
              0.7377990189,
              0.52577515
             ],
             "passed_time": 114.7710678,
             "remaining_time": 219.3514003,
             "test": [
              0.7308620523,
              0.5210133345
             ]
            },
            {
             "iteration": 687,
             "learn": [
              0.737802334,
              0.5257478075
             ],
             "passed_time": 114.9752838,
             "remaining_time": 219.2551924,
             "test": [
              0.7308360687,
              0.5210052925
             ]
            },
            {
             "iteration": 688,
             "learn": [
              0.7378216069,
              0.5257279997
             ],
             "passed_time": 115.1552063,
             "remaining_time": 219.1124462,
             "test": [
              0.7308360687,
              0.5210022535
             ]
            },
            {
             "iteration": 689,
             "learn": [
              0.7378408789,
              0.5256898154
             ],
             "passed_time": 115.3150509,
             "remaining_time": 218.9314734,
             "test": [
              0.7308546596,
              0.5210010342
             ]
            },
            {
             "iteration": 690,
             "learn": [
              0.7378881359,
              0.5256666233
             ],
             "passed_time": 115.5151846,
             "remaining_time": 218.8268837,
             "test": [
              0.7308546596,
              0.5209974277
             ]
            },
            {
             "iteration": 691,
             "learn": [
              0.7378114295,
              0.5256321214
             ],
             "passed_time": 115.687658,
             "remaining_time": 218.6697351,
             "test": [
              0.7309512313,
              0.5209881927
             ]
            },
            {
             "iteration": 692,
             "learn": [
              0.7379005246,
              0.5256208726
             ],
             "passed_time": 115.8677819,
             "remaining_time": 218.5269711,
             "test": [
              0.7309772113,
              0.5209844563
             ]
            },
            {
             "iteration": 693,
             "learn": [
              0.7378505795,
              0.5255757062
             ],
             "passed_time": 116.0675037,
             "remaining_time": 218.4209796,
             "test": [
              0.7309772113,
              0.5209569096
             ]
            },
            {
             "iteration": 694,
             "learn": [
              0.7378746318,
              0.5255515449
             ],
             "passed_time": 116.2359923,
             "remaining_time": 218.2560718,
             "test": [
              0.7309326125,
              0.5209507684
             ]
            },
            {
             "iteration": 695,
             "learn": [
              0.7378159757,
              0.5255251636
             ],
             "passed_time": 116.3957096,
             "remaining_time": 218.0747202,
             "test": [
              0.7309585867,
              0.5209430208
             ]
            },
            {
             "iteration": 696,
             "learn": [
              0.7378984353,
              0.5254872176
             ],
             "passed_time": 116.5739084,
             "remaining_time": 217.9279808,
             "test": [
              0.730984556,
              0.5209340572
             ]
            },
            {
             "iteration": 697,
             "learn": [
              0.7379856915,
              0.5254422414
             ],
             "passed_time": 116.7406595,
             "remaining_time": 217.7597975,
             "test": [
              0.7311443747,
              0.5209098565
             ]
            },
            {
             "iteration": 698,
             "learn": [
              0.7379637237,
              0.5254147776
             ],
             "passed_time": 116.9184229,
             "remaining_time": 217.6121146,
             "test": [
              0.7311443747,
              0.5209041091
             ]
            },
            {
             "iteration": 699,
             "learn": [
              0.7379796754,
              0.5253844241
             ],
             "passed_time": 117.0522396,
             "remaining_time": 217.3827307,
             "test": [
              0.7311516556,
              0.5208867915
             ]
            },
            {
             "iteration": 700,
             "learn": [
              0.7379703477,
              0.5253610235
             ],
             "passed_time": 117.2324759,
             "remaining_time": 217.239638,
             "test": [
              0.7311256999,
              0.5208795386
             ]
            },
            {
             "iteration": 701,
             "learn": [
              0.7380907241,
              0.5253327331
             ],
             "passed_time": 117.4668932,
             "remaining_time": 217.1966202,
             "test": [
              0.7312409464,
              0.5208586714
             ]
            },
            {
             "iteration": 702,
             "learn": [
              0.7380133957,
              0.5253258529
             ],
             "passed_time": 117.6428603,
             "remaining_time": 217.0452202,
             "test": [
              0.7312409464,
              0.5208609338
             ]
            },
            {
             "iteration": 703,
             "learn": [
              0.7380768793,
              0.5252917666
             ],
             "passed_time": 117.8388531,
             "remaining_time": 216.9306159,
             "test": [
              0.7312149894,
              0.5208516096
             ]
            },
            {
             "iteration": 704,
             "learn": [
              0.7381163085,
              0.5252612274
             ],
             "passed_time": 118.0282603,
             "remaining_time": 216.8036839,
             "test": [
              0.7311443747,
              0.5208440506
             ]
            },
            {
             "iteration": 705,
             "learn": [
              0.7381148007,
              0.5252373152
             ],
             "passed_time": 118.198157,
             "remaining_time": 216.6408146,
             "test": [
              0.731170336,
              0.5208418976
             ]
            },
            {
             "iteration": 706,
             "learn": [
              0.7381214213,
              0.5252107014
             ],
             "passed_time": 118.3539997,
             "remaining_time": 216.4522229,
             "test": [
              0.7310031863,
              0.5208356083
             ]
            },
            {
             "iteration": 707,
             "learn": [
              0.7380076599,
              0.5251723437
             ],
             "passed_time": 118.5758706,
             "remaining_time": 216.3842158,
             "test": [
              0.7310997393,
              0.5208205404
             ]
            },
            {
             "iteration": 708,
             "learn": [
              0.7380714638,
              0.5251096718
             ],
             "passed_time": 118.8100902,
             "remaining_time": 216.3382602,
             "test": [
              0.731107036,
              0.5207907993
             ]
            },
            {
             "iteration": 709,
             "learn": [
              0.7380088725,
              0.5250841554
             ],
             "passed_time": 119.0007123,
             "remaining_time": 216.2125617,
             "test": [
              0.7310624337,
              0.5207834214
             ]
            },
            {
             "iteration": 710,
             "learn": [
              0.7379607516,
              0.5250503295
             ],
             "passed_time": 119.1876204,
             "remaining_time": 216.0799476,
             "test": [
              0.7310105202,
              0.5207753673
             ]
            },
            {
             "iteration": 711,
             "learn": [
              0.738093132,
              0.5250053685
             ],
             "passed_time": 119.3847658,
             "remaining_time": 215.9657,
             "test": [
              0.7310551212,
              0.5207729828
             ]
            },
            {
             "iteration": 712,
             "learn": [
              0.7379872386,
              0.5249807351
             ],
             "passed_time": 119.5538309,
             "remaining_time": 215.8005335,
             "test": [
              0.730984556,
              0.5207549736
             ]
            },
            {
             "iteration": 713,
             "learn": [
              0.7380392752,
              0.5249420459
             ],
             "passed_time": 119.7278935,
             "remaining_time": 215.6443572,
             "test": [
              0.7310810811,
              0.5207430237
             ]
            },
            {
             "iteration": 714,
             "learn": [
              0.7380573248,
              0.5249180578
             ],
             "passed_time": 119.902819,
             "remaining_time": 215.4896818,
             "test": [
              0.7310551212,
              0.520738488
             ]
            },
            {
             "iteration": 715,
             "learn": [
              0.7380458957,
              0.5248988699
             ],
             "passed_time": 120.0717122,
             "remaining_time": 215.3241319,
             "test": [
              0.731107036,
              0.5207311536
             ]
            },
            {
             "iteration": 716,
             "learn": [
              0.7380777882,
              0.5248381346
             ],
             "passed_time": 120.2404597,
             "remaining_time": 215.1583121,
             "test": [
              0.7310810811,
              0.5206985978
             ]
            },
            {
             "iteration": 717,
             "learn": [
              0.7380756839,
              0.5248129727
             ],
             "passed_time": 120.3893185,
             "remaining_time": 214.9569727,
             "test": [
              0.7310364794,
              0.520698716
             ]
            },
            {
             "iteration": 718,
             "learn": [
              0.7381903197,
              0.5247943006
             ],
             "passed_time": 120.5355112,
             "remaining_time": 214.7510289,
             "test": [
              0.7311329859,
              0.5206984889
             ]
            },
            {
             "iteration": 719,
             "learn": [
              0.7381214074,
              0.5247426856
             ],
             "passed_time": 120.7714636,
             "remaining_time": 214.7048242,
             "test": [
              0.7312294924,
              0.5206916119
             ]
            },
            {
             "iteration": 720,
             "learn": [
              0.7381713434,
              0.5247168735
             ],
             "passed_time": 121.0000193,
             "remaining_time": 214.6449718,
             "test": [
              0.7312813585,
              0.520679101
             ]
            },
            {
             "iteration": 721,
             "learn": [
              0.7381893992,
              0.524700558
             ],
             "passed_time": 121.2367925,
             "remaining_time": 214.5991978,
             "test": [
              0.7314225053,
              0.5206841379
             ]
            },
            {
             "iteration": 722,
             "learn": [
              0.7382125531,
              0.5246851435
             ],
             "passed_time": 121.4457485,
             "remaining_time": 214.5037633,
             "test": [
              0.7311921296,
              0.5206748526
             ]
            },
            {
             "iteration": 723,
             "learn": [
              0.7382477418,
              0.5246646119
             ],
             "passed_time": 121.6935393,
             "remaining_time": 214.4764587,
             "test": [
              0.7312626604,
              0.5206724886
             ]
            },
            {
             "iteration": 724,
             "learn": [
              0.7383037057,
              0.5246512894
             ],
             "passed_time": 121.919674,
             "remaining_time": 214.4104611,
             "test": [
              0.7312367355,
              0.5206732167
             ]
            },
            {
             "iteration": 725,
             "learn": [
              0.7383042967,
              0.5246211829
             ],
             "passed_time": 122.0511576,
             "remaining_time": 214.1779267,
             "test": [
              0.7312367355,
              0.520674885
             ]
            },
            {
             "iteration": 726,
             "learn": [
              0.7384261599,
              0.5245455701
             ],
             "passed_time": 122.2585356,
             "remaining_time": 214.0785637,
             "test": [
              0.7311402663,
              0.5206426566
             ]
            },
            {
             "iteration": 727,
             "learn": [
              0.7383783374,
              0.5245210033
             ],
             "passed_time": 122.4433065,
             "remaining_time": 213.9394036,
             "test": [
              0.7311402663,
              0.5206386427
             ]
            },
            {
             "iteration": 728,
             "learn": [
              0.7383338177,
              0.5245015955
             ],
             "passed_time": 122.5997722,
             "remaining_time": 213.7507688,
             "test": [
              0.7312108056,
              0.5206340485
             ]
            },
            {
             "iteration": 729,
             "learn": [
              0.7383563721,
              0.5244758627
             ],
             "passed_time": 122.8205244,
             "remaining_time": 213.6740629,
             "test": [
              0.7313706564,
              0.5206153838
             ]
            },
            {
             "iteration": 730,
             "learn": [
              0.7383859064,
              0.524445374
             ],
             "passed_time": 123.0219739,
             "remaining_time": 213.563454,
             "test": [
              0.7314412588,
              0.5206120058
             ]
            },
            {
             "iteration": 731,
             "learn": [
              0.7384238196,
              0.5244295295
             ],
             "passed_time": 123.2126421,
             "remaining_time": 213.433921,
             "test": [
              0.7313447244,
              0.5206153137
             ]
            },
            {
             "iteration": 732,
             "learn": [
              0.7385513546,
              0.5243848691
             ],
             "passed_time": 123.3909904,
             "remaining_time": 213.282926,
             "test": [
              0.7315377932,
              0.5205970074
             ]
            },
            {
             "iteration": 733,
             "learn": [
              0.7385947176,
              0.5243695402
             ],
             "passed_time": 123.5810682,
             "remaining_time": 213.1520877,
             "test": [
              0.7314859515,
              0.5206028391
             ]
            },
            {
             "iteration": 734,
             "learn": [
              0.7386106583,
              0.5243205131
             ],
             "passed_time": 123.9091424,
             "remaining_time": 213.258592,
             "test": [
              0.7315306615,
              0.5205952886
             ]
            },
            {
             "iteration": 735,
             "learn": [
              0.7385146063,
              0.5242807698
             ],
             "passed_time": 124.0883879,
             "remaining_time": 213.1083183,
             "test": [
              0.7311776062,
              0.5205687452
             ]
            },
            {
             "iteration": 736,
             "learn": [
              0.7385552369,
              0.5242592516
             ],
             "passed_time": 124.275446,
             "remaining_time": 212.9713546,
             "test": [
              0.7312035518,
              0.5205588971
             ]
            },
            {
             "iteration": 737,
             "learn": [
              0.738557962,
              0.5242161421
             ],
             "passed_time": 124.4543723,
             "remaining_time": 212.8203495,
             "test": [
              0.7316013135,
              0.5205525943
             ]
            },
            {
             "iteration": 738,
             "learn": [
              0.7385760501,
              0.5241973115
             ],
             "passed_time": 124.6211263,
             "remaining_time": 212.6484983,
             "test": [
              0.7316272332,
              0.5205407538
             ]
            },
            {
             "iteration": 739,
             "learn": [
              0.7386161137,
              0.5241839561
             ],
             "passed_time": 124.8388484,
             "remaining_time": 212.5634445,
             "test": [
              0.7316272332,
              0.5205427067
             ]
            },
            {
             "iteration": 740,
             "learn": [
              0.7386804494,
              0.5241344024
             ],
             "passed_time": 125.0562837,
             "remaining_time": 212.4775454,
             "test": [
              0.7313893985,
              0.5205326584
             ]
            },
            {
             "iteration": 741,
             "learn": [
              0.7387117565,
              0.5241108269
             ],
             "passed_time": 125.2504076,
             "remaining_time": 212.3517693,
             "test": [
              0.7314859515,
              0.5205346404
             ]
            },
            {
             "iteration": 742,
             "learn": [
              0.7387578676,
              0.5240936323
             ],
             "passed_time": 125.3992111,
             "remaining_time": 212.1491363,
             "test": [
              0.7316978945,
              0.5205370675
             ]
            },
            {
             "iteration": 743,
             "learn": [
              0.7387568394,
              0.5240491515
             ],
             "passed_time": 125.5893658,
             "remaining_time": 212.0164562,
             "test": [
              0.7315306615,
              0.5205268817
             ]
            },
            {
             "iteration": 744,
             "learn": [
              0.738784846,
              0.524021799
             ],
             "passed_time": 125.7835367,
             "remaining_time": 211.8903874,
             "test": [
              0.7314787984,
              0.5205260413
             ]
            },
            {
             "iteration": 745,
             "learn": [
              0.7388622777,
              0.5240078146
             ],
             "passed_time": 125.9407739,
             "remaining_time": 211.7020516,
             "test": [
              0.7314600232,
              0.520520787
             ]
            },
            {
             "iteration": 746,
             "learn": [
              0.7388617146,
              0.5239956736
             ],
             "passed_time": 126.1163609,
             "remaining_time": 211.5445786,
             "test": [
              0.7314600232,
              0.5205148583
             ]
            },
            {
             "iteration": 747,
             "learn": [
              0.7388529397,
              0.5239778006
             ],
             "passed_time": 126.2798165,
             "remaining_time": 211.3667517,
             "test": [
              0.7313187874,
              0.5205141963
             ]
            },
            {
             "iteration": 748,
             "learn": [
              0.7388320928,
              0.5239250381
             ],
             "passed_time": 126.4882103,
             "remaining_time": 211.2640202,
             "test": [
              0.73124819,
              0.5204983188
             ]
            },
            {
             "iteration": 749,
             "learn": [
              0.7388068189,
              0.5239008817
             ],
             "passed_time": 126.6671084,
             "remaining_time": 211.1118473,
             "test": [
              0.7312928454,
              0.5204928878
             ]
            },
            {
             "iteration": 750,
             "learn": [
              0.7388073847,
              0.5238712151
             ],
             "passed_time": 126.8215389,
             "remaining_time": 210.9189108,
             "test": [
              0.7313893985,
              0.5204710643
             ]
            },
            {
             "iteration": 751,
             "learn": [
              0.7387700433,
              0.5238520541
             ],
             "passed_time": 126.9748842,
             "remaining_time": 210.7242758,
             "test": [
              0.7314081514,
              0.5204704537
             ]
            },
            {
             "iteration": 752,
             "learn": [
              0.7387513741,
              0.5238409379
             ],
             "passed_time": 127.2169836,
             "remaining_time": 210.6767312,
             "test": [
              0.7313115704,
              0.5204634106
             ]
            },
            {
             "iteration": 753,
             "learn": [
              0.7388403856,
              0.5238131911
             ],
             "passed_time": 127.3913134,
             "remaining_time": 210.5166797,
             "test": [
              0.7312222437,
              0.5204467944
             ]
            },
            {
             "iteration": 754,
             "learn": [
              0.7389134555,
              0.523773149
             ],
             "passed_time": 127.5705782,
             "remaining_time": 210.3647284,
             "test": [
              0.7313447244,
              0.5204266051
             ]
            },
            {
             "iteration": 755,
             "learn": [
              0.738962319,
              0.5237518132
             ],
             "passed_time": 127.7552768,
             "remaining_time": 210.221646,
             "test": [
              0.7313187874,
              0.5204142102
             ]
            },
            {
             "iteration": 756,
             "learn": [
              0.7389535398,
              0.5237226961
             ],
             "passed_time": 127.9862881,
             "remaining_time": 210.1544995,
             "test": [
              0.7314340898,
              0.5204100039
             ]
            },
            {
             "iteration": 757,
             "learn": [
              0.7389387239,
              0.5236976122
             ],
             "passed_time": 128.2060068,
             "remaining_time": 210.0684175,
             "test": [
              0.7313187874,
              0.5204046685
             ]
            },
            {
             "iteration": 758,
             "learn": [
              0.7389381649,
              0.5236786139
             ],
             "passed_time": 128.3800445,
             "remaining_time": 209.9072928,
             "test": [
              0.7313965833,
              0.52040649
             ]
            },
            {
             "iteration": 759,
             "learn": [
              0.7390447309,
              0.5236423556
             ],
             "passed_time": 128.6065446,
             "remaining_time": 209.8317306,
             "test": [
              0.7315235243,
              0.5203696645
             ]
            },
            {
             "iteration": 760,
             "learn": [
              0.739151313,
              0.5236216411
             ],
             "passed_time": 128.8105826,
             "remaining_time": 209.7192008,
             "test": [
              0.7313822081,
              0.5203563796
             ]
            },
            {
             "iteration": 761,
             "learn": [
              0.7391584534,
              0.5235951702
             ],
             "passed_time": 128.9671238,
             "remaining_time": 209.5292642,
             "test": [
              0.7314975845,
              0.5203439245
             ]
            },
            {
             "iteration": 762,
             "learn": [
              0.7392282227,
              0.5235591388
             ],
             "passed_time": 129.171914,
             "remaining_time": 209.4176378,
             "test": [
              0.7313634608,
              0.5203350967
             ]
            },
            {
             "iteration": 763,
             "learn": [
              0.7393034952,
              0.5234946838
             ],
             "passed_time": 129.3819024,
             "remaining_time": 209.3141772,
             "test": [
              0.7313634608,
              0.5202988714
             ]
            },
            {
             "iteration": 764,
             "learn": [
              0.7393276886,
              0.5234577964
             ],
             "passed_time": 129.5659656,
             "remaining_time": 209.168585,
             "test": [
              0.7312856177,
              0.5202988675
             ]
            },
            {
             "iteration": 765,
             "learn": [
              0.7393782383,
              0.5234367078
             ],
             "passed_time": 129.7364013,
             "remaining_time": 209.0009389,
             "test": [
              0.7312149894,
              0.5203094812
             ]
            },
            {
             "iteration": 766,
             "learn": [
              0.7394909128,
              0.5234032443
             ],
             "passed_time": 129.8967518,
             "remaining_time": 208.817073,
             "test": [
              0.7313375181,
              0.5202960063
             ]
            },
            {
             "iteration": 767,
             "learn": [
              0.7394947363,
              0.5233582247
             ],
             "passed_time": 130.0468897,
             "remaining_time": 208.6168856,
             "test": [
              0.731549459,
              0.5202677354
             ]
            },
            {
             "iteration": 768,
             "learn": [
              0.7396074268,
              0.5233402265
             ],
             "passed_time": 130.2348877,
             "remaining_time": 208.4774341,
             "test": [
              0.7313375181,
              0.5202623803
             ]
            },
            {
             "iteration": 769,
             "learn": [
              0.7396134838,
              0.5233071568
             ],
             "passed_time": 130.4104062,
             "remaining_time": 208.3179215,
             "test": [
              0.7314859515,
              0.5202574824
             ]
            },
            {
             "iteration": 770,
             "learn": [
              0.7395920224,
              0.5232769455
             ],
             "passed_time": 130.574018,
             "remaining_time": 208.1393879,
             "test": [
              0.7314859515,
              0.5202526017
             ]
            },
            {
             "iteration": 771,
             "learn": [
              0.739620066,
              0.5232299481
             ],
             "passed_time": 130.7501765,
             "remaining_time": 207.9808508,
             "test": [
              0.7315753888,
              0.520258931
             ]
            },
            {
             "iteration": 772,
             "learn": [
              0.7396822187,
              0.523182601
             ],
             "passed_time": 130.916248,
             "remaining_time": 207.8062565,
             "test": [
              0.731549459,
              0.5202482731
             ]
            },
            {
             "iteration": 773,
             "learn": [
              0.7396519255,
              0.5231629702
             ],
             "passed_time": 131.1123667,
             "remaining_time": 207.6792785,
             "test": [
              0.7315753888,
              0.5202417069
             ]
            },
            {
             "iteration": 774,
             "learn": [
              0.739630987,
              0.5231506136
             ],
             "passed_time": 131.2646418,
             "remaining_time": 207.482821,
             "test": [
              0.7314787984,
              0.5202430505
             ]
            },
            {
             "iteration": 775,
             "learn": [
              0.7395804373,
              0.5231317697
             ],
             "passed_time": 131.4418149,
             "remaining_time": 207.3257493,
             "test": [
              0.7315753888,
              0.5202398858
             ]
            },
            {
             "iteration": 776,
             "learn": [
              0.7395501643,
              0.5231150291
             ],
             "passed_time": 131.6288711,
             "remaining_time": 207.1841819,
             "test": [
              0.7314600232,
              0.5202391192
             ]
            },
            {
             "iteration": 777,
             "learn": [
              0.7396772033,
              0.523078893
             ],
             "passed_time": 131.7914849,
             "remaining_time": 207.0041062,
             "test": [
              0.7314600232,
              0.5202382254
             ]
            },
            {
             "iteration": 778,
             "learn": [
              0.7397035221,
              0.5230735256
             ],
             "passed_time": 131.9255452,
             "remaining_time": 206.7793205,
             "test": [
              0.7314859515,
              0.5202359777
             ]
            },
            {
             "iteration": 779,
             "learn": [
              0.739666654,
              0.5230485824
             ],
             "passed_time": 132.0988703,
             "remaining_time": 206.6161817,
             "test": [
              0.7315565856,
              0.5202417906
             ]
            },
            {
             "iteration": 780,
             "learn": [
              0.7397040426,
              0.5230272565
             ],
             "passed_time": 132.2854279,
             "remaining_time": 206.4736704,
             "test": [
              0.7316272332,
              0.5202381053
             ]
            },
            {
             "iteration": 781,
             "learn": [
              0.7396787687,
              0.5230097268
             ],
             "passed_time": 132.4650235,
             "remaining_time": 206.3202028,
             "test": [
              0.7314859515,
              0.5202255278
             ]
            },
            {
             "iteration": 782,
             "learn": [
              0.7397732873,
              0.5229853467
             ],
             "passed_time": 132.6585315,
             "remaining_time": 206.1882923,
             "test": [
              0.7315306615,
              0.5202150432
             ]
            },
            {
             "iteration": 783,
             "learn": [
              0.7397452422,
              0.5229700716
             ],
             "passed_time": 132.8051849,
             "remaining_time": 205.9835522,
             "test": [
              0.7314859515,
              0.5202151518
             ]
            },
            {
             "iteration": 784,
             "learn": [
              0.7397826362,
              0.5229499575
             ],
             "passed_time": 132.9590281,
             "remaining_time": 205.7900881,
             "test": [
              0.7313562597,
              0.520203705
             ]
            },
            {
             "iteration": 785,
             "learn": [
              0.7398501371,
              0.5229226972
             ],
             "passed_time": 133.1015471,
             "remaining_time": 205.5792343,
             "test": [
              0.7314975845,
              0.520209621
             ]
            },
            {
             "iteration": 786,
             "learn": [
              0.7398776727,
              0.5228856147
             ],
             "passed_time": 133.2737561,
             "remaining_time": 205.4143153,
             "test": [
              0.7314269153,
              0.5201917196
             ]
            },
            {
             "iteration": 787,
             "learn": [
              0.7398880451,
              0.5228622152
             ],
             "passed_time": 133.4855157,
             "remaining_time": 205.3102094,
             "test": [
              0.7314269153,
              0.5201921573
             ]
            },
            {
             "iteration": 788,
             "learn": [
              0.739855686,
              0.5228394578
             ],
             "passed_time": 133.6293381,
             "remaining_time": 205.1015569,
             "test": [
              0.7312856177,
              0.5201797941
             ]
            },
            {
             "iteration": 789,
             "learn": [
              0.739847363,
              0.5228209439
             ],
             "passed_time": 133.7634805,
             "remaining_time": 204.8782422,
             "test": [
              0.7311890273,
              0.5201835736
             ]
            },
            {
             "iteration": 790,
             "learn": [
              0.7398885562,
              0.5227961863
             ],
             "passed_time": 133.9258282,
             "remaining_time": 204.6982633,
             "test": [
              0.7312336972,
              0.5201835962
             ]
            },
            {
             "iteration": 791,
             "learn": [
              0.7398380147,
              0.5227906018
             ],
             "passed_time": 134.1214846,
             "remaining_time": 204.5691331,
             "test": [
              0.7312077295,
              0.5201830323
             ]
            },
            {
             "iteration": 792,
             "learn": [
              0.7397731005,
              0.5227589628
             ],
             "passed_time": 134.2726242,
             "remaining_time": 204.3720775,
             "test": [
              0.7311890273,
              0.5201803319
             ]
            },
            {
             "iteration": 793,
             "learn": [
              0.7398115162,
              0.5227254778
             ],
             "passed_time": 134.4774497,
             "remaining_time": 204.2566805,
             "test": [
              0.7309772113,
              0.5201812001
             ]
            },
            {
             "iteration": 794,
             "learn": [
              0.7397592492,
              0.5226998774
             ],
             "passed_time": 134.7048989,
             "remaining_time": 204.1753498,
             "test": [
              0.731092437,
              0.5201747341
             ]
            },
            {
             "iteration": 795,
             "learn": [
              0.7398817644,
              0.5226696062
             ],
             "passed_time": 134.8533042,
             "remaining_time": 203.9740934,
             "test": [
              0.7309772113,
              0.5201668187
             ]
            },
            {
             "iteration": 796,
             "learn": [
              0.7398504408,
              0.5226622678
             ],
             "passed_time": 134.9924976,
             "remaining_time": 203.7590648,
             "test": [
              0.7311516556,
              0.5201648952
             ]
            },
            {
             "iteration": 797,
             "learn": [
              0.7398537269,
              0.5226419143
             ],
             "passed_time": 135.1483571,
             "remaining_time": 203.5693299,
             "test": [
              0.7310737737,
              0.5201531669
             ]
            },
            {
             "iteration": 798,
             "learn": [
              0.7398289778,
              0.522620918
             ],
             "passed_time": 135.3592298,
             "remaining_time": 203.4623717,
             "test": [
              0.7310737737,
              0.5201474938
             ]
            },
            {
             "iteration": 799,
             "learn": [
              0.7398817644,
              0.5225929402
             ],
             "passed_time": 135.5814516,
             "remaining_time": 203.3721774,
             "test": [
              0.7310737737,
              0.5201450302
             ]
            },
            {
             "iteration": 800,
             "learn": [
              0.73983555,
              0.522571642
             ],
             "passed_time": 135.7811196,
             "remaining_time": 203.2478931,
             "test": [
              0.7311256999,
              0.5201567913
             ]
            },
            {
             "iteration": 801,
             "learn": [
              0.7399201698,
              0.5225539875
             ],
             "passed_time": 135.9927379,
             "remaining_time": 203.1412719,
             "test": [
              0.7311256999,
              0.5201503047
             ]
            },
            {
             "iteration": 802,
             "learn": [
              0.7399075384,
              0.522533075
             ],
             "passed_time": 136.1701437,
             "remaining_time": 202.9833898,
             "test": [
              0.7311516556,
              0.5201496566
             ]
            },
            {
             "iteration": 803,
             "learn": [
              0.7399277577,
              0.5224965547
             ],
             "passed_time": 136.3653397,
             "remaining_time": 202.8519232,
             "test": [
              0.7310551212,
              0.5201408045
             ]
            },
            {
             "iteration": 804,
             "learn": [
              0.7399876227,
              0.522475976
             ],
             "passed_time": 136.5555538,
             "remaining_time": 202.7129028,
             "test": [
              0.7313822081,
              0.5201392414
             ]
            },
            {
             "iteration": 805,
             "learn": [
              0.7400184411,
              0.5224670221
             ],
             "passed_time": 136.7339814,
             "remaining_time": 202.556295,
             "test": [
              0.7314081514,
              0.5201371296
             ]
            },
            {
             "iteration": 806,
             "learn": [
              0.7399754992,
              0.5224258257
             ],
             "passed_time": 136.8759167,
             "remaining_time": 202.345686,
             "test": [
              0.7313115704,
              0.5201421187
             ]
            },
            {
             "iteration": 807,
             "learn": [
              0.7400876606,
              0.5223939235
             ],
             "passed_time": 137.0671414,
             "remaining_time": 202.2079611,
             "test": [
              0.7310664606,
              0.5201251496
             ]
            },
            {
             "iteration": 808,
             "learn": [
              0.7400810944,
              0.5223644322
             ],
             "passed_time": 137.2505395,
             "remaining_time": 202.0585816,
             "test": [
              0.7312077295,
              0.5201059344
             ]
            },
            {
             "iteration": 809,
             "learn": [
              0.7401260531,
              0.5223498474
             ],
             "passed_time": 137.4023771,
             "remaining_time": 201.8627515,
             "test": [
              0.7311111111,
              0.5200985243
             ]
            },
            {
             "iteration": 810,
             "learn": [
              0.7401558888,
              0.5223218258
             ],
             "passed_time": 137.6116719,
             "remaining_time": 201.7512675,
             "test": [
              0.7312077295,
              0.5200907428
             ]
            },
            {
             "iteration": 811,
             "learn": [
              0.7401667298,
              0.5222972873
             ],
             "passed_time": 137.7557684,
             "remaining_time": 201.5441537,
             "test": [
              0.73125966,
              0.5200899088
             ]
            },
            {
             "iteration": 812,
             "learn": [
              0.7401947781,
              0.5222749201
             ],
             "passed_time": 137.9317753,
             "remaining_time": 201.3837851,
             "test": [
              0.7311890273,
              0.5200834616
             ]
            },
            {
             "iteration": 813,
             "learn": [
              0.7401816505,
              0.5222218377
             ],
             "passed_time": 138.1010347,
             "remaining_time": 201.2135469,
             "test": [
              0.7310664606,
              0.5200693236
             ]
            },
            {
             "iteration": 814,
             "learn": [
              0.7401629508,
              0.5221882986
             ],
             "passed_time": 138.2559302,
             "remaining_time": 201.0224261,
             "test": [
              0.7312524159,
              0.5200550875
             ]
            },
            {
             "iteration": 815,
             "learn": [
              0.7401695151,
              0.5221756965
             ],
             "passed_time": 138.3870146,
             "remaining_time": 200.7968447,
             "test": [
              0.7313230888,
              0.5200531974
             ]
            },
            {
             "iteration": 816,
             "learn": [
              0.7401568835,
              0.5221682714
             ],
             "passed_time": 138.5529233,
             "remaining_time": 200.6219196,
             "test": [
              0.73144569,
              0.5200562205
             ]
            },
            {
             "iteration": 817,
             "learn": [
              0.7401634478,
              0.5221567077
             ],
             "passed_time": 138.7279471,
             "remaining_time": 200.4601876,
             "test": [
              0.7314009662,
              0.5200552249
             ]
            },
            {
             "iteration": 818,
             "learn": [
              0.7401414677,
              0.522147362
             ],
             "passed_time": 138.9140214,
             "remaining_time": 200.314358,
             "test": [
              0.7313043478,
              0.5200558592
             ]
            },
            {
             "iteration": 819,
             "learn": [
              0.7401523093,
              0.5221255481
             ],
             "passed_time": 139.0802936,
             "remaining_time": 200.1399347,
             "test": [
              0.7314716398,
              0.5200480384
             ]
            },
            {
             "iteration": 820,
             "learn": [
              0.7402018365,
              0.5221008108
             ],
             "passed_time": 139.2545697,
             "remaining_time": 199.9770252,
             "test": [
              0.7313230888,
              0.5200435785
             ]
            },
            {
             "iteration": 821,
             "learn": [
              0.7402051178,
              0.5220792836
             ],
             "passed_time": 139.4491297,
             "remaining_time": 199.8431567,
             "test": [
              0.7312783844,
              0.5200356136
             ]
            },
            {
             "iteration": 822,
             "learn": [
              0.740249078,
              0.5220571546
             ],
             "passed_time": 139.6252942,
             "remaining_time": 199.6828326,
             "test": [
              0.7313043478,
              0.5200218631
             ]
            },
            {
             "iteration": 823,
             "learn": [
              0.7402154557,
              0.5220246168
             ],
             "passed_time": 139.8571925,
             "remaining_time": 199.6020126,
             "test": [
              0.7311630603,
              0.5200278604
             ]
            },
            {
             "iteration": 824,
             "learn": [
              0.7402187366,
              0.522011858
             ],
             "passed_time": 140.0010279,
             "remaining_time": 199.3954033,
             "test": [
              0.7312783844,
              0.520026883
             ]
            },
            {
             "iteration": 825,
             "learn": [
              0.7402425161,
              0.5219814996
             ],
             "passed_time": 140.1561066,
             "remaining_time": 199.2049263,
             "test": [
              0.7312336972,
              0.5200159374
             ]
            },
            {
             "iteration": 826,
             "learn": [
              0.7403276535,
              0.5219409101
             ],
             "passed_time": 140.2938526,
             "remaining_time": 198.9899505,
             "test": [
              0.7312524159,
              0.520008997
             ]
            },
            {
             "iteration": 827,
             "learn": [
              0.7403609361,
              0.5219057117
             ],
             "passed_time": 140.4637932,
             "remaining_time": 198.8207314,
             "test": [
              0.7313418407,
              0.5200086512
             ]
            },
            {
             "iteration": 828,
             "learn": [
              0.7404137617,
              0.5218810657
             ],
             "passed_time": 140.6257878,
             "remaining_time": 198.6402865,
             "test": [
              0.7313678105,
              0.5200065428
             ]
            },
            {
             "iteration": 829,
             "learn": [
              0.7404048951,
              0.5218456208
             ],
             "passed_time": 140.8300478,
             "remaining_time": 198.519465,
             "test": [
              0.7313230888,
              0.5199870044
             ]
            },
            {
             "iteration": 830,
             "learn": [
              0.7404582081,
              0.5218026347
             ],
             "passed_time": 141.0161335,
             "remaining_time": 198.3728761,
             "test": [
              0.7314644756,
              0.5199855323
             ]
            },
            {
             "iteration": 831,
             "learn": [
              0.74046756,
              0.521788336
             ],
             "passed_time": 141.2058245,
             "remaining_time": 198.2312536,
             "test": [
              0.7313937754,
              0.5199854639
             ]
            },
            {
             "iteration": 832,
             "learn": [
              0.7404928199,
              0.5217773121
             ],
             "passed_time": 141.3986398,
             "remaining_time": 198.0938928,
             "test": [
              0.7314197352,
              0.5199754863
             ]
            },
            {
             "iteration": 833,
             "learn": [
              0.7405512607,
              0.5217546345
             ],
             "passed_time": 141.5678837,
             "remaining_time": 197.9234441,
             "test": [
              0.7314125496,
              0.519963584
             ]
            },
            {
             "iteration": 834,
             "learn": [
              0.7405952351,
              0.5217263272
             ],
             "passed_time": 141.7280087,
             "remaining_time": 197.7402756,
             "test": [
              0.7315092333,
              0.5199533705
             ]
            },
            {
             "iteration": 835,
             "learn": [
              0.7404974546,
              0.5216961864
             ],
             "passed_time": 141.9370074,
             "remaining_time": 197.6252113,
             "test": [
              0.7314385151,
              0.5199436653
             ]
            },
            {
             "iteration": 836,
             "learn": [
              0.7405662165,
              0.5216671938
             ],
             "passed_time": 142.113097,
             "remaining_time": 197.4641957,
             "test": [
              0.7315351895,
              0.5199374087
             ]
            },
            {
             "iteration": 837,
             "learn": [
              0.7405507832,
              0.5216550312
             ],
             "passed_time": 142.268577,
             "remaining_time": 197.2745661,
             "test": [
              0.7314904311,
              0.5199250539
             ]
            },
            {
             "iteration": 838,
             "learn": [
              0.7405274326,
              0.5216253597
             ],
             "passed_time": 142.4146657,
             "remaining_time": 197.0720225,
             "test": [
              0.7314197352,
              0.519915303
             ]
            },
            {
             "iteration": 839,
             "learn": [
              0.7405587693,
              0.5216027184
             ],
             "passed_time": 142.6140928,
             "remaining_time": 196.943271,
             "test": [
              0.73144569,
              0.5199100195
             ]
            },
            {
             "iteration": 840,
             "learn": [
              0.7405685995,
              0.5215858199
             ],
             "passed_time": 142.767907,
             "remaining_time": 196.7514913,
             "test": [
              0.7313230888,
              0.5199046893
             ]
            },
            {
             "iteration": 841,
             "learn": [
              0.7406097653,
              0.5215777466
             ],
             "passed_time": 142.9735541,
             "remaining_time": 196.6310874,
             "test": [
              0.7313750121,
              0.5199060274
             ]
            },
            {
             "iteration": 842,
             "learn": [
              0.7405709233,
              0.5215646059
             ],
             "passed_time": 143.150192,
             "remaining_time": 196.4706669,
             "test": [
              0.731349053,
              0.5198977587
             ]
            },
            {
             "iteration": 843,
             "learn": [
              0.7405433396,
              0.521547479
             ],
             "passed_time": 143.3152213,
             "remaining_time": 196.2943078,
             "test": [
              0.73144569,
              0.5198822893
             ]
            },
            {
             "iteration": 844,
             "learn": [
              0.7406060147,
              0.5215192227
             ],
             "passed_time": 143.4933706,
             "remaining_time": 196.135909,
             "test": [
              0.7314716398,
              0.519872697
             ]
            },
            {
             "iteration": 845,
             "learn": [
              0.7405723523,
              0.521498275
             ],
             "passed_time": 143.6424793,
             "remaining_time": 195.93785,
             "test": [
              0.7315682675,
              0.5198662476
             ]
            },
            {
             "iteration": 846,
             "learn": [
              0.7406453242,
              0.5214786713
             ],
             "passed_time": 143.7834684,
             "remaining_time": 195.7288536,
             "test": [
              0.7314975845,
              0.5198612823
             ]
            },
            {
             "iteration": 847,
             "learn": [
              0.7405985604,
              0.5214284747
             ],
             "passed_time": 144.0149626,
             "remaining_time": 195.6429681,
             "test": [
              0.7315870868,
              0.519849142
             ]
            },
            {
             "iteration": 848,
             "learn": [
              0.7406523469,
              0.5214010412
             ],
             "passed_time": 144.1803975,
             "remaining_time": 195.467182,
             "test": [
              0.7316837425,
              0.5198436788
             ]
            },
            {
             "iteration": 849,
             "learn": [
              0.7406682493,
              0.5213824251
             ],
             "passed_time": 144.3164766,
             "remaining_time": 195.2517036,
             "test": [
              0.7317544708,
              0.5198175444
             ]
            },
            {
             "iteration": 850,
             "learn": [
              0.7407192282,
              0.521359655
             ],
             "passed_time": 144.456188,
             "remaining_time": 195.0413162,
             "test": [
              0.7316837425,
              0.5198098179
             ]
            },
            {
             "iteration": 851,
             "learn": [
              0.7407472883,
              0.5213437181
             ],
             "passed_time": 144.615578,
             "remaining_time": 194.8576099,
             "test": [
              0.7317285383,
              0.5197992731
             ]
            },
            {
             "iteration": 852,
             "learn": [
              0.7407659961,
              0.5213109694
             ],
             "passed_time": 144.7680502,
             "remaining_time": 194.6646584,
             "test": [
              0.7316766583,
              0.5197988359
             ]
            },
            {
             "iteration": 853,
             "learn": [
              0.7407571089,
              0.5212956043
             ],
             "passed_time": 144.8979798,
             "remaining_time": 194.4415514,
             "test": [
              0.7317026008,
              0.5197886732
             ]
            },
            {
             "iteration": 854,
             "learn": [
              0.7407229707,
              0.5212819899
             ],
             "passed_time": 145.212231,
             "remaining_time": 194.4655023,
             "test": [
              0.7316318639,
              0.519783596
             ]
            },
            {
             "iteration": 855,
             "learn": [
              0.7407140873,
              0.5212682951
             ],
             "passed_time": 145.3492259,
             "remaining_time": 194.2517692,
             "test": [
              0.7317992845,
              0.5197804721
             ]
            },
            {
             "iteration": 856,
             "learn": [
              0.7407206343,
              0.5212472618
             ],
             "passed_time": 145.5818853,
             "remaining_time": 194.165805,
             "test": [
              0.7317285383,
              0.5197794484
             ]
            },
            {
             "iteration": 857,
             "learn": [
              0.7407402732,
              0.5212249774
             ],
             "passed_time": 145.7564907,
             "remaining_time": 194.0022289,
             "test": [
              0.7317992845,
              0.51977107
             ]
            },
            {
             "iteration": 858,
             "learn": [
              0.7406841707,
              0.5211898208
             ],
             "passed_time": 145.9268045,
             "remaining_time": 193.8329266,
             "test": [
              0.7319148936,
              0.5197653311
             ]
            },
            {
             "iteration": 859,
             "learn": [
              0.7407056744,
              0.5211721253
             ],
             "passed_time": 146.0731721,
             "remaining_time": 193.6318793,
             "test": [
              0.7318700445,
              0.5197662961
             ]
            },
            {
             "iteration": 860,
             "learn": [
              0.7407248444,
              0.5211532602
             ],
             "passed_time": 146.2727753,
             "remaining_time": 193.5013834,
             "test": [
              0.7314009662,
              0.5197711898
             ]
            },
            {
             "iteration": 861,
             "learn": [
              0.7407496244,
              0.5211471822
             ],
             "passed_time": 146.4416063,
             "remaining_time": 193.330102,
             "test": [
              0.7313303063,
              0.5197694686
             ]
            },
            {
             "iteration": 862,
             "learn": [
              0.7407384033,
              0.5211231607
             ],
             "passed_time": 146.583456,
             "remaining_time": 193.1232786,
             "test": [
              0.7313822081,
              0.5197641742
             ]
            },
            {
             "iteration": 863,
             "learn": [
              0.7407510256,
              0.52111082
             ],
             "passed_time": 146.7227676,
             "remaining_time": 192.9132685,
             "test": [
              0.7314787984,
              0.5197548746
             ]
            },
            {
             "iteration": 864,
             "learn": [
              0.7407566367,
              0.5210957441
             ],
             "passed_time": 146.8488758,
             "remaining_time": 192.6860971,
             "test": [
              0.7314081514,
              0.5197581836
             ]
            },
            {
             "iteration": 865,
             "learn": [
              0.7407594425,
              0.5210605579
             ],
             "passed_time": 147.0406575,
             "remaining_time": 192.5451565,
             "test": [
              0.7316389641,
              0.5197531508
             ]
            },
            {
             "iteration": 866,
             "learn": [
              0.7407720662,
              0.5210450305
             ],
             "passed_time": 147.2424996,
             "remaining_time": 192.4172458,
             "test": [
              0.7316389641,
              0.5197422541
             ]
            },
            {
             "iteration": 867,
             "learn": [
              0.7407468188,
              0.5210390578
             ],
             "passed_time": 147.3991842,
             "remaining_time": 192.2302725,
             "test": [
              0.7316130279,
              0.5197411618
             ]
            },
            {
             "iteration": 868,
             "learn": [
              0.7407659875,
              0.5210179899
             ],
             "passed_time": 147.5953086,
             "remaining_time": 192.0946997,
             "test": [
              0.7316837425,
              0.519739283
             ]
            },
            {
             "iteration": 869,
             "learn": [
              0.7408571609,
              0.5209829972
             ],
             "passed_time": 147.7635062,
             "remaining_time": 191.9227149,
             "test": [
              0.7317096743,
              0.5197450382
             ]
            },
            {
             "iteration": 870,
             "learn": [
              0.7408136731,
              0.5209631594
             ],
             "passed_time": 147.9489193,
             "remaining_time": 191.7730539,
             "test": [
              0.7316389641,
              0.5197391018
             ]
            },
            {
             "iteration": 871,
             "learn": [
              0.7409282594,
              0.5209428553
             ],
             "passed_time": 148.0967988,
             "remaining_time": 191.574758,
             "test": [
              0.7315870868,
              0.5197276385
             ]
            },
            {
             "iteration": 872,
             "learn": [
              0.7410129172,
              0.5209198111
             ],
             "passed_time": 148.2370284,
             "remaining_time": 191.3667022,
             "test": [
              0.7317096743,
              0.5197206946
             ]
            },
            {
             "iteration": 873,
             "learn": [
              0.7409937496,
              0.5208954581
             ],
             "passed_time": 148.41411,
             "remaining_time": 191.2062791,
             "test": [
              0.7315682675,
              0.5197166853
             ]
            },
            {
             "iteration": 874,
             "learn": [
              0.7409628666,
              0.5208713862
             ],
             "passed_time": 148.6112295,
             "remaining_time": 191.0715808,
             "test": [
              0.7316389641,
              0.5197107271
             ]
            },
            {
             "iteration": 875,
             "learn": [
              0.7409824889,
              0.5208546553
             ],
             "passed_time": 148.7526124,
             "remaining_time": 190.8652241,
             "test": [
              0.7316389641,
              0.5197086564
             ]
            },
            {
             "iteration": 876,
             "learn": [
              0.741011009,
              0.5208454498
             ],
             "passed_time": 148.88073,
             "remaining_time": 190.6420294,
             "test": [
              0.7317803982,
              0.5197045161
             ]
            },
            {
             "iteration": 877,
             "learn": [
              0.7410325366,
              0.5208235949
             ],
             "passed_time": 149.0115503,
             "remaining_time": 190.422505,
             "test": [
              0.7317803982,
              0.5196811497
             ]
            },
            {
             "iteration": 878,
             "learn": [
              0.7410806716,
              0.5207941362
             ],
             "passed_time": 149.1877054,
             "remaining_time": 190.2609986,
             "test": [
              0.7318252127,
              0.5196681271
             ]
            },
            {
             "iteration": 879,
             "learn": [
              0.741081122,
              0.5207845485
             ],
             "passed_time": 149.3828374,
             "remaining_time": 190.1236113,
             "test": [
              0.7318252127,
              0.5196691605
             ]
            },
            {
             "iteration": 880,
             "learn": [
              0.7410843906,
              0.5207745198
             ],
             "passed_time": 149.5210724,
             "remaining_time": 189.9138252,
             "test": [
              0.7317544708,
              0.5196637694
             ]
            },
            {
             "iteration": 881,
             "learn": [
              0.7411864236,
              0.5207449709
             ],
             "passed_time": 149.7265591,
             "remaining_time": 189.789448,
             "test": [
              0.7317096743,
              0.5196531281
             ]
            },
            {
             "iteration": 882,
             "learn": [
              0.7411400795,
              0.5207211732
             ],
             "passed_time": 149.9077008,
             "remaining_time": 189.6340904,
             "test": [
              0.7316648952,
              0.5196407643
             ]
            },
            {
             "iteration": 883,
             "learn": [
              0.7411864236,
              0.5206999396
             ],
             "passed_time": 150.0812084,
             "remaining_time": 189.4690369,
             "test": [
              0.7316130279,
              0.5196373739
             ]
            },
            {
             "iteration": 884,
             "learn": [
              0.7411896915,
              0.5206812321
             ],
             "passed_time": 150.2563486,
             "remaining_time": 189.3060211,
             "test": [
              0.7314975845,
              0.5196305689
             ]
            },
            {
             "iteration": 885,
             "learn": [
              0.741263687,
              0.5206547682
             ],
             "passed_time": 150.423666,
             "remaining_time": 189.1331421,
             "test": [
              0.7316201333,
              0.5196177599
             ]
            },
            {
             "iteration": 886,
             "learn": [
              0.7413712539,
              0.5206147303
             ],
             "passed_time": 150.6099937,
             "remaining_time": 188.9841296,
             "test": [
              0.7314975845,
              0.519627471
             ]
            },
            {
             "iteration": 887,
             "learn": [
              0.7413150816,
              0.5205878206
             ],
             "passed_time": 150.7570153,
             "remaining_time": 188.7858119,
             "test": [
              0.731542327,
              0.5196199056
             ]
            },
            {
             "iteration": 888,
             "learn": [
              0.7414222031,
              0.5205274818
             ],
             "passed_time": 150.944963,
             "remaining_time": 188.6387558,
             "test": [
              0.731542327,
              0.5195925006
             ]
            },
            {
             "iteration": 889,
             "learn": [
              0.7413692957,
              0.5205166148
             ],
             "passed_time": 151.1044868,
             "remaining_time": 188.4561577,
             "test": [
              0.7315682675,
              0.5195943659
             ]
            },
            {
             "iteration": 890,
             "learn": [
              0.7414006465,
              0.5205080107
             ],
             "passed_time": 151.245067,
             "remaining_time": 188.2500329,
             "test": [
              0.7315682675,
              0.5195913251
             ]
            },
            {
             "iteration": 891,
             "learn": [
              0.7414356967,
              0.5204733004
             ],
             "passed_time": 151.4840173,
             "remaining_time": 188.1662456,
             "test": [
              0.731542327,
              0.5195823682
             ]
            },
            {
             "iteration": 892,
             "learn": [
              0.7413758271,
              0.520452783
             ],
             "passed_time": 151.6855379,
             "remaining_time": 188.0357117,
             "test": [
              0.7316837425,
              0.5195729913
             ]
            },
            {
             "iteration": 893,
             "learn": [
              0.7413579779,
              0.5204304428
             ],
             "passed_time": 151.8577882,
             "remaining_time": 187.8688073,
             "test": [
              0.7315163816,
              0.5195688689
             ]
            },
            {
             "iteration": 894,
             "learn": [
              0.7413729971,
              0.5204127992
             ],
             "passed_time": 152.0196112,
             "remaining_time": 187.6890171,
             "test": [
              0.7317356011,
              0.5195507674
             ]
            },
            {
             "iteration": 895,
             "learn": [
              0.7414230696,
              0.5203641443
             ],
             "passed_time": 152.2316054,
             "remaining_time": 187.5710852,
             "test": [
              0.7319218871,
              0.5195404323
             ]
            },
            {
             "iteration": 896,
             "learn": [
              0.7414552847,
              0.5203529964
             ],
             "passed_time": 152.3887621,
             "remaining_time": 187.3855123,
             "test": [
              0.7317992845,
              0.5195341391
             ]
            },
            {
             "iteration": 897,
             "learn": [
              0.7414276336,
              0.5203057049
             ],
             "passed_time": 152.6581442,
             "remaining_time": 187.3377227,
             "test": [
              0.7318770539,
              0.5195329025
             ]
            },
            {
             "iteration": 898,
             "learn": [
              0.7414430907,
              0.520289354
             ],
             "passed_time": 152.8417178,
             "remaining_time": 187.1843507,
             "test": [
              0.731902967,
              0.519527112
             ]
            },
            {
             "iteration": 899,
             "learn": [
              0.7415684938,
              0.5202418303
             ],
             "passed_time": 153.1066545,
             "remaining_time": 187.1303556,
             "test": [
              0.7318770539,
              0.5195181992
             ]
            },
            {
             "iteration": 900,
             "learn": [
              0.7416336221,
              0.5202053826
             ],
             "passed_time": 153.3115863,
             "remaining_time": 187.0027008,
             "test": [
              0.7318252127,
              0.5194985777
             ]
            },
            {
             "iteration": 901,
             "learn": [
              0.7416470945,
              0.5201760984
             ],
             "passed_time": 153.5804981,
             "remaining_time": 186.9527571,
             "test": [
              0.7318252127,
              0.5194957487
             ]
            },
            {
             "iteration": 902,
             "learn": [
              0.7416137463,
              0.5201564481
             ],
             "passed_time": 153.8592335,
             "remaining_time": 186.9142627,
             "test": [
              0.7318252127,
              0.5194964087
             ]
            },
            {
             "iteration": 903,
             "learn": [
              0.7416414141,
              0.5201392762
             ],
             "passed_time": 154.0560903,
             "remaining_time": 186.7759679,
             "test": [
              0.7318959683,
              0.5194913238
             ]
            },
            {
             "iteration": 904,
             "learn": [
              0.7415628196,
              0.5201176297
             ],
             "passed_time": 154.2184079,
             "remaining_time": 186.5957532,
             "test": [
              0.7318511358,
              0.5194892829
             ]
            },
            {
             "iteration": 905,
             "learn": [
              0.7415201283,
              0.5200841984
             ],
             "passed_time": 154.3807245,
             "remaining_time": 186.4155768,
             "test": [
              0.7316389641,
              0.5194876932
             ]
            },
            {
             "iteration": 906,
             "learn": [
              0.7415519004,
              0.5200789794
             ],
             "passed_time": 154.5152582,
             "remaining_time": 186.2019594,
             "test": [
              0.7317096743,
              0.5194883856
             ]
            },
            {
             "iteration": 907,
             "learn": [
              0.7415575726,
              0.5200686606
             ],
             "passed_time": 154.672744,
             "remaining_time": 186.0161194,
             "test": [
              0.7317096743,
              0.5194834064
             ]
            },
            {
             "iteration": 908,
             "learn": [
              0.7416015452,
              0.520050352
             ],
             "passed_time": 154.8007228,
             "remaining_time": 185.794927,
             "test": [
              0.7317803982,
              0.5194803464
             ]
            },
            {
             "iteration": 909,
             "learn": [
              0.7416341627,
              0.520025501
             ],
             "passed_time": 154.9323946,
             "remaining_time": 185.5783627,
             "test": [
              0.7318063207,
              0.5194784704
             ]
            },
            {
             "iteration": 910,
             "learn": [
              0.7416772923,
              0.5200054613
             ],
             "passed_time": 155.0349812,
             "remaining_time": 185.3272168,
             "test": [
              0.731884058,
              0.5194690547
             ]
            },
            {
             "iteration": 911,
             "learn": [
              0.7416927583,
              0.51999114
             ],
             "passed_time": 155.1663727,
             "remaining_time": 185.1107605,
             "test": [
              0.7318392581,
              0.5194663875
             ]
            },
            {
             "iteration": 912,
             "learn": [
              0.741645942,
              0.5199774657
             ],
             "passed_time": 155.2688808,
             "remaining_time": 184.8601024,
             "test": [
              0.7318133514,
              0.5194671665
             ]
            },
            {
             "iteration": 913,
             "learn": [
              0.7416679291,
              0.5199725965
             ],
             "passed_time": 155.4149243,
             "remaining_time": 184.6614965,
             "test": [
              0.7318133514,
              0.519464712
             ]
            },
            {
             "iteration": 914,
             "learn": [
              0.7416777126,
              0.519953573
             ],
             "passed_time": 155.5903563,
             "remaining_time": 184.4978542,
             "test": [
              0.7317615229,
              0.5194584843
             ]
            },
            {
             "iteration": 915,
             "learn": [
              0.7416866557,
              0.5199385594
             ],
             "passed_time": 155.7723568,
             "remaining_time": 184.3419593,
             "test": [
              0.7317803982,
              0.5194521699
             ]
            },
            {
             "iteration": 916,
             "learn": [
              0.7416276398,
              0.519929314
             ],
             "passed_time": 155.9141352,
             "remaining_time": 184.1385042,
             "test": [
              0.7317356011,
              0.5194503977
             ]
            },
            {
             "iteration": 917,
             "learn": [
              0.7416150166,
              0.5199132174
             ],
             "passed_time": 156.0991177,
             "remaining_time": 183.986106,
             "test": [
              0.7317096743,
              0.5194516819
             ]
            },
            {
             "iteration": 918,
             "learn": [
              0.7416496251,
              0.519894896
             ],
             "passed_time": 156.3117549,
             "remaining_time": 183.8661665,
             "test": [
              0.7317615229,
              0.5194488352
             ]
            },
            {
             "iteration": 919,
             "learn": [
              0.7416528863,
              0.5198697067
             ],
             "passed_time": 156.5527433,
             "remaining_time": 183.7793073,
             "test": [
              0.7317615229,
              0.5194431126
             ]
            },
            {
             "iteration": 920,
             "learn": [
              0.7416594085,
              0.5198584421
             ],
             "passed_time": 156.7036952,
             "remaining_time": 183.5866309,
             "test": [
              0.7318322381,
              0.5194441548
             ]
            },
            {
             "iteration": 921,
             "learn": [
              0.7416248012,
              0.5198371347
             ],
             "passed_time": 156.9051229,
             "remaining_time": 183.4530612,
             "test": [
              0.7317356011,
              0.5194409034
             ]
            },
            {
             "iteration": 922,
             "learn": [
              0.7416565687,
              0.5198081156
             ],
             "passed_time": 157.0749027,
             "remaining_time": 183.2824162,
             "test": [
              0.7316908213,
              0.519447625
             ]
            },
            {
             "iteration": 923,
             "learn": [
              0.7417160025,
              0.51976038
             ],
             "passed_time": 157.2288589,
             "remaining_time": 183.0933465,
             "test": [
              0.7316978945,
              0.5194488158
             ]
            },
            {
             "iteration": 924,
             "learn": [
              0.7417636515,
              0.5197407366
             ],
             "passed_time": 157.3927862,
             "remaining_time": 182.9159407,
             "test": [
              0.7316719791,
              0.5194411906
             ]
            },
            {
             "iteration": 925,
             "learn": [
              0.7417913274,
              0.5197025665
             ],
             "passed_time": 157.5596326,
             "remaining_time": 182.7419497,
             "test": [
              0.7316013135,
              0.5194447396
             ]
            },
            {
             "iteration": 926,
             "learn": [
              0.7418287864,
              0.5196884165
             ],
             "passed_time": 157.7090819,
             "remaining_time": 182.547837,
             "test": [
              0.7316719791,
              0.5194448289
             ]
            },
            {
             "iteration": 927,
             "learn": [
              0.7418259399,
              0.5196688192
             ],
             "passed_time": 157.8991702,
             "remaining_time": 182.4007655,
             "test": [
              0.7317426584,
              0.5194453387
             ]
            },
            {
             "iteration": 928,
             "learn": [
              0.7418796945,
              0.5196477831
             ],
             "passed_time": 158.046182,
             "remaining_time": 182.2039408,
             "test": [
              0.7318133514,
              0.5194368201
             ]
            },
            {
             "iteration": 929,
             "learn": [
              0.7418487522,
              0.5196358168
             ],
             "passed_time": 158.2021914,
             "remaining_time": 182.017575,
             "test": [
              0.7319288751,
              0.519431907
             ]
            },
            {
             "iteration": 930,
             "learn": [
              0.7418515994,
              0.5196228069
             ],
             "passed_time": 158.3440952,
             "remaining_time": 181.8150781,
             "test": [
              0.7318581505,
              0.519434177
             ]
            },
            {
             "iteration": 931,
             "learn": [
              0.7418833628,
              0.5196061905
             ],
             "passed_time": 158.5044995,
             "remaining_time": 181.6339114,
             "test": [
              0.7319547782,
              0.5194259297
             ]
            },
            {
             "iteration": 932,
             "learn": [
              0.7419562501,
              0.5195742293
             ],
             "passed_time": 158.6726401,
             "remaining_time": 181.4616366,
             "test": [
              0.731884058,
              0.5194287615
             ]
            },
            {
             "iteration": 933,
             "learn": [
              0.7420218138,
              0.5195579272
             ],
             "passed_time": 158.8397695,
             "remaining_time": 181.2882166,
             "test": [
              0.731884058,
              0.5194281726
             ]
            },
            {
             "iteration": 934,
             "learn": [
              0.7420885876,
              0.5195300042
             ],
             "passed_time": 158.9910144,
             "remaining_time": 181.0967169,
             "test": [
              0.7319358578,
              0.5194214891
             ]
            },
            {
             "iteration": 935,
             "learn": [
              0.7420950986,
              0.51951445
             ],
             "passed_time": 159.1625423,
             "remaining_time": 180.9283601,
             "test": [
              0.7319358578,
              0.5194256583
             ]
            },
            {
             "iteration": 936,
             "learn": [
              0.7421020081,
              0.5195005655
             ],
             "passed_time": 159.3634078,
             "remaining_time": 180.7932791,
             "test": [
              0.7319617502,
              0.51942608
             ]
            },
            {
             "iteration": 937,
             "learn": [
              0.7421178846,
              0.5194749843
             ],
             "passed_time": 159.5019248,
             "remaining_time": 180.5874671,
             "test": [
              0.73201352,
              0.5194259613
             ]
            },
            {
             "iteration": 938,
             "learn": [
              0.7421329664,
              0.5194593089
             ],
             "passed_time": 159.6452835,
             "remaining_time": 180.3872693,
             "test": [
              0.7320393975,
              0.5194270543
             ]
            },
            {
             "iteration": 939,
             "learn": [
              0.7421211395,
              0.519442607
             ],
             "passed_time": 159.7687987,
             "remaining_time": 180.1648155,
             "test": [
              0.7320772947,
              0.5194243745
             ]
            },
            {
             "iteration": 940,
             "learn": [
              0.7422306935,
              0.5194293514
             ],
             "passed_time": 159.9713074,
             "remaining_time": 180.0314714,
             "test": [
              0.7320772947,
              0.5194209959
             ]
            },
            {
             "iteration": 941,
             "learn": [
              0.7421720199,
              0.519411173
             ],
             "passed_time": 160.1205936,
             "remaining_time": 179.8382038,
             "test": [
              0.7320514059,
              0.5194205792
             ]
            },
            {
             "iteration": 942,
             "learn": [
              0.7421907539,
              0.5193991799
             ],
             "passed_time": 160.3121154,
             "remaining_time": 179.6923712,
             "test": [
              0.7320255122,
              0.5194218769
             ]
            },
            {
             "iteration": 943,
             "learn": [
              0.7421089165,
              0.5193714411
             ],
             "passed_time": 160.4536024,
             "remaining_time": 179.4904704,
             "test": [
              0.7320324575,
              0.5194203196
             ]
            },
            {
             "iteration": 944,
             "learn": [
              0.7421227302,
              0.5193543236
             ],
             "passed_time": 160.6043846,
             "remaining_time": 179.2990749,
             "test": [
              0.7321549309,
              0.5194149626
             ]
            },
            {
             "iteration": 945,
             "learn": [
              0.7420246328,
              0.5193220775
             ],
             "passed_time": 160.7808695,
             "remaining_time": 179.1364022,
             "test": [
              0.7322515213,
              0.5194033546
             ]
            },
            {
             "iteration": 946,
             "learn": [
              0.7421280462,
              0.5193057454
             ],
             "passed_time": 160.9738216,
             "remaining_time": 178.9920107,
             "test": [
              0.7322256569,
              0.5194037487
             ]
            },
            {
             "iteration": 947,
             "learn": [
              0.7421003483,
              0.5192897707
             ],
             "passed_time": 161.1108101,
             "remaining_time": 178.7854137,
             "test": [
              0.732173913,
              0.5193936603
             ]
            },
            {
             "iteration": 948,
             "learn": [
              0.7421447139,
              0.5192627295
             ],
             "passed_time": 161.2945003,
             "remaining_time": 178.6306848,
             "test": [
              0.732173913,
              0.5194036745
             ]
            },
            {
             "iteration": 949,
             "learn": [
              0.742134952,
              0.5192401126
             ],
             "passed_time": 161.4908438,
             "remaining_time": 178.48988,
             "test": [
              0.7322187862,
              0.5193948477
             ]
            },
            {
             "iteration": 950,
             "learn": [
              0.7421313006,
              0.5192154107
             ],
             "passed_time": 161.6743536,
             "remaining_time": 178.3348022,
             "test": [
              0.7321929062,
              0.5193815037
             ]
            },
            {
             "iteration": 951,
             "learn": [
              0.7421251893,
              0.5191930764
             ],
             "passed_time": 161.8826919,
             "remaining_time": 178.2069969,
             "test": [
              0.7322895525,
              0.5193708732
             ]
            },
            {
             "iteration": 952,
             "learn": [
              0.7421162218,
              0.5191764354
             ],
             "passed_time": 162.0577165,
             "remaining_time": 178.0424231,
             "test": [
              0.7322895525,
              0.5193777858
             ]
            },
            {
             "iteration": 953,
             "learn": [
              0.7421695565,
              0.5191493501
             ],
             "passed_time": 162.2279571,
             "remaining_time": 177.8725819,
             "test": [
              0.7323861989,
              0.5193799988
             ]
            },
            {
             "iteration": 954,
             "learn": [
              0.7421951897,
              0.5191307938
             ],
             "passed_time": 162.4219804,
             "remaining_time": 177.7287639,
             "test": [
              0.7323154233,
              0.5193731528
             ]
            },
            {
             "iteration": 955,
             "learn": [
              0.7422106685,
              0.5191135211
             ],
             "passed_time": 162.5848648,
             "remaining_time": 177.5508356,
             "test": [
              0.7322705314,
              0.5193616096
             ]
            },
            {
             "iteration": 956,
             "learn": [
              0.7421947957,
              0.5190632978
             ],
             "passed_time": 162.7423242,
             "remaining_time": 177.3670263,
             "test": [
              0.732173913,
              0.5193596322
             ]
            },
            {
             "iteration": 957,
             "learn": [
              0.7422013023,
              0.5190452533
             ],
             "passed_time": 162.8936975,
             "remaining_time": 177.1766522,
             "test": [
              0.7320772947,
              0.5193545635
             ]
            },
            {
             "iteration": 958,
             "learn": [
              0.7423075952,
              0.5189922341
             ],
             "passed_time": 163.1442196,
             "remaining_time": 177.093986,
             "test": [
              0.7320514059,
              0.519327971
             ]
            },
            {
             "iteration": 959,
             "learn": [
              0.7422888586,
              0.518975255
             ],
             "passed_time": 163.3103188,
             "remaining_time": 176.919512,
             "test": [
              0.7320065694,
              0.5193295217
             ]
            },
            {
             "iteration": 960,
             "learn": [
              0.7423267202,
              0.5189510857
             ],
             "passed_time": 163.4733074,
             "remaining_time": 176.7416923,
             "test": [
              0.7322187862,
              0.5193243191
             ]
            },
            {
             "iteration": 961,
             "learn": [
              0.7423617158,
              0.518934677
             ],
             "passed_time": 163.6192366,
             "remaining_time": 176.5454964,
             "test": [
              0.7323671498,
              0.5193198613
             ]
            },
            {
             "iteration": 962,
             "learn": [
              0.7424016762,
              0.5189225658
             ],
             "passed_time": 163.7894387,
             "remaining_time": 176.375543,
             "test": [
              0.732341289,
              0.5193224113
             ]
            },
            {
             "iteration": 963,
             "learn": [
              0.7423393407,
              0.518901331
             ],
             "passed_time": 163.9764125,
             "remaining_time": 176.2236134,
             "test": [
              0.7322705314,
              0.5193280397
             ]
            },
            {
             "iteration": 964,
             "learn": [
              0.7423898228,
              0.5188794519
             ],
             "passed_time": 164.3134193,
             "remaining_time": 176.2325275,
             "test": [
              0.7322963965,
              0.5193232706
             ]
            },
            {
             "iteration": 965,
             "learn": [
              0.7424179319,
              0.5188615856
             ],
             "passed_time": 164.5150508,
             "remaining_time": 176.0958204,
             "test": [
              0.7324637681,
              0.5193134003
             ]
            },
            {
             "iteration": 966,
             "learn": [
              0.7424305529,
              0.5188528311
             ],
             "passed_time": 164.6788623,
             "remaining_time": 175.9185778,
             "test": [
              0.7324120603,
              0.5193162403
             ]
            },
            {
             "iteration": 967,
             "learn": [
              0.7424965291,
              0.5188361015
             ],
             "passed_time": 164.8592336,
             "remaining_time": 175.7590176,
             "test": [
              0.7323861989,
              0.5193130998
             ]
            },
            {
             "iteration": 968,
             "learn": [
              0.7424561758,
              0.5188239517
             ],
             "passed_time": 165.0379172,
             "remaining_time": 175.5976188,
             "test": [
              0.7323603325,
              0.519313831
             ]
            },
            {
             "iteration": 969,
             "learn": [
              0.7425164059,
              0.5188047339
             ],
             "passed_time": 165.210067,
             "remaining_time": 175.4292464,
             "test": [
              0.7323861989,
              0.5193091107
             ]
            },
            {
             "iteration": 970,
             "learn": [
              0.7425221496,
              0.518789144
             ],
             "passed_time": 165.4086536,
             "remaining_time": 175.2888821,
             "test": [
              0.7323861989,
              0.5193035889
             ]
            },
            {
             "iteration": 971,
             "learn": [
              0.7425160281,
              0.5187776168
             ],
             "passed_time": 165.6064495,
             "remaining_time": 175.1475618,
             "test": [
              0.7323603325,
              0.5193062875
             ]
            },
            {
             "iteration": 972,
             "learn": [
              0.7424944158,
              0.5187609854
             ],
             "passed_time": 165.8030826,
             "remaining_time": 175.0048981,
             "test": [
              0.7324379167,
              0.5193025136
             ]
            },
            {
             "iteration": 973,
             "learn": [
              0.7424663066,
              0.5187274298
             ],
             "passed_time": 165.9729913,
             "remaining_time": 174.8339724,
             "test": [
              0.7323861989,
              0.5192928042
             ]
            },
            {
             "iteration": 974,
             "learn": [
              0.7424630567,
              0.5187084305
             ],
             "passed_time": 166.1460246,
             "remaining_time": 174.6663336,
             "test": [
              0.7324120603,
              0.5192910499
             ]
            },
            {
             "iteration": 975,
             "learn": [
              0.7425445183,
              0.5186939156
             ],
             "passed_time": 166.2988196,
             "remaining_time": 174.47745,
             "test": [
              0.7323861989,
              0.5192875861
             ]
            },
            {
             "iteration": 976,
             "learn": [
              0.742531898,
              0.5186552573
             ],
             "passed_time": 166.5276264,
             "remaining_time": 174.3682312,
             "test": [
              0.7323154233,
              0.519282431
             ]
            },
            {
             "iteration": 977,
             "learn": [
              0.7426144896,
              0.5186086484
             ],
             "passed_time": 166.7101146,
             "remaining_time": 174.2103652,
             "test": [
              0.7323344611,
              0.5192720082
             ]
            },
            {
             "iteration": 978,
             "learn": [
              0.7425611387,
              0.5185936969
             ],
             "passed_time": 166.9067166,
             "remaining_time": 174.0671682,
             "test": [
              0.7325019335,
              0.5192738457
             ]
            },
            {
             "iteration": 979,
             "learn": [
              0.742664597,
              0.5185641643
             ],
             "passed_time": 167.1107675,
             "remaining_time": 173.9316151,
             "test": [
              0.7325277912,
              0.5192741894
             ]
            },
            {
             "iteration": 980,
             "learn": [
              0.7426274812,
              0.5185255122
             ],
             "passed_time": 167.2859107,
             "remaining_time": 173.765895,
             "test": [
              0.7326435892,
              0.5192618935
             ]
            },
            {
             "iteration": 981,
             "learn": [
              0.742627109,
              0.5185129609
             ],
             "passed_time": 167.4624821,
             "remaining_time": 173.6016363,
             "test": [
              0.7326177352,
              0.5192605205
             ]
            },
            {
             "iteration": 982,
             "learn": [
              0.7426502132,
              0.5184794448
             ],
             "passed_time": 167.699917,
             "remaining_time": 173.500321,
             "test": [
              0.7324760708,
              0.5192595248
             ]
            },
            {
             "iteration": 983,
             "learn": [
              0.7427046667,
              0.5184646458
             ],
             "passed_time": 167.8775151,
             "remaining_time": 173.3369465,
             "test": [
              0.7325536439,
              0.5192528468
             ]
            },
            {
             "iteration": 984,
             "learn": [
              0.7427583771,
              0.518411439
             ],
             "passed_time": 168.0732294,
             "remaining_time": 173.192211,
             "test": [
              0.7325660122,
              0.5192462071
             ]
            },
            {
             "iteration": 985,
             "learn": [
              0.7427342449,
              0.5183908927
             ],
             "passed_time": 168.2210948,
             "remaining_time": 172.9981645,
             "test": [
              0.732611009,
              0.5192465332
             ]
            },
            {
             "iteration": 986,
             "learn": [
              0.7427248761,
              0.5183771408
             ],
             "passed_time": 168.4001497,
             "remaining_time": 172.8362225,
             "test": [
              0.7325401432,
              0.5192455006
             ]
            },
            {
             "iteration": 987,
             "learn": [
              0.7427342449,
              0.5183649527
             ],
             "passed_time": 168.5702092,
             "remaining_time": 172.6650321,
             "test": [
              0.7325660122,
              0.5192476335
             ]
            },
            {
             "iteration": 988,
             "learn": [
              0.7427183854,
              0.5183390604
             ],
             "passed_time": 168.7753219,
             "remaining_time": 172.5296769,
             "test": [
              0.7323725699,
              0.5192509437
             ]
            },
            {
             "iteration": 989,
             "learn": [
              0.7426772965,
              0.5183252146
             ],
             "passed_time": 168.9531538,
             "remaining_time": 172.3663488,
             "test": [
              0.7325142691,
              0.5192506646
             ]
            },
            {
             "iteration": 990,
             "learn": [
              0.7426837883,
              0.5182967958
             ],
             "passed_time": 169.1155984,
             "remaining_time": 172.1873247,
             "test": [
              0.732469291,
              0.5192459291
             ]
            },
            {
             "iteration": 991,
             "learn": [
              0.7427371236,
              0.5182837215
             ],
             "passed_time": 169.2674121,
             "remaining_time": 171.9975316,
             "test": [
              0.7324951644,
              0.5192444248
             ]
            },
            {
             "iteration": 992,
             "learn": [
              0.7428182128,
              0.5182333864
             ],
             "passed_time": 169.4451129,
             "remaining_time": 171.8340671,
             "test": [
              0.73235351,
              0.5192427527
             ]
            },
            {
             "iteration": 993,
             "learn": [
              0.7428189376,
              0.5182177116
             ],
             "passed_time": 169.6290217,
             "remaining_time": 171.676857,
             "test": [
              0.73235351,
              0.5192412816
             ]
            },
            {
             "iteration": 994,
             "learn": [
              0.7427883099,
              0.5182084197
             ],
             "passed_time": 169.7903785,
             "remaining_time": 171.4968145,
             "test": [
              0.73235351,
              0.5192297837
             ]
            },
            {
             "iteration": 995,
             "learn": [
              0.7428405622,
              0.5181771131
             ],
             "passed_time": 169.9667403,
             "remaining_time": 171.331935,
             "test": [
              0.7324311261,
              0.5192233513
             ]
            },
            {
             "iteration": 996,
             "learn": [
              0.7428567824,
              0.5181515582
             ],
             "passed_time": 170.1743112,
             "remaining_time": 171.1984295,
             "test": [
              0.7323344611,
              0.5192044068
             ]
            },
            {
             "iteration": 997,
             "learn": [
              0.7428881404,
              0.5181382884
             ],
             "passed_time": 170.3278334,
             "remaining_time": 171.0105101,
             "test": [
              0.7322827033,
              0.5192048192
             ]
            },
            {
             "iteration": 998,
             "learn": [
              0.7428784094,
              0.5181340179
             ],
             "passed_time": 170.5037081,
             "remaining_time": 170.8450569,
             "test": [
              0.7322636768,
              0.5191996727
             ]
            },
            {
             "iteration": 999,
             "learn": [
              0.7429476181,
              0.5181161629
             ],
             "passed_time": 170.6810189,
             "remaining_time": 170.6810189,
             "test": [
              0.7323603325,
              0.5191935392
             ]
            },
            {
             "iteration": 1000,
             "learn": [
              0.7429281587,
              0.5180985039
             ],
             "passed_time": 170.8565556,
             "remaining_time": 170.5151839,
             "test": [
              0.7324052591,
              0.5191841543
             ]
            },
            {
             "iteration": 1001,
             "learn": [
              0.7429598789,
              0.5180841277
             ],
             "passed_time": 170.9985297,
             "remaining_time": 170.3159008,
             "test": [
              0.7324502031,
              0.5191780324
             ]
            },
            {
             "iteration": 1002,
             "learn": [
              0.7428935515,
              0.5180551864
             ],
             "passed_time": 171.1495257,
             "remaining_time": 170.1257,
             "test": [
              0.7325794916,
              0.5191736438
             ]
            },
            {
             "iteration": 1003,
             "learn": [
              0.7429090542,
              0.5180326016
             ],
             "passed_time": 171.2722694,
             "remaining_time": 169.9075501,
             "test": [
              0.7325536439,
              0.5191558901
             ]
            },
            {
             "iteration": 1004,
             "learn": [
              0.7429180704,
              0.5180130043
             ],
             "passed_time": 171.4412613,
             "remaining_time": 169.7353781,
             "test": [
              0.7324569882,
              0.5191634202
             ]
            },
            {
             "iteration": 1005,
             "learn": [
              0.7429234866,
              0.5179863665
             ],
             "passed_time": 171.6344448,
             "remaining_time": 169.5871154,
             "test": [
              0.7325794916,
              0.5191634168
             ]
            },
            {
             "iteration": 1006,
             "learn": [
              0.7429523257,
              0.5179675617
             ],
             "passed_time": 171.8187912,
             "remaining_time": 169.4300493,
             "test": [
              0.7325536439,
              0.5191587962
             ]
            },
            {
             "iteration": 1007,
             "learn": [
              0.742917713,
              0.5179582922
             ],
             "passed_time": 171.9502994,
             "remaining_time": 169.2209295,
             "test": [
              0.7325536439,
              0.5191581908
             ]
            },
            {
             "iteration": 1008,
             "learn": [
              0.7429083384,
              0.5179465273
             ],
             "passed_time": 172.0808374,
             "remaining_time": 169.0110107,
             "test": [
              0.7326244563,
              0.5191561793
             ]
            },
            {
             "iteration": 1009,
             "learn": [
              0.7429865852,
              0.5179235285
             ],
             "passed_time": 172.235937,
             "remaining_time": 168.8253244,
             "test": [
              0.7325536439,
              0.5191535766
             ]
            },
            {
             "iteration": 1010,
             "learn": [
              0.7429242009,
              0.5179066102
             ],
             "passed_time": 172.3977824,
             "remaining_time": 168.6462976,
             "test": [
              0.7325986079,
              0.5191544159
             ]
            },
            {
             "iteration": 1011,
             "learn": [
              0.7429681881,
              0.5178933144
             ],
             "passed_time": 172.5338173,
             "remaining_time": 168.4421063,
             "test": [
              0.7325986079,
              0.5191509357
             ]
            },
            {
             "iteration": 1012,
             "learn": [
              0.7429645895,
              0.5178749976
             ],
             "passed_time": 172.676649,
             "remaining_time": 168.2446718,
             "test": [
              0.7325086973,
              0.5191496465
             ]
            },
            {
             "iteration": 1013,
             "learn": [
              0.7429710767,
              0.5178596701
             ],
             "passed_time": 172.9043788,
             "remaining_time": 168.1298989,
             "test": [
              0.7325986079,
              0.5191475741
             ]
            },
            {
             "iteration": 1014,
             "learn": [
              0.7430532771,
              0.5178332505
             ],
             "passed_time": 173.1074674,
             "remaining_time": 167.9909906,
             "test": [
              0.7325727545,
              0.5191476673
             ]
            },
            {
             "iteration": 1015,
             "learn": [
              0.7431351269,
              0.5178105346
             ],
             "passed_time": 173.2735728,
             "remaining_time": 167.8161374,
             "test": [
              0.7325727545,
              0.5191433411
             ]
            },
            {
             "iteration": 1016,
             "learn": [
              0.743078515,
              0.5177919764
             ],
             "passed_time": 173.4362236,
             "remaining_time": 167.6379624,
             "test": [
              0.7324569882,
              0.5191334653
             ]
            },
            {
             "iteration": 1017,
             "learn": [
              0.743097966,
              0.5177790883
             ],
             "passed_time": 173.5744835,
             "remaining_time": 167.4362896,
             "test": [
              0.7324311261,
              0.5191352703
             ]
            },
            {
             "iteration": 1018,
             "learn": [
              0.7431549196,
              0.5177551135
             ],
             "passed_time": 173.7018821,
             "remaining_time": 167.2242849,
             "test": [
              0.7327211213,
              0.5191308404
             ]
            },
            {
             "iteration": 1019,
             "learn": [
              0.743226702,
              0.5177295101
             ],
             "passed_time": 173.8619115,
             "remaining_time": 167.0437974,
             "test": [
              0.7326502996,
              0.519131453
             ]
            },
            {
             "iteration": 1020,
             "learn": [
              0.7433230676,
              0.5177106731
             ],
             "passed_time": 174.0324346,
             "remaining_time": 166.8734118,
             "test": [
              0.7326952823,
              0.5191295079
             ]
            },
            {
             "iteration": 1021,
             "learn": [
              0.74327292,
              0.5176969211
             ],
             "passed_time": 174.2086877,
             "remaining_time": 166.7085094,
             "test": [
              0.7327211213,
              0.51912882
             ]
            },
            {
             "iteration": 1022,
             "learn": [
              0.7432444372,
              0.5176803138
             ],
             "passed_time": 174.3685553,
             "remaining_time": 166.527936,
             "test": [
              0.7326952823,
              0.5191247196
             ]
            },
            {
             "iteration": 1023,
             "learn": [
              0.7432256762,
              0.517667469
             ],
             "passed_time": 174.5048787,
             "remaining_time": 166.3249625,
             "test": [
              0.7326952823,
              0.5191232065
             ]
            },
            {
             "iteration": 1024,
             "learn": [
              0.7432541586,
              0.5176510122
             ],
             "passed_time": 174.6341005,
             "remaining_time": 166.1153639,
             "test": [
              0.7326502996,
              0.5191201698
             ]
            },
            {
             "iteration": 1025,
             "learn": [
              0.7433198278,
              0.5176204433
             ],
             "passed_time": 174.8145559,
             "remaining_time": 165.9545589,
             "test": [
              0.7327402823,
              0.5191180249
             ]
            },
            {
             "iteration": 1026,
             "learn": [
              0.7433890817,
              0.5175894113
             ],
             "passed_time": 175.0168892,
             "remaining_time": 165.8144432,
             "test": [
              0.7327852998,
              0.5191121781
             ]
            },
            {
             "iteration": 1027,
             "learn": [
              0.7434305187,
              0.5175679405
             ],
             "passed_time": 175.168498,
             "remaining_time": 165.6262452,
             "test": [
              0.7327852998,
              0.519107355
             ]
            },
            {
             "iteration": 1028,
             "learn": [
              0.743475188,
              0.5175513532
             ],
             "passed_time": 175.3579571,
             "remaining_time": 165.4738352,
             "test": [
              0.7327402823,
              0.5191057875
             ]
            },
            {
             "iteration": 1029,
             "learn": [
              0.7435104678,
              0.517531674
             ],
             "passed_time": 175.5574594,
             "remaining_time": 165.3308113,
             "test": [
              0.7328369754,
              0.519098164
             ]
            },
            {
             "iteration": 1030,
             "learn": [
              0.7435069033,
              0.5175134207
             ],
             "passed_time": 175.7611346,
             "remaining_time": 165.1915999,
             "test": [
              0.7327077489,
              0.5190824121
             ]
            },
            {
             "iteration": 1031,
             "learn": [
              0.7435324702,
              0.5174992033
             ],
             "passed_time": 175.9262406,
             "remaining_time": 165.0160861,
             "test": [
              0.7327336042,
              0.5190718046
             ]
            },
            {
             "iteration": 1032,
             "learn": [
              0.7435198506,
              0.5174836724
             ],
             "passed_time": 176.1400389,
             "remaining_time": 164.8861738,
             "test": [
              0.7328303347,
              0.5190740164
             ]
            },
            {
             "iteration": 1033,
             "learn": [
              0.7435198506,
              0.5174713649
             ],
             "passed_time": 176.2881761,
             "remaining_time": 164.6947563,
             "test": [
              0.7327594545,
              0.5190725128
             ]
            },
            {
             "iteration": 1034,
             "learn": [
              0.7435227603,
              0.5174652405
             ],
             "passed_time": 176.4056709,
             "remaining_time": 164.4748526,
             "test": [
              0.7327594545,
              0.5190728382
             ]
            },
            {
             "iteration": 1035,
             "learn": [
              0.7435036662,
              0.5174534766
             ],
             "passed_time": 176.5329899,
             "remaining_time": 164.2642879,
             "test": [
              0.7327852998,
              0.5190718906
             ]
            },
            {
             "iteration": 1036,
             "learn": [
              0.7434907173,
              0.5174296446
             ],
             "passed_time": 176.6984887,
             "remaining_time": 164.0893391,
             "test": [
              0.7328303347,
              0.5190675507
             ]
            },
            {
             "iteration": 1037,
             "learn": [
              0.7436036605,
              0.5174137502
             ],
             "passed_time": 176.8611011,
             "remaining_time": 163.9117334,
             "test": [
              0.7328044887,
              0.519061994
             ]
            },
            {
             "iteration": 1038,
             "learn": [
              0.7436476781,
              0.5173896948
             ],
             "passed_time": 177.0065854,
             "remaining_time": 163.7183143,
             "test": [
              0.7329012286,
              0.5190565738
             ]
            },
            {
             "iteration": 1039,
             "learn": [
              0.7436447631,
              0.5173614034
             ],
             "passed_time": 177.2053746,
             "remaining_time": 163.574192,
             "test": [
              0.7329270652,
              0.5190482434
             ]
            },
            {
             "iteration": 1040,
             "learn": [
              0.7436195188,
              0.5173218962
             ],
             "passed_time": 177.3734852,
             "remaining_time": 163.4017025,
             "test": [
              0.733049618,
              0.5190156012
             ]
            },
            {
             "iteration": 1041,
             "learn": [
              0.7436732427,
              0.5173027853
             ],
             "passed_time": 177.5576574,
             "remaining_time": 163.2439883,
             "test": [
              0.7330237957,
              0.5190113785
             ]
            },
            {
             "iteration": 1042,
             "learn": [
              0.7436858647,
              0.5172810296
             ],
             "passed_time": 177.7393697,
             "remaining_time": 163.0839662,
             "test": [
              0.7329336685,
              0.5190112198
             ]
            },
            {
             "iteration": 1043,
             "learn": [
              0.7435942746,
              0.5172617909
             ],
             "passed_time": 177.9104153,
             "remaining_time": 162.9141351,
             "test": [
              0.7329787234,
              0.5190055437
             ]
            },
            {
             "iteration": 1044,
             "learn": [
              0.7436195188,
              0.5172375195
             ],
             "passed_time": 178.0739714,
             "remaining_time": 162.7374571,
             "test": [
              0.7331463391,
              0.5189917945
             ]
            },
            {
             "iteration": 1045,
             "learn": [
              0.743616605,
              0.5172183006
             ],
             "passed_time": 178.2959344,
             "remaining_time": 162.614074,
             "test": [
              0.7330754352,
              0.5189814639
             ]
            },
            {
             "iteration": 1046,
             "learn": [
              0.7436771165,
              0.5171997577
             ],
             "passed_time": 178.470814,
             "remaining_time": 162.4476464,
             "test": [
              0.7329853055,
              0.5189837612
             ]
            },
            {
             "iteration": 1047,
             "learn": [
              0.7437111086,
              0.5171891327
             ],
             "passed_time": 178.6213856,
             "remaining_time": 162.2591212,
             "test": [
              0.7330303616,
              0.5189842675
             ]
            },
            {
             "iteration": 1048,
             "learn": [
              0.7437337507,
              0.51717183
             ],
             "passed_time": 178.7482881,
             "remaining_time": 162.0492107,
             "test": [
              0.7329402668,
              0.5189774135
             ]
            },
            {
             "iteration": 1049,
             "learn": [
              0.7437023575,
              0.5171527077
             ],
             "passed_time": 178.8916726,
             "remaining_time": 161.8543704,
             "test": [
              0.7330369225,
              0.5189679269
             ]
            },
            {
             "iteration": 1050,
             "learn": [
              0.7437023575,
              0.5171467678
             ],
             "passed_time": 179.0473796,
             "remaining_time": 161.6707548,
             "test": [
              0.7330819799,
              0.518969573
             ]
            },
            {
             "iteration": 1051,
             "learn": [
              0.7436929717,
              0.5171284685
             ],
             "passed_time": 179.242216,
             "remaining_time": 161.5224532,
             "test": [
              0.7331335782,
              0.5189558745
             ]
            },
            {
             "iteration": 1052,
             "learn": [
              0.7437334343,
              0.5171128643
             ],
             "passed_time": 179.4144353,
             "remaining_time": 161.3537229,
             "test": [
              0.7332495408,
              0.5189496908
             ]
            },
            {
             "iteration": 1053,
             "learn": [
              0.7438023831,
              0.5170696587
             ],
             "passed_time": 179.5840817,
             "remaining_time": 161.1826768,
             "test": [
              0.733172147,
              0.518933378
             ]
            },
            {
             "iteration": 1054,
             "learn": [
              0.7437823507,
              0.5170214443
             ],
             "passed_time": 179.7552584,
             "remaining_time": 161.013004,
             "test": [
              0.7332237478,
              0.5189244133
             ]
            },
            {
             "iteration": 1055,
             "learn": [
              0.7437888199,
              0.5170052374
             ],
             "passed_time": 179.8971612,
             "remaining_time": 160.8171593,
             "test": [
              0.7331786543,
              0.5189262793
             ]
            },
            {
             "iteration": 1056,
             "learn": [
              0.743798523,
              0.5169924469
             ],
             "passed_time": 180.068889,
             "remaining_time": 160.6480249,
             "test": [
              0.7331077815,
              0.5189224537
             ]
            },
            {
             "iteration": 1057,
             "learn": [
              0.7438208488,
              0.5169642272
             ],
             "passed_time": 180.2288706,
             "remaining_time": 160.4684273,
             "test": [
              0.7333011116,
              0.5189207602
             ]
            },
            {
             "iteration": 1058,
             "learn": [
              0.7438434837,
              0.5169489384
             ],
             "passed_time": 180.4086996,
             "remaining_time": 160.3065027,
             "test": [
              0.7332302339,
              0.5189223888
             ]
            },
            {
             "iteration": 1059,
             "learn": [
              0.743837017,
              0.5169261561
             ],
             "passed_time": 180.5529791,
             "remaining_time": 160.1130192,
             "test": [
              0.7331786543,
              0.5189194197
             ]
            },
            {
             "iteration": 1060,
             "learn": [
              0.743802696,
              0.5169094968
             ],
             "passed_time": 180.6948351,
             "remaining_time": 159.9174837,
             "test": [
              0.7331786543,
              0.5189129484
             ]
            },
            {
             "iteration": 1061,
             "learn": [
              0.7438123967,
              0.5168933266
             ],
             "passed_time": 180.8191098,
             "remaining_time": 159.7065207,
             "test": [
              0.7331270547,
              0.5189081496
             ]
            },
            {
             "iteration": 1062,
             "learn": [
              0.7438344062,
              0.5168804075
             ],
             "passed_time": 180.9945552,
             "remaining_time": 159.5408262,
             "test": [
              0.733152857,
              0.5189098216
             ]
            },
            {
             "iteration": 1063,
             "learn": [
              0.7438362732,
              0.516839235
             ],
             "passed_time": 181.1470814,
             "remaining_time": 159.3549513,
             "test": [
              0.7329853055,
              0.5188891674
             ]
            },
            {
             "iteration": 1064,
             "learn": [
              0.7438391945,
              0.5168163735
             ],
             "passed_time": 181.3328367,
             "remaining_time": 159.198312,
             "test": [
              0.7329594895,
              0.5188901039
             ]
            },
            {
             "iteration": 1065,
             "learn": [
              0.7438964382,
              0.5167980438
             ],
             "passed_time": 181.6312418,
             "remaining_time": 159.1403188,
             "test": [
              0.7328369754,
              0.5188876334
             ]
            },
            {
             "iteration": 1066,
             "learn": [
              0.7439149033,
              0.5167785022
             ],
             "passed_time": 181.8099608,
             "remaining_time": 158.9772197,
             "test": [
              0.7327852998,
              0.5188966908
             ]
            },
            {
             "iteration": 1067,
             "learn": [
              0.7439459903,
              0.5167520057
             ],
             "passed_time": 181.9872458,
             "remaining_time": 158.81284,
             "test": [
              0.7329528968,
              0.5188958037
             ]
            },
            {
             "iteration": 1068,
             "learn": [
              0.7439366025,
              0.5167401013
             ],
             "passed_time": 182.1577272,
             "remaining_time": 158.6425108,
             "test": [
              0.7329787234,
              0.5188909451
             ]
            },
            {
             "iteration": 1069,
             "learn": [
              0.7439453791,
              0.5167137598
             ],
             "passed_time": 182.3148229,
             "remaining_time": 158.460547,
             "test": [
              0.7328369754,
              0.5188849268
             ]
            },
            {
             "iteration": 1070,
             "learn": [
              0.7439324524,
              0.5167061237
             ],
             "passed_time": 182.4750373,
             "remaining_time": 158.2813349,
             "test": [
              0.7329336685,
              0.5188843465
             ]
            },
            {
             "iteration": 1071,
             "learn": [
              0.7440275622,
              0.5166810381
             ],
             "passed_time": 182.6881404,
             "remaining_time": 158.1479424,
             "test": [
              0.732766122,
              0.5188827827
             ]
            },
            {
             "iteration": 1072,
             "learn": [
              0.7440437131,
              0.5166531667
             ],
             "passed_time": 182.8732494,
             "remaining_time": 157.9902164,
             "test": [
              0.7328561756,
              0.518874567
             ]
            },
            {
             "iteration": 1073,
             "learn": [
              0.7439906121,
              0.5166461126
             ],
             "passed_time": 183.0550953,
             "remaining_time": 157.8296259,
             "test": [
              0.7329528968,
              0.5188725239
             ]
            },
            {
             "iteration": 1074,
             "learn": [
              0.7440378549,
              0.5166122963
             ],
             "passed_time": 183.2272721,
             "remaining_time": 157.660676,
             "test": [
              0.7329078426,
              0.5188691707
             ]
            },
            {
             "iteration": 1075,
             "learn": [
              0.7440724804,
              0.516570649
             ],
             "passed_time": 183.3885909,
             "remaining_time": 157.4823959,
             "test": [
              0.7327852998,
              0.5188731793
             ]
            },
            {
             "iteration": 1076,
             "learn": [
              0.7440190784,
              0.5165504247
             ],
             "passed_time": 183.5296952,
             "remaining_time": 157.2868233,
             "test": [
              0.7329721362,
              0.5188760055
             ]
            },
            {
             "iteration": 1077,
             "learn": [
              0.7440284665,
              0.5165400867
             ],
             "passed_time": 183.6670613,
             "remaining_time": 157.0881545,
             "test": [
              0.7329270652,
              0.5188772649
             ]
            },
            {
             "iteration": 1078,
             "learn": [
              0.7440410847,
              0.5165206699
             ],
             "passed_time": 183.850911,
             "remaining_time": 156.9292762,
             "test": [
              0.7329270652,
              0.5188768307
             ]
            },
            {
             "iteration": 1079,
             "learn": [
              0.7440384567,
              0.5165071979
             ],
             "passed_time": 183.9861277,
             "remaining_time": 156.7289236,
             "test": [
              0.7327852998,
              0.5188801387
             ]
            },
            {
             "iteration": 1080,
             "learn": [
              0.7440560323,
              0.5164706647
             ],
             "passed_time": 184.1511114,
             "remaining_time": 156.5539976,
             "test": [
              0.7327594545,
              0.5188728979
             ]
            },
            {
             "iteration": 1081,
             "learn": [
              0.7440874328,
              0.5164636277
             ],
             "passed_time": 184.2760536,
             "remaining_time": 156.3451176,
             "test": [
              0.7328111401,
              0.5188725814
             ]
            },
            {
             "iteration": 1082,
             "learn": [
              0.7440880297,
              0.5164521302
             ],
             "passed_time": 184.4006864,
             "remaining_time": 156.1361306,
             "test": [
              0.7328303347,
              0.5188693758
             ]
            },
            {
             "iteration": 1083,
             "learn": [
              0.7441417341,
              0.5164391865
             ],
             "passed_time": 184.5716906,
             "remaining_time": 155.9664839,
             "test": [
              0.7328561756,
              0.5188775228
             ]
            },
            {
             "iteration": 1084,
             "learn": [
              0.7441167935,
              0.5164261897
             ],
             "passed_time": 184.8453,
             "remaining_time": 155.8833636,
             "test": [
              0.7328561756,
              0.5188818464
             ]
            },
            {
             "iteration": 1085,
             "learn": [
              0.744069251,
              0.5164056446
             ],
             "passed_time": 185.0868576,
             "remaining_time": 155.772917,
             "test": [
              0.7327852998,
              0.5188736428
             ]
            },
            {
             "iteration": 1086,
             "learn": [
              0.7440695503,
              0.516390684
             ],
             "passed_time": 185.3174164,
             "remaining_time": 155.652991,
             "test": [
              0.7327852998,
              0.5188738638
             ]
            },
            {
             "iteration": 1087,
             "learn": [
              0.7441834057,
              0.5163604449
             ],
             "passed_time": 185.5837592,
             "remaining_time": 155.562857,
             "test": [
              0.7329528968,
              0.5188659789
             ]
            },
            {
             "iteration": 1088,
             "learn": [
              0.744158171,
              0.5163400973
             ],
             "passed_time": 185.8662739,
             "remaining_time": 155.4859279,
             "test": [
              0.7330237957,
              0.5188627394
             ]
            },
            {
             "iteration": 1089,
             "learn": [
              0.7441992505,
              0.5163174192
             ],
             "passed_time": 186.0285086,
             "remaining_time": 155.3082044,
             "test": [
              0.7328369754,
              0.5188569242
             ]
            },
            {
             "iteration": 1090,
             "learn": [
              0.744220966,
              0.516295058
             ],
             "passed_time": 186.1752884,
             "remaining_time": 155.1176326,
             "test": [
              0.7328369754,
              0.5188384271
             ]
            },
            {
             "iteration": 1091,
             "learn": [
              0.744249429,
              0.5162825768
             ],
             "passed_time": 186.3427201,
             "remaining_time": 154.9443131,
             "test": [
              0.7328820116,
              0.5188382873
             ]
            },
            {
             "iteration": 1092,
             "learn": [
              0.7442564627,
              0.5162620871
             ],
             "passed_time": 186.5120549,
             "remaining_time": 154.7725836,
             "test": [
              0.7329336685,
              0.5188382364
             ]
            },
            {
             "iteration": 1093,
             "learn": [
              0.7442725942,
              0.5162407324
             ],
             "passed_time": 186.6969131,
             "remaining_time": 154.6137141,
             "test": [
              0.7328886311,
              0.5188270181
             ]
            },
            {
             "iteration": 1094,
             "learn": [
              0.7442476536,
              0.5162156703
             ],
             "passed_time": 186.8995269,
             "remaining_time": 154.469472,
             "test": [
              0.7329144514,
              0.5188277348
             ]
            },
            {
             "iteration": 1095,
             "learn": [
              0.7443697246,
              0.5162002808
             ],
             "passed_time": 187.0923033,
             "remaining_time": 154.3170093,
             "test": [
              0.7328952455,
              0.5188224858
             ]
            },
            {
             "iteration": 1096,
             "learn": [
              0.7443257087,
              0.5161848146
             ],
             "passed_time": 187.2910106,
             "remaining_time": 154.1693551,
             "test": [
              0.7327536232,
              0.5188267821
             ]
            },
            {
             "iteration": 1097,
             "learn": [
              0.7443257087,
              0.5161741907
             ],
             "passed_time": 187.4773783,
             "remaining_time": 154.0114711,
             "test": [
              0.7328694308,
              0.5188249647
             ]
            },
            {
             "iteration": 1098,
             "learn": [
              0.7443377538,
              0.5161360202
             ],
             "passed_time": 187.6465793,
             "remaining_time": 153.8394613,
             "test": [
              0.7327919567,
              0.5188185926
             ]
            },
            {
             "iteration": 1099,
             "learn": [
              0.7444005603,
              0.5161257347
             ],
             "passed_time": 187.813405,
             "remaining_time": 153.6655131,
             "test": [
              0.7328628058,
              0.5188192795
             ]
            },
            {
             "iteration": 1100,
             "learn": [
              0.7443847163,
              0.5161172
             ],
             "passed_time": 188.0007963,
             "remaining_time": 153.5083704,
             "test": [
              0.7328628058,
              0.5188154769
             ]
            },
            {
             "iteration": 1101,
             "learn": [
              0.7443847163,
              0.5160952978
             ],
             "passed_time": 188.1742235,
             "remaining_time": 153.3397937,
             "test": [
              0.7328177864,
              0.5188132041
             ]
            },
            {
             "iteration": 1102,
             "learn": [
              0.7444354717,
              0.5160442967
             ],
             "passed_time": 188.3567157,
             "remaining_time": 153.1785803,
             "test": [
              0.7327277998,
              0.5188047811
             ]
            },
            {
             "iteration": 1103,
             "learn": [
              0.7444832763,
              0.516001336
             ],
             "passed_time": 188.547043,
             "remaining_time": 153.0236871,
             "test": [
              0.7327019714,
              0.5187991864
             ]
            },
            {
             "iteration": 1104,
             "learn": [
              0.7444213182,
              0.5159838937
             ],
             "passed_time": 188.7217473,
             "remaining_time": 152.8560758,
             "test": [
              0.7325345444,
              0.5187993787
             ]
            },
            {
             "iteration": 1105,
             "learn": [
              0.7444242608,
              0.5159704411
             ],
             "passed_time": 188.8536635,
             "remaining_time": 152.6538654,
             "test": [
              0.7326570048,
              0.5187993819
             ]
            },
            {
             "iteration": 1106,
             "learn": [
              0.7444650494,
              0.5159469531
             ],
             "passed_time": 189.0713081,
             "remaining_time": 152.5209378,
             "test": [
              0.7327086553,
              0.5188038582
             ]
            },
            {
             "iteration": 1107,
             "learn": [
              0.7444811666,
              0.5159090175
             ],
             "passed_time": 189.2531075,
             "remaining_time": 152.3589999,
             "test": [
              0.7328244275,
              0.5187923419
             ]
            },
            {
             "iteration": 1108,
             "learn": [
              0.7444720544,
              0.5158808093
             ],
             "passed_time": 189.4631113,
             "remaining_time": 152.2196863,
             "test": [
              0.7328244275,
              0.5187885793
             ]
            },
            {
             "iteration": 1109,
             "learn": [
              0.7444465468,
              0.5158670007
             ],
             "passed_time": 189.6377852,
             "remaining_time": 152.0519179,
             "test": [
              0.7327536232,
              0.5187730023
             ]
            },
            {
             "iteration": 1110,
             "learn": [
              0.744481445,
              0.5158505547
             ],
             "passed_time": 189.8094668,
             "remaining_time": 151.8817425,
             "test": [
              0.7327986084,
              0.5187746329
             ]
            },
            {
             "iteration": 1111,
             "learn": [
              0.7444940589,
              0.51584388
             ],
             "passed_time": 189.9500119,
             "remaining_time": 151.6867001,
             "test": [
              0.7327277998,
              0.5187746297
             ]
            },
            {
             "iteration": 1112,
             "learn": [
              0.7445445142,
              0.5158266669
             ],
             "passed_time": 190.1572321,
             "remaining_time": 151.5448921,
             "test": [
              0.7326570048,
              0.5187769494
             ]
            },
            {
             "iteration": 1113,
             "learn": [
              0.744540741,
              0.5158048012
             ],
             "passed_time": 190.3115773,
             "remaining_time": 151.3609133,
             "test": [
              0.7326120556,
              0.5187809589
             ]
            },
            {
             "iteration": 1114,
             "learn": [
              0.7445096184,
              0.5157779633
             ],
             "passed_time": 190.511517,
             "remaining_time": 151.2131772,
             "test": [
              0.7326828326,
              0.51877328
             ]
            },
            {
             "iteration": 1115,
             "learn": [
              0.7445002271,
              0.5157588871
             ],
             "passed_time": 190.6824893,
             "remaining_time": 151.0424019,
             "test": [
              0.7326311721,
              0.5187707393
             ]
            },
            {
             "iteration": 1116,
             "learn": [
              0.744481445,
              0.5157408295
             ],
             "passed_time": 190.8006882,
             "remaining_time": 150.8299084,
             "test": [
              0.7325086973,
              0.5187640295
             ]
            },
            {
             "iteration": 1117,
             "learn": [
              0.7444758349,
              0.5157205049
             ],
             "passed_time": 190.956806,
             "remaining_time": 150.6474982,
             "test": [
              0.7325086973,
              0.5187661956
             ]
            },
            {
             "iteration": 1118,
             "learn": [
              0.7444943367,
              0.5156961023
             ],
             "passed_time": 191.0941318,
             "remaining_time": 150.4503397,
             "test": [
              0.7326378827,
              0.5187536377
             ]
            },
            {
             "iteration": 1119,
             "learn": [
              0.744462664,
              0.5156906715
             ],
             "passed_time": 191.2933644,
             "remaining_time": 150.3019292,
             "test": [
              0.7327086553,
              0.5187540616
             ]
            },
            {
             "iteration": 1120,
             "learn": [
              0.7445533563,
              0.5156716446
             ],
             "passed_time": 191.449268,
             "remaining_time": 150.1194528,
             "test": [
              0.7326828326,
              0.518746037
             ]
            },
            {
             "iteration": 1121,
             "learn": [
              0.7445469111,
              0.5156549032
             ],
             "passed_time": 191.5892616,
             "remaining_time": 149.9245737,
             "test": [
              0.7327277998,
              0.5187451658
             ]
            },
            {
             "iteration": 1122,
             "learn": [
              0.7445128412,
              0.5156465675
             ],
             "passed_time": 191.7225376,
             "remaining_time": 149.7245463,
             "test": [
              0.7327019714,
              0.5187353392
             ]
            },
            {
             "iteration": 1123,
             "learn": [
              0.7445439637,
              0.5156371046
             ],
             "passed_time": 191.8804927,
             "remaining_time": 149.5438715,
             "test": [
              0.7328436111,
              0.5187325852
             ]
            },
            {
             "iteration": 1124,
             "learn": [
              0.7445254554,
              0.5156229015
             ],
             "passed_time": 192.0450916,
             "remaining_time": 149.3684046,
             "test": [
              0.7328177864,
              0.5187317357
             ]
            },
            {
             "iteration": 1125,
             "learn": [
              0.7445034499,
              0.5156054103
             ],
             "passed_time": 192.1882768,
             "remaining_time": 149.1763357,
             "test": [
              0.7327727844,
              0.5187282245
             ]
            },
            {
             "iteration": 1126,
             "learn": [
              0.7445066727,
              0.5155840896
             ],
             "passed_time": 192.4275865,
             "remaining_time": 149.0588137,
             "test": [
              0.7326053344,
              0.5187217015
             ]
            },
            {
             "iteration": 1127,
             "learn": [
              0.7445131181,
              0.5155759627
             ],
             "passed_time": 192.562262,
             "remaining_time": 148.8601883,
             "test": [
              0.732676138,
              0.5187227217
             ]
            },
            {
             "iteration": 1128,
             "learn": [
              0.7444902799,
              0.5155521186
             ],
             "passed_time": 192.7131704,
             "remaining_time": 148.6741997,
             "test": [
              0.7326502996,
              0.5187098329
             ]
            },
            {
             "iteration": 1129,
             "learn": [
              0.7445031726,
              0.5155403933
             ],
             "passed_time": 192.823986,
             "remaining_time": 148.4574051,
             "test": [
              0.7326502996,
              0.5187086488
             ]
            },
            {
             "iteration": 1130,
             "learn": [
              0.7444905579,
              0.5155291061
             ],
             "passed_time": 192.9941422,
             "remaining_time": 148.2863922,
             "test": [
              0.7326053344,
              0.5187098222
             ]
            },
            {
             "iteration": 1131,
             "learn": [
              0.7445853043,
              0.5155028656
             ],
             "passed_time": 193.1700212,
             "remaining_time": 148.1197689,
             "test": [
              0.7324896145,
              0.5187027898
             ]
            },
            {
             "iteration": 1132,
             "learn": [
              0.7445603502,
              0.5154885964
             ],
             "passed_time": 193.3572502,
             "remaining_time": 147.9618145,
             "test": [
              0.732515456,
              0.5187055696
             ]
            },
            {
             "iteration": 1133,
             "learn": [
              0.7445979186,
              0.5154414939
             ],
             "passed_time": 193.555317,
             "remaining_time": 147.8120851,
             "test": [
              0.7325794916,
              0.518698455
             ]
            },
            {
             "iteration": 1134,
             "learn": [
              0.7446201973,
              0.5154206154
             ],
             "passed_time": 193.7512965,
             "remaining_time": 147.6606797,
             "test": [
              0.7325345444,
              0.5186962707
             ]
            },
            {
             "iteration": 1135,
             "learn": [
              0.7446424742,
              0.5154077388
             ],
             "passed_time": 193.8923406,
             "remaining_time": 147.467414,
             "test": [
              0.7324637681,
              0.5186955564
             ]
            },
            {
             "iteration": 1136,
             "learn": [
              0.7446642111,
              0.5153946051
             ],
             "passed_time": 194.0621358,
             "remaining_time": 147.2960626,
             "test": [
              0.7323671498,
              0.5186929977
             ]
            },
            {
             "iteration": 1137,
             "learn": [
              0.7446902432,
              0.5153762764
             ],
             "passed_time": 194.2388837,
             "remaining_time": 147.1299804,
             "test": [
              0.7323930055,
              0.5186846917
             ]
            },
            {
             "iteration": 1138,
             "learn": [
              0.7447404268,
              0.515343151
             ],
             "passed_time": 194.4829571,
             "remaining_time": 147.0147727,
             "test": [
              0.7323930055,
              0.5186664603
             ]
            },
            {
             "iteration": 1139,
             "learn": [
              0.7447753099,
              0.5153306435
             ],
             "passed_time": 194.6398594,
             "remaining_time": 146.8335781,
             "test": [
              0.7323930055,
              0.5186711495
             ]
            },
            {
             "iteration": 1140,
             "learn": [
              0.7447570526,
              0.5153217504
             ],
             "passed_time": 194.7949656,
             "remaining_time": 146.651074,
             "test": [
              0.7323930055,
              0.5186690736
             ]
            },
            {
             "iteration": 1141,
             "learn": [
              0.7448163657,
              0.5153007583
             ],
             "passed_time": 194.9757852,
             "remaining_time": 146.4879367,
             "test": [
              0.732444702,
              0.5186692383
             ]
            },
            {
             "iteration": 1142,
             "learn": [
              0.7447691357,
              0.5152922566
             ],
             "passed_time": 195.1168994,
             "remaining_time": 146.2949981,
             "test": [
              0.7323998069,
              0.5186671902
             ]
            },
            {
             "iteration": 1143,
             "learn": [
              0.7447444418,
              0.5152801585
             ],
             "passed_time": 195.3350128,
             "remaining_time": 146.1597648,
             "test": [
              0.7325671238,
              0.518662629
             ]
            },
            {
             "iteration": 1144,
             "learn": [
              0.7448257596,
              0.5152574536
             ],
             "passed_time": 195.6353992,
             "remaining_time": 146.0858221,
             "test": [
              0.7324705428,
              0.5186657904
             ]
            },
            {
             "iteration": 1145,
             "learn": [
              0.744838372,
              0.5152503832
             ],
             "passed_time": 195.8021467,
             "remaining_time": 145.9118964,
             "test": [
              0.7325412924,
              0.5186643658
             ]
            },
            {
             "iteration": 1146,
             "learn": [
              0.7447983657,
              0.5152390288
             ],
             "passed_time": 195.9449371,
             "remaining_time": 145.7201668,
             "test": [
              0.7324705428,
              0.5186628851
             ]
            },
            {
             "iteration": 1147,
             "learn": [
              0.7448329781,
              0.5152099474
             ],
             "passed_time": 196.1058075,
             "remaining_time": 145.5419408,
             "test": [
              0.7325862236,
              0.5186617308
             ]
            },
            {
             "iteration": 1148,
             "learn": [
              0.7448802018,
              0.5151846749
             ],
             "passed_time": 196.2990162,
             "remaining_time": 145.3876961,
             "test": [
              0.7324896145,
              0.5186669057
             ]
            },
            {
             "iteration": 1149,
             "learn": [
              0.7448675914,
              0.5151733198
             ],
             "passed_time": 196.4646928,
             "remaining_time": 145.2130338,
             "test": [
              0.732515456,
              0.5186597311
             ]
            },
            {
             "iteration": 1150,
             "learn": [
              0.7448769846,
              0.5151665877
             ],
             "passed_time": 196.6353697,
             "remaining_time": 145.0420755,
             "test": [
              0.7325862236,
              0.5186621087
             ]
            },
            {
             "iteration": 1151,
             "learn": [
              0.744885604,
              0.5151467019
             ],
             "passed_time": 196.8389059,
             "remaining_time": 144.8953057,
             "test": [
              0.7326311721,
              0.5186719811
             ]
            },
            {
             "iteration": 1152,
             "learn": [
              0.7448762092,
              0.5151400003
             ],
             "passed_time": 196.9628949,
             "remaining_time": 144.6900017,
             "test": [
              0.7326311721,
              0.5186689214
             ]
            },
            {
             "iteration": 1153,
             "learn": [
              0.7448829027,
              0.5151235439
             ],
             "passed_time": 197.1660286,
             "remaining_time": 144.5428598,
             "test": [
              0.7327086553,
              0.5186727531
             ]
            },
            {
             "iteration": 1154,
             "learn": [
              0.7449363097,
              0.5151074541
             ],
             "passed_time": 197.3356544,
             "remaining_time": 144.3711065,
             "test": [
              0.7327086553,
              0.5186726475
             ]
            },
            {
             "iteration": 1155,
             "learn": [
              0.7449108292,
              0.5150895707
             ],
             "passed_time": 197.5295762,
             "remaining_time": 144.2170954,
             "test": [
              0.7326378827,
              0.5186639601
             ]
            },
            {
             "iteration": 1156,
             "learn": [
              0.7448512442,
              0.5150457654
             ],
             "passed_time": 197.7285461,
             "remaining_time": 144.0666935,
             "test": [
              0.732515456,
              0.5186638432
             ]
            },
            {
             "iteration": 1157,
             "learn": [
              0.7448638559,
              0.5150365959
             ],
             "passed_time": 197.9414841,
             "remaining_time": 143.9263641,
             "test": [
              0.7325862236,
              0.5186662269
             ]
            },
            {
             "iteration": 1158,
             "learn": [
              0.7448955141,
              0.5150255833
             ],
             "passed_time": 198.1063809,
             "remaining_time": 143.7510495,
             "test": [
              0.7325862236,
              0.5186676538
             ]
            },
            {
             "iteration": 1159,
             "learn": [
              0.7449551004,
              0.5149998708
             ],
             "passed_time": 198.2803845,
             "remaining_time": 143.5823474,
             "test": [
              0.7326120556,
              0.5186690012
             ]
            },
            {
             "iteration": 1160,
             "learn": [
              0.7449803249,
              0.5149712542
             ],
             "passed_time": 198.4506787,
             "remaining_time": 143.4109556,
             "test": [
              0.7326120556,
              0.5186565452
             ]
            },
            {
             "iteration": 1161,
             "learn": [
              0.7449862516,
              0.5149588587
             ],
             "passed_time": 198.6012147,
             "remaining_time": 143.2253166,
             "test": [
              0.7325412924,
              0.5186580779
             ]
            },
            {
             "iteration": 1162,
             "learn": [
              0.7449835412,
              0.5149361603
             ],
             "passed_time": 198.7361588,
             "remaining_time": 143.0285167,
             "test": [
              0.7326570048,
              0.5186611121
             ]
            },
            {
             "iteration": 1163,
             "learn": [
              0.7449677126,
              0.5149218996
             ],
             "passed_time": 198.894261,
             "remaining_time": 142.8484555,
             "test": [
              0.7326053344,
              0.5186613781
             ]
            },
            {
             "iteration": 1164,
             "learn": [
              0.7450211263,
              0.5149039414
             ],
             "passed_time": 199.0423854,
             "remaining_time": 142.6612805,
             "test": [
              0.732676138,
              0.518650809
             ]
            },
            {
             "iteration": 1165,
             "learn": [
              0.7450995232,
              0.5148826074
             ],
             "passed_time": 199.189932,
             "remaining_time": 142.4737593,
             "test": [
              0.7327211213,
              0.5186500961
             ]
            },
            {
             "iteration": 1166,
             "learn": [
              0.7450777594,
              0.514861921
             ],
             "passed_time": 199.3825356,
             "remaining_time": 142.318468,
             "test": [
              0.7327211213,
              0.5186519029
             ]
            },
            {
             "iteration": 1167,
             "learn": [
              0.7451215359,
              0.5148285427
             ],
             "passed_time": 199.5326645,
             "remaining_time": 142.1328569,
             "test": [
              0.7331270547,
              0.5186360998
             ]
            },
            {
             "iteration": 1168,
             "learn": [
              0.7451346409,
              0.5148076287
             ],
             "passed_time": 199.7101868,
             "remaining_time": 141.9667795,
             "test": [
              0.7332495408,
              0.5186235719
             ]
            },
            {
             "iteration": 1169,
             "learn": [
              0.7450938351,
              0.5148027362
             ],
             "passed_time": 199.8567864,
             "remaining_time": 141.7787459,
             "test": [
              0.7333655706,
              0.5186212781
             ]
            },
            {
             "iteration": 1170,
             "learn": [
              0.7450968027,
              0.5147703834
             ],
             "passed_time": 200.0777776,
             "remaining_time": 141.643448,
             "test": [
              0.733172147,
              0.5186132567
             ]
            },
            {
             "iteration": 1171,
             "learn": [
              0.7451188134,
              0.5147531977
             ],
             "passed_time": 200.2367764,
             "remaining_time": 141.4642072,
             "test": [
              0.7332172567,
              0.5185981353
             ]
            },
            {
             "iteration": 1172,
             "learn": [
              0.745112137,
              0.5147380824
             ],
             "passed_time": 200.3971002,
             "remaining_time": 141.2859351,
             "test": [
              0.7330754352,
              0.518593476
             ]
            },
            {
             "iteration": 1173,
             "learn": [
              0.7451875773,
              0.5147086007
             ],
             "passed_time": 200.6269387,
             "remaining_time": 141.1566025,
             "test": [
              0.7331914482,
              0.5185894222
             ]
            },
            {
             "iteration": 1174,
             "learn": [
              0.7451593779,
              0.5146903961
             ],
             "passed_time": 200.7797601,
             "remaining_time": 140.973023,
             "test": [
              0.7331656347,
              0.518588609
             ]
            },
            {
             "iteration": 1175,
             "learn": [
              0.7451628365,
              0.5146684642
             ],
             "passed_time": 200.9595393,
             "remaining_time": 140.8083847,
             "test": [
              0.7329528968,
              0.5185825778
             ]
            },
            {
             "iteration": 1176,
             "learn": [
              0.7452034059,
              0.5146499027
             ],
             "passed_time": 201.1901717,
             "remaining_time": 140.6792789,
             "test": [
              0.7329787234,
              0.5185852592
             ]
            },
            {
             "iteration": 1177,
             "learn": [
              0.7452034059,
              0.5146494358
             ],
             "passed_time": 201.3403173,
             "remaining_time": 140.4938377,
             "test": [
              0.7329787234,
              0.5185841812
             ]
            },
            {
             "iteration": 1178,
             "learn": [
              0.7451625924,
              0.514634117
             ],
             "passed_time": 201.5024884,
             "remaining_time": 140.3168303,
             "test": [
              0.733004545,
              0.5185733805
             ]
            },
            {
             "iteration": 1179,
             "learn": [
              0.7451880629,
              0.5146138763
             ],
             "passed_time": 201.6448839,
             "remaining_time": 140.1261058,
             "test": [
              0.7331077815,
              0.5185675925
             ]
            },
            {
             "iteration": 1180,
             "learn": [
              0.7452095922,
              0.5145956979
             ],
             "passed_time": 201.8299908,
             "remaining_time": 139.9650825,
             "test": [
              0.7332495408,
              0.5185678362
             ]
            },
            {
             "iteration": 1181,
             "learn": [
              0.7452318482,
              0.5145707526
             ],
             "passed_time": 202.0167654,
             "remaining_time": 139.8051727,
             "test": [
              0.7333204409,
              0.5185691949
             ]
            },
            {
             "iteration": 1182,
             "learn": [
              0.7452098339,
              0.5145627616
             ],
             "passed_time": 202.2000465,
             "remaining_time": 139.6428047,
             "test": [
              0.7331077815,
              0.5185670578
             ]
            },
            {
             "iteration": 1183,
             "learn": [
              0.7452288752,
              0.5145481768
             ],
             "passed_time": 202.3596087,
             "remaining_time": 139.4640546,
             "test": [
              0.7332753287,
              0.5185649121
             ]
            },
            {
             "iteration": 1184,
             "learn": [
              0.7452573158,
              0.5145289111
             ],
             "passed_time": 202.5036003,
             "remaining_time": 139.2746281,
             "test": [
              0.7331786543,
              0.5185578511
             ]
            },
            {
             "iteration": 1185,
             "learn": [
              0.7451912768,
              0.5145153508
             ],
             "passed_time": 202.6457286,
             "remaining_time": 139.0839993,
             "test": [
              0.733152857,
              0.5185547064
             ]
            },
            {
             "iteration": 1186,
             "learn": [
              0.7452353023,
              0.5145005704
             ],
             "passed_time": 202.823634,
             "remaining_time": 138.9179566,
             "test": [
              0.733152857,
              0.5185513461
             ]
            },
            {
             "iteration": 1187,
             "learn": [
              0.7452981319,
              0.5144886314
             ],
             "passed_time": 202.9789287,
             "remaining_time": 138.7364395,
             "test": [
              0.7330819799,
              0.518551238
             ]
            },
            {
             "iteration": 1188,
             "learn": [
              0.7453233599,
              0.5144717036
             ],
             "passed_time": 203.1300592,
             "remaining_time": 138.5521262,
             "test": [
              0.7331786543,
              0.5185463634
             ]
            },
            {
             "iteration": 1189,
             "learn": [
              0.7453391862,
              0.5144559191
             ],
             "passed_time": 203.2927223,
             "remaining_time": 138.3757186,
             "test": [
              0.7331786543,
              0.5185409364
             ]
            },
            {
             "iteration": 1190,
             "learn": [
              0.7453641799,
              0.5144465383
             ],
             "passed_time": 203.4100096,
             "remaining_time": 138.168512,
             "test": [
              0.7331786543,
              0.5185445189
             ]
            },
            {
             "iteration": 1191,
             "learn": [
              0.7453107459,
              0.5144295398
             ],
             "passed_time": 203.5653381,
             "remaining_time": 137.9872426,
             "test": [
              0.7332946524,
              0.5185528635
             ]
            },
            {
             "iteration": 1192,
             "learn": [
              0.7453139585,
              0.5144154953
             ],
             "passed_time": 203.7327698,
             "remaining_time": 137.8142039,
             "test": [
              0.7331786543,
              0.5185500664
             ]
            },
            {
             "iteration": 1193,
             "learn": [
              0.7453612019,
              0.5143791072
             ],
             "passed_time": 203.8980272,
             "remaining_time": 137.6397068,
             "test": [
              0.7331335782,
              0.5185464423
             ]
            },
            {
             "iteration": 1194,
             "learn": [
              0.7453767944,
              0.5143545654
             ],
             "passed_time": 204.0680273,
             "remaining_time": 137.4684201,
             "test": [
              0.7331593699,
              0.5185399618
             ]
            },
            {
             "iteration": 1195,
             "learn": [
              0.7454524813,
              0.514333907
             ],
             "passed_time": 204.2478918,
             "remaining_time": 137.3037667,
             "test": [
              0.7332302339,
              0.5185415381
             ]
            },
            {
             "iteration": 1196,
             "learn": [
              0.7454527107,
              0.5143259639
             ],
             "passed_time": 204.3970496,
             "remaining_time": 137.1184886,
             "test": [
              0.7332560162,
              0.518541838
             ]
            },
            {
             "iteration": 1197,
             "learn": [
              0.7454242719,
              0.5143043285
             ],
             "passed_time": 204.5643006,
             "remaining_time": 136.9453832,
             "test": [
              0.7330885195,
              0.5185387662
             ]
            },
            {
             "iteration": 1198,
             "learn": [
              0.7453868954,
              0.5142870969
             ],
             "passed_time": 204.7372877,
             "remaining_time": 136.7761196,
             "test": [
              0.7329210552,
              0.5185360074
             ]
            },
            {
             "iteration": 1199,
             "learn": [
              0.7454185428,
              0.5142779883
             ],
             "passed_time": 204.8849036,
             "remaining_time": 136.5899357,
             "test": [
              0.7329918825,
              0.5185375424
             ]
            },
            {
             "iteration": 1200,
             "learn": [
              0.7453740493,
              0.5142465244
             ],
             "passed_time": 205.0610553,
             "remaining_time": 136.4228003,
             "test": [
              0.7330885195,
              0.5185301038
             ]
            },
            {
             "iteration": 1201,
             "learn": [
              0.7454341355,
              0.5142221977
             ],
             "passed_time": 205.2473092,
             "remaining_time": 136.2623567,
             "test": [
              0.7330885195,
              0.5185348349
             ]
            },
            {
             "iteration": 1202,
             "learn": [
              0.7454595904,
              0.5142091791
             ],
             "passed_time": 205.4218594,
             "remaining_time": 136.0941163,
             "test": [
              0.7331143106,
              0.5185238984
             ]
            },
            {
             "iteration": 1203,
             "learn": [
              0.7454689924,
              0.5141723409
             ],
             "passed_time": 205.602773,
             "remaining_time": 135.9300725,
             "test": [
              0.7331593699,
              0.5185058182
             ]
            },
            {
             "iteration": 1204,
             "learn": [
              0.7454561508,
              0.5141585794
             ],
             "passed_time": 205.7424275,
             "remaining_time": 135.73878,
             "test": [
              0.7331851566,
              0.5185052875
             ]
            },
            {
             "iteration": 1205,
             "learn": [
              0.7454783947,
              0.5141306835
             ],
             "passed_time": 205.8991973,
             "remaining_time": 135.5588414,
             "test": [
              0.7333268896,
              0.5184996664
             ]
            },
            {
             "iteration": 1206,
             "learn": [
              0.7455098128,
              0.514121162
             ],
             "passed_time": 206.0425268,
             "remaining_time": 135.3701108,
             "test": [
              0.7330885195,
              0.5184956099
             ]
            },
            {
             "iteration": 1207,
             "learn": [
              0.7455506363,
              0.5140928365
             ],
             "passed_time": 206.2252958,
             "remaining_time": 135.2073131,
             "test": [
              0.7331143106,
              0.5184913887
             ]
            },
            {
             "iteration": 1208,
             "learn": [
              0.7455825041,
              0.514078615
             ],
             "passed_time": 206.4513946,
             "remaining_time": 135.0728314,
             "test": [
              0.7329726596,
              0.518489727
             ]
            },
            {
             "iteration": 1209,
             "learn": [
              0.745614367,
              0.5140493767
             ],
             "passed_time": 206.653372,
             "remaining_time": 134.9224495,
             "test": [
              0.7331851566,
              0.5184871506
             ]
            },
            {
             "iteration": 1210,
             "learn": [
              0.745617354,
              0.5140417087
             ],
             "passed_time": 206.7960332,
             "remaining_time": 134.7333363,
             "test": [
              0.7331143106,
              0.5184903961
             ]
            },
            {
             "iteration": 1211,
             "learn": [
              0.7456141457,
              0.5140358832
             ],
             "passed_time": 206.9343205,
             "remaining_time": 134.5414559,
             "test": [
              0.7330434783,
              0.5184901123
             ]
            },
            {
             "iteration": 1212,
             "learn": [
              0.7455765326,
              0.5140147014
             ],
             "passed_time": 207.0751178,
             "remaining_time": 134.3512924,
             "test": [
              0.7331658777,
              0.5184869807
             ]
            },
            {
             "iteration": 1213,
             "learn": [
              0.7456393699,
              0.5139964092
             ],
             "passed_time": 207.2728691,
             "remaining_time": 134.1980849,
             "test": [
              0.7330950541,
              0.5184887675
             ]
            },
            {
             "iteration": 1214,
             "learn": [
              0.7456581785,
              0.5139803366
             ],
             "passed_time": 207.4756297,
             "remaining_time": 134.0480406,
             "test": [
              0.733236715,
              0.5184897673
             ]
            },
            {
             "iteration": 1215,
             "learn": [
              0.7456366021,
              0.5139649756
             ],
             "passed_time": 207.6678702,
             "remaining_time": 133.8911268,
             "test": [
              0.7332753287,
              0.5184914225
             ]
            },
            {
             "iteration": 1216,
             "learn": [
              0.7457086281,
              0.5139520156
             ],
             "passed_time": 207.865772,
             "remaining_time": 133.7377974,
             "test": [
              0.7332302339,
              0.5184861482
             ]
            },
            {
             "iteration": 1217,
             "learn": [
              0.7457180334,
              0.5139461003
             ],
             "passed_time": 208.031999,
             "remaining_time": 133.5640585,
             "test": [
              0.7332560162,
              0.5184855428
             ]
            },
            {
             "iteration": 1218,
             "learn": [
              0.745733853,
              0.513924421
             ],
             "passed_time": 208.2167161,
             "remaining_time": 133.4021782,
             "test": [
              0.7332109383,
              0.5184712195
             ]
            },
            {
             "iteration": 1219,
             "learn": [
              0.7456992231,
              0.5139108675
             ],
             "passed_time": 208.3915041,
             "remaining_time": 133.2339125,
             "test": [
              0.7332109383,
              0.5184612476
             ]
            },
            {
             "iteration": 1220,
             "learn": [
              0.745796703,
              0.5138828843
             ],
             "passed_time": 208.7090571,
             "remaining_time": 133.1567203,
             "test": [
              0.7331916538,
              0.5184629319
             ]
            },
            {
             "iteration": 1221,
             "learn": [
              0.7459128065,
              0.5138561768
             ],
             "passed_time": 208.8548631,
             "remaining_time": 132.9697901,
             "test": [
              0.7333333333,
              0.5184623243
             ]
            },
            {
             "iteration": 1222,
             "learn": [
              0.7458909898,
              0.5138450844
             ],
             "passed_time": 208.9911981,
             "remaining_time": 132.77691,
             "test": [
              0.733236715,
              0.5184661539
             ]
            },
            {
             "iteration": 1223,
             "learn": [
              0.7459194228,
              0.5138329299
             ],
             "passed_time": 209.1399612,
             "remaining_time": 132.5920016,
             "test": [
              0.7332817936,
              0.5184662896
             ]
            },
            {
             "iteration": 1224,
             "learn": [
              0.7459228334,
              0.5137945775
             ],
             "passed_time": 209.3307737,
             "remaining_time": 132.4337548,
             "test": [
              0.733449309,
              0.518470881
             ]
            },
            {
             "iteration": 1225,
             "learn": [
              0.7460355507,
              0.5137643615
             ],
             "passed_time": 209.4925556,
             "remaining_time": 132.2571273,
             "test": [
              0.7334041936,
              0.5184501723
             ]
            },
            {
             "iteration": 1226,
             "learn": [
              0.7460481663,
              0.5137554004
             ],
             "passed_time": 209.6313564,
             "remaining_time": 132.0660461,
             "test": [
              0.7334041936,
              0.5184513533
             ]
            },
            {
             "iteration": 1227,
             "learn": [
              0.746058175,
              0.5137084892
             ],
             "passed_time": 209.8545769,
             "remaining_time": 131.9281216,
             "test": [
              0.7332882535,
              0.5184546687
             ]
            },
            {
             "iteration": 1228,
             "learn": [
              0.7460239384,
              0.5136878523
             ],
             "passed_time": 210.0529939,
             "remaining_time": 131.7744982,
             "test": [
              0.7332624867,
              0.5184496636
             ]
            },
            {
             "iteration": 1229,
             "learn": [
              0.7460113259,
              0.5136725904
             ],
             "passed_time": 210.2162252,
             "remaining_time": 131.5987751,
             "test": [
              0.7333075659,
              0.5184499674
             ]
            },
            {
             "iteration": 1230,
             "learn": [
              0.7459897094,
              0.5136393889
             ],
             "passed_time": 210.4084519,
             "remaining_time": 131.4411856,
             "test": [
              0.7331208345,
              0.5184462687
             ]
            },
            {
             "iteration": 1231,
             "learn": [
              0.746027342,
              0.5136100327
             ],
             "passed_time": 210.6094966,
             "remaining_time": 131.2890369,
             "test": [
              0.7330950541,
              0.5184381013
             ]
            },
            {
             "iteration": 1232,
             "learn": [
              0.7459580801,
              0.5135921003
             ],
             "passed_time": 210.7629763,
             "remaining_time": 131.1072205,
             "test": [
              0.7330242442,
              0.5184390581
             ]
            },
            {
             "iteration": 1233,
             "learn": [
              0.7460183352,
              0.5135623297
             ],
             "passed_time": 210.9898344,
             "remaining_time": 130.9709993,
             "test": [
              0.7329984544,
              0.5184403758
             ]
            },
            {
             "iteration": 1234,
             "learn": [
              0.7460657722,
              0.5135484417
             ],
             "passed_time": 211.134757,
             "remaining_time": 130.7838778,
             "test": [
              0.7331400966,
              0.5184458847
             ]
            },
            {
             "iteration": 1235,
             "learn": [
              0.746046758,
              0.5135268465
             ],
             "passed_time": 211.3143143,
             "remaining_time": 130.6182331,
             "test": [
              0.7330950541,
              0.5184403594
             ]
            },
            {
             "iteration": 1236,
             "learn": [
              0.7461039944,
              0.513503899
             ],
             "passed_time": 211.5345298,
             "remaining_time": 130.4776445,
             "test": [
              0.7329984544,
              0.5184440648
             ]
            },
            {
             "iteration": 1237,
             "learn": [
              0.7461041908,
              0.5134823874
             ],
             "passed_time": 211.7108897,
             "remaining_time": 130.3099337,
             "test": [
              0.7333784306,
              0.5184361331
             ]
            },
            {
             "iteration": 1238,
             "learn": [
              0.7461166028,
              0.5134709249
             ],
             "passed_time": 211.8669713,
             "remaining_time": 130.1297539,
             "test": [
              0.7333784306,
              0.518443305
             ]
            },
            {
             "iteration": 1239,
             "learn": [
              0.7461037979,
              0.5134514548
             ],
             "passed_time": 212.0544838,
             "remaining_time": 129.9688772,
             "test": [
              0.7333333333,
              0.5184399508
             ]
            },
            {
             "iteration": 1240,
             "learn": [
              0.7460943903,
              0.5134407431
             ],
             "passed_time": 212.1940781,
             "remaining_time": 129.7786505,
             "test": [
              0.7333333333,
              0.5184384537
             ]
            },
            {
             "iteration": 1241,
             "learn": [
              0.7461976947,
              0.5134188519
             ],
             "passed_time": 212.3688608,
             "remaining_time": 129.6099811,
             "test": [
              0.7332239065,
              0.5184369453
             ]
            },
            {
             "iteration": 1242,
             "learn": [
              0.7461884765,
              0.5134066723
             ],
             "passed_time": 212.5277842,
             "remaining_time": 129.4316433,
             "test": [
              0.7331531184,
              0.5184336241
             ]
            },
            {
             "iteration": 1243,
             "learn": [
              0.746210306,
              0.5133890317
             ],
             "passed_time": 212.688431,
             "remaining_time": 129.2543841,
             "test": [
              0.7331531184,
              0.518416239
             ]
            },
            {
             "iteration": 1244,
             "learn": [
              0.7462231078,
              0.5133787129
             ],
             "passed_time": 212.8290382,
             "remaining_time": 129.0649991,
             "test": [
              0.7333397721,
              0.5184147543
             ]
            },
            {
             "iteration": 1245,
             "learn": [
              0.746298585,
              0.5133343439
             ],
             "passed_time": 212.9975364,
             "remaining_time": 128.8925702,
             "test": [
              0.7333784306,
              0.5184012455
             ]
            },
            {
             "iteration": 1246,
             "learn": [
              0.7463394332,
              0.5133248165
             ],
             "passed_time": 213.1677895,
             "remaining_time": 128.7212073,
             "test": [
              0.7333333333,
              0.5184010499
             ]
            },
            {
             "iteration": 1247,
             "learn": [
              0.7463083694,
              0.513283144
             ],
             "passed_time": 213.3253069,
             "remaining_time": 128.5421721,
             "test": [
              0.7332109383,
              0.5183865531
             ]
            },
            {
             "iteration": 1248,
             "learn": [
              0.7462957592,
              0.5132584041
             ],
             "passed_time": 213.5130493,
             "remaining_time": 128.3813451,
             "test": [
              0.7332560162,
              0.5183916755
             ]
            },
            {
             "iteration": 1249,
             "learn": [
              0.7463083694,
              0.5132481182
             ],
             "passed_time": 213.6586435,
             "remaining_time": 128.1951861,
             "test": [
              0.7332560162,
              0.5183888129
             ]
            },
            {
             "iteration": 1250,
             "learn": [
              0.7463023441,
              0.51323119
             ],
             "passed_time": 213.8024898,
             "remaining_time": 128.0080454,
             "test": [
              0.7332560162,
              0.5183915537
             ]
            },
            {
             "iteration": 1251,
             "learn": [
              0.7463992937,
              0.5132077323
             ],
             "passed_time": 213.9801025,
             "remaining_time": 127.8411475,
             "test": [
              0.7329018547,
              0.5183855137
             ]
            },
            {
             "iteration": 1252,
             "learn": [
              0.7463902445,
              0.5131904455
             ],
             "passed_time": 214.1754751,
             "remaining_time": 127.6848204,
             "test": [
              0.7329018547,
              0.518379592
             ]
            },
            {
             "iteration": 1253,
             "learn": [
              0.7463998386,
              0.5131593456
             ],
             "passed_time": 214.324894,
             "remaining_time": 127.5010932,
             "test": [
              0.7329276538,
              0.518380006
             ]
            },
            {
             "iteration": 1254,
             "learn": [
              0.7464630671,
              0.5131422324
             ],
             "passed_time": 214.4843895,
             "remaining_time": 127.3234025,
             "test": [
              0.7329276538,
              0.5183798565
             ]
            },
            {
             "iteration": 1255,
             "learn": [
              0.7465008953,
              0.5131310418
             ],
             "passed_time": 214.6326883,
             "remaining_time": 127.1391083,
             "test": [
              0.7330692687,
              0.5183778441
             ]
            },
            {
             "iteration": 1256,
             "learn": [
              0.746481715,
              0.5131254211
             ],
             "passed_time": 214.7711949,
             "remaining_time": 126.9490834,
             "test": [
              0.7330242442,
              0.5183765139
             ]
            },
            {
             "iteration": 1257,
             "learn": [
              0.7464250586,
              0.5130905828
             ],
             "passed_time": 214.9904973,
             "remaining_time": 126.8067957,
             "test": [
              0.7331916538,
              0.5183790271
             ]
            },
            {
             "iteration": 1258,
             "learn": [
              0.7464911285,
              0.513077515
             ],
             "passed_time": 215.2401173,
             "remaining_time": 126.6822295,
             "test": [
              0.7332174249,
              0.5183853273
             ]
            },
            {
             "iteration": 1259,
             "learn": [
              0.7465540072,
              0.5130625938
             ],
             "passed_time": 215.3962002,
             "remaining_time": 126.5025303,
             "test": [
              0.7332624867,
              0.5183885286
             ]
            },
            {
             "iteration": 1260,
             "learn": [
              0.7465222162,
              0.5130544603
             ],
             "passed_time": 215.5285062,
             "remaining_time": 126.3089342,
             "test": [
              0.7331916538,
              0.5183882853
             ]
            },
            {
             "iteration": 1261,
             "learn": [
              0.7464593344,
              0.5130320299
             ],
             "passed_time": 215.7323878,
             "remaining_time": 126.1572918,
             "test": [
              0.7331916538,
              0.5183865828
             ]
            },
            {
             "iteration": 1262,
             "learn": [
              0.7464687484,
              0.5130248921
             ],
             "passed_time": 215.9048494,
             "remaining_time": 125.987232,
             "test": [
              0.7331916538,
              0.5183850882
             ]
            },
            {
             "iteration": 1263,
             "learn": [
              0.7464056904,
              0.5130065437
             ],
             "passed_time": 216.0903343,
             "remaining_time": 125.8247516,
             "test": [
              0.7330950541,
              0.5183848265
             ]
            },
            {
             "iteration": 1264,
             "learn": [
              0.7464437046,
              0.5129852505
             ],
             "passed_time": 216.3096642,
             "remaining_time": 125.6818998,
             "test": [
              0.7331400966,
              0.5183738899
             ]
            },
            {
             "iteration": 1265,
             "learn": [
              0.7464721238,
              0.5129663911
             ],
             "passed_time": 216.503937,
             "remaining_time": 125.5243995,
             "test": [
              0.7330692687,
              0.5183691885
             ]
            },
            {
             "iteration": 1266,
             "learn": [
              0.7464531181,
              0.5129520549
             ],
             "passed_time": 216.6632658,
             "remaining_time": 125.346625,
             "test": [
              0.7330950541,
              0.5183651252
             ]
            },
            {
             "iteration": 1267,
             "learn": [
              0.7464937948,
              0.5129254924
             ],
             "passed_time": 216.8254867,
             "remaining_time": 125.1705491,
             "test": [
              0.7329276538,
              0.5183647116
             ]
            },
            {
             "iteration": 1268,
             "learn": [
              0.7465097802,
              0.5128938722
             ],
             "passed_time": 216.9989637,
             "remaining_time": 125.0009791,
             "test": [
              0.7329984544,
              0.5183567737
             ]
            },
            {
             "iteration": 1269,
             "learn": [
              0.7464881087,
              0.5128706767
             ],
             "passed_time": 217.1671585,
             "remaining_time": 124.8283667,
             "test": [
              0.7329984544,
              0.5183522274
             ]
            },
            {
             "iteration": 1270,
             "learn": [
              0.7464660858,
              0.5128457689
             ],
             "passed_time": 217.3934987,
             "remaining_time": 124.6891114,
             "test": [
              0.733050029,
              0.5183484887
             ]
            },
            {
             "iteration": 1271,
             "learn": [
              0.7464316336,
              0.5128321088
             ],
             "passed_time": 217.5546638,
             "remaining_time": 124.5124177,
             "test": [
              0.733050029,
              0.518350963
             ]
            },
            {
             "iteration": 1272,
             "learn": [
              0.7464598701,
              0.5128176031
             ],
             "passed_time": 217.752,
             "remaining_time": 124.3564053,
             "test": [
              0.7329534479,
              0.5183514263
             ]
            },
            {
             "iteration": 1273,
             "learn": [
              0.7464850892,
              0.5127929827
             ],
             "passed_time": 217.9877956,
             "remaining_time": 124.2222446,
             "test": [
              0.7329276538,
              0.5183548647
             ]
            },
            {
             "iteration": 1274,
             "learn": [
              0.7464818925,
              0.5127773915
             ],
             "passed_time": 218.2231012,
             "remaining_time": 124.0876458,
             "test": [
              0.7330692687,
              0.5183526478
             ]
            },
            {
             "iteration": 1275,
             "learn": [
              0.7465357021,
              0.5127484638
             ],
             "passed_time": 218.4941941,
             "remaining_time": 123.9731948,
             "test": [
              0.7330242442,
              0.5183446087
             ]
            },
            {
             "iteration": 1276,
             "learn": [
              0.7465350031,
              0.5127360503
             ],
             "passed_time": 218.7140226,
             "remaining_time": 123.8294741,
             "test": [
              0.7330242442,
              0.5183444284
             ]
            },
            {
             "iteration": 1277,
             "learn": [
              0.7464909515,
              0.512722955
             ],
             "passed_time": 218.8909545,
             "remaining_time": 123.6614,
             "test": [
              0.7331658777,
              0.5183392841
             ]
            },
            {
             "iteration": 1278,
             "learn": [
              0.7464941485,
              0.5126963105
             ],
             "passed_time": 219.0417983,
             "remaining_time": 123.4786056,
             "test": [
              0.7331400966,
              0.5183402723
             ]
            },
            {
             "iteration": 1279,
             "learn": [
              0.7465222162,
              0.5126881905
             ],
             "passed_time": 219.1778862,
             "remaining_time": 123.287561,
             "test": [
              0.7330692687,
              0.5183453148
             ]
            },
            {
             "iteration": 1280,
             "learn": [
              0.7465664451,
              0.5126642958
             ],
             "passed_time": 219.3466085,
             "remaining_time": 123.1149192,
             "test": [
              0.7329984544,
              0.5183495825
             ]
            },
            {
             "iteration": 1281,
             "learn": [
              0.7465385488,
              0.5126375371
             ],
             "passed_time": 219.5506634,
             "remaining_time": 122.962072,
             "test": [
              0.7330242442,
              0.5183566534
             ]
            },
            {
             "iteration": 1282,
             "learn": [
              0.7465923563,
              0.5126249494
             ],
             "passed_time": 219.7150432,
             "remaining_time": 122.7869727,
             "test": [
              0.733050029,
              0.5183514765
             ]
            },
            {
             "iteration": 1283,
             "learn": [
              0.7466143797,
              0.5125968805
             ],
             "passed_time": 219.8990515,
             "remaining_time": 122.6228356,
             "test": [
              0.7328826654,
              0.5183469147
             ]
            },
            {
             "iteration": 1284,
             "learn": [
              0.7466680117,
              0.5125747712
             ],
             "passed_time": 220.0823387,
             "remaining_time": 122.4582663,
             "test": [
              0.7328118965,
              0.518343891
             ]
            },
            {
             "iteration": 1285,
             "learn": [
              0.7466523767,
              0.5125393835
             ],
             "passed_time": 220.277859,
             "remaining_time": 122.3004598,
             "test": [
              0.7327669434,
              0.5183236315
             ]
            },
            {
             "iteration": 1286,
             "learn": [
              0.7466490133,
              0.5125259895
             ],
             "passed_time": 220.4699668,
             "remaining_time": 122.1407042,
             "test": [
              0.7325996718,
              0.5183216089
             ]
            },
            {
             "iteration": 1287,
             "learn": [
              0.7466930633,
              0.5124994979
             ],
             "passed_time": 220.6826488,
             "remaining_time": 121.9922717,
             "test": [
              0.732573856,
              0.5183198603
             ]
            },
            {
             "iteration": 1288,
             "learn": [
              0.7467719157,
              0.5124920199
             ],
             "passed_time": 220.864826,
             "remaining_time": 121.8269134,
             "test": [
              0.732573856,
              0.5183162009
             ]
            },
            {
             "iteration": 1289,
             "learn": [
              0.7467621726,
              0.5124765319
             ],
             "passed_time": 221.0691566,
             "remaining_time": 121.6737219,
             "test": [
              0.7327860937,
              0.518321948
             ]
            },
            {
             "iteration": 1290,
             "learn": [
              0.7467941039,
              0.5124498682
             ],
             "passed_time": 221.2585775,
             "remaining_time": 121.5122629,
             "test": [
              0.7330692687,
              0.5183187548
             ]
            },
            {
             "iteration": 1291,
             "learn": [
              0.7468068742,
              0.5124302895
             ],
             "passed_time": 221.4787602,
             "remaining_time": 121.3676178,
             "test": [
              0.7330692687,
              0.5183148817
             ]
            },
            {
             "iteration": 1292,
             "learn": [
              0.7468601836,
              0.5124207323
             ],
             "passed_time": 221.7837712,
             "remaining_time": 121.2692391,
             "test": [
              0.7330692687,
              0.5183155907
             ]
            },
            {
             "iteration": 1293,
             "learn": [
              0.7468284194,
              0.5123940095
             ],
             "passed_time": 222.0214383,
             "remaining_time": 121.1337986,
             "test": [
              0.7329276538,
              0.5182993722
             ]
            },
            {
             "iteration": 1294,
             "learn": [
              0.7468442225,
              0.5123765707
             ],
             "passed_time": 222.2142248,
             "remaining_time": 120.9737672,
             "test": [
              0.7328310635,
              0.5183030348
             ]
            },
            {
             "iteration": 1295,
             "learn": [
              0.746837997,
              0.5123700924
             ],
             "passed_time": 222.4199577,
             "remaining_time": 120.8207178,
             "test": [
              0.7328310635,
              0.5183044653
             ]
            },
            {
             "iteration": 1296,
             "learn": [
              0.7468946645,
              0.5123505117
             ],
             "passed_time": 222.625919,
             "remaining_time": 120.6677109,
             "test": [
              0.7328952455,
              0.5183021478
             ]
            },
            {
             "iteration": 1297,
             "learn": [
              0.7469168495,
              0.5123286148
             ],
             "passed_time": 222.8028915,
             "remaining_time": 120.4989444,
             "test": [
              0.7327986084,
              0.51829934
             ]
            },
            {
             "iteration": 1298,
             "learn": [
              0.746907275,
              0.5123187653
             ],
             "passed_time": 223.0144172,
             "remaining_time": 120.3488117,
             "test": [
              0.7327986084,
              0.5182945486
             ]
            },
            {
             "iteration": 1299,
             "learn": [
              0.7469040833,
              0.5123041167
             ],
             "passed_time": 223.1989031,
             "remaining_time": 120.1840247,
             "test": [
              0.7327986084,
              0.5182935805
             ]
            },
            {
             "iteration": 1300,
             "learn": [
              0.7469323413,
              0.5122949553
             ],
             "passed_time": 223.3594481,
             "remaining_time": 120.0063445,
             "test": [
              0.7327986084,
              0.5182875175
             ]
            },
            {
             "iteration": 1301,
             "learn": [
              0.7469261132,
              0.5122868471
             ],
             "passed_time": 223.5100388,
             "remaining_time": 119.8233542,
             "test": [
              0.7329402668,
              0.5182906213
             ]
            },
            {
             "iteration": 1302,
             "learn": [
              0.746932496,
              0.5122691164
             ],
             "passed_time": 223.6866349,
             "remaining_time": 119.6543243,
             "test": [
              0.7330369225,
              0.5182985642
             ]
            },
            {
             "iteration": 1303,
             "learn": [
              0.746998739,
              0.512258961
             ],
             "passed_time": 223.8213361,
             "remaining_time": 119.4629217,
             "test": [
              0.7330627235,
              0.5183007432
             ]
            },
            {
             "iteration": 1304,
             "learn": [
              0.746957717,
              0.5122354925
             ],
             "passed_time": 224.0113251,
             "remaining_time": 119.3010505,
             "test": [
              0.7330176829,
              0.5183057239
             ]
            },
            {
             "iteration": 1305,
             "learn": [
              0.7469735183,
              0.5122282895
             ],
             "passed_time": 224.2030254,
             "remaining_time": 119.1400457,
             "test": [
              0.7329210552,
              0.5183041715
             ]
            },
            {
             "iteration": 1306,
             "learn": [
              0.7469929647,
              0.5122079766
             ],
             "passed_time": 224.3718667,
             "remaining_time": 118.9668735,
             "test": [
              0.7329918825,
              0.5182984264
             ]
            },
            {
             "iteration": 1307,
             "learn": [
              0.7469988903,
              0.5121886296
             ],
             "passed_time": 224.5552265,
             "remaining_time": 118.801389,
             "test": [
              0.7330627235,
              0.5182926021
             ]
            },
            {
             "iteration": 1308,
             "learn": [
              0.7470429497,
              0.5121700482
             ],
             "passed_time": 224.7510988,
             "remaining_time": 118.6424822,
             "test": [
              0.7330369225,
              0.5182762085
             ]
            },
            {
             "iteration": 1309,
             "learn": [
              0.7470336792,
              0.5121592702
             ],
             "passed_time": 224.9052437,
             "remaining_time": 118.4615406,
             "test": [
              0.7330111165,
              0.5182727993
             ]
            },
            {
             "iteration": 1310,
             "learn": [
              0.7470303397,
              0.5121527271
             ],
             "passed_time": 225.1189088,
             "remaining_time": 118.3119208,
             "test": [
              0.7330111165,
              0.5182716878
             ]
            },
            {
             "iteration": 1311,
             "learn": [
              0.7470241098,
              0.5121310671
             ],
             "passed_time": 225.3302807,
             "remaining_time": 118.1610009,
             "test": [
              0.7330111165,
              0.5182745829
             ]
            },
            {
             "iteration": 1312,
             "learn": [
              0.7469487593,
              0.5121083675
             ],
             "passed_time": 225.5321832,
             "remaining_time": 118.0050342,
             "test": [
              0.7330369225,
              0.5182637293
             ]
            },
            {
             "iteration": 1313,
             "learn": [
              0.7469964575,
              0.5120764889
             ],
             "passed_time": 225.7321634,
             "remaining_time": 117.847994,
             "test": [
              0.7329853055,
              0.518263983
             ]
            },
            {
             "iteration": 1314,
             "learn": [
              0.7470060258,
              0.5120592884
             ],
             "passed_time": 225.9107798,
             "remaining_time": 117.6797598,
             "test": [
              0.7329853055,
              0.5182686044
             ]
            },
            {
             "iteration": 1315,
             "learn": [
              0.7470654243,
              0.5120411066
             ],
             "passed_time": 226.1001704,
             "remaining_time": 117.5171098,
             "test": [
              0.7329402668,
              0.5182681292
             ]
            },
            {
             "iteration": 1316,
             "learn": [
              0.7471251324,
              0.5120249697
             ],
             "passed_time": 226.2962553,
             "remaining_time": 117.357891,
             "test": [
              0.7330369225,
              0.5182690982
             ]
            },
            {
             "iteration": 1317,
             "learn": [
              0.7471222341,
              0.5120100072
             ],
             "passed_time": 226.4971594,
             "remaining_time": 117.2011098,
             "test": [
              0.7329402668,
              0.5182686657
             ]
            },
            {
             "iteration": 1318,
             "learn": [
              0.7471380302,
              0.5119884737
             ],
             "passed_time": 226.659813,
             "remaining_time": 117.024513,
             "test": [
              0.7329660771,
              0.5182657207
             ]
            },
            {
             "iteration": 1319,
             "learn": [
              0.7471284657,
              0.511982165
             ],
             "passed_time": 226.8205639,
             "remaining_time": 116.8469572,
             "test": [
              0.7331077815,
              0.5182621425
             ]
            },
            {
             "iteration": 1320,
             "learn": [
              0.7470718023,
              0.5119716835
             ],
             "passed_time": 226.9833153,
             "remaining_time": 116.670455,
             "test": [
              0.7331143106,
              0.518256528
             ]
            },
            {
             "iteration": 1321,
             "learn": [
              0.7471284657,
              0.5119417088
             ],
             "passed_time": 227.2011579,
             "remaining_time": 116.5222277,
             "test": [
              0.7331593699,
              0.5182662818
             ]
            },
            {
             "iteration": 1322,
             "learn": [
              0.7471219438,
              0.5119261708
             ],
             "passed_time": 227.4006443,
             "remaining_time": 116.364502,
             "test": [
              0.7331851566,
              0.518259927
             ]
            },
            {
             "iteration": 1323,
             "learn": [
              0.747144118,
              0.511910357
             ],
             "passed_time": 227.5317644,
             "remaining_time": 116.1718072,
             "test": [
              0.7330176829,
              0.5182678103
             ]
            },
            {
             "iteration": 1324,
             "learn": [
              0.7471723807,
              0.5118980432
             ],
             "passed_time": 227.6796634,
             "remaining_time": 115.987753,
             "test": [
              0.7330176829,
              0.5182653493
             ]
            },
            {
             "iteration": 1325,
             "learn": [
              0.7472512231,
              0.5118563526
             ],
             "passed_time": 227.8480995,
             "remaining_time": 115.8141924,
             "test": [
              0.7330369225,
              0.5182599689
             ]
            },
            {
             "iteration": 1326,
             "learn": [
              0.7472606453,
              0.5118559594
             ],
             "passed_time": 227.9415815,
             "remaining_time": 115.6026257,
             "test": [
              0.7330111165,
              0.518260162
             ]
            },
            {
             "iteration": 1327,
             "learn": [
              0.7472666053,
              0.5118297224
             ],
             "passed_time": 228.1084211,
             "remaining_time": 115.4283577,
             "test": [
              0.7328886311,
              0.5182589701
             ]
            },
            {
             "iteration": 1328,
             "learn": [
              0.7472255851,
              0.5118034227
             ],
             "passed_time": 228.2629847,
             "remaining_time": 115.2479028,
             "test": [
              0.7328886311,
              0.5182535607
             ]
            },
            {
             "iteration": 1329,
             "learn": [
              0.7472916903,
              0.5117723997
             ],
             "passed_time": 228.4991321,
             "remaining_time": 115.1085854,
             "test": [
              0.7329660771,
              0.5182471871
             ]
            },
            {
             "iteration": 1330,
             "learn": [
              0.7473390839,
              0.5117630659
             ],
             "passed_time": 228.6479383,
             "remaining_time": 114.9252222,
             "test": [
              0.7329660771,
              0.5182424556
             ]
            },
            {
             "iteration": 1331,
             "learn": [
              0.7473045737,
              0.5117387076
             ],
             "passed_time": 228.7811221,
             "remaining_time": 114.7340763,
             "test": [
              0.7328694308,
              0.5182405608
             ]
            },
            {
             "iteration": 1332,
             "learn": [
              0.747289187,
              0.5117249642
             ],
             "passed_time": 228.9238406,
             "remaining_time": 114.5477882,
             "test": [
              0.7328694308,
              0.5182371042
             ]
            },
            {
             "iteration": 1333,
             "learn": [
              0.747298473,
              0.5117075619
             ],
             "passed_time": 229.0757416,
             "remaining_time": 114.3661499,
             "test": [
              0.7328694308,
              0.5182348225
             ]
            },
            {
             "iteration": 1334,
             "learn": [
              0.7473110822,
              0.5116992876
             ],
             "passed_time": 229.1991405,
             "remaining_time": 114.1703584,
             "test": [
              0.7328952455,
              0.5182372551
             ]
            },
            {
             "iteration": 1335,
             "learn": [
              0.7472952866,
              0.5116700973
             ],
             "passed_time": 229.3782455,
             "remaining_time": 114.0023615,
             "test": [
              0.7328694308,
              0.5182428848
             ]
            },
            {
             "iteration": 1336,
             "learn": [
              0.7473645718,
              0.5116455816
             ],
             "passed_time": 229.5789363,
             "remaining_time": 113.8450522,
             "test": [
              0.7328952455,
              0.5182352397
             ]
            },
            {
             "iteration": 1337,
             "learn": [
              0.7473301981,
              0.5116348692
             ],
             "passed_time": 229.7005425,
             "remaining_time": 113.6485494,
             "test": [
              0.7329210552,
              0.5182311805
             ]
            },
            {
             "iteration": 1338,
             "learn": [
              0.7473617853,
              0.5116173211
             ],
             "passed_time": 229.8276406,
             "remaining_time": 113.4548696,
             "test": [
              0.7329210552,
              0.5182324964
             ]
            },
            {
             "iteration": 1339,
             "learn": [
              0.7474027939,
              0.511612834
             ],
             "passed_time": 229.9744101,
             "remaining_time": 113.2709781,
             "test": [
              0.7329210552,
              0.518231429
             ]
            },
            {
             "iteration": 1340,
             "learn": [
              0.747393108,
              0.5116022455
             ],
             "passed_time": 230.1368003,
             "remaining_time": 113.0948183,
             "test": [
              0.7328502415,
              0.5182272823
             ]
            },
            {
             "iteration": 1341,
             "learn": [
              0.7474308051,
              0.5115876514
             ],
             "passed_time": 230.2769416,
             "remaining_time": 112.9077702,
             "test": [
              0.732805255,
              0.5182236662
             ]
            },
            {
             "iteration": 1342,
             "learn": [
              0.7474967843,
              0.5115582348
             ],
             "passed_time": 230.4679665,
             "remaining_time": 112.7456843,
             "test": [
              0.7327344731,
              0.5182218232
             ]
            },
            {
             "iteration": 1343,
             "learn": [
              0.747462265,
              0.5115367917
             ],
             "passed_time": 230.6613665,
             "remaining_time": 112.5847146,
             "test": [
              0.7327086553,
              0.5182227994
             ]
            },
            {
             "iteration": 1344,
             "learn": [
              0.7474090325,
              0.5115035906
             ],
             "passed_time": 230.8222199,
             "remaining_time": 112.4078469,
             "test": [
              0.7327344731,
              0.5182156321
             ]
            },
            {
             "iteration": 1345,
             "learn": [
              0.7474468568,
              0.5114780068
             ],
             "passed_time": 230.9935323,
             "remaining_time": 112.2360848,
             "test": [
              0.732689522,
              0.5182197917
             ]
            },
            {
             "iteration": 1346,
             "learn": [
              0.7474438015,
              0.5114601517
             ],
             "passed_time": 231.1826375,
             "remaining_time": 112.072949,
             "test": [
              0.732689522,
              0.5182144454
             ]
            },
            {
             "iteration": 1347,
             "learn": [
              0.7474534819,
              0.5114431649
             ],
             "passed_time": 231.3525412,
             "remaining_time": 111.9004873,
             "test": [
              0.7327860937,
              0.5182073404
             ]
            },
            {
             "iteration": 1348,
             "learn": [
              0.7474188465,
              0.5114370432
             ],
             "passed_time": 231.4839729,
             "remaining_time": 111.7094636,
             "test": [
              0.7328376943,
              0.5182071944
             ]
            },
            {
             "iteration": 1349,
             "learn": [
              0.7474219006,
              0.511425644
             ],
             "passed_time": 231.6957392,
             "remaining_time": 111.5572078,
             "test": [
              0.7328634872,
              0.5181960772
             ]
            },
            {
             "iteration": 1350,
             "learn": [
              0.7474879915,
              0.5114059837
             ],
             "passed_time": 231.8573234,
             "remaining_time": 111.3807571,
             "test": [
              0.7327669434,
              0.5181950316
             ]
            },
            {
             "iteration": 1351,
             "learn": [
              0.747466344,
              0.5113700139
             ],
             "passed_time": 232.0142845,
             "remaining_time": 111.2021127,
             "test": [
              0.732889275,
              0.5181957806
             ]
            },
            {
             "iteration": 1352,
             "learn": [
              0.7475105251,
              0.5113524687
             ],
             "passed_time": 232.1840731,
             "remaining_time": 111.0296344,
             "test": [
              0.7329342474,
              0.5181934023
             ]
            },
            {
             "iteration": 1353,
             "learn": [
              0.747485442,
              0.5113408723
             ],
             "passed_time": 232.3252662,
             "remaining_time": 110.8435169,
             "test": [
              0.7329600309,
              0.5181934478
             ]
            },
            {
             "iteration": 1354,
             "learn": [
              0.7474918074,
              0.5113247134
             ],
             "passed_time": 232.4677638,
             "remaining_time": 110.6580868,
             "test": [
              0.7329600309,
              0.5182013802
             ]
            },
            {
             "iteration": 1355,
             "learn": [
              0.7474761479,
              0.5112981039
             ],
             "passed_time": 232.7012578,
             "remaining_time": 110.5159366,
             "test": [
              0.7330050212,
              0.5181993383
             ]
            },
            {
             "iteration": 1356,
             "learn": [
              0.7474886248,
              0.5112758532
             ],
             "passed_time": 232.895843,
             "remaining_time": 110.3552152,
             "test": [
              0.7330308004,
              0.5181988826
             ]
            },
            {
             "iteration": 1357,
             "learn": [
              0.7475610678,
              0.5112639772
             ],
             "passed_time": 233.0480905,
             "remaining_time": 110.1744286,
             "test": [
              0.7330050212,
              0.5181955431
             ]
            },
            {
             "iteration": 1358,
             "learn": [
              0.7475769759,
              0.5112404782
             ],
             "passed_time": 233.2687377,
             "remaining_time": 110.0259462,
             "test": [
              0.7328701023,
              0.5181905005
             ]
            },
            {
             "iteration": 1359,
             "learn": [
              0.7475489578,
              0.5112192298
             ],
             "passed_time": 233.4807455,
             "remaining_time": 109.873292,
             "test": [
              0.7329666088,
              0.5182019022
             ]
            },
            {
             "iteration": 1360,
             "learn": [
              0.7476212681,
              0.5111768759
             ],
             "passed_time": 233.6673735,
             "remaining_time": 109.7086346,
             "test": [
              0.7329600309,
              0.5181887396
             ]
            },
            {
             "iteration": 1361,
             "learn": [
              0.7476211482,
              0.5111518409
             ],
             "passed_time": 234.0106798,
             "remaining_time": 109.6173375,
             "test": [
              0.7328634872,
              0.5181914005
             ]
            },
            {
             "iteration": 1362,
             "learn": [
              0.7476402314,
              0.5111373588
             ],
             "passed_time": 234.1630409,
             "remaining_time": 109.4364322,
             "test": [
              0.7331015836,
              0.5181909177
             ]
            },
            {
             "iteration": 1363,
             "learn": [
              0.7476025455,
              0.5111179284
             ],
             "passed_time": 234.3167193,
             "remaining_time": 109.2561829,
             "test": [
              0.733011583,
              0.5181847484
             ]
            },
            {
             "iteration": 1364,
             "learn": [
              0.7475866415,
              0.5111016881
             ],
             "passed_time": 234.4499816,
             "remaining_time": 109.0664749,
             "test": [
              0.7329858094,
              0.5181789597
             ]
            },
            {
             "iteration": 1365,
             "learn": [
              0.7476337513,
              0.5110801229
             ],
             "passed_time": 234.583552,
             "remaining_time": 108.8769927,
             "test": [
              0.7330823439,
              0.5181786293
             ]
            },
            {
             "iteration": 1366,
             "learn": [
              0.7476024247,
              0.5110706409
             ],
             "passed_time": 234.767543,
             "remaining_time": 108.7109398,
             "test": [
              0.7329858094,
              0.5181795295
             ]
            },
            {
             "iteration": 1367,
             "learn": [
              0.7476622558,
              0.5110541472
             ],
             "passed_time": 234.9131578,
             "remaining_time": 108.5271314,
             "test": [
              0.7329150579,
              0.5181848021
             ]
            },
            {
             "iteration": 1368,
             "learn": [
              0.7477349194,
              0.5110314192
             ],
             "passed_time": 235.0903636,
             "remaining_time": 108.3579397,
             "test": [
              0.7327993824,
              0.5181866217
             ]
            },
            {
             "iteration": 1369,
             "learn": [
              0.7477126654,
              0.5110166187
             ],
             "passed_time": 235.2084783,
             "remaining_time": 108.161563,
             "test": [
              0.7326770894,
              0.518186365
             ]
            },
            {
             "iteration": 1370,
             "learn": [
              0.7478227992,
              0.5109897784
             ],
             "passed_time": 235.3837875,
             "remaining_time": 107.9915407,
             "test": [
              0.7326445882,
              0.5181846305
             ]
            },
            {
             "iteration": 1371,
             "learn": [
              0.7478447189,
              0.510976231
             ],
             "passed_time": 235.5785384,
             "remaining_time": 107.8304097,
             "test": [
              0.7326445882,
              0.5181893103
             ]
            },
            {
             "iteration": 1372,
             "learn": [
              0.7478225796,
              0.5109677074
             ],
             "passed_time": 235.7533573,
             "remaining_time": 107.6601275,
             "test": [
              0.7327153341,
              0.5181861503
             ]
            },
            {
             "iteration": 1373,
             "learn": [
              0.7478697121,
              0.5109491416
             ],
             "passed_time": 235.9668113,
             "remaining_time": 107.5074409,
             "test": [
              0.7326703997,
              0.5181845616
             ]
            },
            {
             "iteration": 1374,
             "learn": [
              0.7478729975,
              0.510941356
             ],
             "passed_time": 236.1618503,
             "remaining_time": 107.3462956,
             "test": [
              0.7325996718,
              0.5181838486
             ]
            },
            {
             "iteration": 1375,
             "learn": [
              0.747920238,
              0.5109189263
             ],
             "passed_time": 236.3256249,
             "remaining_time": 107.1709229,
             "test": [
              0.7326254826,
              0.5181875489
             ]
            },
            {
             "iteration": 1376,
             "learn": [
              0.7478731047,
              0.5109105177
             ],
             "passed_time": 236.4753201,
             "remaining_time": 106.9891971,
             "test": [
              0.7326254826,
              0.5181832103
             ]
            },
            {
             "iteration": 1377,
             "learn": [
              0.747929561,
              0.5108965142
             ],
             "passed_time": 236.625027,
             "remaining_time": 106.8075231,
             "test": [
              0.7325996718,
              0.5181777924
             ]
            },
            {
             "iteration": 1378,
             "learn": [
              0.7480020169,
              0.5108810747
             ],
             "passed_time": 236.8034937,
             "remaining_time": 106.6388467,
             "test": [
              0.7325996718,
              0.5181748036
             ]
            },
            {
             "iteration": 1379,
             "learn": [
              0.7479644055,
              0.5108546622
             ],
             "passed_time": 236.9758385,
             "remaining_time": 106.4674057,
             "test": [
              0.7325547727,
              0.5181595019
             ]
            },
            {
             "iteration": 1380,
             "learn": [
              0.7480149227,
              0.5108387091
             ],
             "passed_time": 237.1867234,
             "remaining_time": 106.3132381,
             "test": [
              0.7325289575,
              0.518154523
             ]
            },
            {
             "iteration": 1381,
             "learn": [
              0.7480148227,
              0.5108274848
             ],
             "passed_time": 237.3451264,
             "remaining_time": 106.1355196,
             "test": [
              0.7325547727,
              0.5181577634
             ]
            },
            {
             "iteration": 1382,
             "learn": [
              0.7480462842,
              0.5108193689
             ],
             "passed_time": 237.5028883,
             "remaining_time": 105.9575431,
             "test": [
              0.7326254826,
              0.5181559267
             ]
            },
            {
             "iteration": 1383,
             "learn": [
              0.7480524392,
              0.5108135955
             ],
             "passed_time": 237.6735962,
             "remaining_time": 105.7853578,
             "test": [
              0.7326254826,
              0.5181513717
             ]
            },
            {
             "iteration": 1384,
             "learn": [
              0.7480775534,
              0.5107936837
             ],
             "passed_time": 237.8602076,
             "remaining_time": 105.6202366,
             "test": [
              0.7326703997,
              0.5181575841
             ]
            },
            {
             "iteration": 1385,
             "learn": [
              0.748058693,
              0.5107748295
             ],
             "passed_time": 238.0548719,
             "remaining_time": 105.4586518,
             "test": [
              0.7326962062,
              0.5181503959
             ]
            },
            {
             "iteration": 1386,
             "learn": [
              0.7480650447,
              0.5107643555
             ],
             "passed_time": 238.2470548,
             "remaining_time": 105.2959226,
             "test": [
              0.7326962062,
              0.518157823
             ]
            },
            {
             "iteration": 1387,
             "learn": [
              0.7480966067,
              0.5107427007
             ],
             "passed_time": 238.4204467,
             "remaining_time": 105.1248656,
             "test": [
              0.7326703997,
              0.5181583966
             ]
            },
            {
             "iteration": 1388,
             "learn": [
              0.7480683179,
              0.5107349808
             ],
             "passed_time": 238.5973548,
             "remaining_time": 104.9553519,
             "test": [
              0.7326187717,
              0.5181568921
             ]
            },
            {
             "iteration": 1389,
             "learn": [
              0.7480619666,
              0.510712733
             ],
             "passed_time": 238.774168,
             "remaining_time": 104.785786,
             "test": [
              0.7326445882,
              0.5181566577
             ]
            },
            {
             "iteration": 1390,
             "learn": [
              0.7481564584,
              0.5106876581
             ],
             "passed_time": 238.9437241,
             "remaining_time": 104.6130323,
             "test": [
              0.7326378827,
              0.5181614489
             ]
            },
            {
             "iteration": 1391,
             "learn": [
              0.7482382603,
              0.5106769272
             ],
             "passed_time": 239.1250986,
             "remaining_time": 104.4454453,
             "test": [
              0.7325929503,
              0.5181586521
             ]
            },
            {
             "iteration": 1392,
             "learn": [
              0.748190918,
              0.5106639882
             ],
             "passed_time": 239.3259981,
             "remaining_time": 104.2863466,
             "test": [
              0.7324963786,
              0.5181583523
             ]
            },
            {
             "iteration": 1393,
             "learn": [
              0.7481940925,
              0.5106520755
             ],
             "passed_time": 239.4748295,
             "remaining_time": 104.1045529,
             "test": [
              0.732425647,
              0.5181574294
             ]
            },
            {
             "iteration": 1394,
             "learn": [
              0.748150109,
              0.5106457655
             ],
             "passed_time": 239.6319457,
             "remaining_time": 103.9263994,
             "test": [
              0.732354929,
              0.5181538047
             ]
            },
            {
             "iteration": 1395,
             "learn": [
              0.7480966067,
              0.5106179973
             ],
             "passed_time": 239.8194887,
             "remaining_time": 103.7614407,
             "test": [
              0.7326962062,
              0.5181501159
             ]
            },
            {
             "iteration": 1396,
             "learn": [
              0.748225475,
              0.5105885863
             ],
             "passed_time": 240.0277509,
             "remaining_time": 103.6053928,
             "test": [
              0.7326703997,
              0.5181456343
             ]
            },
            {
             "iteration": 1397,
             "learn": [
              0.7482318234,
              0.5105744355
             ],
             "passed_time": 240.1933831,
             "remaining_time": 103.4309132,
             "test": [
              0.732573856,
              0.5181448743
             ]
            },
            {
             "iteration": 1398,
             "learn": [
              0.7482569501,
              0.5105611031
             ],
             "passed_time": 240.398011,
             "remaining_time": 103.2731984,
             "test": [
              0.7326187717,
              0.5181433399
             ]
            },
            {
             "iteration": 1399,
             "learn": [
              0.7483042086,
              0.5105253323
             ],
             "passed_time": 240.5741683,
             "remaining_time": 103.103215,
             "test": [
              0.7325996718,
              0.5181394125
             ]
            },
            {
             "iteration": 1400,
             "learn": [
              0.7483706682,
              0.510498663
             ],
             "passed_time": 240.7411926,
             "remaining_time": 102.9293179,
             "test": [
              0.7325031374,
              0.5181430047
             ]
            },
            {
             "iteration": 1401,
             "learn": [
              0.748364324,
              0.5104912896
             ],
             "passed_time": 240.8775546,
             "remaining_time": 102.7423521,
             "test": [
              0.7324773122,
              0.5181446626
             ]
            },
            {
             "iteration": 1402,
             "learn": [
              0.7483487117,
              0.5104800093
             ],
             "passed_time": 241.0539826,
             "remaining_time": 102.5725072,
             "test": [
              0.7324773122,
              0.5181358985
             ]
            },
            {
             "iteration": 1403,
             "learn": [
              0.7483361065,
              0.5104712318
             ],
             "passed_time": 241.234367,
             "remaining_time": 102.4043324,
             "test": [
              0.7324773122,
              0.5181378803
             ]
            },
            {
             "iteration": 1404,
             "learn": [
              0.7483708325,
              0.5104555609
             ],
             "passed_time": 241.425131,
             "remaining_time": 102.2405359,
             "test": [
              0.7325031374,
              0.5181318113
             ]
            },
            {
             "iteration": 1405,
             "learn": [
              0.7484023042,
              0.5104487679
             ],
             "passed_time": 241.6464078,
             "remaining_time": 102.0895919,
             "test": [
              0.7325031374,
              0.518129542
             ]
            },
            {
             "iteration": 1406,
             "learn": [
              0.7483928706,
              0.5104283518
             ],
             "passed_time": 241.8087364,
             "remaining_time": 101.9137034,
             "test": [
              0.7324324324,
              0.5181210761
             ]
            },
            {
             "iteration": 1407,
             "learn": [
              0.7483550558,
              0.5103981329
             ],
             "passed_time": 242.0093896,
             "remaining_time": 101.7539479,
             "test": [
              0.7323617411,
              0.5181215306
             ]
            },
            {
             "iteration": 1408,
             "learn": [
              0.7484306855,
              0.5103710936
             ],
             "passed_time": 242.190125,
             "remaining_time": 101.5857799,
             "test": [
              0.7324840764,
              0.5181118603
             ]
            },
            {
             "iteration": 1409,
             "learn": [
              0.7483992942,
              0.5103461224
             ],
             "passed_time": 242.3519763,
             "remaining_time": 101.4096922,
             "test": [
              0.7325996718,
              0.5181105558
             ]
            },
            {
             "iteration": 1410,
             "learn": [
              0.748371161,
              0.5103160122
             ],
             "passed_time": 242.5186076,
             "remaining_time": 101.23562,
             "test": [
              0.732297897,
              0.5181056684
             ]
            },
            {
             "iteration": 1411,
             "learn": [
              0.7484309228,
              0.5102989352
             ],
             "passed_time": 242.74848,
             "remaining_time": 101.0878939,
             "test": [
              0.732297897,
              0.5181055528
             ]
            },
            {
             "iteration": 1412,
             "learn": [
              0.7484844284,
              0.5102921956
             ],
             "passed_time": 242.9107775,
             "remaining_time": 100.911979,
             "test": [
              0.732246237,
              0.5181057738
             ]
            },
            {
             "iteration": 1413,
             "learn": [
              0.748427673,
              0.5102841972
             ],
             "passed_time": 243.0774615,
             "remaining_time": 100.7379013,
             "test": [
              0.7322720695,
              0.5180987911
             ]
            },
            {
             "iteration": 1414,
             "learn": [
              0.7484495538,
              0.5102780461
             ],
             "passed_time": 243.2502591,
             "remaining_time": 100.5663615,
             "test": [
              0.732246237,
              0.5180985813
             ]
            },
            {
             "iteration": 1415,
             "learn": [
              0.7484841227,
              0.510270362
             ],
             "passed_time": 243.4026414,
             "remaining_time": 100.3864001,
             "test": [
              0.7322203995,
              0.5180979388
             ]
            },
            {
             "iteration": 1416,
             "learn": [
              0.74851243,
              0.5102527095
             ],
             "passed_time": 243.5936128,
             "remaining_time": 100.2223545,
             "test": [
              0.7321239023,
              0.5180991056
             ]
            },
            {
             "iteration": 1417,
             "learn": [
              0.74851243,
              0.5102414631
             ],
             "passed_time": 243.8209553,
             "remaining_time": 100.0731989,
             "test": [
              0.7320980506,
              0.5180971272
             ]
            },
            {
             "iteration": 1418,
             "learn": [
              0.7485627837,
              0.5102244185
             ],
             "passed_time": 244.0006844,
             "remaining_time": 99.90443809,
             "test": [
              0.7320532613,
              0.5181005476
             ]
            },
            {
             "iteration": 1419,
             "learn": [
              0.7485627112,
              0.5102050088
             ],
             "passed_time": 244.1533211,
             "remaining_time": 99.72459595,
             "test": [
              0.7320791124,
              0.5180961037
             ]
            },
            {
             "iteration": 1420,
             "learn": [
              0.7485186959,
              0.5101813869
             ],
             "passed_time": 244.3597533,
             "remaining_time": 99.5667116,
             "test": [
              0.7321307997,
              0.5181054153
             ]
            },
            {
             "iteration": 1421,
             "learn": [
              0.7485343252,
              0.5101690457
             ],
             "passed_time": 244.5472766,
             "remaining_time": 99.40107306,
             "test": [
              0.7321755909,
              0.5181111207
             ]
            },
            {
             "iteration": 1422,
             "learn": [
              0.7485311547,
              0.5101578
             ],
             "passed_time": 244.8939907,
             "remaining_time": 99.29995266,
             "test": [
              0.7320601852,
              0.5181170596
             ]
            },
            {
             "iteration": 1423,
             "learn": [
              0.7485436159,
              0.5101388774
             ],
             "passed_time": 245.1058019,
             "remaining_time": 99.14391987,
             "test": [
              0.7320601852,
              0.5181137208
             ]
            },
            {
             "iteration": 1424,
             "learn": [
              0.7485562253,
              0.5101266057
             ],
             "passed_time": 245.2544397,
             "remaining_time": 98.96231776,
             "test": [
              0.7320860257,
              0.5181140981
             ]
            }
           ],
           "meta": {
            "iteration_count": 2000,
            "launch_mode": "Train",
            "learn_metrics": [
             {
              "best_value": "Max",
              "name": "Precision"
             },
             {
              "best_value": "Min",
              "name": "CrossEntropy"
             }
            ],
            "learn_sets": [
             "learn"
            ],
            "name": "experiment",
            "parameters": "",
            "test_metrics": [
             {
              "best_value": "Max",
              "name": "Precision"
             },
             {
              "best_value": "Min",
              "name": "CrossEntropy"
             }
            ],
            "test_sets": [
             "test"
            ]
           }
          },
          "passed_iterations": 1424,
          "total_iterations": 2000
         },
         "name": "catboost_info",
         "path": "catboost_info"
        }
       },
       "layout": "IPY_MODEL_d186b05b301f44a2b828cace52bfdefd"
      }
     },
     "d186b05b301f44a2b828cace52bfdefd": {
      "model_module": "@jupyter-widgets/base",
      "model_module_version": "1.2.0",
      "model_name": "LayoutModel",
      "state": {
       "_model_module": "@jupyter-widgets/base",
       "_model_module_version": "1.2.0",
       "_model_name": "LayoutModel",
       "_view_count": null,
       "_view_module": "@jupyter-widgets/base",
       "_view_module_version": "1.2.0",
       "_view_name": "LayoutView",
       "align_content": null,
       "align_items": null,
       "align_self": "stretch",
       "border": null,
       "bottom": null,
       "display": null,
       "flex": null,
       "flex_flow": null,
       "grid_area": null,
       "grid_auto_columns": null,
       "grid_auto_flow": null,
       "grid_auto_rows": null,
       "grid_column": null,
       "grid_gap": null,
       "grid_row": null,
       "grid_template_areas": null,
       "grid_template_columns": null,
       "grid_template_rows": null,
       "height": "500px",
       "justify_content": null,
       "justify_items": null,
       "left": null,
       "margin": null,
       "max_height": null,
       "max_width": null,
       "min_height": null,
       "min_width": null,
       "object_fit": null,
       "object_position": null,
       "order": null,
       "overflow": null,
       "overflow_x": null,
       "overflow_y": null,
       "padding": null,
       "right": null,
       "top": null,
       "visibility": null,
       "width": null
      }
     }
    },
    "version_major": 2,
    "version_minor": 0
   }
  }
 },
 "nbformat": 4,
 "nbformat_minor": 5
}
