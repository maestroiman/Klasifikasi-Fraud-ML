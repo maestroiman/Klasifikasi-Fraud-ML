{
 "cells": [
  {
   "cell_type": "code",
   "execution_count": 1,
   "id": "c3ab17bb",
   "metadata": {},
   "outputs": [
    {
     "name": "stdout",
     "output_type": "stream",
     "text": [
      "Requirement already satisfied: imbalanced-learn in c:\\python\\python312\\lib\\site-packages (0.12.4)\n",
      "Requirement already satisfied: xgboost in c:\\python\\python312\\lib\\site-packages (2.1.3)\n",
      "Requirement already satisfied: numpy>=1.17.3 in c:\\python\\python312\\lib\\site-packages (from imbalanced-learn) (1.26.4)\n",
      "Requirement already satisfied: scipy>=1.5.0 in c:\\python\\python312\\lib\\site-packages (from imbalanced-learn) (1.15.1)\n",
      "Requirement already satisfied: scikit-learn>=1.0.2 in c:\\python\\python312\\lib\\site-packages (from imbalanced-learn) (1.5.2)\n",
      "Requirement already satisfied: joblib>=1.1.1 in c:\\python\\python312\\lib\\site-packages (from imbalanced-learn) (1.4.2)\n",
      "Requirement already satisfied: threadpoolctl>=2.0.0 in c:\\python\\python312\\lib\\site-packages (from imbalanced-learn) (3.5.0)\n"
     ]
    },
    {
     "name": "stderr",
     "output_type": "stream",
     "text": [
      "\n",
      "[notice] A new release of pip is available: 25.0 -> 25.1.1\n",
      "[notice] To update, run: python.exe -m pip install --upgrade pip\n"
     ]
    }
   ],
   "source": [
    "!pip install imbalanced-learn xgboost\n"
   ]
  },
  {
   "cell_type": "code",
   "execution_count": 2,
   "id": "ca98d676",
   "metadata": {},
   "outputs": [],
   "source": [
    "import pandas as pd\n",
    "from sklearn.model_selection import RepeatedStratifiedKFold, GridSearchCV, cross_validate\n",
    "from sklearn.linear_model import LogisticRegression\n",
    "from sklearn.preprocessing import LabelEncoder, StandardScaler\n",
    "from sklearn.feature_selection import SelectKBest, f_classif\n",
    "from imblearn.over_sampling import SMOTE\n",
    "import matplotlib.pyplot as plt\n",
    "\n",
    "# Load dataset\n",
    "df = pd.read_csv(\"fraud_detection_train.csv\")  # Pastikan file berada di direktori kerja\n",
    "X = df.drop(columns=['label', 'visit_id'])\n",
    "y = df['label']\n",
    "\n",
    "# Encode fitur kategorikal\n",
    "for col in X.select_dtypes(include='object').columns:\n",
    "    X[col] = LabelEncoder().fit_transform(X[col].astype(str))\n"
   ]
  },
  {
   "cell_type": "code",
   "execution_count": 3,
   "id": "82d7f2d3",
   "metadata": {},
   "outputs": [
    {
     "name": "stderr",
     "output_type": "stream",
     "text": [
      "C:\\Python\\Python312\\Lib\\site-packages\\sklearn\\feature_selection\\_univariate_selection.py:112: UserWarning: Features [20 29 50] are constant.\n",
      "  warnings.warn(\"Features %s are constant.\" % constant_features_idx, UserWarning)\n",
      "C:\\Python\\Python312\\Lib\\site-packages\\sklearn\\feature_selection\\_univariate_selection.py:113: RuntimeWarning: invalid value encountered in divide\n",
      "  f = msb / msw\n"
     ]
    }
   ],
   "source": [
    "# Scaling\n",
    "scaler = StandardScaler()\n",
    "X_scaled = scaler.fit_transform(X)\n",
    "\n",
    "# Feature Selection\n",
    "X_selected = SelectKBest(score_func=f_classif, k=30).fit_transform(X_scaled, y)\n",
    "\n",
    "# SMOTE Balancing\n",
    "smote = SMOTE(random_state=42)\n",
    "X_resampled, y_resampled = smote.fit_resample(X_selected, y)\n"
   ]
  },
  {
   "cell_type": "code",
   "execution_count": 19,
   "id": "513dc6ec",
   "metadata": {},
   "outputs": [
    {
     "name": "stderr",
     "output_type": "stream",
     "text": [
      "C:\\Python\\Python312\\Lib\\site-packages\\sklearn\\model_selection\\_validation.py:540: FitFailedWarning: \n",
      "40 fits failed out of a total of 160.\n",
      "The score on these train-test partitions for these parameters will be set to nan.\n",
      "If these failures are not expected, you can try to debug them by setting error_score='raise'.\n",
      "\n",
      "Below are more details about the failures:\n",
      "--------------------------------------------------------------------------------\n",
      "40 fits failed with the following error:\n",
      "Traceback (most recent call last):\n",
      "  File \"C:\\Python\\Python312\\Lib\\site-packages\\sklearn\\model_selection\\_validation.py\", line 888, in _fit_and_score\n",
      "    estimator.fit(X_train, y_train, **fit_params)\n",
      "  File \"C:\\Python\\Python312\\Lib\\site-packages\\sklearn\\base.py\", line 1473, in wrapper\n",
      "    return fit_method(estimator, *args, **kwargs)\n",
      "           ^^^^^^^^^^^^^^^^^^^^^^^^^^^^^^^^^^^^^^\n",
      "  File \"C:\\Python\\Python312\\Lib\\site-packages\\sklearn\\linear_model\\_logistic.py\", line 1194, in fit\n",
      "    solver = _check_solver(self.solver, self.penalty, self.dual)\n",
      "             ^^^^^^^^^^^^^^^^^^^^^^^^^^^^^^^^^^^^^^^^^^^^^^^^^^^\n",
      "  File \"C:\\Python\\Python312\\Lib\\site-packages\\sklearn\\linear_model\\_logistic.py\", line 67, in _check_solver\n",
      "    raise ValueError(\n",
      "ValueError: Solver lbfgs supports only 'l2' or None penalties, got l1 penalty.\n",
      "\n",
      "  warnings.warn(some_fits_failed_message, FitFailedWarning)\n",
      "C:\\Python\\Python312\\Lib\\site-packages\\sklearn\\model_selection\\_search.py:1103: UserWarning: One or more of the test scores are non-finite: [0.54554523        nan 0.55867195 0.55864095 0.55872144        nan\n",
      " 0.55782738 0.55785287 0.55761343        nan 0.55756595 0.5576598\n",
      " 0.5575852         nan 0.55756512 0.55765394]\n",
      "  warnings.warn(\n"
     ]
    },
    {
     "name": "stdout",
     "output_type": "stream",
     "text": [
      "Best Parameters: {'C': 0.01, 'penalty': 'l1', 'solver': 'liblinear'}\n"
     ]
    }
   ],
   "source": [
    "# Tuning Logistic Regression\n",
    "param_grid = {\n",
    "    'C': [0.001, 0.01, 1, 10],\n",
    "    'penalty': ['l1', 'l2'],\n",
    "    'solver': ['liblinear', 'lbfgs']\n",
    "}\n",
    "\n",
    "cv = RepeatedStratifiedKFold(n_splits=5, n_repeats=2, random_state=42)\n",
    "grid = GridSearchCV(LogisticRegression(max_iter=1000000000), param_grid, cv=cv, scoring='f1', n_jobs=-1)\n",
    "grid.fit(X_resampled, y_resampled)\n",
    "\n",
    "best_model = grid.best_estimator_\n",
    "print(\"Best Parameters:\", grid.best_params_)\n"
   ]
  },
  {
   "cell_type": "code",
   "execution_count": 22,
   "id": "d8d8748d",
   "metadata": {},
   "outputs": [
    {
     "data": {
      "text/html": [
       "<div>\n",
       "<style scoped>\n",
       "    .dataframe tbody tr th:only-of-type {\n",
       "        vertical-align: middle;\n",
       "    }\n",
       "\n",
       "    .dataframe tbody tr th {\n",
       "        vertical-align: top;\n",
       "    }\n",
       "\n",
       "    .dataframe thead th {\n",
       "        text-align: right;\n",
       "    }\n",
       "</style>\n",
       "<table border=\"1\" class=\"dataframe\">\n",
       "  <thead>\n",
       "    <tr style=\"text-align: right;\">\n",
       "      <th></th>\n",
       "      <th>Precision</th>\n",
       "      <th>Recall</th>\n",
       "      <th>F1-Score</th>\n",
       "      <th>Accuracy</th>\n",
       "    </tr>\n",
       "  </thead>\n",
       "  <tbody>\n",
       "    <tr>\n",
       "      <th>0</th>\n",
       "      <td>0.554175</td>\n",
       "      <td>0.569348</td>\n",
       "      <td>0.561659</td>\n",
       "      <td>0.555658</td>\n",
       "    </tr>\n",
       "    <tr>\n",
       "      <th>1</th>\n",
       "      <td>0.553720</td>\n",
       "      <td>0.561618</td>\n",
       "      <td>0.557641</td>\n",
       "      <td>0.554486</td>\n",
       "    </tr>\n",
       "    <tr>\n",
       "      <th>2</th>\n",
       "      <td>0.556301</td>\n",
       "      <td>0.566206</td>\n",
       "      <td>0.561210</td>\n",
       "      <td>0.557304</td>\n",
       "    </tr>\n",
       "    <tr>\n",
       "      <th>3</th>\n",
       "      <td>0.551475</td>\n",
       "      <td>0.558626</td>\n",
       "      <td>0.555027</td>\n",
       "      <td>0.552142</td>\n",
       "    </tr>\n",
       "    <tr>\n",
       "      <th>4</th>\n",
       "      <td>0.553644</td>\n",
       "      <td>0.561817</td>\n",
       "      <td>0.557701</td>\n",
       "      <td>0.554436</td>\n",
       "    </tr>\n",
       "    <tr>\n",
       "      <th>5</th>\n",
       "      <td>0.553925</td>\n",
       "      <td>0.568401</td>\n",
       "      <td>0.561069</td>\n",
       "      <td>0.555334</td>\n",
       "    </tr>\n",
       "    <tr>\n",
       "      <th>6</th>\n",
       "      <td>0.554906</td>\n",
       "      <td>0.558227</td>\n",
       "      <td>0.556561</td>\n",
       "      <td>0.555234</td>\n",
       "    </tr>\n",
       "    <tr>\n",
       "      <th>7</th>\n",
       "      <td>0.554817</td>\n",
       "      <td>0.570395</td>\n",
       "      <td>0.562498</td>\n",
       "      <td>0.556356</td>\n",
       "    </tr>\n",
       "    <tr>\n",
       "      <th>8</th>\n",
       "      <td>0.554492</td>\n",
       "      <td>0.560271</td>\n",
       "      <td>0.557366</td>\n",
       "      <td>0.555060</td>\n",
       "    </tr>\n",
       "    <tr>\n",
       "      <th>9</th>\n",
       "      <td>0.553120</td>\n",
       "      <td>0.560072</td>\n",
       "      <td>0.556574</td>\n",
       "      <td>0.553788</td>\n",
       "    </tr>\n",
       "    <tr>\n",
       "      <th>Rata-rata</th>\n",
       "      <td>0.554057</td>\n",
       "      <td>0.563498</td>\n",
       "      <td>0.558731</td>\n",
       "      <td>0.554980</td>\n",
       "    </tr>\n",
       "  </tbody>\n",
       "</table>\n",
       "</div>"
      ],
      "text/plain": [
       "           Precision    Recall  F1-Score  Accuracy\n",
       "0           0.554175  0.569348  0.561659  0.555658\n",
       "1           0.553720  0.561618  0.557641  0.554486\n",
       "2           0.556301  0.566206  0.561210  0.557304\n",
       "3           0.551475  0.558626  0.555027  0.552142\n",
       "4           0.553644  0.561817  0.557701  0.554436\n",
       "5           0.553925  0.568401  0.561069  0.555334\n",
       "6           0.554906  0.558227  0.556561  0.555234\n",
       "7           0.554817  0.570395  0.562498  0.556356\n",
       "8           0.554492  0.560271  0.557366  0.555060\n",
       "9           0.553120  0.560072  0.556574  0.553788\n",
       "Rata-rata   0.554057  0.563498  0.558731  0.554980"
      ]
     },
     "execution_count": 22,
     "metadata": {},
     "output_type": "execute_result"
    }
   ],
   "source": [
    "scoring = ['precision', 'recall', 'f1', 'accuracy']\n",
    "final_score = cross_validate(best_model, X_resampled, y_resampled,\n",
    "                             scoring=scoring, cv=cv, n_jobs=-1)\n",
    "\n",
    "results = pd.DataFrame({\n",
    "    'Precision': final_score['test_precision'],\n",
    "    'Recall': final_score['test_recall'],\n",
    "    'F1-Score': final_score['test_f1'],\n",
    "    'Accuracy': final_score['test_accuracy']\n",
    "})\n",
    "results.loc['Rata-rata'] = results.mean()\n",
    "results\n"
   ]
  },
  {
   "cell_type": "code",
   "execution_count": 21,
   "id": "d1ce755b",
   "metadata": {},
   "outputs": [
    {
     "data": {
      "image/png": "[encoded data removed]",
      "text/plain": [
       "<Figure size 1000x600 with 1 Axes>"
      ]
     },
     "metadata": {},
     "output_type": "display_data"
    }
   ],
   "source": [
    "results.iloc[:-1].plot(kind='bar', figsize=(10, 6), title=\"Evaluasi Logistic Regression (Tuned + SMOTE + SelectKBest)\")\n",
    "plt.xticks(rotation=0)\n",
    "plt.grid(axis='y', linestyle='--', alpha=0.7)\n",
    "plt.tight_layout()\n",
    "plt.show()\n"
   ]
  },
  {
   "cell_type": "code",
   "execution_count": null,
   "id": "2a4d71f6-75c8-4562-a907-d9cc171771df",
   "metadata": {},
   "outputs": [],
   "source": []
  }
 ],
 "metadata": {
  "kernelspec": {
   "display_name": "Python 3 (ipykernel)",
   "language": "python",
   "name": "python3"
  },
  "language_info": {
   "codemirror_mode": {
    "name": "ipython",
    "version": 3
   },
   "file_extension": ".py",
   "mimetype": "text/x-python",
   "name": "python",
   "nbconvert_exporter": "python",
   "pygments_lexer": "ipython3",
   "version": "3.12.6"
  }
 },
 "nbformat": 4,
 "nbformat_minor": 5
}
